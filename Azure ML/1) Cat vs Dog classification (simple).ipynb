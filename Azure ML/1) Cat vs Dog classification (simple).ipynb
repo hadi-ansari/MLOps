{
  "cells": [
    {
      "cell_type": "markdown",
      "source": [
        "# Simple Azure ML Pipeline Tutorial using cats vs dogs dataset\n",
        "\n",
        "In this notebook-based tutorial, we will create and run a Azure ML pipeline\n",
        "for a simple cats vs dogs classification model.\n",
        "The pipeline will consist of three essential Azure ML components: ExampleGen,\n",
        "Trainer and Pusher. The pipeline includes the most minimal ML workflow like\n",
        "importing data, training a model and pushing the trained model to the local envirinment.\n",
        "\n",
        "Please see\n",
        "[Understanding TFX Pipelines](https://www.tensorflow.org/tfx/guide/understanding_tfx_pipelines)\n",
        "to learn more about various concepts in TFX."
      ],
      "metadata": {
        "id": "6x1ypzczQCwy"
      }
    },
    {
      "cell_type": "markdown",
      "source": [
        "## Set Up\n",
        "We first need to install the TFX Python package and download\n",
        "the dataset which we will use for our model."
      ],
      "metadata": {
        "id": "Fmgi8ZvQkScg"
      }
    },
    {
      "cell_type": "code",
      "source": [
        "!pip install azure-ai-ml"
      ],
      "outputs": [],
      "execution_count": null,
      "metadata": {
        "id": "as4OTe2ukSqm"
      }
    },
    {
      "cell_type": "code",
      "source": [
        "!pip install azureml"
      ],
      "outputs": [],
      "execution_count": null,
      "metadata": {
        "jupyter": {
          "outputs_hidden": false,
          "source_hidden": false
        },
        "nteract": {
          "transient": {
            "deleting": false
          }
        }
      }
    },
    {
      "cell_type": "code",
      "source": [
        "# Handle to the workspace\n",
        "from azure.ai.ml import MLClient\n",
        "\n",
        "# Authentication package\n",
        "from azure.identity import DefaultAzureCredential, InteractiveBrowserCredential\n",
        "\n",
        "try:\n",
        "    credential = DefaultAzureCredential()\n",
        "    # Check if given credential can get token successfully.\n",
        "    credential.get_token(\"https://management.azure.com/.default\")\n",
        "except Exception as ex:\n",
        "    # Fall back to InteractiveBrowserCredential in case DefaultAzureCredential not work\n",
        "    credential = InteractiveBrowserCredential()"
      ],
      "outputs": [],
      "execution_count": 4,
      "metadata": {
        "jupyter": {
          "source_hidden": false,
          "outputs_hidden": false
        },
        "nteract": {
          "transient": {
            "deleting": false
          }
        },
        "gather": {
          "logged": 1683546497928
        }
      }
    },
    {
      "cell_type": "code",
      "source": [
        "# Get a handle to the workspace\n",
        "ml_client = MLClient(\n",
        "    credential=credential,\n",
        "    subscription_id=\"c6c6e76b-a64b-4a2e-87e4-4122626f39c7\",\n",
        "    resource_group_name=\"exjobb-t2304-11614\",\n",
        "    workspace_name=\"ritko75_exjobb\",\n",
        ")"
      ],
      "outputs": [],
      "execution_count": 5,
      "metadata": {
        "jupyter": {
          "source_hidden": false,
          "outputs_hidden": false
        },
        "nteract": {
          "transient": {
            "deleting": false
          }
        },
        "gather": {
          "logged": 1683546500144
        }
      }
    },
    {
      "cell_type": "markdown",
      "source": [
        "## Download the cat vs dog dataset\n",
        "Because TFX ExampleGen reads inputs from a directory, we need to create a\n",
        "directory and copy dataset to it."
      ],
      "metadata": {
        "id": "11J7XiCq6AFP"
      }
    },
    {
      "cell_type": "code",
      "source": [
        "!pip install -q kaggle\n",
        "!mkdir -p ~/.kaggle\n",
        "!cp kaggle.json ~/.kaggle/\n",
        "'chmod 600 /root/.kaggle/kaggle.json'\n",
        "!kaggle datasets download -d salader/dogs-vs-cats\n",
        "!unzip dogs-vs-cats.zip\n",
        "!rm -rf test train dogs-vs-cats.zip"
      ],
      "outputs": [],
      "execution_count": null,
      "metadata": {
        "gather": {
          "logged": 1683284409247
        },
        "id": "YpC5qjjwQgwY"
      }
    },
    {
      "cell_type": "markdown",
      "source": [
        "## Reduce size of the dataset (optional)\n",
        "We reduce size of the dataset by removing the images from both train and test folders to speed up the ML process. Train images decreas from 20000 images to 2000 and test images decreas from 5000 to 500 images to make the process faster (OBS: just for testing)."
      ],
      "metadata": {
        "id": "HiHkto4Jt8k2"
      }
    },
    {
      "cell_type": "code",
      "source": [
        "!ls -1 dogs_vs_cats/train/dogs/* | tail -n +1001 | xargs rm \n",
        "!ls -1 dogs_vs_cats/train/cats/* | tail -n +1001 | xargs rm\n",
        "\n",
        "!ls -1 dogs_vs_cats/test/dogs/* | tail -n +251 | xargs rm \n",
        "!ls -1 dogs_vs_cats/test/cats/* | tail -n +251 | xargs rm "
      ],
      "outputs": [],
      "execution_count": 11,
      "metadata": {
        "executionInfo": {
          "elapsed": 2451,
          "status": "ok",
          "timestamp": 1682412352847,
          "user": {
            "displayName": "Hadi Ansari",
            "userId": "13801521134374285736"
          },
          "user_tz": -120
        },
        "id": "Mju0dtqdtuZL"
      }
    },
    {
      "cell_type": "code",
      "source": [
        "import os\n",
        "\n",
        "components_dir = \"./components\"\n",
        "os.makedirs(components_dir, exist_ok=True)\n"
      ],
      "outputs": [],
      "execution_count": 2,
      "metadata": {
        "jupyter": {
          "source_hidden": false,
          "outputs_hidden": false
        },
        "nteract": {
          "transient": {
            "deleting": false
          }
        },
        "gather": {
          "logged": 1683294455626
        }
      }
    },
    {
      "cell_type": "markdown",
      "source": [
        "## Set up necessary variables\n",
        "\n",
        "There are some variables used to define a pipeline. You can customize these\n",
        "variables as you want. By default all output from the pipeline will be\n",
        "generated under the current directory."
      ],
      "metadata": {
        "id": "lOjDv93eS5xV"
      }
    },
    {
      "cell_type": "code",
      "source": [
        "import os\n",
        "\n",
        "_components_base_dir = 'components'\n",
        "_data_prep_file = os.path.join(_components_base_dir, 'dataprep.py')\n",
        "_trainer_file = os.path.join(_components_base_dir, 'trainer.py')\n",
        "_transform_file = os.path.join(_components_base_dir, 'transform.py')\n",
        "\n",
        "print(_data_prep_file)\n",
        "\n",
        "\n",
        "IMG_HEIGHT = 150\n",
        "IMG_WIDTH = 150\n",
        "batch_size = 128\n",
        "PIPELINE_NAME = 'dogs_vs_cats_pipeline'\n",
        "PIPELINE_ROOT = os.path.join('pipelines', PIPELINE_NAME)\n",
        "SERVING_MODEL_DIR = os.path.join('serving_model', PIPELINE_NAME)\n",
        "METADATA_PATH = os.path.join('metadata', PIPELINE_NAME, 'cat&dog_md.db')"
      ],
      "outputs": [
        {
          "output_type": "stream",
          "name": "stdout",
          "text": "components/dataprep.py\n"
        }
      ],
      "execution_count": 3,
      "metadata": {
        "jupyter": {
          "source_hidden": false,
          "outputs_hidden": false
        },
        "nteract": {
          "transient": {
            "deleting": false
          }
        },
        "gather": {
          "logged": 1683294467671
        }
      }
    },
    {
      "cell_type": "code",
      "source": [
        "data_root ='dogs_vs_cats'\n",
        "train_dir = os.path.join(data_root, 'train')\n",
        "validation_dir = os.path.join(data_root, 'test')\n",
        "\n",
        "train_cats_dir = os.path.join(train_dir, 'cats')  # directory with our training cat pictures\n",
        "train_dogs_dir = os.path.join(train_dir, 'dogs')  # directory with our training dog pictures\n",
        "validation_cats_dir = os.path.join(validation_dir, 'cats')  # directory with our validation cat pictures\n",
        "validation_dogs_dir = os.path.join(validation_dir, 'dogs')  # directory with our validation dog pictures\n",
        "\n",
        "num_cats_tr = len(os.listdir(train_cats_dir))\n",
        "num_dogs_tr = len(os.listdir(train_dogs_dir))\n",
        "\n",
        "num_cats_val = len(os.listdir(validation_cats_dir))\n",
        "num_dogs_val = len(os.listdir(validation_dogs_dir))\n",
        "\n",
        "total_train = num_cats_tr + num_dogs_tr\n",
        "total_val = num_cats_val + num_dogs_val\n",
        "\n",
        "\n",
        "print('total training cat images:', num_cats_tr)\n",
        "print('total training dog images:', num_dogs_tr)\n",
        "print('total validation cat images:', num_cats_val)\n",
        "print('total validation dog images:', num_dogs_val)\n",
        "print(\"--\")\n",
        "print(\"Total training images:\", total_train)\n",
        "print(\"Total validation images:\", total_val)"
      ],
      "outputs": [
        {
          "output_type": "stream",
          "name": "stdout",
          "text": "total training cat images: 1002\ntotal training dog images: 1002\ntotal validation cat images: 252\ntotal validation dog images: 252\n--\nTotal training images: 2004\nTotal validation images: 504\n"
        }
      ],
      "execution_count": 4,
      "metadata": {
        "colab": {
          "base_uri": "https://localhost:8080/"
        },
        "executionInfo": {
          "elapsed": 447,
          "status": "ok",
          "timestamp": 1682412359044,
          "user": {
            "displayName": "Hadi Ansari",
            "userId": "13801521134374285736"
          },
          "user_tz": -120
        },
        "id": "aES7Hv5QTDK3",
        "outputId": "3a3cee2c-ba29-4be4-809b-8a56dc258596",
        "gather": {
          "logged": 1683294475404
        }
      }
    },
    {
      "cell_type": "markdown",
      "source": [
        "## Write model training code\n",
        "\n",
        "We will create a simple CNN (Convolutional Neural Network) model for cats vs dogs classification using TensorFlow Keras\n",
        "API. This model training code will be saved to a separate file.\n",
        "\n",
        "For model training code we found this tutorial on Kaggle\n",
        "[here](https://www.kaggle.com/code/alpaca0984/dogs-vs-cats-tensorflow-2-0-on-google-colab). You need to write a Python file\n",
        "containing `run_fn` function, which is the entrypoint for the `Trainer`\n",
        "component."
      ],
      "metadata": {
        "id": "l0AbWurTgUSD"
      }
    },
    {
      "cell_type": "code",
      "source": [
        "from azureml.core import Dataset, Workspace, Datastore\n",
        "\n",
        "ws = Workspace.from_config()\n",
        "\n",
        "datastore = ws.get_default_datastore()\n",
        "\n",
        "datastore.upload(src_dir='./dogs_vs_cats', target_path='dogs_vs_cats')\n",
        "\n",
        "train_dataset = Dataset.File.from_files((datastore, 'dogs_vs_cats/train'), validate=True)\n",
        "\n",
        "test_dataset = Dataset.File.from_files((datastore, 'dogs_vs_cats/test'), validate=True)\n",
        "\n",
        "\n",
        "train_dataset = train_dataset.register(workspace=ws,\n",
        "                                    name='train_dataset',\n",
        "                                    description='training dataset',\n",
        "                                    create_new_version=True)\n",
        "\n",
        "test_dataset = test_dataset.register(workspace=ws,\n",
        "                                    name='test_dataset',\n",
        "                                    description='test dataset',\n",
        "                                        create_new_version=True)"
      ],
      "outputs": [],
      "execution_count": null,
      "metadata": {
        "jupyter": {
          "source_hidden": false,
          "outputs_hidden": false
        },
        "nteract": {
          "transient": {
            "deleting": false
          }
        },
        "gather": {
          "logged": 1683547949637
        }
      }
    },
    {
      "cell_type": "code",
      "source": [
        "%%writefile {_data_prep_file}\n",
        "\n",
        "import matplotlib.pyplot as plt\n",
        "import os\n",
        "import gzip\n",
        "from typing import List\n",
        "from azureml.core import Dataset, Workspace, Datastore\n",
        "from azure.ai.ml.entities import Data\n",
        "from azure.ai.ml.constants import AssetTypes\n",
        "\n",
        "\n",
        "\n",
        "_LABEL_KEY = 'label'\n",
        "IMG_HEIGHT = 150\n",
        "IMG_WIDTH = 150\n",
        "batch_size = 128\n",
        "\n",
        "_TRAIN_DATA_SIZE = 2000\n",
        "_TEST_DATA_SIZE = 500\n",
        "\n",
        "\n",
        "\n",
        "def main():\n",
        "    \n",
        "    \n",
        "    return\n",
        "\n",
        "if __name__ == \"__main__\":\n",
        "    main()\n"
      ],
      "outputs": [
        {
          "output_type": "stream",
          "name": "stdout",
          "text": "Overwriting {_data_prep_file}\n"
        }
      ],
      "execution_count": 23,
      "metadata": {
        "jupyter": {
          "source_hidden": false,
          "outputs_hidden": false
        },
        "nteract": {
          "transient": {
            "deleting": false
          }
        }
      }
    },
    {
      "cell_type": "markdown",
      "source": [
        "## Define the pipeline\n",
        "We define the ML pipeline here. The components of the pipeline are: ImportExampleGen for ingesting the images into the pipeline, Trainer for training the model and Pusher component for serving the model into production environment (in this example the model is pushed in the local environment).\n",
        "\n",
        "For ingesting the image dataset into the pipeline, we got help from this github repository [github](https://github.com/tensorflow/tfx/blob/master/tfx/examples/cifar10/cifar10_pipeline_native_keras.py)"
      ],
      "metadata": {
        "id": "AX5ocD1FYI_H"
      }
    },
    {
      "cell_type": "code",
      "source": [
        "from tfx.proto import example_gen_pb2\n",
        "from tfx.components import ImportExampleGen\n",
        "\n",
        "\n",
        "def _create_pipeline(pipeline_name: str, pipeline_root: str,\n",
        "                     module_file: str, serving_model_dir: str,\n",
        "                     metadata_path: str) -> tfx.dsl.Pipeline:\n",
        "  print(\"Pipeline creation is running...\\n\\n\\n\")\n",
        "\n",
        "  \"\"\"Creates a three component penguin pipeline with TFX.\"\"\"\n",
        " \n",
        "  input_config = example_gen_pb2.Input(splits=[\n",
        "      example_gen_pb2.Input.Split(name='train', pattern='train/*'),\n",
        "      example_gen_pb2.Input.Split(name='eval', pattern='test/*')\n",
        "  ])\n",
        "\n",
        "  # Brings data into the pipeline.\n",
        "  example_gen = ImportExampleGen(\n",
        "      input_base='/content/dataset', input_config=input_config)\n",
        "  \n",
        "  # Uses user-provided Python function that trains a model.\n",
        "  trainer = tfx.components.Trainer(\n",
        "      module_file=module_file,\n",
        "      examples=example_gen.outputs['examples'],\n",
        "      )\n",
        "  \n",
        "  # Pushes the model to a filesystem destination.\n",
        "  pusher = tfx.components.Pusher(\n",
        "      model=trainer.outputs['model'],\n",
        "      push_destination=tfx.proto.PushDestination(\n",
        "          filesystem=tfx.proto.PushDestination.Filesystem(\n",
        "              base_directory=serving_model_dir)))\n",
        "\n",
        "  # Following three components will be included in the pipeline.\n",
        "  components = [\n",
        "      example_gen,\n",
        "      trainer,\n",
        "      pusher,\n",
        "  ]\n",
        "\n",
        "  return tfx.dsl.Pipeline(\n",
        "      pipeline_name=pipeline_name,\n",
        "      pipeline_root=pipeline_root,\n",
        "      metadata_connection_config=tfx.orchestration.metadata\n",
        "      .sqlite_metadata_connection_config(metadata_path),\n",
        "      components=components)"
      ],
      "outputs": [],
      "execution_count": 10,
      "metadata": {
        "executionInfo": {
          "elapsed": 601,
          "status": "ok",
          "timestamp": 1682412402809,
          "user": {
            "displayName": "Hadi Ansari",
            "userId": "13801521134374285736"
          },
          "user_tz": -120
        },
        "id": "M49yYVNBTPd4"
      }
    },
    {
      "cell_type": "markdown",
      "source": [
        "## Run the pipeline\n",
        "\n",
        "TFX supports multiple orchestrators to run pipelines.\n",
        "In this tutorial we will use `LocalDagRunner` which is included in the TFX\n",
        "Python package and runs pipelines on local environment.\n",
        "We often call TFX pipelines \"DAGs\" which stands for directed acyclic graph.\n",
        "\n",
        "`LocalDagRunner` provides fast iterations for development and debugging.\n",
        "TFX also supports other orchestrators including Kubeflow Pipelines and Apache\n",
        "Airflow which are suitable for production use cases.\n",
        "\n",
        "See\n",
        "[TFX on Cloud AI Platform Pipelines](https://www.tensorflow.org/tfx/tutorials/tfx/cloud-ai-platform-pipelines)\n",
        "or\n",
        "[TFX Airflow Tutorial](https://www.tensorflow.org/tfx/tutorials/tfx/airflow_workshop)\n",
        "to learn more about other orchestration systems."
      ],
      "metadata": {
        "id": "mJbq07THU2GV"
      }
    },
    {
      "cell_type": "code",
      "source": [
        "tfx.orchestration.LocalDagRunner().run(\n",
        "  _create_pipeline(\n",
        "      pipeline_name=PIPELINE_NAME,\n",
        "      pipeline_root=PIPELINE_ROOT,\n",
        "      module_file=_trainer_module_file,\n",
        "      serving_model_dir=SERVING_MODEL_DIR,\n",
        "      metadata_path=METADATA_PATH))"
      ],
      "outputs": [
        {
          "output_type": "stream",
          "name": "stdout",
          "text": "Pipeline creation is running...\n\n\n\n"
        },
        {
          "output_type": "stream",
          "name": "stderr",
          "text": "WARNING:apache_beam.runners.interactive.interactive_environment:Dependencies required for Interactive Beam PCollection visualization are not available, please use: `pip install apache-beam[interactive]` to install necessary dependencies to enable all data visualization features.\n"
        },
        {
          "output_type": "display_data",
          "data": {
            "application/javascript": "\n        if (typeof window.interactive_beam_jquery == 'undefined') {\n          var jqueryScript = document.createElement('script');\n          jqueryScript.src = 'https://code.jquery.com/jquery-3.4.1.slim.min.js';\n          jqueryScript.type = 'text/javascript';\n          jqueryScript.onload = function() {\n            var datatableScript = document.createElement('script');\n            datatableScript.src = 'https://cdn.datatables.net/1.10.20/js/jquery.dataTables.min.js';\n            datatableScript.type = 'text/javascript';\n            datatableScript.onload = function() {\n              window.interactive_beam_jquery = jQuery.noConflict(true);\n              window.interactive_beam_jquery(document).ready(function($){\n                \n              });\n            }\n            document.head.appendChild(datatableScript);\n          };\n          document.head.appendChild(jqueryScript);\n        } else {\n          window.interactive_beam_jquery(document).ready(function($){\n            \n          });\n        }"
          },
          "metadata": {}
        },
        {
          "output_type": "stream",
          "name": "stderr",
          "text": "WARNING:apache_beam.io.tfrecordio:Couldn't find python-snappy so the implementation of _TFRecordUtil._masked_crc32c is not as fast as it could be.\nWARNING:absl:ArtifactQuery.property_predicate is not supported.\n"
        },
        {
          "output_type": "stream",
          "name": "stdout",
          "text": "Model: \"sequential\"\n_________________________________________________________________\n Layer (type)                Output Shape              Param #   \n=================================================================\n conv2d (Conv2D)             (None, 150, 150, 32)      896       \n                                                                 \n conv2d_1 (Conv2D)           (None, 150, 150, 32)      9248      \n                                                                 \n max_pooling2d (MaxPooling2D  (None, 75, 75, 32)       0         \n )                                                               \n                                                                 \n conv2d_2 (Conv2D)           (None, 75, 75, 64)        18496     \n                                                                 \n conv2d_3 (Conv2D)           (None, 75, 75, 64)        36928     \n                                                                 \n max_pooling2d_1 (MaxPooling  (None, 37, 37, 64)       0         \n 2D)                                                             \n                                                                 \n conv2d_4 (Conv2D)           (None, 37, 37, 128)       73856     \n                                                                 \n conv2d_5 (Conv2D)           (None, 37, 37, 128)       147584    \n                                                                 \n max_pooling2d_2 (MaxPooling  (None, 18, 18, 128)      0         \n 2D)                                                             \n                                                                 \n flatten (Flatten)           (None, 41472)             0         \n                                                                 \n dense (Dense)               (None, 256)               10617088  \n                                                                 \n dropout (Dropout)           (None, 256)               0         \n                                                                 \n dense_1 (Dense)             (None, 256)               65792     \n                                                                 \n dropout_1 (Dropout)         (None, 256)               0         \n                                                                 \n dense_2 (Dense)             (None, 1)                 257       \n                                                                 \n=================================================================\nTotal params: 10,970,145\nTrainable params: 10,970,145\nNon-trainable params: 0\n_________________________________________________________________\n"
        },
        {
          "output_type": "stream",
          "name": "stderr",
          "text": "WARNING:tensorflow:From /usr/local/lib/python3.9/dist-packages/tensorflow/python/autograph/pyct/static_analysis/liveness.py:83: Analyzer.lamba_check (from tensorflow.python.autograph.pyct.static_analysis.liveness) is deprecated and will be removed after 2023-09-23.\nInstructions for updating:\nLambda fuctions will be no more assumed to be used in the statement where they are used, or at least in the same block. https://github.com/tensorflow/tensorflow/issues/56089\n"
        },
        {
          "output_type": "stream",
          "name": "stdout",
          "text": "Epoch 1/32\n15/15 [==============================] - 22s 265ms/step - loss: 11.2490 - accuracy: 0.5078 - val_loss: 0.6930 - val_accuracy: 0.5078\nEpoch 2/32\n15/15 [==============================] - 4s 290ms/step - loss: 0.6929 - accuracy: 0.5042 - val_loss: 0.6916 - val_accuracy: 0.5234\nEpoch 3/32\n15/15 [==============================] - 5s 314ms/step - loss: 0.6985 - accuracy: 0.5193 - val_loss: 0.6935 - val_accuracy: 0.4948\nEpoch 4/32\n15/15 [==============================] - 5s 320ms/step - loss: 0.6927 - accuracy: 0.5010 - val_loss: 0.6932 - val_accuracy: 0.4844\nEpoch 5/32\n15/15 [==============================] - 4s 246ms/step - loss: 0.6932 - accuracy: 0.4984 - val_loss: 0.6931 - val_accuracy: 0.5156\nEpoch 6/32\n15/15 [==============================] - 4s 242ms/step - loss: 0.6930 - accuracy: 0.5161 - val_loss: 0.6930 - val_accuracy: 0.4896\nEpoch 7/32\n15/15 [==============================] - 4s 290ms/step - loss: 0.6929 - accuracy: 0.4979 - val_loss: 0.6925 - val_accuracy: 0.5443\nEpoch 8/32\n15/15 [==============================] - 5s 319ms/step - loss: 0.6954 - accuracy: 0.5354 - val_loss: 0.6925 - val_accuracy: 0.5078\nEpoch 9/32\n15/15 [==============================] - 4s 304ms/step - loss: 0.6930 - accuracy: 0.5089 - val_loss: 0.6927 - val_accuracy: 0.5234\nEpoch 10/32\n15/15 [==============================] - 4s 306ms/step - loss: 0.6932 - accuracy: 0.5172 - val_loss: 0.6917 - val_accuracy: 0.5026\nEpoch 11/32\n15/15 [==============================] - 4s 248ms/step - loss: 0.6929 - accuracy: 0.5078 - val_loss: 0.6923 - val_accuracy: 0.5286\nEpoch 12/32\n15/15 [==============================] - 4s 244ms/step - loss: 0.6931 - accuracy: 0.5031 - val_loss: 0.6931 - val_accuracy: 0.5052\nEpoch 13/32\n15/15 [==============================] - 4s 275ms/step - loss: 0.6944 - accuracy: 0.4984 - val_loss: 0.6931 - val_accuracy: 0.5078\nEpoch 14/32\n15/15 [==============================] - 5s 310ms/step - loss: 0.6924 - accuracy: 0.5141 - val_loss: 0.6919 - val_accuracy: 0.5521\nEpoch 15/32\n15/15 [==============================] - 4s 301ms/step - loss: 0.6918 - accuracy: 0.5214 - val_loss: 0.6926 - val_accuracy: 0.5156\nEpoch 16/32\n15/15 [==============================] - 4s 266ms/step - loss: 0.6903 - accuracy: 0.5203 - val_loss: 0.6909 - val_accuracy: 0.5312\nEpoch 17/32\n15/15 [==============================] - 4s 249ms/step - loss: 0.6865 - accuracy: 0.5375 - val_loss: 0.6833 - val_accuracy: 0.5469\nEpoch 18/32\n15/15 [==============================] - 4s 254ms/step - loss: 0.6836 - accuracy: 0.5427 - val_loss: 0.6850 - val_accuracy: 0.5260\nEpoch 19/32\n15/15 [==============================] - 5s 311ms/step - loss: 0.6792 - accuracy: 0.5510 - val_loss: 0.6907 - val_accuracy: 0.5234\nEpoch 20/32\n15/15 [==============================] - 4s 292ms/step - loss: 0.6747 - accuracy: 0.5484 - val_loss: 0.6831 - val_accuracy: 0.5599\nEpoch 21/32\n15/15 [==============================] - 4s 305ms/step - loss: 0.6489 - accuracy: 0.6120 - val_loss: 0.7260 - val_accuracy: 0.4922\nEpoch 22/32\n15/15 [==============================] - 4s 258ms/step - loss: 0.6424 - accuracy: 0.6125 - val_loss: 0.6834 - val_accuracy: 0.5599\nEpoch 23/32\n15/15 [==============================] - 4s 261ms/step - loss: 0.6131 - accuracy: 0.6448 - val_loss: 0.7461 - val_accuracy: 0.5885\nEpoch 24/32\n15/15 [==============================] - 4s 287ms/step - loss: 0.5684 - accuracy: 0.6667 - val_loss: 0.7561 - val_accuracy: 0.5677\nEpoch 25/32\n15/15 [==============================] - 5s 336ms/step - loss: 0.5391 - accuracy: 0.6984 - val_loss: 0.9393 - val_accuracy: 0.5365\nEpoch 26/32\n15/15 [==============================] - 5s 322ms/step - loss: 0.4855 - accuracy: 0.7401 - val_loss: 0.8999 - val_accuracy: 0.5521\nEpoch 27/32\n15/15 [==============================] - 4s 264ms/step - loss: 0.4448 - accuracy: 0.7698 - val_loss: 0.9794 - val_accuracy: 0.5391\nEpoch 28/32\n15/15 [==============================] - 4s 263ms/step - loss: 0.4255 - accuracy: 0.7807 - val_loss: 1.1099 - val_accuracy: 0.5391\nEpoch 29/32\n15/15 [==============================] - 4s 259ms/step - loss: 0.3595 - accuracy: 0.8219 - val_loss: 1.3307 - val_accuracy: 0.5417\nEpoch 30/32\n15/15 [==============================] - 5s 319ms/step - loss: 0.3214 - accuracy: 0.8448 - val_loss: 1.4816 - val_accuracy: 0.5651\nEpoch 31/32\n15/15 [==============================] - 5s 314ms/step - loss: 0.3358 - accuracy: 0.8422 - val_loss: 1.2921 - val_accuracy: 0.5417\nEpoch 32/32\n15/15 [==============================] - 4s 291ms/step - loss: 0.2951 - accuracy: 0.8542 - val_loss: 1.6160 - val_accuracy: 0.5651\n"
        },
        {
          "output_type": "display_data",
          "data": {
            "image/png": "[encoded data removed]",
            "text/plain": "<Figure size 800x800 with 2 Axes>"
          },
          "metadata": {}
        },
        {
          "output_type": "stream",
          "name": "stderr",
          "text": "WARNING:absl:Found untraced functions such as _jit_compiled_convolution_op, _jit_compiled_convolution_op, _jit_compiled_convolution_op, _jit_compiled_convolution_op, _jit_compiled_convolution_op while saving (showing 5 of 6). These functions will not be directly callable after loading.\nWARNING:absl:ArtifactQuery.property_predicate is not supported.\nWARNING:absl:Pusher is going to push the model without validation. Consider using Evaluator or InfraValidator in your pipeline.\n"
        }
      ],
      "execution_count": 11,
      "metadata": {
        "colab": {
          "base_uri": "https://localhost:8080/",
          "height": 1000
        },
        "executionInfo": {
          "elapsed": 168545,
          "status": "ok",
          "timestamp": 1682412577256,
          "user": {
            "displayName": "Hadi Ansari",
            "userId": "13801521134374285736"
          },
          "user_tz": -120
        },
        "id": "fAtfOZTYWJu-",
        "outputId": "ba4802fb-4d2b-4fe7-badb-c3e359d7a1b1"
      }
    },
    {
      "cell_type": "markdown",
      "source": [
        "The pusher component pushes the trained model to the `SERVING_MODEL_DIR` which\n",
        "is the `serving_model/dogs_vs_cats_pipeline` directory if you did not change the\n",
        "variables in the previous steps. You can see the result from the file browser\n",
        "in the left-side panel in Colab, or using the following command:"
      ],
      "metadata": {
        "id": "ppERq0Mj6xvW"
      }
    },
    {
      "cell_type": "code",
      "source": [
        "# List files in created model directory.\n",
        "!find {SERVING_MODEL_DIR}"
      ],
      "outputs": [
        {
          "output_type": "stream",
          "name": "stdout",
          "text": "serving_model/dogs_vs_cats_pipeline\nserving_model/dogs_vs_cats_pipeline/1682412575\nserving_model/dogs_vs_cats_pipeline/1682412575/saved_model.pb\nserving_model/dogs_vs_cats_pipeline/1682412575/keras_metadata.pb\nserving_model/dogs_vs_cats_pipeline/1682412575/fingerprint.pb\nserving_model/dogs_vs_cats_pipeline/1682412575/variables\nserving_model/dogs_vs_cats_pipeline/1682412575/variables/variables.index\nserving_model/dogs_vs_cats_pipeline/1682412575/variables/variables.data-00000-of-00001\nserving_model/dogs_vs_cats_pipeline/1682412575/assets\n"
        }
      ],
      "execution_count": 12,
      "metadata": {
        "colab": {
          "base_uri": "https://localhost:8080/"
        },
        "executionInfo": {
          "elapsed": 821,
          "status": "ok",
          "timestamp": 1682412777616,
          "user": {
            "displayName": "Hadi Ansari",
            "userId": "13801521134374285736"
          },
          "user_tz": -120
        },
        "id": "NTHROkqX6yHx",
        "outputId": "5963e15f-4368-4dae-f8d6-b28a5893f543"
      }
    }
  ],
  "metadata": {
    "colab": {
      "provenance": [
        {
          "file_id": "1gGstFRenv6QgcnT_JpGBrNO_849C419y",
          "timestamp": 1682324832663
        },
        {
          "file_id": "https://github.com/tensorflow/tfx/blob/master/docs/tutorials/tfx/penguin_simple.ipynb",
          "timestamp": 1680514822420
        }
      ]
    },
    "accelerator": "GPU",
    "gpuClass": "standard",
    "microsoft": {
      "ms_spell_check": {
        "ms_spell_check_language": "en"
      }
    },
    "kernel_info": {
      "name": "python310-sdkv2"
    },
    "language_info": {
      "name": "python",
      "version": "3.10.10",
      "mimetype": "text/x-python",
      "codemirror_mode": {
        "name": "ipython",
        "version": 3
      },
      "pygments_lexer": "ipython3",
      "nbconvert_exporter": "python",
      "file_extension": ".py"
    },
    "kernelspec": {
      "name": "python310-sdkv2",
      "language": "python",
      "display_name": "Python 3.10 - SDK v2"
    },
    "nteract": {
      "version": "nteract-front-end@1.0.0"
    }
  },
  "nbformat": 4,
  "nbformat_minor": 0
}