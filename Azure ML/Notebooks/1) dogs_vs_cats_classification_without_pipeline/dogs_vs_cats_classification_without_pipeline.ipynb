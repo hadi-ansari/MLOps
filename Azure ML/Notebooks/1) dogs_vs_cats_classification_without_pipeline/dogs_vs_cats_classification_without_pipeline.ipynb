{
  "cells": [
    {
      "cell_type": "markdown",
      "source": [
        "# Simple Azure ML tutorial using cats vs dogs dataset\n",
        "\n",
        "In this notebook-based tutorial, we will prepare our dogs-vs-cats dataset and train a binary classification model.\n",
        "This tutorial includes data-preparation and training a model using Auto ML.\n",
        "\n",
        "We followed this Azure ML [tutorial](https://github.com/Azure/azureml-examples/blob/main/sdk/python/jobs/automl-standalone-jobs/automl-image-classification-multiclass-task-fridge-items/automl-image-classification-multiclass-task-fridge-items.ipynb)."
      ],
      "metadata": {
        "id": "6x1ypzczQCwy"
      }
    },
    {
      "cell_type": "markdown",
      "source": [
        "## Set Up\n",
        "We first need to install the azure-ai-ml and azureml Python packages."
      ],
      "metadata": {
        "id": "Fmgi8ZvQkScg"
      }
    },
    {
      "cell_type": "code",
      "source": [
        "!pip install azure-ai-ml"
      ],
      "outputs": [],
      "execution_count": null,
      "metadata": {
        "id": "as4OTe2ukSqm"
      }
    },
    {
      "cell_type": "code",
      "source": [
        "!pip install mldesigner"
      ],
      "outputs": [],
      "execution_count": null,
      "metadata": {
        "jupyter": {
          "outputs_hidden": false,
          "source_hidden": false
        },
        "nteract": {
          "transient": {
            "deleting": false
          }
        }
      }
    },
    {
      "cell_type": "code",
      "source": [
        "!pip install azureml"
      ],
      "outputs": [],
      "execution_count": null,
      "metadata": {
        "jupyter": {
          "source_hidden": false,
          "outputs_hidden": false
        },
        "nteract": {
          "transient": {
            "deleting": false
          }
        }
      }
    },
    {
      "cell_type": "code",
      "source": [
        "# Import required libraries\n",
        "from azure.identity import DefaultAzureCredential\n",
        "from azure.ai.ml import MLClient\n",
        "\n",
        "from azure.ai.ml.automl import SearchSpace, ClassificationPrimaryMetrics\n",
        "from azure.ai.ml.sweep import (\n",
        "    Choice,\n",
        "    Choice,\n",
        "    Uniform,\n",
        "    BanditPolicy,\n",
        ")\n",
        "\n",
        "from azure.ai.ml import automl"
      ],
      "outputs": [],
      "execution_count": 2,
      "metadata": {
        "gather": {
          "logged": 1684847101258
        },
        "jupyter": {
          "outputs_hidden": false,
          "source_hidden": false
        },
        "nteract": {
          "transient": {
            "deleting": false
          }
        }
      }
    },
    {
      "cell_type": "markdown",
      "source": [
        "## Connect to workspace"
      ],
      "metadata": {
        "nteract": {
          "transient": {
            "deleting": false
          }
        }
      }
    },
    {
      "cell_type": "code",
      "source": [
        "# Handle to the workspace\n",
        "from azure.ai.ml import MLClient, Input\n",
        "\n",
        "# Authentication package\n",
        "from azure.identity import DefaultAzureCredential, InteractiveBrowserCredential\n",
        "\n",
        "try:\n",
        "    credential = DefaultAzureCredential()\n",
        "    # Check if given credential can get token successfully.\n",
        "    credential.get_token(\"https://management.azure.com/.default\")\n",
        "except Exception as ex:\n",
        "    # Fall back to InteractiveBrowserCredential in case DefaultAzureCredential not work\n",
        "    credential = InteractiveBrowserCredential()"
      ],
      "outputs": [],
      "execution_count": 3,
      "metadata": {
        "gather": {
          "logged": 1684847101765
        },
        "jupyter": {
          "outputs_hidden": false,
          "source_hidden": false
        },
        "nteract": {
          "transient": {
            "deleting": false
          }
        }
      }
    },
    {
      "cell_type": "code",
      "source": [
        "# Get a handle to the workspace\n",
        "ml_client = MLClient(\n",
        "    credential=credential,\n",
        "    subscription_id=\"SUBSCRIPTION_ID\",\n",
        "    resource_group_name=\"RESOURCE_GROUP_NAME\",\n",
        "    workspace_name=\"WORKSPACE_NAME\",\n",
        ")"
      ],
      "outputs": [],
      "execution_count": 4,
      "metadata": {
        "gather": {
          "logged": 1684847102584
        },
        "jupyter": {
          "outputs_hidden": false,
          "source_hidden": false
        },
        "nteract": {
          "transient": {
            "deleting": false
          }
        }
      }
    },
    {
      "cell_type": "markdown",
      "source": [
        "## Set up necessary variables\n",
        "\n",
        "There are some variables used in this tutorial. You can customize these\n",
        "variables as you want."
      ],
      "metadata": {
        "nteract": {
          "transient": {
            "deleting": false
          }
        }
      }
    },
    {
      "cell_type": "code",
      "source": [
        "import os\n",
        "\n",
        "experiment_name = \"cats_vs_dogs_without_pipeline\"\n",
        "compute_name = \"gpu-cluster\"\n",
        "\n",
        "data_root ='../datasets/dogs_vs_cats_small'\n",
        "train_dataset_dir = os.path.join(data_root, 'train')\n",
        "test_dataset_dir = os.path.join(data_root, 'test')\n",
        "\n",
        "train_cats_dir = os.path.join(train_dataset_dir, 'cats')  # directory with our training cat pictures\n",
        "train_dogs_dir = os.path.join(train_dataset_dir, 'dogs')  # directory with our training dog pictures\n",
        "validation_cats_dir = os.path.join(test_dataset_dir, 'cats')  # directory with our validation cat pictures\n",
        "validation_dogs_dir = os.path.join(test_dataset_dir, 'dogs')  # directory with our validation dog pictures\n",
        "\n",
        "\n",
        "num_cats_tr = len(os.listdir(train_cats_dir))\n",
        "num_dogs_tr = len(os.listdir(train_dogs_dir))\n",
        "\n",
        "num_cats_val = len(os.listdir(validation_cats_dir))\n",
        "num_dogs_val = len(os.listdir(validation_dogs_dir))\n",
        "\n",
        "total_train = num_cats_tr + num_dogs_tr\n",
        "total_val = num_cats_val + num_dogs_val\n",
        "\n",
        "\n",
        "print('total training cat images:', num_cats_tr)\n",
        "print('total training dog images:', num_dogs_tr)\n",
        "print('total validation cat images:', num_cats_val)\n",
        "print('total validation dog images:', num_dogs_val)\n",
        "print(\"--\")\n",
        "print(\"Total training images:\", total_train)\n",
        "print(\"Total validation images:\", total_val)"
      ],
      "outputs": [
        {
          "output_type": "stream",
          "name": "stdout",
          "text": "total training cat images: 102\ntotal training dog images: 100\ntotal validation cat images: 52\ntotal validation dog images: 50\n--\nTotal training images: 202\nTotal validation images: 102\n"
        }
      ],
      "execution_count": 1,
      "metadata": {
        "colab": {
          "base_uri": "https://localhost:8080/"
        },
        "executionInfo": {
          "elapsed": 447,
          "status": "ok",
          "timestamp": 1682412359044,
          "user": {
            "displayName": "Hadi Ansari",
            "userId": "13801521134374285736"
          },
          "user_tz": -120
        },
        "gather": {
          "logged": 1685525130424
        },
        "id": "aES7Hv5QTDK3",
        "outputId": "3a3cee2c-ba29-4be4-809b-8a56dc258596"
      }
    },
    {
      "cell_type": "markdown",
      "source": [
        "This is a sample image from this dataset:"
      ],
      "metadata": {
        "nteract": {
          "transient": {
            "deleting": false
          }
        }
      }
    },
    {
      "cell_type": "code",
      "source": [
        "from IPython.display import Image\n",
        "sample_image = os.path.join(test_dataset_dir, \"cats\", \"cat.10.jpg\")\n",
        "Image(filename=sample_image)"
      ],
      "outputs": [
        {
          "output_type": "execute_result",
          "execution_count": 2,
          "data": {
            "image/jpeg": "[encoded data removed]",
            "text/plain": "<IPython.core.display.Image object>"
          },
          "metadata": {}
        }
      ],
      "execution_count": 2,
      "metadata": {
        "gather": {
          "logged": 1685525272310
        },
        "jupyter": {
          "outputs_hidden": false,
          "source_hidden": false
        },
        "nteract": {
          "transient": {
            "deleting": false
          }
        }
      }
    },
    {
      "cell_type": "markdown",
      "source": [
        "## Upload the images to Datastore through an AML Data asset (URI Folder)\n",
        "\n",
        "In order to use the data for training in Azure ML, we upload it to our default Azure Blob Storage of our  Azure ML Workspace.\n",
        "\n",
        "[Check this notebook for AML data asset example](../../../assets/data/data.ipynb)"
      ],
      "metadata": {
        "nteract": {
          "transient": {
            "deleting": false
          }
        }
      }
    },
    {
      "cell_type": "code",
      "source": [
        "# Uploading image files by creating a 'data asset URI FOLDER':\n",
        "\n",
        "from azure.ai.ml.entities import Data\n",
        "from azure.ai.ml.constants import AssetTypes, InputOutputModes\n",
        "from azure.ai.ml import Input\n",
        "\n",
        "my_train_data = Data(\n",
        "    path=train_dataset_dir,\n",
        "    type=AssetTypes.URI_FOLDER,\n",
        "    description=\"200 images of cats and dogs for training purposes\",\n",
        "    name=\"dogs_vs_cats_train\",\n",
        ")\n",
        "\n",
        "my_test_data = Data(\n",
        "    path=test_dataset_dir,\n",
        "    type=AssetTypes.URI_FOLDER,\n",
        "    description=\"100 images of cats and dogs for validation purposes\",\n",
        "    name=\"dogs_vs_cats_test\",\n",
        ")\n",
        "\n",
        "uri_folder_train_data_asset = ml_client.data.create_or_update(my_train_data)\n",
        "uri_folder_test_data_asset = ml_client.data.create_or_update(my_test_data)\n",
        "\n",
        "print(uri_folder_test_data_asset)\n",
        "print(\"\")\n",
        "print(\"Path to folder in Blob Storage:\")\n",
        "print(uri_folder_test_data_asset.path)"
      ],
      "outputs": [],
      "execution_count": null,
      "metadata": {
        "gather": {
          "logged": 1684847116491
        },
        "jupyter": {
          "outputs_hidden": false,
          "source_hidden": false
        },
        "nteract": {
          "transient": {
            "deleting": false
          }
        }
      }
    },
    {
      "cell_type": "markdown",
      "source": [
        "## Convert the downloaded data to JSONL\n",
        "\n",
        "In our example, the dogs-vs-cats dataset is stored in a directory. There are two different folders inside:\n",
        "\n",
        "- /train\n",
        "    - dogs\n",
        "    - cats\n",
        "- /test\n",
        "    - dogs\n",
        "    - cats\n",
        "\n",
        "This is a common data format for multiclass image classification. Each folder title corresponds to the image label for the images contained inside. For documentation on preparing the datasets beyond this notebook, please refer to the [documentation on how to prepare datasets](https://docs.microsoft.com/en-us/azure/machine-learning/how-to-prepare-datasets-for-automl-images).\n",
        "\n",
        "In order to use this data to create an AzureML MLTable, we first need to convert it to the required JSONL format. The following script is creating two `.jsonl` files (one for training and one for validation) in the corresponding MLTable folder. For further details on jsonl file used for image classification task in automated ml, please refer to the [data schema documentation for multi-class image classification task](https://learn.microsoft.com/en-us/azure/machine-learning/reference-automl-images-schema#image-classification-binarymulti-class)."
      ],
      "metadata": {
        "nteract": {
          "transient": {
            "deleting": false
          }
        }
      }
    },
    {
      "cell_type": "code",
      "source": [
        "import json\n",
        "import os\n",
        "\n",
        "\n",
        "# We'll copy each JSONL file within its related MLTable folder\n",
        "training_mltable_path = os.path.join(\"json_dataset\", \"training-mltable-folder\")\n",
        "validation_mltable_path = os.path.join(\"json_dataset\", \"validation-mltable-folder\")\n",
        "\n",
        "# First, let's create the folders if they don't exist\n",
        "os.makedirs(training_mltable_path, exist_ok=True)\n",
        "os.makedirs(validation_mltable_path, exist_ok=True)\n",
        "\n",
        "train_validation_ratio = 5\n",
        "\n",
        "# Path to the training and validation files\n",
        "train_annotations_file = os.path.join(training_mltable_path, \"train_annotations.jsonl\")\n",
        "validation_annotations_file = os.path.join(\n",
        "    validation_mltable_path, \"validation_annotations.jsonl\"\n",
        ")\n",
        "\n",
        "# Baseline of json line dictionary\n",
        "json_line_train_sample = {\n",
        "    \"image_url\": uri_folder_train_data_asset.path,\n",
        "    \"label\": \"\",\n",
        "}\n",
        "\n",
        "json_line_test_sample = {\n",
        "    \"image_url\": uri_folder_test_data_asset.path,\n",
        "    \"label\": \"\",\n",
        "}\n",
        "\n",
        "index = 0\n",
        "# Scan each sub directary and generate a jsonl line per image, distributed on train and valid JSONL files\n",
        "\n",
        "with open(train_annotations_file, \"w\") as train_f:\n",
        "    for class_name in os.listdir(train_dataset_dir):\n",
        "        sub_dir = os.path.join(train_dataset_dir, class_name)\n",
        "        if not os.path.isdir(sub_dir):\n",
        "            continue\n",
        "\n",
        "        # Scan each sub directary\n",
        "        print(f\"Parsing {sub_dir}\")\n",
        "        for image in os.listdir(sub_dir):\n",
        "            json_line = dict(json_line_train_sample)\n",
        "            json_line[\"image_url\"] += f\"{class_name}/{image}\"\n",
        "            json_line[\"label\"] = class_name[:-1]\n",
        "            \n",
        "            train_f.write(json.dumps(json_line) + \"\\n\")\n",
        "            index += 1\n",
        "\n",
        "with open(validation_annotations_file, \"w\") as validation_f:\n",
        "    for class_name in os.listdir(test_dataset_dir):\n",
        "        sub_dir = os.path.join(test_dataset_dir, class_name)\n",
        "        if not os.path.isdir(sub_dir):\n",
        "            continue\n",
        "\n",
        "        # Scan each sub directary\n",
        "        print(f\"Parsing {sub_dir}\")\n",
        "        for image in os.listdir(sub_dir):\n",
        "            json_line = dict(json_line_test_sample)\n",
        "            json_line[\"image_url\"] += f\"{class_name}/{image}\"\n",
        "            json_line[\"label\"] = class_name[:-1]\n",
        "            \n",
        "            validation_f.write(json.dumps(json_line) + \"\\n\")\n",
        "            index += 1"
      ],
      "outputs": [
        {
          "output_type": "stream",
          "name": "stdout",
          "text": "Parsing raw_dataset/train/cats\nParsing raw_dataset/train/dogs\nParsing raw_dataset/test/cats\nParsing raw_dataset/test/dogs\n"
        }
      ],
      "execution_count": 8,
      "metadata": {
        "gather": {
          "logged": 1684847120246
        },
        "jupyter": {
          "outputs_hidden": false,
          "source_hidden": false
        },
        "nteract": {
          "transient": {
            "deleting": false
          }
        }
      }
    },
    {
      "cell_type": "markdown",
      "source": [
        "## Create MLTable data input\n",
        "\n",
        "Create MLTable data input using the jsonl files created above.\n",
        "\n",
        "For documentation on creating your own MLTable assets for jobs beyond this notebook, please refer to below resources\n",
        "- [MLTable YAML Schema](https://learn.microsoft.com/en-us/azure/machine-learning/reference-yaml-mltable) - covers how to write MLTable YAML, which is required for each MLTable asset.\n",
        "- [Create MLTable data asset](https://learn.microsoft.com/en-us/azure/machine-learning/how-to-create-data-assets?tabs=Python-SDK#create-a-mltable-data-asset) - covers how to create MLTable data asset. "
      ],
      "metadata": {
        "nteract": {
          "transient": {
            "deleting": false
          }
        }
      }
    },
    {
      "cell_type": "code",
      "source": [
        "def create_ml_table_file(filename):\n",
        "    \"\"\"Create ML Table definition\"\"\"\n",
        "\n",
        "    return (\n",
        "        \"paths:\\n\"\n",
        "        \"  - file: ./{0}\\n\"\n",
        "        \"transformations:\\n\"\n",
        "        \"  - read_json_lines:\\n\"\n",
        "        \"        encoding: utf8\\n\"\n",
        "        \"        invalid_lines: error\\n\"\n",
        "        \"        include_path_column: false\\n\"\n",
        "        \"  - convert_column_types:\\n\"\n",
        "        \"      - columns: image_url\\n\"\n",
        "        \"        column_type: stream_info\"\n",
        "    ).format(filename)\n",
        "\n",
        "\n",
        "def save_ml_table_file(output_path, mltable_file_contents):\n",
        "    with open(os.path.join(output_path, \"MLTable\"), \"w\") as f:\n",
        "        f.write(mltable_file_contents)\n",
        "\n",
        "\n",
        "# Create and save train mltable\n",
        "train_mltable_file_contents = create_ml_table_file(\n",
        "    os.path.basename(train_annotations_file)\n",
        ")\n",
        "save_ml_table_file(training_mltable_path, train_mltable_file_contents)\n",
        "\n",
        "# Create and save validation mltable\n",
        "validation_mltable_file_contents = create_ml_table_file(\n",
        "    os.path.basename(validation_annotations_file)\n",
        ")\n",
        "save_ml_table_file(validation_mltable_path, validation_mltable_file_contents)"
      ],
      "outputs": [],
      "execution_count": 9,
      "metadata": {
        "gather": {
          "logged": 1684847124847
        },
        "jupyter": {
          "outputs_hidden": false,
          "source_hidden": false
        },
        "nteract": {
          "transient": {
            "deleting": false
          }
        }
      }
    },
    {
      "cell_type": "code",
      "source": [
        "# Training MLTable defined locally, with local data to be uploaded\n",
        "my_training_data_input = Input(type=AssetTypes.MLTABLE, path=training_mltable_path)\n",
        "\n",
        "# Validation MLTable defined locally, with local data to be uploaded\n",
        "my_validation_data_input = Input(type=AssetTypes.MLTABLE, path=validation_mltable_path)\n",
        "\n",
        "# WITH REMOTE PATH: If available already in the cloud/workspace-blob-store\n",
        "# my_training_data_input = Input(type=AssetTypes.MLTABLE, path=\"azureml://datastores/workspaceblobstore/paths/vision-classification/train\")\n",
        "# my_validation_data_input = Input(type=AssetTypes.MLTABLE, path=\"azureml://datastores/workspaceblobstore/paths/vision-classification/valid\")"
      ],
      "outputs": [],
      "execution_count": 10,
      "metadata": {
        "gather": {
          "logged": 1684847128128
        },
        "jupyter": {
          "outputs_hidden": false,
          "source_hidden": false
        },
        "nteract": {
          "transient": {
            "deleting": false
          }
        }
      }
    },
    {
      "cell_type": "markdown",
      "source": [
        "## Configure and run the AutoML for Images Classification-MultiClass training job\n",
        "First, you need to create a gpu-cluster. In this example the gpu-cluster is: *Standard_NC24ads_A100_v4 (24 cores, 220 GB RAM, 64 GB disk)*"
      ],
      "metadata": {
        "nteract": {
          "transient": {
            "deleting": false
          }
        }
      }
    },
    {
      "cell_type": "code",
      "source": [
        "# Create the AutoML job with the related factory-function.\n",
        "\n",
        "image_classification_job = automl.image_classification(\n",
        "    compute=compute_name,\n",
        "    # name=\"dpv2-image-classification-job-02\",\n",
        "    experiment_name=experiment_name,\n",
        "    training_data=my_training_data_input,\n",
        "    validation_data=my_validation_data_input,\n",
        "    target_column_name=\"label\",\n",
        "    primary_metric=\"accuracy\",\n",
        "    tags={\"my_custom_tag\": \"My custom value\"},\n",
        ")\n",
        "\n",
        "image_classification_job.set_limits(\n",
        "    max_trials=1,\n",
        "    max_concurrent_trials=1,\n",
        ")"
      ],
      "outputs": [],
      "execution_count": 12,
      "metadata": {
        "gather": {
          "logged": 1684847171437
        },
        "jupyter": {
          "outputs_hidden": false,
          "source_hidden": false
        },
        "nteract": {
          "transient": {
            "deleting": false
          }
        }
      }
    },
    {
      "cell_type": "markdown",
      "source": [
        "### Submitting an AutoML job for Computer Vision tasks\n",
        "Once you've configured your job, you can submit it as a job in the workspace in order to train a vision model using your training dataset."
      ],
      "metadata": {
        "nteract": {
          "transient": {
            "deleting": false
          }
        }
      }
    },
    {
      "cell_type": "code",
      "source": [
        "# Submit the AutoML job\n",
        "returned_job = ml_client.jobs.create_or_update(\n",
        "    image_classification_job\n",
        ")  # submit the job to the backend\n",
        "\n",
        "print(f\"Created job: {returned_job}\")"
      ],
      "outputs": [
        {
          "output_type": "stream",
          "name": "stdout",
          "text": "Created job: compute: azureml:gpu-cluster\ncreation_context:\n  created_at: '2023-05-23T13:06:17.259918+00:00'\n  created_by: Hadi Ansari\n  created_by_type: User\ndisplay_name: neat_kale_13t8nnnvch\nexperiment_name: cats_vs_dogs\nid: azureml:/subscriptions/c6c6e76b-a64b-4a2e-87e4-4122626f39c7/resourceGroups/exjobb-t2304-11614/providers/Microsoft.MachineLearningServices/workspaces/ritko75_exjobb/jobs/neat_kale_13t8nnnvch\nlimits:\n  max_concurrent_trials: 1\n  max_trials: 1\n  timeout_minutes: 10080\nlog_verbosity: info\nname: neat_kale_13t8nnnvch\noutputs: {}\nprimary_metric: accuracy\nproperties: {}\nresources:\n  instance_count: 1\n  shm_size: 2g\nservices:\n  Studio:\n    endpoint: https://ml.azure.com/runs/neat_kale_13t8nnnvch?wsid=/subscriptions/c6c6e76b-a64b-4a2e-87e4-4122626f39c7/resourcegroups/exjobb-t2304-11614/workspaces/ritko75_exjobb&tid=913f18ec-7f26-4c5f-a816-784fe9a58edd\n    job_service_type: Studio\n  Tracking:\n    endpoint: azureml://swedencentral.api.azureml.ms/mlflow/v1.0/subscriptions/c6c6e76b-a64b-4a2e-87e4-4122626f39c7/resourceGroups/exjobb-t2304-11614/providers/Microsoft.MachineLearningServices/workspaces/ritko75_exjobb?\n    job_service_type: Tracking\nstatus: NotStarted\ntags:\n  my_custom_tag: My custom value\ntarget_column_name: label\ntask: image_classification\ntraining_data:\n  path: azureml://datastores/workspaceblobstore/paths/LocalUpload/fe87fc25ecccfc1cf0fc46b103778eb2/training-mltable-folder\n  type: mltable\ntype: automl\nvalidation_data:\n  path: azureml://datastores/workspaceblobstore/paths/LocalUpload/0a0584879b8905541c6cd34093fdd150/validation-mltable-folder\n  type: mltable\n\n"
        }
      ],
      "execution_count": 13,
      "metadata": {
        "gather": {
          "logged": 1684847177863
        },
        "jupyter": {
          "outputs_hidden": false,
          "source_hidden": false
        },
        "nteract": {
          "transient": {
            "deleting": false
          }
        }
      }
    },
    {
      "cell_type": "code",
      "source": [
        "ml_client.jobs.stream(returned_job.name)"
      ],
      "outputs": [
        {
          "output_type": "stream",
          "name": "stdout",
          "text": "RunId: neat_kale_13t8nnnvch\nWeb View: https://ml.azure.com/runs/neat_kale_13t8nnnvch?wsid=/subscriptions/c6c6e76b-a64b-4a2e-87e4-4122626f39c7/resourcegroups/exjobb-t2304-11614/workspaces/ritko75_exjobb\n\nExecution Summary\n=================\nRunId: neat_kale_13t8nnnvch\nWeb View: https://ml.azure.com/runs/neat_kale_13t8nnnvch?wsid=/subscriptions/c6c6e76b-a64b-4a2e-87e4-4122626f39c7/resourcegroups/exjobb-t2304-11614/workspaces/ritko75_exjobb\n\n"
        }
      ],
      "execution_count": 14,
      "metadata": {
        "jupyter": {
          "outputs_hidden": false,
          "source_hidden": false
        },
        "nteract": {
          "transient": {
            "deleting": false
          }
        },
        "gather": {
          "logged": 1684847983996
        }
      }
    },
    {
      "cell_type": "code",
      "source": [
        "from mlflow.tracking.client import MlflowClient\n",
        "\n",
        "# Initialize MLFlow client\n",
        "mlflow_client = MlflowClient()"
      ],
      "outputs": [],
      "execution_count": 15,
      "metadata": {
        "jupyter": {
          "source_hidden": false,
          "outputs_hidden": false
        },
        "nteract": {
          "transient": {
            "deleting": false
          }
        },
        "gather": {
          "logged": 1684847992398
        }
      }
    },
    {
      "cell_type": "markdown",
      "source": [
        "### Get the AutoML parent Job"
      ],
      "metadata": {
        "nteract": {
          "transient": {
            "deleting": false
          }
        }
      }
    },
    {
      "cell_type": "code",
      "source": [
        "job_name = returned_job.name\n",
        "\n",
        "# Example if providing an specific Job name/ID\n",
        "# job_name = \"salmon_camel_5sdf05xvb3\"\n",
        "\n",
        "# Get the parent run\n",
        "mlflow_parent_run = mlflow_client.get_run(job_name)\n",
        "\n",
        "print(\"Parent Run: \")\n",
        "print(mlflow_parent_run)"
      ],
      "outputs": [
        {
          "output_type": "stream",
          "name": "stdout",
          "text": "Parent Run: \n<Run: data=<RunData: metrics={'AUC_binary': 1.0,\n 'AUC_macro': 1.0,\n 'AUC_micro': 1.0,\n 'AUC_weighted': 1.0,\n 'accuracy': 1.0,\n 'accuracy_train': 0.97059,\n 'average_precision_score_binary': 1.0,\n 'average_precision_score_macro': 1.0,\n 'average_precision_score_micro': 1.0,\n 'average_precision_score_weighted': 1.0,\n 'f1_score_binary': 1.0,\n 'f1_score_macro': 1.0,\n 'f1_score_micro': 1.0,\n 'f1_score_weighted': 1.0,\n 'log_loss': 4e-05,\n 'log_loss_train': 0.01816,\n 'precision_score_binary': 1.0,\n 'precision_score_macro': 1.0,\n 'precision_score_micro': 1.0,\n 'precision_score_weighted': 1.0,\n 'recall_score_binary': 1.0,\n 'recall_score_macro': 1.0,\n 'recall_score_micro': 1.0,\n 'recall_score_weighted': 1.0}, params={}, tags={'automl_best_child_run_id': 'neat_kale_13t8nnnvch_HD_0',\n 'fit_time_000': 'NaN',\n 'is_gpu': 'True',\n 'iteration_000': '0',\n 'mlflow.rootRunId': 'neat_kale_13t8nnnvch',\n 'mlflow.runName': 'neat_kale_13t8nnnvch',\n 'mlflow.user': 'Hadi Ansari',\n 'model_explain_run': 'best_run',\n 'my_custom_tag': 'My custom value',\n 'pipeline_id_000': 'UnkownPipelineId',\n 'predicted_cost_000': '0',\n 'run_algorithm_000': '',\n 'run_preprocessor_000': '',\n 'score_000': '1',\n 'training_percent_000': '0'}>, info=<RunInfo: artifact_uri='azureml://swedencentral.api.azureml.ms/mlflow/v2.0/subscriptions/c6c6e76b-a64b-4a2e-87e4-4122626f39c7/resourceGroups/exjobb-t2304-11614/providers/Microsoft.MachineLearningServices/workspaces/ritko75_exjobb/experiments/cc8b9bb5-14de-4850-914d-9b2faa827531/runs/neat_kale_13t8nnnvch/artifacts', end_time=1684847978674, experiment_id='cc8b9bb5-14de-4850-914d-9b2faa827531', lifecycle_stage='active', run_id='neat_kale_13t8nnnvch', run_name='neat_kale_13t8nnnvch', run_uuid='neat_kale_13t8nnnvch', start_time=1684847191226, status='FINISHED', user_id='c5da7d30-01fb-4ef2-b589-1d0b1304f04b'>>\n"
        }
      ],
      "execution_count": 16,
      "metadata": {
        "jupyter": {
          "source_hidden": false,
          "outputs_hidden": false
        },
        "nteract": {
          "transient": {
            "deleting": false
          }
        },
        "gather": {
          "logged": 1684848071915
        }
      }
    },
    {
      "cell_type": "markdown",
      "source": [
        "### Get the AutoML best child run"
      ],
      "metadata": {
        "nteract": {
          "transient": {
            "deleting": false
          }
        }
      }
    },
    {
      "cell_type": "code",
      "source": [
        "# Get the best model's child run\n",
        "\n",
        "best_child_run_id = mlflow_parent_run.data.tags[\"automl_best_child_run_id\"]\n",
        "print(f\"Found best child run id: {best_child_run_id}\")\n",
        "\n",
        "best_run = mlflow_client.get_run(best_child_run_id)\n",
        "\n",
        "print(\"Best child run: \")\n",
        "print(best_run)"
      ],
      "outputs": [
        {
          "output_type": "stream",
          "name": "stdout",
          "text": "Found best child run id: neat_kale_13t8nnnvch_HD_0\nBest child run: \n<Run: data=<RunData: metrics={'AUC_binary': 1.0,\n 'AUC_macro': 1.0,\n 'AUC_micro': 1.0,\n 'AUC_weighted': 1.0,\n 'accuracy': 1.0,\n 'accuracy_train': 0.97059,\n 'average_precision_score_binary': 1.0,\n 'average_precision_score_macro': 1.0,\n 'average_precision_score_micro': 1.0,\n 'average_precision_score_weighted': 1.0,\n 'f1_score_binary': 1.0,\n 'f1_score_macro': 1.0,\n 'f1_score_micro': 1.0,\n 'f1_score_weighted': 1.0,\n 'log_loss': 4e-05,\n 'log_loss_train': 0.01816,\n 'precision_score_binary': 1.0,\n 'precision_score_macro': 1.0,\n 'precision_score_micro': 1.0,\n 'precision_score_weighted': 1.0,\n 'recall_score_binary': 1.0,\n 'recall_score_macro': 1.0,\n 'recall_score_micro': 1.0,\n 'recall_score_weighted': 1.0}, params={}, tags={'hyperparameters': '{\"ignored_argument\": 0}',\n 'mlflow.parentRunId': 'neat_kale_13t8nnnvch_HD',\n 'mlflow.rootRunId': 'neat_kale_13t8nnnvch',\n 'mlflow.runName': 'jovial_avocado_p5hy73gp',\n 'mlflow.source.name': 'hd_image_classification_dnn_driver.py',\n 'mlflow.source.type': 'JOB',\n 'mlflow.user': 'Hadi Ansari'}>, info=<RunInfo: artifact_uri='azureml://swedencentral.api.azureml.ms/mlflow/v2.0/subscriptions/c6c6e76b-a64b-4a2e-87e4-4122626f39c7/resourceGroups/exjobb-t2304-11614/providers/Microsoft.MachineLearningServices/workspaces/ritko75_exjobb/experiments/cc8b9bb5-14de-4850-914d-9b2faa827531/runs/neat_kale_13t8nnnvch_HD_0/artifacts', end_time=1684847946942, experiment_id='cc8b9bb5-14de-4850-914d-9b2faa827531', lifecycle_stage='active', run_id='neat_kale_13t8nnnvch_HD_0', run_name='jovial_avocado_p5hy73gp', run_uuid='neat_kale_13t8nnnvch_HD_0', start_time=1684847431883, status='FINISHED', user_id='c5da7d30-01fb-4ef2-b589-1d0b1304f04b'>>\n"
        }
      ],
      "execution_count": 17,
      "metadata": {
        "jupyter": {
          "source_hidden": false,
          "outputs_hidden": false
        },
        "nteract": {
          "transient": {
            "deleting": false
          }
        },
        "gather": {
          "logged": 1684848085092
        }
      }
    },
    {
      "cell_type": "code",
      "source": [
        "best_run.data.metrics[\"log_loss_train\"]"
      ],
      "outputs": [
        {
          "output_type": "execute_result",
          "execution_count": 27,
          "data": {
            "text/plain": "0.01816"
          },
          "metadata": {}
        }
      ],
      "execution_count": 27,
      "metadata": {
        "jupyter": {
          "source_hidden": false,
          "outputs_hidden": false
        },
        "nteract": {
          "transient": {
            "deleting": false
          }
        },
        "gather": {
          "logged": 1684850486624
        }
      }
    },
    {
      "cell_type": "markdown",
      "source": [
        "## Get best model run's metrics\n",
        "Access the results (such as Models, Artifacts, Metrics) of a previously completed AutoML Run."
      ],
      "metadata": {
        "nteract": {
          "transient": {
            "deleting": false
          }
        }
      }
    },
    {
      "cell_type": "code",
      "source": [
        "import pandas as pd\n",
        "\n",
        "metrics = pd.DataFrame(best_run.data.metrics, index=[0]).T\n",
        "metrics"
      ],
      "outputs": [
        {
          "output_type": "execute_result",
          "execution_count": 22,
          "data": {
            "text/plain": "                                        0\naccuracy_train                    0.97000\nlog_loss_train                    0.09435\nlog_loss                          0.00150\nrecall_score_binary               1.00000\nAUC_binary                        1.00000\nf1_score_macro                    1.00000\nprecision_score_weighted          1.00000\naverage_precision_score_macro     1.00000\nprecision_score_binary            1.00000\naccuracy                          1.00000\nrecall_score_macro                1.00000\nAUC_micro                         1.00000\nprecision_score_micro             1.00000\nAUC_macro                         1.00000\nrecall_score_micro                1.00000\nrecall_score_weighted             1.00000\nprecision_score_macro             1.00000\nf1_score_micro                    1.00000\naverage_precision_score_weighted  1.00000\nf1_score_binary                   1.00000\nAUC_weighted                      1.00000\naverage_precision_score_binary    1.00000\naverage_precision_score_micro     1.00000\nf1_score_weighted                 1.00000",
            "text/html": "<div>\n<style scoped>\n    .dataframe tbody tr th:only-of-type {\n        vertical-align: middle;\n    }\n\n    .dataframe tbody tr th {\n        vertical-align: top;\n    }\n\n    .dataframe thead th {\n        text-align: right;\n    }\n</style>\n<table border=\"1\" class=\"dataframe\">\n  <thead>\n    <tr style=\"text-align: right;\">\n      <th></th>\n      <th>0</th>\n    </tr>\n  </thead>\n  <tbody>\n    <tr>\n      <th>accuracy_train</th>\n      <td>0.97000</td>\n    </tr>\n    <tr>\n      <th>log_loss_train</th>\n      <td>0.09435</td>\n    </tr>\n    <tr>\n      <th>log_loss</th>\n      <td>0.00150</td>\n    </tr>\n    <tr>\n      <th>recall_score_binary</th>\n      <td>1.00000</td>\n    </tr>\n    <tr>\n      <th>AUC_binary</th>\n      <td>1.00000</td>\n    </tr>\n    <tr>\n      <th>f1_score_macro</th>\n      <td>1.00000</td>\n    </tr>\n    <tr>\n      <th>precision_score_weighted</th>\n      <td>1.00000</td>\n    </tr>\n    <tr>\n      <th>average_precision_score_macro</th>\n      <td>1.00000</td>\n    </tr>\n    <tr>\n      <th>precision_score_binary</th>\n      <td>1.00000</td>\n    </tr>\n    <tr>\n      <th>accuracy</th>\n      <td>1.00000</td>\n    </tr>\n    <tr>\n      <th>recall_score_macro</th>\n      <td>1.00000</td>\n    </tr>\n    <tr>\n      <th>AUC_micro</th>\n      <td>1.00000</td>\n    </tr>\n    <tr>\n      <th>precision_score_micro</th>\n      <td>1.00000</td>\n    </tr>\n    <tr>\n      <th>AUC_macro</th>\n      <td>1.00000</td>\n    </tr>\n    <tr>\n      <th>recall_score_micro</th>\n      <td>1.00000</td>\n    </tr>\n    <tr>\n      <th>recall_score_weighted</th>\n      <td>1.00000</td>\n    </tr>\n    <tr>\n      <th>precision_score_macro</th>\n      <td>1.00000</td>\n    </tr>\n    <tr>\n      <th>f1_score_micro</th>\n      <td>1.00000</td>\n    </tr>\n    <tr>\n      <th>average_precision_score_weighted</th>\n      <td>1.00000</td>\n    </tr>\n    <tr>\n      <th>f1_score_binary</th>\n      <td>1.00000</td>\n    </tr>\n    <tr>\n      <th>AUC_weighted</th>\n      <td>1.00000</td>\n    </tr>\n    <tr>\n      <th>average_precision_score_binary</th>\n      <td>1.00000</td>\n    </tr>\n    <tr>\n      <th>average_precision_score_micro</th>\n      <td>1.00000</td>\n    </tr>\n    <tr>\n      <th>f1_score_weighted</th>\n      <td>1.00000</td>\n    </tr>\n  </tbody>\n</table>\n</div>"
          },
          "metadata": {}
        }
      ],
      "execution_count": 22,
      "metadata": {
        "jupyter": {
          "source_hidden": false,
          "outputs_hidden": false
        },
        "nteract": {
          "transient": {
            "deleting": false
          }
        },
        "gather": {
          "logged": 1684758341867
        }
      }
    },
    {
      "cell_type": "code",
      "source": [
        "import matplotlib.pyplot as plt\n",
        "import pandas as pd\n",
        "\n",
        "metrics = pd.DataFrame({\n",
        "    'Metric': [\n",
        "        'accuracy_train', 'log_loss_train', 'log_loss', 'f1_score_weighted',\n",
        "        'accuracy', 'precision_score_binary', 'precision_score_macro',\n",
        "        'average_precision_score_binary', 'average_precision_score_macro',\n",
        "        'AUC_weighted', 'f1_score_macro', 'precision_score_weighted',\n",
        "        'f1_score_binary', 'AUC_macro', 'recall_score_macro',\n",
        "        'precision_score_micro', 'AUC_micro', 'average_precision_score_weighted',\n",
        "        'recall_score_weighted', 'recall_score_binary', 'recall_score_micro',\n",
        "        'f1_score_micro', 'average_precision_score_micro', 'AUC_binary'\n",
        "    ],\n",
        "    'Value': [\n",
        "        0.99, 0.03232, 0.01497, 0.97999, 0.98, 1.0, 0.98077, 1.0, 1.0, 1.0,\n",
        "        0.97999, 0.98077, 0.97959, 1.0, 0.98, 0.98, 0.9996, 1.0, 0.98, 0.96,\n",
        "        0.98, 0.98, 0.99961, 1.0\n",
        "    ]\n",
        "})\n",
        "\n",
        "plt.figure(figsize=(10, 6))\n",
        "plt.bar(metrics['Metric'], metrics['Value'])\n",
        "plt.xticks(rotation=90)\n",
        "plt.ylabel('Value')\n",
        "plt.xlabel('Metric')\n",
        "plt.title('Model Metrics')\n",
        "plt.tight_layout()\n",
        "plt.show()\n"
      ],
      "outputs": [
        {
          "output_type": "display_data",
          "data": {
            "text/plain": "<Figure size 1000x600 with 1 Axes>",
            "image/png": "[encoded data removed]"
          },
          "metadata": {}
        }
      ],
      "execution_count": 23,
      "metadata": {
        "jupyter": {
          "source_hidden": false,
          "outputs_hidden": false
        },
        "nteract": {
          "transient": {
            "deleting": false
          }
        },
        "gather": {
          "logged": 1684758345875
        }
      }
    }
  ],
  "metadata": {
    "colab": {
      "provenance": [
        {
          "file_id": "1gGstFRenv6QgcnT_JpGBrNO_849C419y",
          "timestamp": 1682324832663
        },
        {
          "file_id": "https://github.com/tensorflow/tfx/blob/master/docs/tutorials/tfx/penguin_simple.ipynb",
          "timestamp": 1680514822420
        }
      ]
    },
    "vscode": {
      "interpreter": {
        "hash": "31f2aee4e71d21fbe5cf8b01ff0e069b9275f58929596ceb00d14d90e3e16cd6"
      }
    },
    "accelerator": "GPU",
    "gpuClass": "standard",
    "microsoft": {
      "host": {
        "AzureML": {
          "notebookHasBeenCompleted": true
        }
      },
      "ms_spell_check": {
        "ms_spell_check_language": "en"
      }
    },
    "kernel_info": {
      "name": "python310-sdkv2"
    },
    "language_info": {
      "name": "python",
      "version": "3.10.10",
      "mimetype": "text/x-python",
      "codemirror_mode": {
        "name": "ipython",
        "version": 3
      },
      "pygments_lexer": "ipython3",
      "nbconvert_exporter": "python",
      "file_extension": ".py"
    },
    "kernelspec": {
      "name": "python310-sdkv2",
      "language": "python",
      "display_name": "Python 3.10 - SDK v2"
    },
    "nteract": {
      "version": "nteract-front-end@1.0.0"
    }
  },
  "nbformat": 4,
  "nbformat_minor": 0
}