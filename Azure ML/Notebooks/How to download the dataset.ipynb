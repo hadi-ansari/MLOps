{
  "cells": [
    {
      "cell_type": "markdown",
      "source": [
        "# In this Notebook we download the dogs vs cats dataset from Kaggle\n",
        "If you already have the directory named `datasets`, along with the sub-directories `dogs_vs_cats_original`, `dogs_vs_cats_small`, `and dogs_vs_cats_small2`, there is no need to follow this tutorial. The `datasets` directory is essential and contains the datasets used in various tutorials."
      ],
      "metadata": {
        "nteract": {
          "transient": {
            "deleting": false
          }
        }
      }
    },
    {
      "cell_type": "markdown",
      "source": [
        "## Load your Kaggle API token\n",
        "\n",
        "To download the dogs vs cats image dataset, you will require an [API token](https://www.kaggle.com/docs/api). Once you obtain your Kaggle API token, which is provided as a JSON file, you should upload it to the same directory as this Notebook and proceed to the next step (OBS: the name of the JSON file should be `kaggle.json`)."
      ],
      "metadata": {
        "nteract": {
          "transient": {
            "deleting": false
          }
        }
      }
    },
    {
      "cell_type": "markdown",
      "source": [
        "## Download the dogs vs cats dataset\n",
        "This will the install Kaggle CLI and download the dataset from Kaggle (this might take around 30-40 minutes)."
      ],
      "metadata": {
        "nteract": {
          "transient": {
            "deleting": false
          }
        }
      }
    },
    {
      "cell_type": "code",
      "source": [
        "!pip install -q kaggle\n",
        "!mkdir -p ~/.kaggle\n",
        "!cp kaggle.json ~/.kaggle/\n",
        "'chmod 600 /root/.kaggle/kaggle.json'\n",
        "!kaggle datasets download -d salader/dogs-vs-cats\n",
        "!unzip dogs-vs-cats.zip\n",
        "!rm -rf test train dogs-vs-cats.zip"
      ],
      "outputs": [],
      "execution_count": null,
      "metadata": {
        "gather": {
          "logged": 1685520951139
        }
      }
    },
    {
      "cell_type": "markdown",
      "source": [
        "## Create the necessary datasets\n",
        "To expedite the ML process, we have opted to decrease the dataset size by eliminating images from both the train and test folders. The following commands creates tree directories:\n",
        "- `dogs_vs_cats_original`: which is the original dataset containing 20000 images of dogs and cats for training and 5000 images for validation\n",
        "- `dogs_vs_cats_small`: which is the a dataset containing 200 images of dogs and cats for training and 100 images for validation\n",
        "- `dogs_vs_cats_small2`: which is the a dataset containing 20 images of dogs and cats for training and 10 images for validation\n",
        "\n"
      ],
      "metadata": {
        "nteract": {
          "transient": {
            "deleting": false
          }
        }
      }
    },
    {
      "cell_type": "code",
      "source": [
        "!mv dogs_vs_cats/ dogs_vs_cats_original/\n",
        "!mkdir -p dogs_vs_cats_small/test/dogs\n",
        "!mkdir -p dogs_vs_cats_small/test/cats\n",
        "!mkdir -p dogs_vs_cats_small/train/dogs\n",
        "!mkdir -p dogs_vs_cats_small/train/cats\n",
        "\n",
        "!mkdir -p dogs_vs_cats_small2/test/dogs\n",
        "!mkdir -p dogs_vs_cats_small2/test/cats\n",
        "!mkdir -p dogs_vs_cats_small2/train/dogs\n",
        "!mkdir -p dogs_vs_cats_small2/train/cats"
      ],
      "outputs": [],
      "execution_count": null,
      "metadata": {
        "jupyter": {
          "source_hidden": false,
          "outputs_hidden": false
        },
        "nteract": {
          "transient": {
            "deleting": false
          }
        }
      }
    },
    {
      "cell_type": "code",
      "source": [
        "%%bash\n",
        "find dogs_vs_cats_original/train/dogs -maxdepth 1 -type f -name \"*.jpg\" | head -100 | xargs -I {} cp {} dogs_vs_cats_small/train/dogs\n",
        "find dogs_vs_cats_original/train/cats -maxdepth 1 -type f -name \"*.jpg\" | head -100 | xargs -I {} cp {} dogs_vs_cats_small/train/cats\n",
        "\n",
        "find dogs_vs_cats_original/test/dogs -maxdepth 1 -type f -name \"*.jpg\" | head -50 | xargs -I {} cp {} dogs_vs_cats_small/test/dogs\n",
        "find dogs_vs_cats_original/test/cats -maxdepth 1 -type f -name \"*.jpg\" | head -50 | xargs -I {} cp {} dogs_vs_cats_small/test/cats\n",
        "\n",
        "\n",
        "find dogs_vs_cats_original/train/dogs -maxdepth 1 -type f -name \"*.jpg\" | head -10 | xargs -I {} cp {} dogs_vs_cats_small2/train/dogs\n",
        "find dogs_vs_cats_original/train/cats -maxdepth 1 -type f -name \"*.jpg\" | head -10 | xargs -I {} cp {} dogs_vs_cats_small2/train/cats\n",
        "\n",
        "find dogs_vs_cats_original/test/dogs -maxdepth 1 -type f -name \"*.jpg\" | head -5 | xargs -I {} cp {} dogs_vs_cats_small2/test/dogs\n",
        "find dogs_vs_cats_original/test/cats -maxdepth 1 -type f -name \"*.jpg\" | head -5 | xargs -I {} cp {} dogs_vs_cats_small2/test/cats\n"
      ],
      "outputs": [],
      "execution_count": 15,
      "metadata": {
        "jupyter": {
          "source_hidden": false,
          "outputs_hidden": false
        },
        "nteract": {
          "transient": {
            "deleting": false
          }
        }
      }
    },
    {
      "cell_type": "code",
      "source": [
        "!mkdir datasets\n",
        "!mv dogs_vs_cats_original/ dogs_vs_cats_small/ dogs_vs_cats_small2/ datasets/"
      ],
      "outputs": [],
      "execution_count": 1,
      "metadata": {
        "jupyter": {
          "source_hidden": false,
          "outputs_hidden": false
        },
        "nteract": {
          "transient": {
            "deleting": false
          }
        }
      }
    }
  ],
  "metadata": {
    "kernelspec": {
      "name": "python310-sdkv2",
      "language": "python",
      "display_name": "Python 3.10 - SDK v2"
    },
    "language_info": {
      "name": "python",
      "version": "3.10.10",
      "mimetype": "text/x-python",
      "codemirror_mode": {
        "name": "ipython",
        "version": 3
      },
      "pygments_lexer": "ipython3",
      "nbconvert_exporter": "python",
      "file_extension": ".py"
    },
    "microsoft": {
      "ms_spell_check": {
        "ms_spell_check_language": "en"
      }
    },
    "kernel_info": {
      "name": "python310-sdkv2"
    },
    "nteract": {
      "version": "nteract-front-end@1.0.0"
    }
  },
  "nbformat": 4,
  "nbformat_minor": 2
}