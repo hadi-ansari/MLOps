{
  "cells": [
    {
      "cell_type": "markdown",
      "source": [
        "# Simple Azure ML Pipeline Tutorial using cats vs dogs dataset\n",
        "\n",
        "In this notebook-based tutorial, we will create and run a Azure ML pipeline\n",
        "for a simple cats vs dogs classification model using custom components.\n",
        "The pipeline will consist of following components:\n",
        "- Data ingestion\n",
        "- Trainer\n",
        "- Evaluator\n"
      ],
      "metadata": {
        "id": "6x1ypzczQCwy"
      }
    },
    {
      "cell_type": "markdown",
      "source": [
        "## Set Up\n",
        "We first need to install the azure-ai-ml and azureml Python packages and download\n",
        "the dataset which we will use for our model."
      ],
      "metadata": {
        "id": "Fmgi8ZvQkScg"
      }
    },
    {
      "cell_type": "code",
      "source": [
        "!pip install azure-ai-ml"
      ],
      "outputs": [],
      "execution_count": null,
      "metadata": {
        "id": "as4OTe2ukSqm"
      }
    },
    {
      "cell_type": "code",
      "source": [
        "!pip install mldesigner"
      ],
      "outputs": [],
      "execution_count": null,
      "metadata": {
        "jupyter": {
          "source_hidden": false,
          "outputs_hidden": false
        },
        "nteract": {
          "transient": {
            "deleting": false
          }
        }
      }
    },
    {
      "cell_type": "code",
      "source": [
        "!pip install azureml"
      ],
      "outputs": [],
      "execution_count": null,
      "metadata": {
        "jupyter": {
          "outputs_hidden": false,
          "source_hidden": false
        },
        "nteract": {
          "transient": {
            "deleting": false
          }
        }
      }
    },
    {
      "cell_type": "markdown",
      "source": [
        "## Connect to workspace"
      ],
      "metadata": {
        "nteract": {
          "transient": {
            "deleting": false
          }
        }
      }
    },
    {
      "cell_type": "code",
      "source": [
        "# Handle to the workspace\n",
        "from azure.ai.ml import MLClient, Input\n",
        "\n",
        "# Authentication package\n",
        "from azure.identity import DefaultAzureCredential, InteractiveBrowserCredential\n",
        "\n",
        "try:\n",
        "    credential = DefaultAzureCredential()\n",
        "    # Check if given credential can get token successfully.\n",
        "    credential.get_token(\"https://management.azure.com/.default\")\n",
        "except Exception as ex:\n",
        "    # Fall back to InteractiveBrowserCredential in case DefaultAzureCredential not work\n",
        "    credential = InteractiveBrowserCredential()"
      ],
      "outputs": [],
      "execution_count": 153,
      "metadata": {
        "jupyter": {
          "source_hidden": false,
          "outputs_hidden": false
        },
        "nteract": {
          "transient": {
            "deleting": false
          }
        },
        "gather": {
          "logged": 1684856944932
        }
      }
    },
    {
      "cell_type": "code",
      "source": [
        "# Get a handle to the workspace\n",
        "ml_client = MLClient(\n",
        "    credential=credential,\n",
        "    subscription_id=\"SUBSCRIPTION_ID\",\n",
        "    resource_group_name=\"RESOURCE_GROUP_NAME\",\n",
        "    workspace_name=\"WORKSPACE_NAME\",\n",
        ")\n",
        "\n",
        "compute_instance = \"COMPUTE_INSTANCE\""
      ],
      "outputs": [],
      "execution_count": 154,
      "metadata": {
        "jupyter": {
          "source_hidden": false,
          "outputs_hidden": false
        },
        "nteract": {
          "transient": {
            "deleting": false
          }
        },
        "gather": {
          "logged": 1684856945592
        }
      }
    },
    {
      "cell_type": "markdown",
      "source": [
        "## Create a directory for pipeline components"
      ],
      "metadata": {
        "nteract": {
          "transient": {
            "deleting": false
          }
        }
      }
    },
    {
      "cell_type": "code",
      "source": [
        "import os\n",
        "\n",
        "components_dir = \"./components\"\n",
        "os.makedirs(components_dir, exist_ok=True)\n",
        "\n",
        "data_ingestion_dir = os.path.join(components_dir, \"data_ingestion\")\n",
        "os.makedirs(data_ingestion_dir, exist_ok=True)\n",
        "\n",
        "evaluator_dir = os.path.join(components_dir, \"evaluator\")\n",
        "os.makedirs(evaluator_dir, exist_ok=True)"
      ],
      "outputs": [],
      "execution_count": 155,
      "metadata": {
        "jupyter": {
          "source_hidden": false,
          "outputs_hidden": false
        },
        "nteract": {
          "transient": {
            "deleting": false
          }
        },
        "gather": {
          "logged": 1684856950958
        }
      }
    },
    {
      "cell_type": "markdown",
      "source": [
        "## Set up necessary variables\n",
        "\n",
        "There are some variables used to define a pipeline. You can customize these\n",
        "variables as you want. By default all output from the pipeline will be\n",
        "generated under the current directory."
      ],
      "metadata": {
        "id": "lOjDv93eS5xV"
      }
    },
    {
      "cell_type": "code",
      "source": [],
      "outputs": [],
      "execution_count": 156,
      "metadata": {
        "jupyter": {
          "source_hidden": false,
          "outputs_hidden": false
        },
        "nteract": {
          "transient": {
            "deleting": false
          }
        },
        "gather": {
          "logged": 1684856955576
        }
      }
    },
    {
      "cell_type": "code",
      "source": [
        "import os\n",
        "\n",
        "_data_ingestion_file = os.path.join(data_ingestion_dir, 'data_ingestion_component.py')\n",
        "_evaluator_file = os.path.join(evaluator_dir, 'evaluator_component.py')\n",
        "\n",
        "data_root ='../datasets/dogs_vs_cats_small2'\n",
        "train_dir = os.path.join(data_root, 'train')\n",
        "validation_dir = os.path.join(data_root, 'test')\n",
        "\n",
        "train_cats_dir = os.path.join(train_dir, 'cats')  # directory with our training cat pictures\n",
        "train_dogs_dir = os.path.join(train_dir, 'dogs')  # directory with our training dog pictures\n",
        "validation_cats_dir = os.path.join(validation_dir, 'cats')  # directory with our validation cat pictures\n",
        "validation_dogs_dir = os.path.join(validation_dir, 'dogs')  # directory with our validation dog pictures\n",
        "\n",
        "\n",
        "num_cats_tr = len(os.listdir(train_cats_dir))\n",
        "num_dogs_tr = len(os.listdir(train_dogs_dir))\n",
        "\n",
        "num_cats_val = len(os.listdir(validation_cats_dir))\n",
        "num_dogs_val = len(os.listdir(validation_dogs_dir))\n",
        "\n",
        "total_train = num_cats_tr + num_dogs_tr\n",
        "total_val = num_cats_val + num_dogs_val\n",
        "\n",
        "\n",
        "print('total training cat images:', num_cats_tr)\n",
        "print('total training dog images:', num_dogs_tr)\n",
        "print('total validation cat images:', num_cats_val)\n",
        "print('total validation dog images:', num_dogs_val)\n",
        "print(\"--\")\n",
        "print(\"Total training images:\", total_train)\n",
        "print(\"Total validation images:\", total_val)"
      ],
      "outputs": [
        {
          "output_type": "stream",
          "name": "stdout",
          "text": "total training cat images: 12\ntotal training dog images: 12\ntotal validation cat images: 7\ntotal validation dog images: 7\n--\nTotal training images: 24\nTotal validation images: 14\n"
        }
      ],
      "execution_count": 2,
      "metadata": {
        "colab": {
          "base_uri": "https://localhost:8080/"
        },
        "executionInfo": {
          "elapsed": 447,
          "status": "ok",
          "timestamp": 1682412359044,
          "user": {
            "displayName": "Hadi Ansari",
            "userId": "13801521134374285736"
          },
          "user_tz": -120
        },
        "id": "aES7Hv5QTDK3",
        "outputId": "3a3cee2c-ba29-4be4-809b-8a56dc258596",
        "gather": {
          "logged": 1685526400490
        }
      }
    },
    {
      "cell_type": "code",
      "source": [
        "from IPython.display import Image\n",
        "\n",
        "sample_image = os.path.join(data_root, \"train\", \"cats\", \"cat.0.jpg\")\n",
        "Image(filename=sample_image)"
      ],
      "outputs": [
        {
          "output_type": "execute_result",
          "execution_count": 3,
          "data": {
            "image/jpeg": "[encoded data removed]",
            "text/plain": "<IPython.core.display.Image object>"
          },
          "metadata": {}
        }
      ],
      "execution_count": 3,
      "metadata": {
        "jupyter": {
          "source_hidden": false,
          "outputs_hidden": false
        },
        "nteract": {
          "transient": {
            "deleting": false
          }
        },
        "gather": {
          "logged": 1685526409409
        }
      }
    },
    {
      "cell_type": "markdown",
      "source": [
        "## Upload the dataset into Azure ML studio and read them into datasets\n",
        "\n",
        "Creating Data Assets for Train and Test datasets. We followed this [link on Microsoft Doc](https://learn.microsoft.com/en-us/azure/machine-learning/how-to-create-data-assets?view=azureml-api-2&preserve-view=true&tabs=Python-SDK)"
      ],
      "metadata": {
        "nteract": {
          "transient": {
            "deleting": false
          }
        }
      }
    },
    {
      "cell_type": "markdown",
      "source": [
        "### Creating Data Assets V2"
      ],
      "metadata": {
        "nteract": {
          "transient": {
            "deleting": false
          }
        }
      }
    },
    {
      "cell_type": "code",
      "source": [
        "from azure.ai.ml.entities import Data\n",
        "from azure.ai.ml.constants import AssetTypes\n",
        "\n",
        "# Supported paths include:\n",
        "# local: './<path>/<file>'\n",
        "# blob:  'https://<account_name>.blob.core.windows.net/<container_name>/<path>/<file>'\n",
        "# ADLS gen2: 'abfss://<file_system>@<account_name>.dfs.core.windows.net/<path>/<file>'\n",
        "# Datastore: 'azureml://datastores/<data_store_name>/paths/<path>/<file>'\n",
        "train_ds_path = '../datasets/dogs_vs_cats_small2/train'\n",
        "test_ds_path = '../datasets/dogs_vs_cats_small2/test'\n",
        "\n",
        "train_ds = Data(\n",
        "    path=train_ds_path,\n",
        "    type=AssetTypes.URI_FOLDER,\n",
        "    description=\"20 images of cats and dogs for training purposes\",\n",
        "    name=\"dogs_vs_cats_train\",\n",
        ")\n",
        "\n",
        "\n",
        "test_ds = Data(\n",
        "    path=test_ds_path,\n",
        "    type=AssetTypes.URI_FOLDER,\n",
        "    description=\"10 images of cats and dogs for validation purposes\",\n",
        "    name=\"dogs_vs_cats_test\",\n",
        ")\n",
        "\n",
        "uri_folder_train_data_asset = ml_client.data.create_or_update(train_ds)\n",
        "uri_folder_test_data_asset = ml_client.data.create_or_update(test_ds)"
      ],
      "outputs": [],
      "execution_count": 159,
      "metadata": {
        "jupyter": {
          "source_hidden": false,
          "outputs_hidden": false
        },
        "nteract": {
          "transient": {
            "deleting": false
          }
        },
        "gather": {
          "logged": 1684856968529
        }
      }
    },
    {
      "cell_type": "markdown",
      "source": [
        "## Write data ingestion code"
      ],
      "metadata": {
        "id": "l0AbWurTgUSD"
      }
    },
    {
      "cell_type": "code",
      "source": [
        "%%writefile {_data_ingestion_file}\n",
        "import os\n",
        "from pathlib import Path\n",
        "from mldesigner import command_component, Input, Output\n",
        "import json\n",
        "\n",
        "@command_component(\n",
        "    name=\"data_ingestion_component\",\n",
        "    version=\"1.2\",\n",
        "    display_name=\"Data ingestion\",\n",
        "    description=\"Brings the train and test datasets into the pipeline\",\n",
        "    environment=dict(\n",
        "        conda_file=Path(__file__).parent / \"conda.yaml\",\n",
        "        image=\"mcr.microsoft.com/azureml/openmpi4.1.0-ubuntu20.04\",\n",
        "    ),\n",
        ")\n",
        "def data_ingest(\n",
        "    uri_folder_train_data_asset_path: Input(type=\"string\"),\n",
        "    uri_folder_test_data_asset_path: Input(type=\"string\"),\n",
        "    train_data_path: Input(type=\"uri_folder\"),\n",
        "    test_data_path: Input(type=\"uri_folder\"),\n",
        "    output_train_data: Output(type=\"uri_folder\"),\n",
        "    output_test_data: Output(type=\"uri_folder\")\n",
        "):\n",
        "    print(\"Data ingestion is running ...\")\n",
        "    \n",
        "    train_mltable_path, train_annotations_file = create_JSONL(train_data_path, output_train_data, uri_folder_train_data_asset_path)\n",
        "\n",
        "    # Create and save mltable\n",
        "    train_mltable_file_contents = create_ml_table_file(\n",
        "        os.path.basename(train_annotations_file)\n",
        "    )\n",
        "    save_ml_table_file(train_mltable_path, train_mltable_file_contents)\n",
        "\n",
        "\n",
        "    test_mltable_path, test_annotations_file = create_JSONL(test_data_path, output_test_data, uri_folder_test_data_asset_path)\n",
        "\n",
        "    # Create and save mltable\n",
        "    test_mltable_file_contents = create_ml_table_file(\n",
        "        os.path.basename(test_annotations_file)\n",
        "    )\n",
        "    save_ml_table_file(test_mltable_path, test_mltable_file_contents)\n",
        "\n",
        "\n",
        "def create_JSONL(base_dir, output_dir, uri_folder_data_asset):\n",
        "    # We'll copy each JSONL file within its related MLTable folder\n",
        "    mltable_path = output_dir\n",
        "\n",
        "\n",
        "    # Path to the training and validation files\n",
        "    annotations_file = os.path.join(mltable_path, \"annotations.jsonl\")\n",
        "\n",
        "    # Baseline of json line dictionary\n",
        "    json_line_sample = {\n",
        "        \"image_url\": uri_folder_data_asset,\n",
        "        \"label\": \"\",\n",
        "    }\n",
        "\n",
        "    # Scan each sub directary and generate a jsonl line per image, distributed on train and valid JSONL files\n",
        "    with open(annotations_file, \"w\") as f:\n",
        "        for class_name in os.listdir(base_dir):\n",
        "            sub_dir = os.path.join(base_dir, class_name)\n",
        "            if not os.path.isdir(sub_dir):\n",
        "                continue\n",
        "\n",
        "            # Scan each sub directary\n",
        "            print(f\"Parsing {sub_dir}\")\n",
        "            for image in os.listdir(sub_dir):\n",
        "                json_line = dict(json_line_sample)\n",
        "                json_line[\"image_url\"] += f\"{class_name}/{image}\"\n",
        "                json_line[\"label\"] = class_name[:-1]\n",
        "                f.write(json.dumps(json_line) + \"\\n\")\n",
        "\n",
        "\n",
        "    return mltable_path, annotations_file\n",
        "\n",
        "def create_ml_table_file(filename):\n",
        "    \"\"\"Create ML Table definition\"\"\"\n",
        "\n",
        "    return (\n",
        "        \"paths:\\n\"\n",
        "        \"  - file: ./{0}\\n\"\n",
        "        \"transformations:\\n\"\n",
        "        \"  - read_json_lines:\\n\"\n",
        "        \"        encoding: utf8\\n\"\n",
        "        \"        invalid_lines: error\\n\"\n",
        "        \"        include_path_column: false\\n\"\n",
        "        \"  - convert_column_types:\\n\"\n",
        "        \"      - columns: image_url\\n\"\n",
        "        \"        column_type: stream_info\"\n",
        "    ).format(filename)\n",
        "\n",
        "\n",
        "def save_ml_table_file(output_path, mltable_file_contents):\n",
        "    with open(os.path.join(output_path, \"MLTable\"), \"w\") as f:\n",
        "        f.write(mltable_file_contents)"
      ],
      "outputs": [
        {
          "output_type": "stream",
          "name": "stdout",
          "text": "Overwriting ./components/data_ingestion/data_ingestion_component.py\n"
        }
      ],
      "execution_count": 160,
      "metadata": {
        "jupyter": {
          "source_hidden": false,
          "outputs_hidden": false
        },
        "nteract": {
          "transient": {
            "deleting": false
          }
        }
      }
    },
    {
      "cell_type": "code",
      "source": [
        "%%writefile {data_ingestion_dir}/conda.yaml\n",
        "name: data_ingestion_conda_env\n",
        "channels:\n",
        "  - defaults\n",
        "dependencies:\n",
        "  - python=3.7.11\n",
        "  - pip=20.0\n",
        "  - pip:\n",
        "    - mldesigner==0.1.0b4"
      ],
      "outputs": [
        {
          "output_type": "stream",
          "name": "stdout",
          "text": "Overwriting ./components/data_ingestion/conda.yaml\n"
        }
      ],
      "execution_count": 161,
      "metadata": {
        "jupyter": {
          "source_hidden": false,
          "outputs_hidden": false
        },
        "nteract": {
          "transient": {
            "deleting": false
          }
        }
      }
    },
    {
      "cell_type": "markdown",
      "source": [
        "## Model Evaluator"
      ],
      "metadata": {
        "nteract": {
          "transient": {
            "deleting": false
          }
        }
      }
    },
    {
      "cell_type": "code",
      "source": [
        "%%writefile {_evaluator_file}\n",
        "import os\n",
        "from pathlib import Path\n",
        "from mldesigner import command_component, Input, Output\n",
        "import mlflow\n",
        "import pandas as pd\n",
        "import mlflow.pyfunc\n",
        "import json\n",
        "import matplotlib.pyplot as plt\n",
        "from mlflow.tracking.client import MlflowClient\n",
        "\n",
        "@command_component(\n",
        "    name=\"evaluator_component\",\n",
        "    version=\"1.0\",\n",
        "    display_name=\"Evaluator\",\n",
        "    description=\"Evaluates the model\",\n",
        "    environment=dict(\n",
        "        conda_file=Path(__file__).parent / \"conda.yaml\",\n",
        "        image=\"mcr.microsoft.com/azureml/openmpi4.1.0-ubuntu20.04\",\n",
        "    ),\n",
        ")\n",
        "def evaluator(\n",
        "    best_model: Input(),\n",
        "    evaluation_results: Output(type=\"uri_folder\"),\n",
        "):\n",
        "    print(\"Evaluator is running ...\")\n",
        "\n",
        "    model = mlflow.pyfunc.load_model(best_model)\n",
        "    run_id = model.metadata.run_id\n",
        "    mlflow_client = MlflowClient()\n",
        "    best_run = mlflow_client.get_run(run_id)\n",
        "    \n",
        "    metrics = pd.DataFrame(best_run.data.metrics, index=[0]).T\n",
        "\n",
        "    # Create a figure and a set of subplots\n",
        "    fig, ax = plt.subplots()\n",
        "\n",
        "    # Data to plot\n",
        "    metric_names = metrics.index\n",
        "    metric_values = metrics[0]\n",
        "\n",
        "    # Create bar chart\n",
        "    ax.bar(metric_names, metric_values)\n",
        "\n",
        "    # Rotate x labels for better visibility\n",
        "    plt.xticks(rotation=90)\n",
        "\n",
        "    # Title and labels\n",
        "    plt.title('Metrics')\n",
        "    plt.xlabel('Metric Names')\n",
        "    plt.ylabel('Metric Values')\n",
        "\n",
        "    # Show the plot\n",
        "    plt.tight_layout()\n",
        "   \n",
        "    # Save the plot as PNG in the specified directory\n",
        "    save_path = os.path.join(evaluation_results, 'model_metrics.png')\n",
        "    plt.savefig(save_path)\n"
      ],
      "outputs": [
        {
          "output_type": "stream",
          "name": "stdout",
          "text": "Overwriting ./components/evaluator/evaluator_component.py\n"
        }
      ],
      "execution_count": 163,
      "metadata": {
        "jupyter": {
          "source_hidden": false,
          "outputs_hidden": false
        },
        "nteract": {
          "transient": {
            "deleting": false
          }
        }
      }
    },
    {
      "cell_type": "code",
      "source": [
        "%%writefile {evaluator_dir}/conda.yaml\n",
        "name: evaluator_conda_env\n",
        "channels:\n",
        "  - defaults\n",
        "dependencies:\n",
        "  - python=3.8\n",
        "  - pip=20.0\n",
        "  - pip:\n",
        "    - azureml-core\n",
        "    - azureml-mlflow\n",
        "    - azureml-train-automl\n",
        "    - azureml-sdk[automl]\n",
        "    - mldesigner==0.1.0b4\n",
        "    - mlflow\n",
        "    - pandas\n",
        "    - azureml-automl-dnn-vision\n",
        "    - matplotlib\n"
      ],
      "outputs": [
        {
          "output_type": "stream",
          "name": "stdout",
          "text": "Overwriting ./components/evaluator/conda.yaml\n"
        }
      ],
      "execution_count": 164,
      "metadata": {
        "jupyter": {
          "source_hidden": false,
          "outputs_hidden": false
        },
        "nteract": {
          "transient": {
            "deleting": false
          }
        }
      }
    },
    {
      "cell_type": "markdown",
      "source": [
        "## Loading the component when it is Python function"
      ],
      "metadata": {
        "nteract": {
          "transient": {
            "deleting": false
          }
        }
      }
    },
    {
      "cell_type": "code",
      "source": [
        "%reload_ext autoreload\n",
        "%autoreload 2\n",
        "\n",
        "# load component function from component python file\n",
        "from components.data_ingestion.data_ingestion_component import data_ingest\n",
        "from components.evaluator.evaluator_component import evaluator"
      ],
      "outputs": [],
      "execution_count": 165,
      "metadata": {
        "jupyter": {
          "source_hidden": false,
          "outputs_hidden": false
        },
        "nteract": {
          "transient": {
            "deleting": false
          }
        },
        "gather": {
          "logged": 1684857004443
        }
      }
    },
    {
      "cell_type": "markdown",
      "source": [
        "### Loading the datasets"
      ],
      "metadata": {
        "nteract": {
          "transient": {
            "deleting": false
          }
        }
      }
    },
    {
      "cell_type": "code",
      "source": [
        "train_ds_path = Input(type= \"uri_folder\", path = \"../datasets/dogs_vs_cats_small2/train\")\n",
        "test_ds_path = Input(type= \"uri_folder\", path = \"../datasets/dogs_vs_cats_small2/test\")"
      ],
      "outputs": [],
      "execution_count": 166,
      "metadata": {
        "jupyter": {
          "source_hidden": false,
          "outputs_hidden": false
        },
        "nteract": {
          "transient": {
            "deleting": false
          }
        },
        "gather": {
          "logged": 1684857012451
        }
      }
    },
    {
      "cell_type": "markdown",
      "source": [
        "## Pipeline definition"
      ],
      "metadata": {
        "nteract": {
          "transient": {
            "deleting": false
          }
        }
      }
    },
    {
      "cell_type": "code",
      "source": [
        "from azure.ai.ml.dsl import pipeline\n",
        "from azure.ai.ml import load_component\n",
        "from azure.ai.ml.automl import (\n",
        "    image_classification,\n",
        "    SearchSpace,\n",
        "    ClassificationPrimaryMetrics)\n",
        "from azure.ai.ml.sweep import BanditPolicy, Choice, Uniform\n",
        "from azure.ai.ml.entities import Environment\n",
        "from azure.ai.ml import MLClient, Output, command\n",
        "\n",
        "\n",
        "# define a pipeline containing 3 nodes: Prepare data node, train node, and score node\n",
        "@pipeline(\n",
        "    default_compute=compute_instance,\n",
        ")\n",
        "def cat_vs_dog_classifier():\n",
        "\n",
        "    step1 = data_ingest(train_data_path = train_ds_path, uri_folder_train_data_asset_path=uri_folder_train_data_asset.path,\n",
        "                        test_data_path = test_ds_path, uri_folder_test_data_asset_path=uri_folder_test_data_asset.path)\n",
        "\n",
        "    step2 = image_classification(\n",
        "        training_data=step1.outputs.output_train_data,\n",
        "        validation_data=step1.outputs.output_test_data,\n",
        "        target_column_name=\"label\",\n",
        "        primary_metric=ClassificationPrimaryMetrics.ACCURACY,\n",
        "        # currently need to specify outputs \"mlflow_model\" explictly to reference it in following nodes\n",
        "        outputs={\"best_model\": Output(type=\"mlflow_model\")}\n",
        "    )\n",
        "\n",
        "    step2.set_limits(\n",
        "        max_trials=1,\n",
        "        max_concurrent_trials=1,\n",
        "    )\n",
        "\n",
        "    step3 = evaluator(best_model = step2.outputs.best_model)\n",
        "   \n",
        "\n",
        "# create a pipeline\n",
        "pipeline_job = cat_vs_dog_classifier()"
      ],
      "outputs": [],
      "execution_count": 167,
      "metadata": {
        "jupyter": {
          "source_hidden": false,
          "outputs_hidden": false
        },
        "nteract": {
          "transient": {
            "deleting": false
          }
        },
        "gather": {
          "logged": 1684857053269
        }
      }
    },
    {
      "cell_type": "code",
      "source": [
        "pipeline_job = ml_client.jobs.create_or_update(\n",
        "    pipeline_job, experiment_name=\"dogs_vs_cats_experiment_Evaluator\", description=\"Data ingestion, AutoML trainer and Evaluator.\"\n",
        ")\n",
        "pipeline_job"
      ],
      "outputs": [
        {
          "output_type": "stream",
          "name": "stderr",
          "text": "\r\u001b[32mUploading evaluator (0.0 MBs):   0%|          | 0/2127 [00:00<?, ?it/s]\r\u001b[32mUploading evaluator (0.0 MBs): 100%|██████████| 2127/2127 [00:00<00:00, 37990.07it/s]\n\u001b[39m\n\n"
        },
        {
          "output_type": "execute_result",
          "execution_count": 168,
          "data": {
            "text/plain": "PipelineJob({'inputs': {}, 'outputs': {}, 'jobs': {}, 'component': PipelineComponent({'auto_increment_version': False, 'source': 'REMOTE.WORKSPACE.JOB', 'is_anonymous': True, 'name': 'azureml_anonymous', 'description': 'Data ingestion, AutoML trainer and Evaluator.', 'tags': {}, 'properties': {}, 'print_as_yaml': True, 'id': None, 'Resource__source_path': None, 'base_path': '/mnt/batch/tasks/shared/LS_root/mounts/clusters/hadan3261/code/Users/Notebooks/3) dogs_vs_cats_classification (evaluator)', 'creation_context': None, 'serialize': <msrest.serialization.Serializer object at 0x7f0338a92e30>, 'version': '1', 'latest_version': None, 'schema': None, 'type': 'pipeline', 'display_name': 'cat_vs_dog_classifier', 'is_deterministic': None, 'inputs': {}, 'outputs': {}, 'yaml_str': None, 'other_parameter': {}, 'jobs': {'step1': Command({'parameters': {}, 'init': False, 'type': 'command', 'status': None, 'log_files': None, 'name': 'step1', 'description': None, 'tags': {}, 'properties': {}, 'print_as_yaml': True, 'id': None, 'Resource__source_path': None, 'base_path': '/mnt/batch/tasks/shared/LS_root/mounts/clusters/hadan3261/code/Users/Notebooks/3) dogs_vs_cats_classification (evaluator)', 'creation_context': None, 'serialize': <msrest.serialization.Serializer object at 0x7f0339c23f40>, 'allowed_keys': {}, 'key_restriction': False, 'logger': <Logger attr_dict (WARNING)>, 'display_name': None, 'experiment_name': None, 'compute': None, 'services': None, 'comment': None, 'job_inputs': {'uri_folder_train_data_asset_path': 'azureml://subscriptions/c6c6e76b-a64b-4a2e-87e4-4122626f39c7/resourcegroups/exjobb-t2304-11614/workspaces/ritko75_exjobb/datastores/workspaceblobstore/paths/LocalUpload/78c9f5641ed969eb295338e48303ff85/train/', 'uri_folder_test_data_asset_path': 'azureml://subscriptions/c6c6e76b-a64b-4a2e-87e4-4122626f39c7/resourcegroups/exjobb-t2304-11614/workspaces/ritko75_exjobb/datastores/workspaceblobstore/paths/LocalUpload/692be5873263765ae1a7e7a6322df051/test/', 'train_data_path': {'type': 'uri_folder', 'path': 'azureml://datastores/workspaceblobstore/paths/LocalUpload/78c9f5641ed969eb295338e48303ff85/train/'}, 'test_data_path': {'type': 'uri_folder', 'path': 'azureml://datastores/workspaceblobstore/paths/LocalUpload/692be5873263765ae1a7e7a6322df051/test/'}}, 'job_outputs': {}, 'inputs': {'uri_folder_train_data_asset_path': <azure.ai.ml.entities._job.pipeline._io.base.NodeInput object at 0x7f0339c23c40>, 'uri_folder_test_data_asset_path': <azure.ai.ml.entities._job.pipeline._io.base.NodeInput object at 0x7f0339ba15a0>, 'train_data_path': <azure.ai.ml.entities._job.pipeline._io.base.NodeInput object at 0x7f0339ba1de0>, 'test_data_path': <azure.ai.ml.entities._job.pipeline._io.base.NodeInput object at 0x7f0339ba31f0>}, 'outputs': {}, 'component': 'azureml_anonymous:62dc1679-6125-40f2-b351-3522291a3266', 'referenced_control_flow_node_instance_id': None, 'kwargs': {'services': None}, 'instance_id': '23791a77-80eb-4e3d-96a3-1149d3bc9575', 'source': 'REMOTE.WORKSPACE.COMPONENT', 'validate_required_input_not_provided': True, 'limits': None, 'identity': None, 'distribution': None, 'environment_variables': {}, 'environment': None, 'resources': None, 'queue_settings': None, 'swept': False}), 'step2': ImageClassificationJob({'log_verbosity': <LogVerbosity.INFO: 'Info'>, 'target_column_name': 'label', 'validation_data_size': None, 'task_type': <TaskType.IMAGE_CLASSIFICATION: 'ImageClassification'>, 'training_data': '${{parent.jobs.step1.outputs.output_train_data}}', 'validation_data': '${{parent.jobs.step1.outputs.output_test_data}}', 'test_data': None, 'environment_id': None, 'environment_variables': None, 'outputs': {'best_model': <azure.ai.ml.entities._job.pipeline._io.base.NodeOutput object at 0x7f0338a92e60>}, 'type': 'automl', 'status': None, 'log_files': None, 'name': 'step2', 'description': None, 'tags': {}, 'properties': {}, 'print_as_yaml': True, 'id': None, 'Resource__source_path': None, 'base_path': '/mnt/batch/tasks/shared/LS_root/mounts/clusters/hadan3261/code/Users/Notebooks/3) dogs_vs_cats_classification (evaluator)', 'creation_context': None, 'serialize': <msrest.serialization.Serializer object at 0x7f0338a92ec0>, 'inputs': {}, 'display_name': None, 'experiment_name': None, 'compute': None, 'services': None, 'resources': None, 'identity': None, 'queue_settings': None, 'limits': <azure.ai.ml.entities._job.automl.image.image_limit_settings.ImageLimitSettings object at 0x7f0338a93250>, 'sweep': None, 'training_parameters': None, 'search_space': None, 'primary_metric': <ClassificationPrimaryMetrics.ACCURACY: 'Accuracy'>}), 'step3': Command({'parameters': {}, 'init': False, 'type': 'command', 'status': None, 'log_files': None, 'name': 'step3', 'description': None, 'tags': {}, 'properties': {}, 'print_as_yaml': True, 'id': None, 'Resource__source_path': None, 'base_path': '/mnt/batch/tasks/shared/LS_root/mounts/clusters/hadan3261/code/Users/Notebooks/3) dogs_vs_cats_classification (evaluator)', 'creation_context': None, 'serialize': <msrest.serialization.Serializer object at 0x7f0339c580a0>, 'allowed_keys': {}, 'key_restriction': False, 'logger': <Logger attr_dict (WARNING)>, 'display_name': None, 'experiment_name': None, 'compute': None, 'services': None, 'comment': None, 'job_inputs': {'best_model': '${{parent.jobs.step2.outputs.best_model}}'}, 'job_outputs': {}, 'inputs': {'best_model': <azure.ai.ml.entities._job.pipeline._io.base.NodeInput object at 0x7f0338a92f20>}, 'outputs': {}, 'component': 'azureml_anonymous:75ca87e4-de42-4b79-9aab-403994ae3324', 'referenced_control_flow_node_instance_id': None, 'kwargs': {'services': None}, 'instance_id': '42193c6c-6f0d-438f-8a5b-1bfa20600826', 'source': 'REMOTE.WORKSPACE.COMPONENT', 'validate_required_input_not_provided': True, 'limits': None, 'identity': None, 'distribution': None, 'environment_variables': {}, 'environment': None, 'resources': None, 'queue_settings': None, 'swept': False})}, 'job_types': {'command': 2, 'automl': 1}, 'job_sources': {'REMOTE.WORKSPACE.COMPONENT': 2, 'BUILDER': 1}, 'source_job_id': None}), 'type': 'pipeline', 'status': 'Preparing', 'log_files': None, 'name': 'lucid_chicken_x83bw69j1q', 'description': 'Data ingestion, AutoML trainer and Evaluator.', 'tags': {}, 'properties': {'azureml.DevPlatv2': 'true', 'azureml.DatasetAccessMode': 'Asset', 'azureml.runsource': 'azureml.PipelineRun', 'runSource': 'MFE', 'runType': 'HTTP', 'azureml.parameters': '{}', 'azureml.continue_on_step_failure': 'True', 'azureml.continue_on_failed_optional_input': 'True', 'azureml.enforceRerun': 'False', 'azureml.defaultComputeName': 'hadan3261', 'azureml.defaultDataStoreName': 'workspaceblobstore', 'azureml.pipelineComponent': 'pipelinerun'}, 'print_as_yaml': True, 'id': '/subscriptions/c6c6e76b-a64b-4a2e-87e4-4122626f39c7/resourceGroups/exjobb-t2304-11614/providers/Microsoft.MachineLearningServices/workspaces/ritko75_exjobb/jobs/lucid_chicken_x83bw69j1q', 'Resource__source_path': None, 'base_path': '/mnt/batch/tasks/shared/LS_root/mounts/clusters/hadan3261/code/Users/Notebooks/3) dogs_vs_cats_classification (evaluator)', 'creation_context': <azure.ai.ml.entities._system_data.SystemData object at 0x7f0338a92dd0>, 'serialize': <msrest.serialization.Serializer object at 0x7f0338a93160>, 'display_name': 'cat_vs_dog_classifier', 'experiment_name': 'dogs_vs_cats_experiment_Evaluator', 'compute': None, 'services': {'Tracking': <azure.ai.ml.entities._job.job_service.JobService object at 0x7f0338a92da0>, 'Studio': <azure.ai.ml.entities._job.job_service.JobService object at 0x7f0338a92fb0>}, 'settings': {}, 'identity': None, 'default_code': None, 'default_environment': None})",
            "text/html": "<table style=\"width:100%\"><tr><th>Experiment</th><th>Name</th><th>Type</th><th>Status</th><th>Details Page</th></tr><tr><td>dogs_vs_cats_experiment_Evaluator</td><td>lucid_chicken_x83bw69j1q</td><td>pipeline</td><td>Preparing</td><td><a href=\"https://ml.azure.com/runs/lucid_chicken_x83bw69j1q?wsid=/subscriptions/c6c6e76b-a64b-4a2e-87e4-4122626f39c7/resourcegroups/exjobb-t2304-11614/workspaces/ritko75_exjobb&amp;tid=913f18ec-7f26-4c5f-a816-784fe9a58edd\" target=\"_blank\" rel=\"noopener\">Link to Azure Machine Learning studio</a></td></tr></table>"
          },
          "metadata": {}
        }
      ],
      "execution_count": 168,
      "metadata": {
        "jupyter": {
          "source_hidden": false,
          "outputs_hidden": false
        },
        "nteract": {
          "transient": {
            "deleting": false
          }
        },
        "gather": {
          "logged": 1684857078203
        }
      }
    },
    {
      "cell_type": "code",
      "source": [
        "# wait until the job completes\n",
        "ml_client.jobs.stream(pipeline_job.name)"
      ],
      "outputs": [],
      "execution_count": null,
      "metadata": {
        "jupyter": {
          "source_hidden": false,
          "outputs_hidden": false
        },
        "nteract": {
          "transient": {
            "deleting": false
          }
        },
        "gather": {
          "logged": 1684488796329
        }
      }
    }
  ],
  "metadata": {
    "colab": {
      "provenance": [
        {
          "file_id": "1gGstFRenv6QgcnT_JpGBrNO_849C419y",
          "timestamp": 1682324832663
        },
        {
          "file_id": "https://github.com/tensorflow/tfx/blob/master/docs/tutorials/tfx/penguin_simple.ipynb",
          "timestamp": 1680514822420
        }
      ]
    },
    "accelerator": "GPU",
    "gpuClass": "standard",
    "microsoft": {
      "ms_spell_check": {
        "ms_spell_check_language": "en"
      },
      "host": {
        "AzureML": {
          "notebookHasBeenCompleted": true
        }
      }
    },
    "kernel_info": {
      "name": "python310-sdkv2"
    },
    "language_info": {
      "name": "python",
      "version": "3.10.10",
      "mimetype": "text/x-python",
      "codemirror_mode": {
        "name": "ipython",
        "version": 3
      },
      "pygments_lexer": "ipython3",
      "nbconvert_exporter": "python",
      "file_extension": ".py"
    },
    "kernelspec": {
      "name": "python310-sdkv2",
      "language": "python",
      "display_name": "Python 3.10 - SDK v2"
    },
    "nteract": {
      "version": "nteract-front-end@1.0.0"
    }
  },
  "nbformat": 4,
  "nbformat_minor": 0
}