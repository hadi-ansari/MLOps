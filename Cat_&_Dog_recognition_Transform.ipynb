{
  "nbformat": 4,
  "nbformat_minor": 0,
  "metadata": {
    "colab": {
      "provenance": [],
      "include_colab_link": true
    },
    "kernelspec": {
      "display_name": "Python 3",
      "name": "python3"
    },
    "accelerator": "GPU",
    "gpuClass": "standard"
  },
  "cells": [
    {
      "cell_type": "markdown",
      "metadata": {
        "id": "view-in-github",
        "colab_type": "text"
      },
      "source": [
        "<a href=\"https://colab.research.google.com/github/hadi-ansari/TFX/blob/main/Cat_%26_Dog_recognition_Transform.ipynb\" target=\"_parent\"><img src=\"https://colab.research.google.com/assets/colab-badge.svg\" alt=\"Open In Colab\"/></a>"
      ]
    },
    {
      "cell_type": "markdown",
      "metadata": {
        "id": "6x1ypzczQCwy"
      },
      "source": [
        "# Simple TFX Pipeline Tutorial using cats & dogs dataset\n",
        "\n",
        "***A pipeline to train a model for recognizing cats and dogs.***"
      ]
    },
    {
      "cell_type": "markdown",
      "metadata": {
        "id": "_VuwrlnvQJ5k"
      },
      "source": [
        "In this notebook-based tutorial, we will create and run a TFX pipeline\n",
        "for a simple classification model.\n",
        "The pipeline will consist of three essential TFX components: ExampleGen,\n",
        "Trainer and Pusher. The pipeline includes the most minimal ML workflow like\n",
        "importing data, training a model and exporting the trained model.\n",
        "\n",
        "Please see\n",
        "[Understanding TFX Pipelines](https://www.tensorflow.org/tfx/guide/understanding_tfx_pipelines)\n",
        "to learn more about various concepts in TFX."
      ]
    },
    {
      "cell_type": "markdown",
      "metadata": {
        "id": "Fmgi8ZvQkScg"
      },
      "source": [
        "## Set Up\n",
        "We first need to install the TFX Python package and download\n",
        "the dataset which we will use for our model.\n",
        "\n",
        "### Upgrade Pip"
      ]
    },
    {
      "cell_type": "code",
      "metadata": {
        "id": "as4OTe2ukSqm"
      },
      "source": [
        "!pip install --upgrade pip"
      ],
      "execution_count": null,
      "outputs": []
    },
    {
      "cell_type": "code",
      "metadata": {
        "id": "iyQtljP-qPHY"
      },
      "source": [
        "!pip install -U tfx"
      ],
      "execution_count": null,
      "outputs": []
    },
    {
      "cell_type": "markdown",
      "source": [
        "### Uninstall shapely\n",
        "\n",
        "TODO(b/263441833) This is a temporal solution to avoid an\n",
        "ImportError. Ultimately, it should be handled by supporting a\n",
        "recent version of Bigquery, instead of uninstalling other extra\n",
        "dependencies."
      ],
      "metadata": {
        "id": "DCa5Bs00k3ZR"
      }
    },
    {
      "cell_type": "code",
      "source": [
        "!pip uninstall shapely -y"
      ],
      "metadata": {
        "id": "mYn4k-r-k3qN"
      },
      "execution_count": null,
      "outputs": []
    },
    {
      "cell_type": "markdown",
      "metadata": {
        "id": "EwT0nov5QO1M"
      },
      "source": [
        "### Did you restart the runtime?\n",
        "\n",
        "If you are using Google Colab, the first time that you run\n",
        "the cell above, you must restart the runtime by clicking\n",
        "above \"RESTART RUNTIME\" button or using \"Runtime > Restart\n",
        "runtime ...\" menu. This is because of the way that Colab\n",
        "loads packages."
      ]
    },
    {
      "cell_type": "markdown",
      "metadata": {
        "id": "aDtLdSkvqPHe"
      },
      "source": [
        "# Necessary imports\n",
        "\n",
        "We also check the TensorFlow and TFX versions."
      ]
    },
    {
      "cell_type": "code",
      "metadata": {
        "id": "6jh7vKSRqPHb",
        "colab": {
          "base_uri": "https://localhost:8080/"
        },
        "outputId": "c0238dab-626b-493e-f58c-a84239bf911f"
      },
      "source": [
        "import numpy as np\n",
        "import os\n",
        "import PIL\n",
        "import PIL.Image\n",
        "import tensorflow_datasets as tfds\n",
        "import tensorflow as tf\n",
        "\n",
        "print('TensorFlow version: {}'.format(tf.__version__))\n",
        "from tfx import v1 as tfx\n",
        "print('TFX version: {}'.format(tfx.__version__))"
      ],
      "execution_count": 110,
      "outputs": [
        {
          "output_type": "stream",
          "name": "stdout",
          "text": [
            "TensorFlow version: 2.11.1\n",
            "TFX version: 1.12.0\n"
          ]
        }
      ]
    },
    {
      "cell_type": "code",
      "source": [
        "from google.colab import files\n",
        "files.upload()"
      ],
      "metadata": {
        "id": "4601nR9JQaHM"
      },
      "execution_count": null,
      "outputs": []
    },
    {
      "cell_type": "markdown",
      "metadata": {
        "id": "11J7XiCq6AFP"
      },
      "source": [
        "Because TFX ExampleGen reads inputs from a directory, we need to create a\n",
        "directory and copy dataset to it."
      ]
    },
    {
      "cell_type": "code",
      "source": [
        "!pip install -q kaggle\n",
        "!mkdir -p ~/.kaggle\n",
        "!cp kaggle.json ~/.kaggle/\n",
        "'chmod 600 /root/.kaggle/kaggle.json'\n",
        "!kaggle datasets download -d salader/dogs-vs-cats\n",
        "!unzip dogs-vs-cats.zip\n",
        "!rm -rf test train dogs-vs-cats.zip"
      ],
      "metadata": {
        "id": "YpC5qjjwQgwY"
      },
      "execution_count": null,
      "outputs": []
    },
    {
      "cell_type": "markdown",
      "source": [
        "# Reduce size of the dataset (optional)\n",
        "We reduce size of the dataset by removing the images from both train and test folders. Train images decreas from 10000 images to 50 and test images decreas from 2500 to 10 images to make the process faster (OBS: just for testing)."
      ],
      "metadata": {
        "id": "HiHkto4Jt8k2"
      }
    },
    {
      "cell_type": "code",
      "source": [
        "!ls -1 dogs_vs_cats/train/dogs/* | tail -n +1001 | xargs rm \n",
        "!ls -1 dogs_vs_cats/train/cats/* | tail -n +1001 | xargs rm\n",
        "\n",
        "!ls -1 dogs_vs_cats/test/dogs/* | tail -n +251 | xargs rm \n",
        "!ls -1 dogs_vs_cats/test/cats/* | tail -n +251 | xargs rm "
      ],
      "metadata": {
        "id": "Mju0dtqdtuZL"
      },
      "execution_count": 4,
      "outputs": []
    },
    {
      "cell_type": "markdown",
      "metadata": {
        "id": "lOjDv93eS5xV"
      },
      "source": [
        "# Set up variables\n",
        "\n",
        "There are some variables used to define a pipeline. You can customize these\n",
        "variables as you want. By default all output from the pipeline will be\n",
        "generated under the current directory."
      ]
    },
    {
      "cell_type": "code",
      "metadata": {
        "id": "aES7Hv5QTDK3",
        "colab": {
          "base_uri": "https://localhost:8080/"
        },
        "outputId": "bc3d35ea-1760-4ace-df73-74a2966808f4"
      },
      "source": [
        "_trainer_module_file = 'dogs_vs_cats_trainer.py'\n",
        "schema_path = 'schema' # create this directory and copy your generated schema here in order to use the Importer.\n",
        "\n",
        "data_root ='dogs_vs_cats'\n",
        "train_dir = os.path.join(data_root, 'train')\n",
        "validation_dir = os.path.join(data_root, 'test')\n",
        "\n",
        "train_cats_dir = os.path.join(train_dir, 'cats')  # directory with our training cat pictures\n",
        "train_dogs_dir = os.path.join(train_dir, 'dogs')  # directory with our training dog pictures\n",
        "validation_cats_dir = os.path.join(validation_dir, 'cats')  # directory with our validation cat pictures\n",
        "validation_dogs_dir = os.path.join(validation_dir, 'dogs')  # directory with our validation dog pictures\n",
        "\n",
        "num_cats_tr = len(os.listdir(train_cats_dir))\n",
        "num_dogs_tr = len(os.listdir(train_dogs_dir))\n",
        "\n",
        "num_cats_val = len(os.listdir(validation_cats_dir))\n",
        "num_dogs_val = len(os.listdir(validation_dogs_dir))\n",
        "\n",
        "total_train = num_cats_tr + num_dogs_tr\n",
        "total_val = num_cats_val + num_dogs_val\n",
        "\n",
        "IMG_HEIGHT = 150\n",
        "IMG_WIDTH = 150\n",
        "batch_size = 128\n",
        "PIPELINE_NAME = 'dogs_vs_cats_pipeline'\n",
        "PIPELINE_ROOT = os.path.join('pipelines', PIPELINE_NAME)\n",
        "SERVING_MODEL_DIR = os.path.join('serving_model', PIPELINE_NAME)\n",
        "METADATA_PATH = os.path.join('metadata', PIPELINE_NAME, 'cat&dog_md.db')\n",
        "\n",
        "\n",
        "print('total training cat images:', num_cats_tr)\n",
        "print('total training dog images:', num_dogs_tr)\n",
        "print('total validation cat images:', num_cats_val)\n",
        "print('total validation dog images:', num_dogs_val)\n",
        "print(\"--\")\n",
        "print(\"Total training images:\", total_train)\n",
        "print(\"Total validation images:\", total_val)"
      ],
      "execution_count": 12,
      "outputs": [
        {
          "output_type": "stream",
          "name": "stdout",
          "text": [
            "total training cat images: 1000\n",
            "total training dog images: 1000\n",
            "total validation cat images: 250\n",
            "total validation dog images: 250\n",
            "--\n",
            "Total training images: 2000\n",
            "Total validation images: 500\n"
          ]
        }
      ]
    },
    {
      "cell_type": "markdown",
      "metadata": {
        "id": "w3OkNz3gTLwM"
      },
      "source": [
        "# Conversion of image dataset to TFRecords\n",
        "\n",
        "We followed the instructions according [this](https://ai.plainenglish.io/a-quick-and-simple-guide-to-tfrecord-c421337a6562).\n"
      ]
    },
    {
      "cell_type": "code",
      "source": [
        "import tensorflow as tf\n",
        "import numpy as np\n",
        "import os\n",
        "from PIL import Image\n",
        "import random\n",
        "import cv2\n",
        "import matplotlib.pyplot as plt\n",
        "from io import BytesIO\n",
        "\n",
        "# Setup the train and test imgage directories\n",
        "train_dir = os.path.join(data_root, \"train\")\n",
        "test_dir = os.path.join(data_root, \"test\")\n",
        "\n",
        "# setup train and test TFRecord file\n",
        "train_tfrecord='train_data.tfrecords'\n",
        "test_tfrecord = 'test_data.tfrecords'\n",
        "\n",
        "# Define the name of folders of each class\n",
        "# We only have two classes in this case.\n",
        "folders=['dogs', 'cats']\n",
        "\n",
        "# List all train and test image path\n",
        "train_image_path=[]\n",
        "test_image_path=[]\n",
        "\n",
        "for i in range(len(folders)):\n",
        "    for file in os.listdir(os.path.join(train_dir, folders[i])):\n",
        "        train_image_path.append(os.path.join(train_dir, folders[i], file))\n",
        "    for file in os.listdir(os.path.join(test_dir, folders[i])):\n",
        "        test_image_path.append( os.path.join(test_dir, folders[i], file))\n",
        "\n",
        "\n",
        "print(\"Number of train images found: \", len(train_image_path))\n",
        "print(\"Number of test images found: \", len(test_image_path))\n",
        "\n",
        "# Shuffle the image paths for better accuracy and precision\n",
        "random.seed(0)\n",
        "random.shuffle(train_image_path)\n",
        "random.shuffle(test_image_path)\n",
        "\n",
        "# create train and test lables for shuffled image paths\n",
        "# 0 for cat and 1 for dog\n",
        "train_labels=[]\n",
        "test_labels=[]\n",
        "for i in range(len(train_image_path)):\n",
        "    if os.path.basename(train_image_path[i])[:3]=='cat':\n",
        "        train_labels.append(0)\n",
        "    else:\n",
        "        train_labels.append(1)\n",
        "\n",
        "for i in range(len(test_image_path)):\n",
        "    if os.path.basename(test_image_path[i])[:3]=='cat':\n",
        "        test_labels.append(0)\n",
        "    else:\n",
        "        test_labels.append(1)\n",
        "\n",
        "def _bytes_feature(value):\n",
        "    \"\"\"Returns a bytes_list from a string / byte.\"\"\"    \n",
        "    if isinstance(value, type(tf.constant(0))):\n",
        "        value = value.numpy()\n",
        "    return tf.train.Feature(bytes_list=tf.train.BytesList(value=[value]))\n",
        "def _int64_feature(value):\n",
        "    \"\"\"Returns an int64_list from a bool / enum / int / uint.\"\"\"\n",
        "    return tf.train.Feature(int64_list=tf.train.Int64List(value=[value]))\n",
        "def _float_feature(value):\n",
        "    \"\"\"Returns a float_list from a float / double.\"\"\"\n",
        "    return tf.train.Feature(float_list=tf.train.FloatList(value=[value]))\n",
        "\n",
        "def serialize_example(image_string, label):\n",
        "    ## Create a dictionary with features for images and their target labels\n",
        "    image_shape = tf.io.decode_jpeg(image_string).shape\n",
        "\n",
        "    feature = {\n",
        "      'height': _int64_feature(image_shape[0]),\n",
        "      'width': _int64_feature(image_shape[1]),\n",
        "      'depth': _int64_feature(image_shape[2]),\n",
        "      'label': _int64_feature(label),\n",
        "      'image_raw': _bytes_feature(image_string),\n",
        "    }\n",
        "    #  Create a Features message using tf.train.Example.\n",
        "    example_proto = tf.train.Example(features=tf.train.Features(feature=feature))\n",
        "    #serializes the message and returns it as a string. Note that the bytes are binary\n",
        "    return example_proto.SerializeToString()\n",
        "\n",
        "def write_TFRecord(image_path, label):\n",
        "    # Load the image and resize it\n",
        "    image = Image.open(image_path)\n",
        "    image = image.resize([IMG_HEIGHT, IMG_WIDTH])\n",
        "\n",
        "    # Convert the resized image to bytes\n",
        "    with BytesIO() as output:\n",
        "        image.save(output, format='JPEG')\n",
        "        image_bytes = output.getvalue()\n",
        "\n",
        "    # Serialize the example\n",
        "    example = serialize_example(image_bytes, label)\n",
        "    return example\n",
        "\n",
        "\n",
        "#Write Train TFRecord file\n",
        "with tf.io.TFRecordWriter(train_tfrecord) as writer:\n",
        "    for image_path, label in zip(train_image_path, train_labels):\n",
        "        writer.write(write_TFRecord(image_path, int(label)))\n",
        "#Write Test TFRecord file\n",
        "with tf.io.TFRecordWriter(test_tfrecord) as writer:\n",
        "    for image_path, label in zip(test_image_path, test_labels):\n",
        "         writer.write(write_TFRecord(image_path, int(label)))"
      ],
      "metadata": {
        "id": "BN00rTsiyvV7",
        "colab": {
          "base_uri": "https://localhost:8080/"
        },
        "outputId": "7f22d470-7080-4911-caa5-6780b0021b89"
      },
      "execution_count": 111,
      "outputs": [
        {
          "output_type": "stream",
          "name": "stdout",
          "text": [
            "Number of train images found:  2000\n",
            "Number of test images found:  500\n"
          ]
        }
      ]
    },
    {
      "cell_type": "code",
      "source": [
        "with tf.io.TFRecordWriter(train_tfrecord) as writer:\n",
        "    for image_path, label in zip(train_image_path, train_labels):\n",
        "      writer.write(write_TFRecord(image_path, 3))\n",
        "      break"
      ],
      "metadata": {
        "id": "e3dNy_-VnSij"
      },
      "execution_count": null,
      "outputs": []
    },
    {
      "cell_type": "code",
      "source": [
        "!rm -rf dataset\n",
        "!mkdir dataset\n",
        "!mkdir dataset/train\n",
        "!mkdir dataset/test\n",
        "!mv train_data.tfrecords dataset/train\n",
        "!mv test_data.tfrecords dataset/test"
      ],
      "metadata": {
        "id": "VXBCczk-wx_N"
      },
      "execution_count": 112,
      "outputs": []
    },
    {
      "cell_type": "markdown",
      "source": [
        "#Pipeline Definition\n",
        "We define the ML pipeline here. The components of the pipeline are: ImportExampleGen for ingesting the images into the pipeline, StatisticsGen and SchemaGen. \n",
        "\n",
        "For ingesting the image dataset into the pipeline, we got help from this github repository [github](https://github.com/tensorflow/tfx/blob/master/tfx/examples/cifar10/cifar10_pipeline_native_keras.py)"
      ],
      "metadata": {
        "id": "AX5ocD1FYI_H"
      }
    },
    {
      "cell_type": "code",
      "metadata": {
        "id": "M49yYVNBTPd4"
      },
      "source": [
        "from tfx.components.example_gen.component import FileBasedExampleGen\n",
        "from tfx.dsl.components.base import executor_spec\n",
        "from tfx.components.example_gen.csv_example_gen import executor\n",
        "from tfx.dsl.components.base.base_executor import BaseExecutor\n",
        "from tfx.proto import example_gen_pb2\n",
        "from tfx.components import ImportExampleGen\n",
        "from tfx.proto import trainer_pb2\n",
        "\n",
        "def _create_pipeline(pipeline_name: str, pipeline_root: str,\n",
        "                     module_file: str, serving_model_dir: str,\n",
        "                     metadata_path: str) -> tfx.dsl.Pipeline:\n",
        "  print(\"Pipeline creation is running...\\n\\n\\n\")\n",
        "\n",
        "  \"\"\"Creates a three component penguin pipeline with TFX.\"\"\"\n",
        " \n",
        "  input_config = example_gen_pb2.Input(splits=[\n",
        "      example_gen_pb2.Input.Split(name='train', pattern='train/*'),\n",
        "      example_gen_pb2.Input.Split(name='eval', pattern='test/*')\n",
        "  ])\n",
        "  #EXAMPLE_GEN\n",
        "  # Brings data into the pipeline.\n",
        "  example_gen = ImportExampleGen(\n",
        "      input_base='/content/dataset', input_config=input_config)\n",
        "\n",
        "  # STATISTICS_GEN\n",
        "  # Computes statistics over data for visualization and schema generation.\n",
        "  statistics_gen = tfx.components.StatisticsGen(\n",
        "      examples=example_gen.outputs['examples'])\n",
        "  \n",
        "  # ALTERNATIVE 1 (Schema_Gen):\n",
        "  # In case you do have not generated schema, opt for this method.\n",
        "  # Generates schema based on the generated statistics.\n",
        "  # schema_gen = tfx.components.SchemaGen(\n",
        "  #     statistics=statistics_gen.outputs['statistics'], infer_feature_shape=True)\n",
        "  \n",
        "  # ALTERNATIVE 2 (Importer):\n",
        "  # In case you have generated schema before, opt for this alternative.\n",
        "  # Import the schema.\n",
        "  schema_importer = tfx.dsl.Importer(\n",
        "      source_uri = schema_path,\n",
        "      artifact_type = tfx.types.standard_artifacts.Schema).with_id(\n",
        "          'schema_importer')\n",
        "\n",
        "  #Performs anomaly detection based on statistics and data schema.\n",
        "  example_validator = tfx.components.ExampleValidator(\n",
        "      statistics=statistics_gen.outputs['statistics'],\n",
        "      # schema = schema_gen.outputs['schema'] # ALTERNATIVE 1\n",
        "      schema=schema_importer.outputs['result'] # ALTERNATIVE 2\n",
        "  )\n",
        "\n",
        "\n",
        "  # Performs transformations and feature engineering in training and serving.\n",
        "  transform = tfx.components.Transform(\n",
        "      examples=example_gen.outputs['examples'],\n",
        "      schema=schema_importer.outputs['result'],\n",
        "      # schema=schema_gen.outputs['schema'],\n",
        "      module_file=module_file)\n",
        "  \n",
        "\n",
        "  # Uses user-provided Python function that trains a model.\n",
        "  trainer = tfx.components.Trainer(\n",
        "      module_file=module_file,\n",
        "      # examples=example_gen.outputs['examples'],\n",
        "      examples=transform.outputs['transformed_examples'],\n",
        "      transform_graph=transform.outputs['transform_graph'],\n",
        "      # schema= schema_gen.outputs['schema'], # ALTERNATIVE 1\n",
        "      schema=schema_importer.outputs['result'], # ALTERNATIVE 2\n",
        "      )\n",
        "  \n",
        "  # Pushes the model to a filesystem destination.\n",
        "  pusher = tfx.components.Pusher(\n",
        "      model=trainer.outputs['model'],\n",
        "      push_destination=tfx.proto.PushDestination(\n",
        "          filesystem=tfx.proto.PushDestination.Filesystem(\n",
        "              base_directory=serving_model_dir)))\n",
        "  \n",
        "  # Following three components will be included in the pipeline.\n",
        "  components = [\n",
        "      example_gen,\n",
        "      statistics_gen,\n",
        "      # schema_gen, # ALTERNATIVE 1\n",
        "      schema_importer, # ALTERNATIVE 2\n",
        "      example_validator,\n",
        "      transform,\n",
        "      trainer,\n",
        "      pusher,\n",
        "  ]\n",
        "\n",
        "  return tfx.dsl.Pipeline(\n",
        "      pipeline_name=pipeline_name,\n",
        "      pipeline_root=pipeline_root,\n",
        "      metadata_connection_config=tfx.orchestration.metadata\n",
        "      .sqlite_metadata_connection_config(metadata_path),\n",
        "      components=components)"
      ],
      "execution_count": 113,
      "outputs": []
    },
    {
      "cell_type": "code",
      "source": [
        "\n",
        "\n",
        "import tensorflow as tf\n",
        "from tfx import v1 as tfx\n",
        "import matplotlib.pyplot as plt\n",
        "import tensorflow_transform as tft\n",
        "from tfx_bsl.tfxio import dataset_options\n",
        "import os\n",
        "import gzip\n",
        "from typing import List\n",
        "from tensorflow_metadata.proto.v0 import schema_pb2\n",
        "from tfx import v1 as tfx\n",
        "from tfx_bsl.public import tfxio\n",
        "from tensorflow_transform.tf_metadata import schema_utils\n",
        "\n",
        "_IMAGE_KEY = 'image_raw'\n",
        "_LABEL_KEY = 'label'\n",
        "IMG_HEIGHT = 150\n",
        "IMG_WIDTH = 150\n",
        "batch_size = 128\n",
        "\n",
        "_TRAIN_DATA_SIZE = 2000\n",
        "_TEST_DATA_SIZE = 500\n",
        "\n",
        "\n",
        "def _transformed_name(key):\n",
        "  return key + '_xf'\n",
        "\n",
        "# TFX Transform will call this function.\n",
        "def preprocessing_fn(inputs):\n",
        "  \"\"\"tf.transform's callback function for preprocessing inputs.\n",
        "  Args:\n",
        "    inputs: map from feature keys to raw not-yet-transformed features.\n",
        "  Returns:\n",
        "    Map from string feature key to transformed feature operations.\n",
        "  \"\"\"\n",
        "  outputs = {}\n",
        "\n",
        "  image_features = tf.map_fn(\n",
        "      lambda x: tf.io.decode_jpeg(x[0], channels=3),\n",
        "      inputs[_IMAGE_KEY],\n",
        "      dtype=tf.uint8)\n",
        "  \n",
        "  #image_features = tf.cast(image_features, tf.float32)\n",
        "  image_features = tf.image.resize(image_features, [IMG_HEIGHT, IMG_WIDTH])\n",
        "  # Normalize the image features\n",
        "  # image_features = image_features / 255.0\n",
        "\n",
        "  image_features = tf.keras.applications.mobilenet.preprocess_input(\n",
        "     image_features)\n",
        "\n",
        "  outputs[_transformed_name(_IMAGE_KEY)] = image_features\n",
        "  outputs[_transformed_name(_LABEL_KEY)] = inputs[_LABEL_KEY]\n",
        "  \n",
        "  return outputs\n",
        "\n",
        "\n",
        "# Define a function to parse the tfrecord dataset\n",
        "def _parse_function(features, label):\n",
        "   image = features[_transformed_name(_IMAGE_KEY)]\n",
        "   return image, label\n",
        "\n",
        "def _input_fn(file_pattern: List[str],\n",
        "              data_accessor: tfx.components.DataAccessor,\n",
        "              tf_transform_output: tft.TFTransformOutput,\n",
        "              batch_size: int = 128) -> tf.data.Dataset:\n",
        "  \"\"\"Generates features and label for training.\n",
        "\n",
        "  Args:\n",
        "    file_pattern: List of paths or patterns of input tfrecord files.\n",
        "    data_accessor: DataAccessor for converting input to RecordBatch.\n",
        "    schema: schema of the input data.\n",
        "    batch_size: representing the number of consecutive elements of returned\n",
        "      dataset to combine in a single batch\n",
        "\n",
        "  Returns:\n",
        "    A dataset that contains (features, indices) tuple where features is a\n",
        "      dictionary of Tensors, and indices is a single Tensor of label indices.\n",
        "  \"\"\"  \n",
        "  dataset = data_accessor.tf_dataset_factory(\n",
        "      file_pattern,\n",
        "      dataset_options.TensorFlowDatasetOptions(\n",
        "          batch_size=batch_size, label_key=_transformed_name(_LABEL_KEY)),\n",
        "      tf_transform_output.transformed_metadata.schema)\n",
        "  \n",
        "  return dataset\n",
        "\n",
        "# TFX Trainer will call this function.\n",
        "def run_fn(fn_args: tfx.components.FnArgs):\n",
        "    \n",
        "    print(\"\\n\\n\\n Trainer component is running ... \\n\\n\\n\")\n",
        "\n",
        "    epochs = 5\n",
        "    #Create the model\n",
        "    model = tf.keras.models.Sequential([\n",
        "        tf.keras.layers.Conv2D(32, 3, padding='same', activation='relu', input_shape=(IMG_HEIGHT, IMG_WIDTH, 3)),\n",
        "        tf.keras.layers.Conv2D(32, 3, padding='same', activation='relu'),\n",
        "        tf.keras.layers.MaxPooling2D(),\n",
        "\n",
        "        tf.keras.layers.Conv2D(64, 3, padding='same', activation='relu'),\n",
        "        tf.keras.layers.Conv2D(64, 3, padding='same', activation='relu'),\n",
        "        tf.keras.layers.MaxPooling2D(),\n",
        "\n",
        "        tf.keras.layers.Conv2D(128, 3, padding='same', activation='relu'),\n",
        "        tf.keras.layers.Conv2D(128, 3, padding='same', activation='relu'),\n",
        "        tf.keras.layers.MaxPooling2D(),\n",
        "\n",
        "        tf.keras.layers.Flatten(),\n",
        "        tf.keras.layers.Dense(256, activation='relu'),\n",
        "        tf.keras.layers.Dropout(0.5),\n",
        "        tf.keras.layers.Dense(256, activation='relu'),\n",
        "        tf.keras.layers.Dropout(0.5),\n",
        "        tf.keras.layers.Dense(1, activation='sigmoid')\n",
        "    ])\n",
        "\n",
        "    # Compile the model\n",
        "    model.compile(optimizer='adam',\n",
        "              loss=tf.keras.losses.BinaryCrossentropy(),\n",
        "              metrics=['accuracy'])\n",
        " \n",
        "    # Print a summary of the model\n",
        "    model.summary()\n",
        "\n",
        "    tf_transform_output = tft.TFTransformOutput(fn_args.transform_output)\n",
        " \n",
        "    train_ds = _input_fn(\n",
        "      fn_args.train_files,\n",
        "      fn_args.data_accessor,\n",
        "      tf_transform_output,\n",
        "      batch_size=batch_size)\n",
        "    \n",
        "    train_ds = train_ds.map(_parse_function)\n",
        "\n",
        "    eval_ds = _input_fn(\n",
        "      fn_args.eval_files,\n",
        "      fn_args.data_accessor,\n",
        "      tf_transform_output,\n",
        "      batch_size=batch_size)\n",
        "    \n",
        "    eval_ds = eval_ds.map(_parse_function)\n",
        "\n",
        "    steps_per_epoch = int(_TRAIN_DATA_SIZE / batch_size)\n",
        "    validation_steps = int(_TEST_DATA_SIZE / batch_size)\n",
        "\n",
        "    # Train our model\n",
        "    history = model.fit(train_ds,\n",
        "                        epochs=epochs,\n",
        "                        validation_data=eval_ds, \n",
        "                        steps_per_epoch=steps_per_epoch, \n",
        "                        validation_steps=validation_steps)\n",
        "\n",
        "    acc = history.history['accuracy']\n",
        "    val_acc = history.history['val_accuracy']\n",
        "\n",
        "    loss = history.history['loss']\n",
        "    val_loss = history.history['val_loss']\n",
        "\n",
        "    epochs_range = range(epochs)\n",
        "\n",
        "    plt.figure(figsize=(8, 8))\n",
        "    plt.subplot(1, 2, 1)\n",
        "    plt.plot(epochs_range, acc, label='Training Accuracy')\n",
        "    plt.plot(epochs_range, val_acc, label='Validation Accuracy')\n",
        "    plt.legend(loc='lower right')\n",
        "    plt.title('Training and Validation Accuracy')\n",
        "\n",
        "    plt.subplot(1, 2, 2)\n",
        "    plt.plot(epochs_range, loss, label='Training Loss')\n",
        "    plt.plot(epochs_range, val_loss, label='Validation Loss')\n",
        "    plt.legend(loc='upper right')\n",
        "    plt.title('Training and Validation Loss')\n",
        "    plt.show()\n",
        "\n",
        "    # The result of the training should be saved in `fn_args.serving_model_dir`\n",
        "    # directory.\n",
        "    model.save(fn_args.serving_model_dir, save_format='tf')"
      ],
      "metadata": {
        "colab": {
          "base_uri": "https://localhost:8080/"
        },
        "id": "FuLII9u_It23",
        "outputId": "3c68fc8f-1f22-4e7e-aae2-40ecb39df0b2"
      },
      "execution_count": 116,
      "outputs": [
        {
          "output_type": "stream",
          "name": "stdout",
          "text": [
            "Overwriting dogs_vs_cats_trainer.py\n"
          ]
        }
      ]
    },
    {
      "cell_type": "markdown",
      "metadata": {
        "id": "mJbq07THU2GV"
      },
      "source": [
        "# Run the pipeline\n",
        "\n",
        "TFX supports multiple orchestrators to run pipelines.\n",
        "In this tutorial we will use `LocalDagRunner` which is included in the TFX\n",
        "Python package and runs pipelines on local environment.\n",
        "We often call TFX pipelines \"DAGs\" which stands for directed acyclic graph.\n",
        "\n",
        "`LocalDagRunner` provides fast iterations for development and debugging.\n",
        "TFX also supports other orchestrators including Kubeflow Pipelines and Apache\n",
        "Airflow which are suitable for production use cases.\n",
        "\n",
        "See\n",
        "[TFX on Cloud AI Platform Pipelines](https://www.tensorflow.org/tfx/tutorials/tfx/cloud-ai-platform-pipelines)\n",
        "or\n",
        "[TFX Airflow Tutorial](https://www.tensorflow.org/tfx/tutorials/tfx/airflow_workshop)\n",
        "to learn more about other orchestration systems."
      ]
    },
    {
      "cell_type": "markdown",
      "metadata": {
        "id": "7mp0AkmrPdUb"
      },
      "source": [
        "Now we create a `LocalDagRunner` and pass a `Pipeline` object created from the\n",
        "function we already defined.\n",
        "\n",
        "The pipeline runs directly and you can see logs for the progress of the pipeline including ML model training."
      ]
    },
    {
      "cell_type": "code",
      "metadata": {
        "id": "fAtfOZTYWJu-",
        "colab": {
          "base_uri": "https://localhost:8080/",
          "height": 1000
        },
        "outputId": "350d2bd9-be65-45c4-c622-4d4d5e996d43"
      },
      "source": [
        "tfx.orchestration.LocalDagRunner().run(\n",
        "  _create_pipeline(\n",
        "      pipeline_name=PIPELINE_NAME,\n",
        "      pipeline_root=PIPELINE_ROOT,\n",
        "      module_file=_trainer_module_file,\n",
        "      serving_model_dir=SERVING_MODEL_DIR,\n",
        "      metadata_path=METADATA_PATH))"
      ],
      "execution_count": 117,
      "outputs": [
        {
          "output_type": "stream",
          "name": "stdout",
          "text": [
            "Pipeline creation is running...\n",
            "\n",
            "\n",
            "\n"
          ]
        },
        {
          "output_type": "stream",
          "name": "stderr",
          "text": [
            "WARNING:absl:ArtifactQuery.property_predicate is not supported.\n",
            "WARNING:absl:ArtifactQuery.property_predicate is not supported.\n",
            "WARNING:absl:ArtifactQuery.property_predicate is not supported.\n",
            "WARNING:root:This output type hint will be ignored and not used for type-checking purposes. Typically, output type hints for a PTransform are single (or nested) types wrapped by a PCollection, PDone, or None. Got: Tuple[Dict[<class 'str'>, Union[<class 'NoneType'>, <class 'tfx.components.transform.executor._Dataset'>]], Union[<class 'NoneType'>, Dict[<class 'str'>, Dict[<class 'str'>, <class 'apache_beam.pvalue.PCollection'>]]], <class 'int'>] instead.\n"
          ]
        },
        {
          "output_type": "stream",
          "name": "stdout",
          "text": [
            "{'image_raw_xf': <tf.Tensor 'sub:0' shape=(None, 150, 150, 3) dtype=float32>, 'label_xf': <tf.Tensor 'inputs_3_copy:0' shape=(None, 1) dtype=int64>}\n",
            "{'image_raw_xf': <tf.Tensor 'sub:0' shape=(None, 150, 150, 3) dtype=float32>, 'label_xf': <tf.Tensor 'inputs_3_copy:0' shape=(None, 1) dtype=int64>}\n",
            "{'image_raw_xf': <tf.Tensor 'sub:0' shape=(None, 150, 150, 3) dtype=float32>, 'label_xf': <tf.Tensor 'inputs_3_copy:0' shape=(None, 1) dtype=int64>}\n"
          ]
        },
        {
          "output_type": "stream",
          "name": "stderr",
          "text": [
            "WARNING:root:This output type hint will be ignored and not used for type-checking purposes. Typically, output type hints for a PTransform are single (or nested) types wrapped by a PCollection, PDone, or None. Got: Tuple[Dict[<class 'str'>, Union[<class 'NoneType'>, <class 'tfx.components.transform.executor._Dataset'>]], Union[<class 'NoneType'>, Dict[<class 'str'>, Dict[<class 'str'>, <class 'apache_beam.pvalue.PCollection'>]]], <class 'int'>] instead.\n"
          ]
        },
        {
          "output_type": "stream",
          "name": "stdout",
          "text": [
            "{'image_raw_xf': <tf.Tensor 'sub:0' shape=(None, 150, 150, 3) dtype=float32>, 'label_xf': <tf.Tensor 'inputs_3_copy:0' shape=(None, 1) dtype=int64>}\n",
            "{'image_raw_xf': <tf.Tensor 'sub:0' shape=(None, 150, 150, 3) dtype=float32>, 'label_xf': <tf.Tensor 'inputs_3_copy:0' shape=(None, 1) dtype=int64>}\n",
            "{'image_raw_xf': <tf.Tensor 'sub:0' shape=(None, 150, 150, 3) dtype=float32>, 'label_xf': <tf.Tensor 'inputs_3_copy:0' shape=(None, 1) dtype=int64>}\n",
            "{'image_raw_xf': <tf.Tensor 'sub:0' shape=(None, 150, 150, 3) dtype=float32>, 'label_xf': <tf.Tensor 'PlaceholderWithDefault_3:0' shape=(None, 1) dtype=int64>}\n",
            "{'image_raw_xf': <tf.Tensor 'sub:0' shape=(None, 150, 150, 3) dtype=float32>, 'label_xf': <tf.Tensor 'inputs_3_copy:0' shape=(None, 1) dtype=int64>}\n",
            "{'image_raw_xf': <tf.Tensor 'sub:0' shape=(None, 150, 150, 3) dtype=float32>, 'label_xf': <tf.Tensor 'PlaceholderWithDefault_3:0' shape=(None, 1) dtype=int64>}\n"
          ]
        },
        {
          "output_type": "stream",
          "name": "stderr",
          "text": [
            "WARNING:absl:ArtifactQuery.property_predicate is not supported.\n",
            "WARNING:absl:ArtifactQuery.property_predicate is not supported.\n",
            "WARNING:absl:ArtifactQuery.property_predicate is not supported.\n",
            "WARNING:absl:ArtifactQuery.property_predicate is not supported.\n",
            "WARNING:absl:ArtifactQuery.property_predicate is not supported.\n",
            "WARNING:absl:Examples artifact does not have payload_format custom property. Falling back to FORMAT_TF_EXAMPLE\n",
            "WARNING:absl:Examples artifact does not have payload_format custom property. Falling back to FORMAT_TF_EXAMPLE\n",
            "WARNING:absl:Examples artifact does not have payload_format custom property. Falling back to FORMAT_TF_EXAMPLE\n"
          ]
        },
        {
          "output_type": "stream",
          "name": "stdout",
          "text": [
            "\n",
            "\n",
            "\n",
            " Trainer component is running ... \n",
            "\n",
            "\n",
            "\n",
            "Model: \"sequential_7\"\n",
            "_________________________________________________________________\n",
            " Layer (type)                Output Shape              Param #   \n",
            "=================================================================\n",
            " conv2d_42 (Conv2D)          (None, 150, 150, 32)      896       \n",
            "                                                                 \n",
            " conv2d_43 (Conv2D)          (None, 150, 150, 32)      9248      \n",
            "                                                                 \n",
            " max_pooling2d_21 (MaxPoolin  (None, 75, 75, 32)       0         \n",
            " g2D)                                                            \n",
            "                                                                 \n",
            " conv2d_44 (Conv2D)          (None, 75, 75, 64)        18496     \n",
            "                                                                 \n",
            " conv2d_45 (Conv2D)          (None, 75, 75, 64)        36928     \n",
            "                                                                 \n",
            " max_pooling2d_22 (MaxPoolin  (None, 37, 37, 64)       0         \n",
            " g2D)                                                            \n",
            "                                                                 \n",
            " conv2d_46 (Conv2D)          (None, 37, 37, 128)       73856     \n",
            "                                                                 \n",
            " conv2d_47 (Conv2D)          (None, 37, 37, 128)       147584    \n",
            "                                                                 \n",
            " max_pooling2d_23 (MaxPoolin  (None, 18, 18, 128)      0         \n",
            " g2D)                                                            \n",
            "                                                                 \n",
            " flatten_7 (Flatten)         (None, 41472)             0         \n",
            "                                                                 \n",
            " dense_21 (Dense)            (None, 256)               10617088  \n",
            "                                                                 \n",
            " dropout_14 (Dropout)        (None, 256)               0         \n",
            "                                                                 \n",
            " dense_22 (Dense)            (None, 256)               65792     \n",
            "                                                                 \n",
            " dropout_15 (Dropout)        (None, 256)               0         \n",
            "                                                                 \n",
            " dense_23 (Dense)            (None, 1)                 257       \n",
            "                                                                 \n",
            "=================================================================\n",
            "Total params: 10,970,145\n",
            "Trainable params: 10,970,145\n",
            "Non-trainable params: 0\n",
            "_________________________________________________________________\n",
            "<PrefetchDataset element_spec=({'image_raw_xf': TensorSpec(shape=(128, 150, 150, 3), dtype=tf.float32, name=None)}, TensorSpec(shape=(128, 1), dtype=tf.int64, name=None))>\n",
            "<MapDataset element_spec=(TensorSpec(shape=(128, 150, 150, 3), dtype=tf.float32, name=None), TensorSpec(shape=(128, 1), dtype=tf.int64, name=None))>\n",
            "Epoch 1/5\n",
            "15/15 [==============================] - 495s 32s/step - loss: 0.7149 - accuracy: 0.5083 - val_loss: 0.6916 - val_accuracy: 0.5339\n",
            "Epoch 2/5\n",
            "15/15 [==============================] - 475s 32s/step - loss: 0.6855 - accuracy: 0.5437 - val_loss: 0.6827 - val_accuracy: 0.5781\n",
            "Epoch 3/5\n",
            "15/15 [==============================] - 471s 31s/step - loss: 0.6692 - accuracy: 0.5917 - val_loss: 0.6283 - val_accuracy: 0.6432\n",
            "Epoch 4/5\n",
            "15/15 [==============================] - 439s 30s/step - loss: 0.6522 - accuracy: 0.6161 - val_loss: 0.6573 - val_accuracy: 0.5651\n",
            "Epoch 5/5\n",
            "15/15 [==============================] - 467s 31s/step - loss: 0.6337 - accuracy: 0.6344 - val_loss: 0.6046 - val_accuracy: 0.6641\n"
          ]
        },
        {
          "output_type": "display_data",
          "data": {
            "text/plain": [
              "<Figure size 800x800 with 2 Axes>"
            ],
            "image/png": "[encoded data removed]"
          },
          "metadata": {}
        },
        {
          "output_type": "stream",
          "name": "stderr",
          "text": [
            "WARNING:absl:Found untraced functions such as _jit_compiled_convolution_op, _jit_compiled_convolution_op, _jit_compiled_convolution_op, _jit_compiled_convolution_op, _jit_compiled_convolution_op while saving (showing 5 of 7). These functions will not be directly callable after loading.\n",
            "WARNING:absl:ArtifactQuery.property_predicate is not supported.\n",
            "WARNING:absl:Pusher is going to push the model without validation. Consider using Evaluator or InfraValidator in your pipeline.\n"
          ]
        }
      ]
    },
    {
      "cell_type": "markdown",
      "metadata": {
        "id": "ppERq0Mj6xvW"
      },
      "source": [
        "You should see \"INFO:absl:Component Pusher is finished.\" at the end of the\n",
        "logs if the pipeline finished successfully. Because `Pusher` component is the\n",
        "last component of the pipeline.\n",
        "\n",
        "The pusher component pushes the trained model to the `SERVING_MODEL_DIR` which\n",
        "is the `serving_model/penguin-simple` directory if you did not change the\n",
        "variables in the previous steps. You can see the result from the file browser\n",
        "in the left-side panel in Colab, or using the following command:"
      ]
    },
    {
      "cell_type": "markdown",
      "source": [
        "# Review outputs of the pipeline"
      ],
      "metadata": {
        "id": "vmsWODOJumiB"
      }
    },
    {
      "cell_type": "code",
      "source": [
        "from ml_metadata.proto import metadata_store_pb2\n",
        "# Non-public APIs, just for showcase.\n",
        "from tfx.orchestration.portable.mlmd import execution_lib\n",
        "\n",
        "# TODO(b/171447278): Move these functions into the TFX library.\n",
        "\n",
        "def get_latest_artifacts(metadata, pipeline_name, component_id):\n",
        "  \"\"\"Output artifacts of the latest run of the component.\"\"\"\n",
        "  context = metadata.store.get_context_by_type_and_name(\n",
        "      'node', f'{pipeline_name}.{component_id}')\n",
        "  executions = metadata.store.get_executions_by_context(context.id)\n",
        "  latest_execution = max(executions,\n",
        "                         key=lambda e:e.last_update_time_since_epoch)\n",
        "  return execution_lib.get_output_artifacts(metadata, latest_execution.id)\n",
        "\n",
        "# Non-public APIs, just for showcase.\n",
        "from tfx.orchestration.experimental.interactive import visualizations\n",
        "\n",
        "def visualize_artifacts(artifacts):\n",
        "  \"\"\"Visualizes artifacts using standard visualization modules.\"\"\"\n",
        "  for artifact in artifacts:\n",
        "    visualization = visualizations.get_registry().get_visualization(\n",
        "        artifact.type_name)\n",
        "    if visualization:\n",
        "      visualization.display(artifact)\n",
        "\n",
        "from tfx.orchestration.experimental.interactive import standard_visualizations\n",
        "standard_visualizations.register_standard_visualizations()"
      ],
      "metadata": {
        "id": "Q2Jj1q6Dqeaf"
      },
      "execution_count": 118,
      "outputs": []
    },
    {
      "cell_type": "code",
      "source": [
        "# Non-public APIs, just for showcase.\n",
        "from tfx.orchestration.metadata import Metadata\n",
        "from tfx.types import standard_component_specs\n",
        "\n",
        "metadata_connection_config = tfx.orchestration.metadata.sqlite_metadata_connection_config(\n",
        "    METADATA_PATH)\n",
        "\n",
        "with Metadata(metadata_connection_config) as metadata_handler:\n",
        "  # Find output artifacts from MLMD.\n",
        "  stat_gen_output = get_latest_artifacts(metadata_handler, PIPELINE_NAME,\n",
        "                                         'StatisticsGen')\n",
        "  stats_artifacts = stat_gen_output[standard_component_specs.STATISTICS_KEY]\n",
        "\n",
        "  schema_gen_output = get_latest_artifacts(metadata_handler,\n",
        "                                           PIPELINE_NAME, 'SchemaGen')\n",
        "  schema_artifacts = schema_gen_output[standard_component_specs.SCHEMA_KEY]"
      ],
      "metadata": {
        "id": "bcSdsmw_qgm7"
      },
      "execution_count": 119,
      "outputs": []
    },
    {
      "cell_type": "code",
      "source": [
        "#@title\n",
        "# docs-infra: no-execute\n",
        "visualize_artifacts(stats_artifacts)"
      ],
      "metadata": {
        "colab": {
          "base_uri": "https://localhost:8080/",
          "height": 1000
        },
        "id": "YsC3XexSqjL0",
        "outputId": "08ee07d8-14fa-456d-cd21-d01ca554f91c",
        "collapsed": true
      },
      "execution_count": 120,
      "outputs": [
        {
          "output_type": "display_data",
          "data": {
            "text/plain": [
              "<IPython.core.display.HTML object>"
            ],
            "text/html": [
              "<style>html[theme=dark] iframe {background: white;}</style>"
            ]
          },
          "metadata": {}
        },
        {
          "output_type": "display_data",
          "data": {
            "text/plain": [
              "<IPython.core.display.HTML object>"
            ],
            "text/html": [
              "<div><b>'train' split:</b></div><br/>"
            ]
          },
          "metadata": {}
        },
        {
          "output_type": "display_data",
          "data": {
            "text/plain": [
              "<IPython.core.display.HTML object>"
            ],
            "text/html": [
              "<iframe id='facets-iframe' width=\"100%\" height=\"500px\"></iframe>\n",
              "        <script>\n",
              "        facets_iframe = document.getElementById('facets-iframe');\n",
              "        facets_html = '<script src=\"https://cdnjs.cloudflare.com/ajax/libs/webcomponentsjs/1.3.3/webcomponents-lite.js\"><\\/script><link rel=\"import\" href=\"https://raw.githubusercontent.com/PAIR-code/facets/master/facets-dist/facets-jupyter.html\"><facets-overview proto-input=\"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\"></facets-overview>';\n",
              "        facets_iframe.srcdoc = facets_html;\n",
              "         facets_iframe.id = \"\";\n",
              "         setTimeout(() => {\n",
              "           facets_iframe.setAttribute('height', facets_iframe.contentWindow.document.body.offsetHeight + 'px')\n",
              "         }, 1500)\n",
              "         </script>"
            ]
          },
          "metadata": {}
        },
        {
          "output_type": "display_data",
          "data": {
            "text/plain": [
              "<IPython.core.display.HTML object>"
            ],
            "text/html": [
              "<div><b>'eval' split:</b></div><br/>"
            ]
          },
          "metadata": {}
        },
        {
          "output_type": "display_data",
          "data": {
            "text/plain": [
              "<IPython.core.display.HTML object>"
            ],
            "text/html": [
              "<iframe id='facets-iframe' width=\"100%\" height=\"500px\"></iframe>\n",
              "        <script>\n",
              "        facets_iframe = document.getElementById('facets-iframe');\n",
              "        facets_html = '<script src=\"https://cdnjs.cloudflare.com/ajax/libs/webcomponentsjs/1.3.3/webcomponents-lite.js\"><\\/script><link rel=\"import\" href=\"https://raw.githubusercontent.com/PAIR-code/facets/master/facets-dist/facets-jupyter.html\"><facets-overview proto-input=\"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\"></facets-overview>';\n",
              "        facets_iframe.srcdoc = facets_html;\n",
              "         facets_iframe.id = \"\";\n",
              "         setTimeout(() => {\n",
              "           facets_iframe.setAttribute('height', facets_iframe.contentWindow.document.body.offsetHeight + 'px')\n",
              "         }, 1500)\n",
              "         </script>"
            ]
          },
          "metadata": {}
        }
      ]
    },
    {
      "cell_type": "code",
      "source": [
        "visualize_artifacts(schema_artifacts)"
      ],
      "metadata": {
        "colab": {
          "base_uri": "https://localhost:8080/",
          "height": 238
        },
        "id": "lydLeK2ZshdB",
        "outputId": "4b428a26-d442-4613-8ff8-01a4c73af9b2"
      },
      "execution_count": 127,
      "outputs": [
        {
          "output_type": "display_data",
          "data": {
            "text/plain": [
              "               Type  Presence Valency Domain\n",
              "Feature name                                \n",
              "'depth'         INT  required              -\n",
              "'height'        INT  required              -\n",
              "'image_raw'   BYTES  required              -\n",
              "'label'         INT  required              -\n",
              "'width'         INT  required              -"
            ],
            "text/html": [
              "\n",
              "  <div id=\"df-39af50c6-08a7-4690-a6c6-ae0ff6deb6e1\">\n",
              "    <div class=\"colab-df-container\">\n",
              "      <div>\n",
              "<style scoped>\n",
              "    .dataframe tbody tr th:only-of-type {\n",
              "        vertical-align: middle;\n",
              "    }\n",
              "\n",
              "    .dataframe tbody tr th {\n",
              "        vertical-align: top;\n",
              "    }\n",
              "\n",
              "    .dataframe thead th {\n",
              "        text-align: right;\n",
              "    }\n",
              "</style>\n",
              "<table border=\"1\" class=\"dataframe\">\n",
              "  <thead>\n",
              "    <tr style=\"text-align: right;\">\n",
              "      <th></th>\n",
              "      <th>Type</th>\n",
              "      <th>Presence</th>\n",
              "      <th>Valency</th>\n",
              "      <th>Domain</th>\n",
              "    </tr>\n",
              "    <tr>\n",
              "      <th>Feature name</th>\n",
              "      <th></th>\n",
              "      <th></th>\n",
              "      <th></th>\n",
              "      <th></th>\n",
              "    </tr>\n",
              "  </thead>\n",
              "  <tbody>\n",
              "    <tr>\n",
              "      <th>'depth'</th>\n",
              "      <td>INT</td>\n",
              "      <td>required</td>\n",
              "      <td></td>\n",
              "      <td>-</td>\n",
              "    </tr>\n",
              "    <tr>\n",
              "      <th>'height'</th>\n",
              "      <td>INT</td>\n",
              "      <td>required</td>\n",
              "      <td></td>\n",
              "      <td>-</td>\n",
              "    </tr>\n",
              "    <tr>\n",
              "      <th>'image_raw'</th>\n",
              "      <td>BYTES</td>\n",
              "      <td>required</td>\n",
              "      <td></td>\n",
              "      <td>-</td>\n",
              "    </tr>\n",
              "    <tr>\n",
              "      <th>'label'</th>\n",
              "      <td>INT</td>\n",
              "      <td>required</td>\n",
              "      <td></td>\n",
              "      <td>-</td>\n",
              "    </tr>\n",
              "    <tr>\n",
              "      <th>'width'</th>\n",
              "      <td>INT</td>\n",
              "      <td>required</td>\n",
              "      <td></td>\n",
              "      <td>-</td>\n",
              "    </tr>\n",
              "  </tbody>\n",
              "</table>\n",
              "</div>\n",
              "      <button class=\"colab-df-convert\" onclick=\"convertToInteractive('df-39af50c6-08a7-4690-a6c6-ae0ff6deb6e1')\"\n",
              "              title=\"Convert this dataframe to an interactive table.\"\n",
              "              style=\"display:none;\">\n",
              "        \n",
              "  <svg xmlns=\"http://www.w3.org/2000/svg\" height=\"24px\"viewBox=\"0 0 24 24\"\n",
              "       width=\"24px\">\n",
              "    <path d=\"M0 0h24v24H0V0z\" fill=\"none\"/>\n",
              "    <path d=\"M18.56 5.44l.94 2.06.94-2.06 2.06-.94-2.06-.94-.94-2.06-.94 2.06-2.06.94zm-11 1L8.5 8.5l.94-2.06 2.06-.94-2.06-.94L8.5 2.5l-.94 2.06-2.06.94zm10 10l.94 2.06.94-2.06 2.06-.94-2.06-.94-.94-2.06-.94 2.06-2.06.94z\"/><path d=\"M17.41 7.96l-1.37-1.37c-.4-.4-.92-.59-1.43-.59-.52 0-1.04.2-1.43.59L10.3 9.45l-7.72 7.72c-.78.78-.78 2.05 0 2.83L4 21.41c.39.39.9.59 1.41.59.51 0 1.02-.2 1.41-.59l7.78-7.78 2.81-2.81c.8-.78.8-2.07 0-2.86zM5.41 20L4 18.59l7.72-7.72 1.47 1.35L5.41 20z\"/>\n",
              "  </svg>\n",
              "      </button>\n",
              "      \n",
              "  <style>\n",
              "    .colab-df-container {\n",
              "      display:flex;\n",
              "      flex-wrap:wrap;\n",
              "      gap: 12px;\n",
              "    }\n",
              "\n",
              "    .colab-df-convert {\n",
              "      background-color: #E8F0FE;\n",
              "      border: none;\n",
              "      border-radius: 50%;\n",
              "      cursor: pointer;\n",
              "      display: none;\n",
              "      fill: #1967D2;\n",
              "      height: 32px;\n",
              "      padding: 0 0 0 0;\n",
              "      width: 32px;\n",
              "    }\n",
              "\n",
              "    .colab-df-convert:hover {\n",
              "      background-color: #E2EBFA;\n",
              "      box-shadow: 0px 1px 2px rgba(60, 64, 67, 0.3), 0px 1px 3px 1px rgba(60, 64, 67, 0.15);\n",
              "      fill: #174EA6;\n",
              "    }\n",
              "\n",
              "    [theme=dark] .colab-df-convert {\n",
              "      background-color: #3B4455;\n",
              "      fill: #D2E3FC;\n",
              "    }\n",
              "\n",
              "    [theme=dark] .colab-df-convert:hover {\n",
              "      background-color: #434B5C;\n",
              "      box-shadow: 0px 1px 3px 1px rgba(0, 0, 0, 0.15);\n",
              "      filter: drop-shadow(0px 1px 2px rgba(0, 0, 0, 0.3));\n",
              "      fill: #FFFFFF;\n",
              "    }\n",
              "  </style>\n",
              "\n",
              "      <script>\n",
              "        const buttonEl =\n",
              "          document.querySelector('#df-39af50c6-08a7-4690-a6c6-ae0ff6deb6e1 button.colab-df-convert');\n",
              "        buttonEl.style.display =\n",
              "          google.colab.kernel.accessAllowed ? 'block' : 'none';\n",
              "\n",
              "        async function convertToInteractive(key) {\n",
              "          const element = document.querySelector('#df-39af50c6-08a7-4690-a6c6-ae0ff6deb6e1');\n",
              "          const dataTable =\n",
              "            await google.colab.kernel.invokeFunction('convertToInteractive',\n",
              "                                                     [key], {});\n",
              "          if (!dataTable) return;\n",
              "\n",
              "          const docLinkHtml = 'Like what you see? Visit the ' +\n",
              "            '<a target=\"_blank\" href=https://colab.research.google.com/notebooks/data_table.ipynb>data table notebook</a>'\n",
              "            + ' to learn more about interactive tables.';\n",
              "          element.innerHTML = '';\n",
              "          dataTable['output_type'] = 'display_data';\n",
              "          await google.colab.output.renderOutput(dataTable, element);\n",
              "          const docLink = document.createElement('div');\n",
              "          docLink.innerHTML = docLinkHtml;\n",
              "          element.appendChild(docLink);\n",
              "        }\n",
              "      </script>\n",
              "    </div>\n",
              "  </div>\n",
              "  "
            ]
          },
          "metadata": {}
        }
      ]
    },
    {
      "cell_type": "code",
      "source": [
        "metadata_connection_config = tfx.orchestration.metadata.sqlite_metadata_connection_config(\n",
        "    METADATA_PATH)\n",
        "\n",
        "with Metadata(metadata_connection_config) as metadata_handler:\n",
        "  ev_output = get_latest_artifacts(metadata_handler, PIPELINE_NAME,\n",
        "                                   'ExampleValidator')\n",
        "  anomalies_artifacts = ev_output[standard_component_specs.ANOMALIES_KEY]"
      ],
      "metadata": {
        "id": "qgKHOZm_mFaR"
      },
      "execution_count": 128,
      "outputs": []
    },
    {
      "cell_type": "code",
      "source": [
        "visualize_artifacts(anomalies_artifacts)"
      ],
      "metadata": {
        "colab": {
          "base_uri": "https://localhost:8080/",
          "height": 166
        },
        "id": "UETLmWrGmG_r",
        "outputId": "4000130d-9f5a-4c9f-cfaf-758866cf88e1"
      },
      "execution_count": 129,
      "outputs": [
        {
          "output_type": "display_data",
          "data": {
            "text/plain": [
              "<IPython.core.display.HTML object>"
            ],
            "text/html": [
              "<div><b>'train' split:</b></div><br/>"
            ]
          },
          "metadata": {}
        },
        {
          "output_type": "display_data",
          "data": {
            "text/plain": [
              "<IPython.core.display.HTML object>"
            ],
            "text/html": [
              "<h4 style=\"color:green;\">No anomalies found.</h4>"
            ]
          },
          "metadata": {}
        },
        {
          "output_type": "display_data",
          "data": {
            "text/plain": [
              "<IPython.core.display.HTML object>"
            ],
            "text/html": [
              "<div><b>'eval' split:</b></div><br/>"
            ]
          },
          "metadata": {}
        },
        {
          "output_type": "display_data",
          "data": {
            "text/plain": [
              "<IPython.core.display.HTML object>"
            ],
            "text/html": [
              "<h4 style=\"color:green;\">No anomalies found.</h4>"
            ]
          },
          "metadata": {}
        }
      ]
    },
    {
      "cell_type": "code",
      "source": [
        "eval_ds = tf.keras.utils.image_dataset_from_directory(\n",
        "    \"./dogs_vs_cats/test\",\n",
        "    labels=\"inferred\",\n",
        "    label_mode=\"int\",\n",
        "    batch_size=32,\n",
        "    image_size=(IMG_HEIGHT, IMG_WIDTH),\n",
        "    shuffle=True,\n",
        ")\n",
        "\n",
        "\n",
        "model = tf.keras.models.load_model('/content/serving_model/dogs_vs_cats_pipeline/1681909098')\n",
        "probability_model = tf.keras.Sequential([model, \n",
        "                                         tf.keras.layers.Softmax()])\n",
        "\n",
        "\n",
        "\n",
        "predictions = probability_model.predict(eval_ds)"
      ],
      "metadata": {
        "id": "_vyAy-CNqRch"
      },
      "execution_count": null,
      "outputs": []
    },
    {
      "cell_type": "code",
      "source": [
        "# Use the trained model to predict on the eval_ds dataset\n",
        "predictions = model.predict(eval_ds)\n",
        "\n",
        "# Print the predictions for the first 10 images in the dataset\n",
        "for image, prediction in zip(eval_ds, predictions):\n",
        "    predicted_label = \"dog\" if prediction > 0.5 else \"cat\"\n",
        "    true_label = \"dog\" if image[1].numpy()[0] == 1 else \"cat\"\n",
        "    print(\"Predicted label: \", predicted_label)\n",
        "    print(\"True label: \", true_label)"
      ],
      "metadata": {
        "id": "PwkxnbRdqOj_"
      },
      "execution_count": null,
      "outputs": []
    }
  ]
}