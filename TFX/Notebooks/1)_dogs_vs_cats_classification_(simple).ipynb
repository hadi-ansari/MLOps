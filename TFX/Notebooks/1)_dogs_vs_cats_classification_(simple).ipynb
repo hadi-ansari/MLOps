{
  "nbformat": 4,
  "nbformat_minor": 0,
  "metadata": {
    "colab": {
      "provenance": [],
      "gpuType": "T4",
      "include_colab_link": true
    },
    "kernelspec": {
      "display_name": "Python 3",
      "name": "python3"
    },
    "accelerator": "GPU",
    "gpuClass": "standard"
  },
  "cells": [
    {
      "cell_type": "markdown",
      "metadata": {
        "id": "view-in-github",
        "colab_type": "text"
      },
      "source": [
        "<a href=\"https://colab.research.google.com/github/hadi-ansari/MLOps/blob/main/TFX/Notebooks/1)_dogs_vs_cats_classification_(simple).ipynb\" target=\"_parent\"><img src=\"https://colab.research.google.com/assets/colab-badge.svg\" alt=\"Open In Colab\"/></a>"
      ]
    },
    {
      "cell_type": "markdown",
      "metadata": {
        "id": "6x1ypzczQCwy"
      },
      "source": [
        "# Simple TFX Pipeline Tutorial using cats vs dogs dataset\n",
        "\n",
        "In this notebook-based tutorial, we will create and run a TFX pipeline\n",
        "for a simple cats vs dogs classification model.\n",
        "The pipeline will consist of three essential TFX components: ExampleGen,\n",
        "Trainer and Pusher. The pipeline includes the most minimal ML workflow like\n",
        "importing data, training a model and pushing the trained model to the local envirinment.\n",
        "\n",
        "Please see\n",
        "[Understanding TFX Pipelines](https://www.tensorflow.org/tfx/guide/understanding_tfx_pipelines)\n",
        "to learn more about various concepts in TFX."
      ]
    },
    {
      "cell_type": "markdown",
      "metadata": {
        "id": "Fmgi8ZvQkScg"
      },
      "source": [
        "## Set Up\n",
        "We first need to install the TFX Python package and download\n",
        "the dataset which we will use for our model."
      ]
    },
    {
      "cell_type": "markdown",
      "source": [
        "### Upgrade Pip"
      ],
      "metadata": {
        "id": "Fb6DLAKfWtv_"
      }
    },
    {
      "cell_type": "code",
      "metadata": {
        "id": "as4OTe2ukSqm"
      },
      "source": [
        "!pip install --upgrade pip"
      ],
      "execution_count": null,
      "outputs": []
    },
    {
      "cell_type": "markdown",
      "source": [
        "### Install TFX"
      ],
      "metadata": {
        "id": "OINcAvyWWwR7"
      }
    },
    {
      "cell_type": "code",
      "metadata": {
        "id": "iyQtljP-qPHY"
      },
      "source": [
        "!pip install -U tfx"
      ],
      "execution_count": null,
      "outputs": []
    },
    {
      "cell_type": "markdown",
      "source": [
        "### Uninstall shapely\n",
        "\n",
        "TODO(b/263441833) This is a temporal solution to avoid an\n",
        "ImportError. Ultimately, it should be handled by supporting a\n",
        "recent version of Bigquery, instead of uninstalling other extra\n",
        "dependencies."
      ],
      "metadata": {
        "id": "DCa5Bs00k3ZR"
      }
    },
    {
      "cell_type": "code",
      "source": [
        "!pip uninstall shapely -y"
      ],
      "metadata": {
        "id": "mYn4k-r-k3qN"
      },
      "execution_count": null,
      "outputs": []
    },
    {
      "cell_type": "markdown",
      "metadata": {
        "id": "EwT0nov5QO1M"
      },
      "source": [
        "### Did you restart the runtime?\n",
        "\n",
        "If you are using Google Colab, the first time that you run\n",
        "the cell above, you must restart the runtime by clicking\n",
        "above \"RESTART RUNTIME\" button or using \"Runtime > Restart\n",
        "runtime ...\" menu. This is because of the way that Colab\n",
        "loads packages."
      ]
    },
    {
      "cell_type": "markdown",
      "metadata": {
        "id": "aDtLdSkvqPHe"
      },
      "source": [
        "## Necessary imports\n",
        "\n",
        "We also check the TensorFlow and TFX versions."
      ]
    },
    {
      "cell_type": "code",
      "metadata": {
        "id": "6jh7vKSRqPHb",
        "colab": {
          "base_uri": "https://localhost:8080/"
        },
        "outputId": "927ce68a-d22e-4c9f-c671-759969b36bbe"
      },
      "source": [
        "import numpy as np\n",
        "import os\n",
        "import PIL\n",
        "import PIL.Image\n",
        "import tensorflow_datasets as tfds\n",
        "import tensorflow as tf\n",
        "\n",
        "print('TensorFlow version: {}'.format(tf.__version__))\n",
        "from tfx import v1 as tfx\n",
        "print('TFX version: {}'.format(tfx.__version__))"
      ],
      "execution_count": null,
      "outputs": [
        {
          "output_type": "stream",
          "name": "stdout",
          "text": [
            "TensorFlow version: 2.11.1\n",
            "TFX version: 1.12.0\n"
          ]
        }
      ]
    },
    {
      "cell_type": "markdown",
      "source": [
        "## Load you Kaggle API key"
      ],
      "metadata": {
        "id": "iYZZFFR0jpAE"
      }
    },
    {
      "cell_type": "code",
      "source": [
        "from google.colab import files\n",
        "files.upload()"
      ],
      "metadata": {
        "id": "4601nR9JQaHM"
      },
      "execution_count": null,
      "outputs": []
    },
    {
      "cell_type": "markdown",
      "metadata": {
        "id": "11J7XiCq6AFP"
      },
      "source": [
        "## Download the cat vs dog dataset\n",
        "Because TFX ExampleGen reads inputs from a directory, we need to create a\n",
        "directory and copy dataset to it."
      ]
    },
    {
      "cell_type": "code",
      "source": [
        "!pip install -q kaggle\n",
        "!mkdir -p ~/.kaggle\n",
        "!cp kaggle.json ~/.kaggle/\n",
        "'chmod 600 /root/.kaggle/kaggle.json'\n",
        "!kaggle datasets download -d salader/dogs-vs-cats\n",
        "!unzip dogs-vs-cats.zip\n",
        "!rm -rf test train dogs-vs-cats.zip"
      ],
      "metadata": {
        "id": "YpC5qjjwQgwY"
      },
      "execution_count": null,
      "outputs": []
    },
    {
      "cell_type": "markdown",
      "source": [
        "## Reduce size of the dataset (optional)\n",
        "To expedite the ML process, we have opted to decrease the dataset size by eliminating images from both the train and test folders. The number of train images has been reduced from 20,000 to 2,000, while the test images have been decreased from 5,000 to 500. Please note that this reduction is solely for the purpose of testing and to speed up the training process."
      ],
      "metadata": {
        "id": "HiHkto4Jt8k2"
      }
    },
    {
      "cell_type": "code",
      "source": [
        "!ls -1 dogs_vs_cats/train/dogs/* | tail -n +1001 | xargs rm \n",
        "!ls -1 dogs_vs_cats/train/cats/* | tail -n +1001 | xargs rm\n",
        "\n",
        "!ls -1 dogs_vs_cats/test/dogs/* | tail -n +251 | xargs rm \n",
        "!ls -1 dogs_vs_cats/test/cats/* | tail -n +251 | xargs rm "
      ],
      "metadata": {
        "id": "Mju0dtqdtuZL"
      },
      "execution_count": null,
      "outputs": []
    },
    {
      "cell_type": "markdown",
      "metadata": {
        "id": "lOjDv93eS5xV"
      },
      "source": [
        "## Set up necessary variables\n",
        "\n",
        "There are some variables used to define a pipeline. You can customize these\n",
        "variables as you want. By default all output from the pipeline will be\n",
        "generated under the current directory."
      ]
    },
    {
      "cell_type": "code",
      "metadata": {
        "id": "aES7Hv5QTDK3",
        "colab": {
          "base_uri": "https://localhost:8080/"
        },
        "outputId": "3a3cee2c-ba29-4be4-809b-8a56dc258596"
      },
      "source": [
        "_trainer_module_file = 'dogs_vs_cats_trainer.py'\n",
        "\n",
        "data_root ='dogs_vs_cats'\n",
        "train_dir = os.path.join(data_root, 'train')\n",
        "validation_dir = os.path.join(data_root, 'test')\n",
        "\n",
        "train_cats_dir = os.path.join(train_dir, 'cats')  # directory with our training cat pictures\n",
        "train_dogs_dir = os.path.join(train_dir, 'dogs')  # directory with our training dog pictures\n",
        "validation_cats_dir = os.path.join(validation_dir, 'cats')  # directory with our validation cat pictures\n",
        "validation_dogs_dir = os.path.join(validation_dir, 'dogs')  # directory with our validation dog pictures\n",
        "\n",
        "num_cats_tr = len(os.listdir(train_cats_dir))\n",
        "num_dogs_tr = len(os.listdir(train_dogs_dir))\n",
        "\n",
        "num_cats_val = len(os.listdir(validation_cats_dir))\n",
        "num_dogs_val = len(os.listdir(validation_dogs_dir))\n",
        "\n",
        "total_train = num_cats_tr + num_dogs_tr\n",
        "total_val = num_cats_val + num_dogs_val\n",
        "\n",
        "IMG_HEIGHT = 150\n",
        "IMG_WIDTH = 150\n",
        "batch_size = 128\n",
        "PIPELINE_NAME = 'dogs_vs_cats_pipeline'\n",
        "PIPELINE_ROOT = os.path.join('pipelines', PIPELINE_NAME)\n",
        "SERVING_MODEL_DIR = os.path.join('serving_model', PIPELINE_NAME)\n",
        "METADATA_PATH = os.path.join('metadata', PIPELINE_NAME, 'cat&dog_md.db')\n",
        "\n",
        "\n",
        "print('total training cat images:', num_cats_tr)\n",
        "print('total training dog images:', num_dogs_tr)\n",
        "print('total validation cat images:', num_cats_val)\n",
        "print('total validation dog images:', num_dogs_val)\n",
        "print(\"--\")\n",
        "print(\"Total training images:\", total_train)\n",
        "print(\"Total validation images:\", total_val)"
      ],
      "execution_count": null,
      "outputs": [
        {
          "output_type": "stream",
          "name": "stdout",
          "text": [
            "total training cat images: 1000\n",
            "total training dog images: 1000\n",
            "total validation cat images: 250\n",
            "total validation dog images: 250\n",
            "--\n",
            "Total training images: 2000\n",
            "Total validation images: 500\n"
          ]
        }
      ]
    },
    {
      "cell_type": "markdown",
      "metadata": {
        "id": "w3OkNz3gTLwM"
      },
      "source": [
        "## Convert image dataset to TFRecords\n",
        "\n",
        "We followed the instructions according [this](https://ai.plainenglish.io/a-quick-and-simple-guide-to-tfrecord-c421337a6562).\n"
      ]
    },
    {
      "cell_type": "code",
      "source": [
        "import tensorflow as tf\n",
        "import numpy as np\n",
        "import os\n",
        "from PIL import Image\n",
        "import random\n",
        "import cv2\n",
        "import matplotlib.pyplot as plt\n",
        "\n",
        "# Setup the train and test imgage directories\n",
        "train_dir = os.path.join(data_root, \"train\")\n",
        "test_dir = os.path.join(data_root, \"test\")\n",
        "\n",
        "# setup train and test TFRecord file\n",
        "train_tfrecord='train_data.tfrecords'\n",
        "test_tfrecord = 'test_data.tfrecords'\n",
        "\n",
        "# Define the name of directories of each class\n",
        "# We only have two classes in this case.\n",
        "directories=['dogs', 'cats']\n",
        "\n",
        "# List all train and test image path\n",
        "train_image_path=[]\n",
        "test_image_path=[]\n",
        "\n",
        "for i in range(len(directories)):\n",
        "    for file in os.listdir(os.path.join(train_dir, directories[i])):\n",
        "        train_image_path.append(os.path.join(train_dir, directories[i], file))\n",
        "    for file in os.listdir(os.path.join(test_dir, directories[i])):\n",
        "        test_image_path.append( os.path.join(test_dir, directories[i], file))\n",
        "\n",
        "\n",
        "print(\"Number of train images found: \", len(train_image_path))\n",
        "print(\"Number of test images found: \", len(test_image_path))\n",
        "\n",
        "# Shuffle the image paths for better accuracy and precision\n",
        "random.seed(0)\n",
        "random.shuffle(train_image_path)\n",
        "random.shuffle(test_image_path)\n",
        "\n",
        "# create train and test lables for shuffled image paths\n",
        "# 0 for cat and 1 for dog\n",
        "train_labels=[]\n",
        "test_labels=[]\n",
        "for i in range(len(train_image_path)):\n",
        "    if os.path.basename(train_image_path[i])[:3]=='cat':\n",
        "        train_labels.append(0)\n",
        "    else:\n",
        "        train_labels.append(1)\n",
        "\n",
        "for i in range(len(test_image_path)):\n",
        "    if os.path.basename(test_image_path[i])[:3]=='cat':\n",
        "        test_labels.append(0)\n",
        "    else:\n",
        "        test_labels.append(1)\n",
        "\n",
        "def _bytes_feature(value):\n",
        "    \"\"\"Returns a bytes_list from a string / byte.\"\"\"    \n",
        "    if isinstance(value, type(tf.constant(0))):\n",
        "        value = value.numpy()\n",
        "    return tf.train.Feature(bytes_list=tf.train.BytesList(value=[value]))\n",
        "def _int64_feature(value):\n",
        "    \"\"\"Returns an int64_list from a bool / enum / int / uint.\"\"\"\n",
        "    return tf.train.Feature(int64_list=tf.train.Int64List(value=[value]))\n",
        "def _float_feature(value):\n",
        "    \"\"\"Returns a float_list from a float / double.\"\"\"\n",
        "    return tf.train.Feature(float_list=tf.train.FloatList(value=[value]))\n",
        "\n",
        "def serialize_example(image_string, label):\n",
        "    ## Create a dictionary with features for images and their target labels\n",
        "    image_shape = tf.io.decode_jpeg(image_string).shape\n",
        "\n",
        "    feature = {\n",
        "      'label': _int64_feature(label),\n",
        "      'image_raw': _bytes_feature(image_string),\n",
        "    }\n",
        "    #  Create a Features message using tf.train.Example.\n",
        "    example_proto = tf.train.Example(features=tf.train.Features(feature=feature))\n",
        "    #serializes the message and returns it as a string. Note that the bytes are binary\n",
        "    return example_proto.SerializeToString()\n",
        "\n",
        "def write_TFRecord(image_path, label):\n",
        "    image_string = open(image_path, 'rb').read()\n",
        "    example = serialize_example(image_string, label)\n",
        "    return example\n",
        "\n",
        "#Write Train TFRecord file\n",
        "with tf.io.TFRecordWriter(train_tfrecord) as writer:\n",
        "    for image_path, label in zip(train_image_path, train_labels):\n",
        "        writer.write(write_TFRecord(image_path, int(label)))\n",
        "#Write Test TFRecord file\n",
        "with tf.io.TFRecordWriter(test_tfrecord) as writer:\n",
        "    for image_path, label in zip(test_image_path, test_labels):\n",
        "         writer.write(write_TFRecord(image_path, int(label)))"
      ],
      "metadata": {
        "id": "BN00rTsiyvV7",
        "colab": {
          "base_uri": "https://localhost:8080/"
        },
        "outputId": "b1cbdf1a-8e06-42e6-b9bd-f6af128e12ff"
      },
      "execution_count": null,
      "outputs": [
        {
          "output_type": "stream",
          "name": "stdout",
          "text": [
            "Number of train images found:  2000\n",
            "Number of test images found:  500\n"
          ]
        }
      ]
    },
    {
      "cell_type": "markdown",
      "source": [
        "## Restructure the files\n",
        "This commands restructure the files and create a directory named `dataset` and move the TFRecord files into `dataset/train` and `dataset/test`."
      ],
      "metadata": {
        "id": "RimBi3XlRGjp"
      }
    },
    {
      "cell_type": "code",
      "source": [
        "!rm -rf dataset\n",
        "!mkdir dataset\n",
        "!mkdir dataset/train\n",
        "!mkdir dataset/test\n",
        "!mv train_data.tfrecords dataset/train\n",
        "!mv test_data.tfrecords dataset/test"
      ],
      "metadata": {
        "id": "VXBCczk-wx_N"
      },
      "execution_count": null,
      "outputs": []
    },
    {
      "cell_type": "markdown",
      "source": [
        "## Write model training code\n",
        "\n",
        "We will create a simple CNN (Convolutional Neural Network) model for cats vs dogs classification using TensorFlow Keras\n",
        "API. This model training code will be saved to a separate file.\n",
        "\n",
        "For model training code we found this tutorial on Kaggle\n",
        "[here](https://www.kaggle.com/code/alpaca0984/dogs-vs-cats-tensorflow-2-0-on-google-colab). You need to write a Python file\n",
        "containing `run_fn` function, which is the entrypoint for the `Trainer`\n",
        "component."
      ],
      "metadata": {
        "id": "l0AbWurTgUSD"
      }
    },
    {
      "cell_type": "code",
      "metadata": {
        "id": "Gnc67uQNTDfW",
        "colab": {
          "base_uri": "https://localhost:8080/"
        },
        "outputId": "7a41e932-e3e6-490b-b8ca-8dc06e157f70"
      },
      "source": [
        "%%writefile {_trainer_module_file}\n",
        "\n",
        "import tensorflow as tf\n",
        "from tfx import v1 as tfx\n",
        "import matplotlib.pyplot as plt\n",
        "import tensorflow_transform as tft\n",
        "from tfx_bsl.tfxio import dataset_options\n",
        "import os\n",
        "import gzip\n",
        "from typing import List\n",
        "from tensorflow_metadata.proto.v0 import schema_pb2\n",
        "from tfx import v1 as tfx\n",
        "from tfx_bsl.public import tfxio\n",
        "from tensorflow_transform.tf_metadata import schema_utils\n",
        "\n",
        "\n",
        "_LABEL_KEY = 'label'\n",
        "IMG_HEIGHT = 150\n",
        "IMG_WIDTH = 150\n",
        "batch_size = 128\n",
        "\n",
        "_TRAIN_DATA_SIZE = 2000\n",
        "_TEST_DATA_SIZE = 500\n",
        "\n",
        "_FEATURE_SPEC = {\n",
        "    'label': tf.io.FixedLenFeature([], tf.int64),\n",
        "    'image_raw': tf.io.FixedLenFeature([], tf.string),\n",
        "}\n",
        "\n",
        "\n",
        "# Define a function to parse the tfrecord dataset\n",
        "def _parse_function(features, label):\n",
        "  image = tf.io.decode_jpeg(features['image_raw'], channels=3)\n",
        "  image = tf.image.resize(image, [IMG_HEIGHT, IMG_WIDTH])\n",
        "    \n",
        "  return image, label\n",
        "\n",
        "def _input_fn(file_pattern: List[str],\n",
        "              data_accessor: tfx.components.DataAccessor,\n",
        "              schema: schema_pb2.Schema,\n",
        "              batch_size: int = 128) -> tf.data.Dataset:\n",
        "  \"\"\"Generates features and label for training.\n",
        "\n",
        "  Args:\n",
        "    file_pattern: List of paths or patterns of input tfrecord files.\n",
        "    data_accessor: DataAccessor for converting input to RecordBatch.\n",
        "    schema: schema of the input data.\n",
        "    batch_size: representing the number of consecutive elements of returned\n",
        "      dataset to combine in a single batch\n",
        "\n",
        "  Returns:\n",
        "    A dataset that contains (features, indices) tuple where features is a\n",
        "      dictionary of Tensors, and indices is a single Tensor of label indices.\n",
        "  \"\"\"\n",
        "  return data_accessor.tf_dataset_factory(\n",
        "      file_pattern,\n",
        "      tfxio.TensorFlowDatasetOptions(\n",
        "          batch_size=batch_size, label_key=_LABEL_KEY),\n",
        "      schema=schema)\n",
        "\n",
        "\n",
        "# TFX Trainer will call this function.\n",
        "def run_fn(fn_args: tfx.components.FnArgs):\n",
        "  \n",
        "    epochs = 32\n",
        "    #Create the model\n",
        "    model = tf.keras.models.Sequential([\n",
        "        tf.keras.layers.Conv2D(32, 3, padding='same', activation='relu', input_shape=(IMG_HEIGHT, IMG_WIDTH, 3)),\n",
        "        tf.keras.layers.Conv2D(32, 3, padding='same', activation='relu'),\n",
        "        tf.keras.layers.MaxPooling2D(),\n",
        "\n",
        "        tf.keras.layers.Conv2D(64, 3, padding='same', activation='relu'),\n",
        "        tf.keras.layers.Conv2D(64, 3, padding='same', activation='relu'),\n",
        "        tf.keras.layers.MaxPooling2D(),\n",
        "\n",
        "        tf.keras.layers.Conv2D(128, 3, padding='same', activation='relu'),\n",
        "        tf.keras.layers.Conv2D(128, 3, padding='same', activation='relu'),\n",
        "        tf.keras.layers.MaxPooling2D(),\n",
        "\n",
        "        tf.keras.layers.Flatten(),\n",
        "        tf.keras.layers.Dense(256, activation='relu'),\n",
        "        tf.keras.layers.Dropout(0.5),\n",
        "        tf.keras.layers.Dense(256, activation='relu'),\n",
        "        tf.keras.layers.Dropout(0.5),\n",
        "        tf.keras.layers.Dense(1, activation='sigmoid')\n",
        "    ])\n",
        "\n",
        "    # Compile the model\n",
        "    model.compile(optimizer='adam',\n",
        "              loss=tf.keras.losses.BinaryCrossentropy(),\n",
        "              metrics=['accuracy'])\n",
        " \n",
        "    # Print a summary of the model\n",
        "    model.summary()\n",
        "\n",
        "    schema = schema_utils.schema_from_feature_spec(_FEATURE_SPEC)\n",
        "\n",
        "    # Load the training dataset\n",
        "    train_ds = _input_fn(\n",
        "        fn_args.train_files,\n",
        "        fn_args.data_accessor,\n",
        "        schema,\n",
        "        batch_size=batch_size)\n",
        "\n",
        "    train_ds = train_ds.unbatch()\n",
        "    train_ds = train_ds.map(_parse_function)\n",
        "    train_ds = train_ds.batch(batch_size)\n",
        "\n",
        "\n",
        "    # Load the test dataset\n",
        "    eval_ds = _input_fn(\n",
        "        fn_args.eval_files,\n",
        "        fn_args.data_accessor,\n",
        "        schema,\n",
        "        batch_size=batch_size)\n",
        "    \n",
        "    eval_ds = eval_ds.unbatch()\n",
        "    eval_ds = eval_ds.map(_parse_function)\n",
        "    eval_ds = eval_ds.batch(batch_size)\n",
        "\n",
        "\n",
        "    steps_per_epoch = int(_TRAIN_DATA_SIZE / batch_size)\n",
        "    validation_steps = int(_TEST_DATA_SIZE / batch_size)\n",
        "\n",
        "\n",
        "    # Train our model\n",
        "    history = model.fit(train_ds, epochs=epochs, validation_data=eval_ds,steps_per_epoch=steps_per_epoch, validation_steps=validation_steps)\n",
        "\n",
        "\n",
        "    acc = history.history['accuracy']\n",
        "    val_acc = history.history['val_accuracy']\n",
        "\n",
        "    loss = history.history['loss']\n",
        "    val_loss = history.history['val_loss']\n",
        "\n",
        "    epochs_range = range(epochs)\n",
        "\n",
        "    plt.figure(figsize=(8, 8))\n",
        "    plt.subplot(1, 2, 1)\n",
        "    plt.plot(epochs_range, acc, label='Training Accuracy')\n",
        "    plt.plot(epochs_range, val_acc, label='Validation Accuracy')\n",
        "    plt.legend(loc='lower right')\n",
        "    plt.title('Training and Validation Accuracy')\n",
        "\n",
        "    plt.subplot(1, 2, 2)\n",
        "    plt.plot(epochs_range, loss, label='Training Loss')\n",
        "    plt.plot(epochs_range, val_loss, label='Validation Loss')\n",
        "    plt.legend(loc='upper right')\n",
        "    plt.title('Training and Validation Loss')\n",
        "    plt.show()\n",
        "\n",
        "    # The result of the training should be saved in `fn_args.serving_model_dir`\n",
        "    # directory.\n",
        "    model.save(fn_args.serving_model_dir, save_format='tf')"
      ],
      "execution_count": null,
      "outputs": [
        {
          "output_type": "stream",
          "name": "stdout",
          "text": [
            "Writing dogs_vs_cats_trainer.py\n"
          ]
        }
      ]
    },
    {
      "cell_type": "markdown",
      "source": [
        "## Define the pipeline\n",
        "We define the ML pipeline here. The components of the pipeline are: ImportExampleGen for ingesting the images into the pipeline, Trainer for training the model and Pusher component for serving the model into production environment (in this example the model is pushed in the local environment).\n",
        "\n",
        "For ingesting the image dataset into the pipeline, we got help from this github repository [github](https://github.com/tensorflow/tfx/blob/master/tfx/examples/cifar10/cifar10_pipeline_native_keras.py)"
      ],
      "metadata": {
        "id": "AX5ocD1FYI_H"
      }
    },
    {
      "cell_type": "code",
      "metadata": {
        "id": "M49yYVNBTPd4"
      },
      "source": [
        "from tfx.proto import example_gen_pb2\n",
        "from tfx.components import ImportExampleGen\n",
        "\n",
        "\n",
        "def _create_pipeline(pipeline_name: str, pipeline_root: str,\n",
        "                     module_file: str, serving_model_dir: str,\n",
        "                     metadata_path: str) -> tfx.dsl.Pipeline:\n",
        "  print(\"Pipeline creation is running...\\n\\n\\n\")\n",
        "\n",
        "  \"\"\"Creates a three component penguin pipeline with TFX.\"\"\"\n",
        " \n",
        "  input_config = example_gen_pb2.Input(splits=[\n",
        "      example_gen_pb2.Input.Split(name='train', pattern='train/*'),\n",
        "      example_gen_pb2.Input.Split(name='eval', pattern='test/*')\n",
        "  ])\n",
        "\n",
        "  # Brings data into the pipeline.\n",
        "  example_gen = ImportExampleGen(\n",
        "      input_base='/content/dataset', input_config=input_config)\n",
        "  \n",
        "  # Uses user-provided Python function that trains a model.\n",
        "  trainer = tfx.components.Trainer(\n",
        "      module_file=module_file,\n",
        "      examples=example_gen.outputs['examples'],\n",
        "      )\n",
        "  \n",
        "  # Pushes the model to a filesystem destination.\n",
        "  pusher = tfx.components.Pusher(\n",
        "      model=trainer.outputs['model'],\n",
        "      push_destination=tfx.proto.PushDestination(\n",
        "          filesystem=tfx.proto.PushDestination.Filesystem(\n",
        "              base_directory=serving_model_dir)))\n",
        "\n",
        "  # Following three components will be included in the pipeline.\n",
        "  components = [\n",
        "      example_gen,\n",
        "      trainer,\n",
        "      pusher,\n",
        "  ]\n",
        "\n",
        "  return tfx.dsl.Pipeline(\n",
        "      pipeline_name=pipeline_name,\n",
        "      pipeline_root=pipeline_root,\n",
        "      metadata_connection_config=tfx.orchestration.metadata\n",
        "      .sqlite_metadata_connection_config(metadata_path),\n",
        "      components=components)"
      ],
      "execution_count": null,
      "outputs": []
    },
    {
      "cell_type": "markdown",
      "metadata": {
        "id": "mJbq07THU2GV"
      },
      "source": [
        "## Run the pipeline\n",
        "\n",
        "TFX supports multiple orchestrators to run pipelines.\n",
        "In this tutorial we will use `LocalDagRunner` which is included in the TFX\n",
        "Python package and runs pipelines on local environment.\n",
        "We often call TFX pipelines \"DAGs\" which stands for directed acyclic graph.\n",
        "\n",
        "`LocalDagRunner` provides fast iterations for development and debugging.\n",
        "TFX also supports other orchestrators including Kubeflow Pipelines and Apache\n",
        "Airflow which are suitable for production use cases.\n",
        "\n",
        "See\n",
        "[TFX on Cloud AI Platform Pipelines](https://www.tensorflow.org/tfx/tutorials/tfx/cloud-ai-platform-pipelines)\n",
        "or\n",
        "[TFX Airflow Tutorial](https://www.tensorflow.org/tfx/tutorials/tfx/airflow_workshop)\n",
        "to learn more about other orchestration systems."
      ]
    },
    {
      "cell_type": "code",
      "metadata": {
        "id": "fAtfOZTYWJu-",
        "colab": {
          "base_uri": "https://localhost:8080/",
          "height": 1000
        },
        "outputId": "ba4802fb-4d2b-4fe7-badb-c3e359d7a1b1"
      },
      "source": [
        "tfx.orchestration.LocalDagRunner().run(\n",
        "  _create_pipeline(\n",
        "      pipeline_name=PIPELINE_NAME,\n",
        "      pipeline_root=PIPELINE_ROOT,\n",
        "      module_file=_trainer_module_file,\n",
        "      serving_model_dir=SERVING_MODEL_DIR,\n",
        "      metadata_path=METADATA_PATH))"
      ],
      "execution_count": null,
      "outputs": [
        {
          "output_type": "stream",
          "name": "stdout",
          "text": [
            "Pipeline creation is running...\n",
            "\n",
            "\n",
            "\n"
          ]
        },
        {
          "output_type": "stream",
          "name": "stderr",
          "text": [
            "WARNING:apache_beam.runners.interactive.interactive_environment:Dependencies required for Interactive Beam PCollection visualization are not available, please use: `pip install apache-beam[interactive]` to install necessary dependencies to enable all data visualization features.\n"
          ]
        },
        {
          "output_type": "display_data",
          "data": {
            "application/javascript": [
              "\n",
              "        if (typeof window.interactive_beam_jquery == 'undefined') {\n",
              "          var jqueryScript = document.createElement('script');\n",
              "          jqueryScript.src = 'https://code.jquery.com/jquery-3.4.1.slim.min.js';\n",
              "          jqueryScript.type = 'text/javascript';\n",
              "          jqueryScript.onload = function() {\n",
              "            var datatableScript = document.createElement('script');\n",
              "            datatableScript.src = 'https://cdn.datatables.net/1.10.20/js/jquery.dataTables.min.js';\n",
              "            datatableScript.type = 'text/javascript';\n",
              "            datatableScript.onload = function() {\n",
              "              window.interactive_beam_jquery = jQuery.noConflict(true);\n",
              "              window.interactive_beam_jquery(document).ready(function($){\n",
              "                \n",
              "              });\n",
              "            }\n",
              "            document.head.appendChild(datatableScript);\n",
              "          };\n",
              "          document.head.appendChild(jqueryScript);\n",
              "        } else {\n",
              "          window.interactive_beam_jquery(document).ready(function($){\n",
              "            \n",
              "          });\n",
              "        }"
            ]
          },
          "metadata": {}
        },
        {
          "output_type": "stream",
          "name": "stderr",
          "text": [
            "WARNING:apache_beam.io.tfrecordio:Couldn't find python-snappy so the implementation of _TFRecordUtil._masked_crc32c is not as fast as it could be.\n",
            "WARNING:absl:ArtifactQuery.property_predicate is not supported.\n"
          ]
        },
        {
          "output_type": "stream",
          "name": "stdout",
          "text": [
            "Model: \"sequential\"\n",
            "_________________________________________________________________\n",
            " Layer (type)                Output Shape              Param #   \n",
            "=================================================================\n",
            " conv2d (Conv2D)             (None, 150, 150, 32)      896       \n",
            "                                                                 \n",
            " conv2d_1 (Conv2D)           (None, 150, 150, 32)      9248      \n",
            "                                                                 \n",
            " max_pooling2d (MaxPooling2D  (None, 75, 75, 32)       0         \n",
            " )                                                               \n",
            "                                                                 \n",
            " conv2d_2 (Conv2D)           (None, 75, 75, 64)        18496     \n",
            "                                                                 \n",
            " conv2d_3 (Conv2D)           (None, 75, 75, 64)        36928     \n",
            "                                                                 \n",
            " max_pooling2d_1 (MaxPooling  (None, 37, 37, 64)       0         \n",
            " 2D)                                                             \n",
            "                                                                 \n",
            " conv2d_4 (Conv2D)           (None, 37, 37, 128)       73856     \n",
            "                                                                 \n",
            " conv2d_5 (Conv2D)           (None, 37, 37, 128)       147584    \n",
            "                                                                 \n",
            " max_pooling2d_2 (MaxPooling  (None, 18, 18, 128)      0         \n",
            " 2D)                                                             \n",
            "                                                                 \n",
            " flatten (Flatten)           (None, 41472)             0         \n",
            "                                                                 \n",
            " dense (Dense)               (None, 256)               10617088  \n",
            "                                                                 \n",
            " dropout (Dropout)           (None, 256)               0         \n",
            "                                                                 \n",
            " dense_1 (Dense)             (None, 256)               65792     \n",
            "                                                                 \n",
            " dropout_1 (Dropout)         (None, 256)               0         \n",
            "                                                                 \n",
            " dense_2 (Dense)             (None, 1)                 257       \n",
            "                                                                 \n",
            "=================================================================\n",
            "Total params: 10,970,145\n",
            "Trainable params: 10,970,145\n",
            "Non-trainable params: 0\n",
            "_________________________________________________________________\n"
          ]
        },
        {
          "output_type": "stream",
          "name": "stderr",
          "text": [
            "WARNING:tensorflow:From /usr/local/lib/python3.9/dist-packages/tensorflow/python/autograph/pyct/static_analysis/liveness.py:83: Analyzer.lamba_check (from tensorflow.python.autograph.pyct.static_analysis.liveness) is deprecated and will be removed after 2023-09-23.\n",
            "Instructions for updating:\n",
            "Lambda fuctions will be no more assumed to be used in the statement where they are used, or at least in the same block. https://github.com/tensorflow/tensorflow/issues/56089\n"
          ]
        },
        {
          "output_type": "stream",
          "name": "stdout",
          "text": [
            "Epoch 1/32\n",
            "15/15 [==============================] - 22s 265ms/step - loss: 11.2490 - accuracy: 0.5078 - val_loss: 0.6930 - val_accuracy: 0.5078\n",
            "Epoch 2/32\n",
            "15/15 [==============================] - 4s 290ms/step - loss: 0.6929 - accuracy: 0.5042 - val_loss: 0.6916 - val_accuracy: 0.5234\n",
            "Epoch 3/32\n",
            "15/15 [==============================] - 5s 314ms/step - loss: 0.6985 - accuracy: 0.5193 - val_loss: 0.6935 - val_accuracy: 0.4948\n",
            "Epoch 4/32\n",
            "15/15 [==============================] - 5s 320ms/step - loss: 0.6927 - accuracy: 0.5010 - val_loss: 0.6932 - val_accuracy: 0.4844\n",
            "Epoch 5/32\n",
            "15/15 [==============================] - 4s 246ms/step - loss: 0.6932 - accuracy: 0.4984 - val_loss: 0.6931 - val_accuracy: 0.5156\n",
            "Epoch 6/32\n",
            "15/15 [==============================] - 4s 242ms/step - loss: 0.6930 - accuracy: 0.5161 - val_loss: 0.6930 - val_accuracy: 0.4896\n",
            "Epoch 7/32\n",
            "15/15 [==============================] - 4s 290ms/step - loss: 0.6929 - accuracy: 0.4979 - val_loss: 0.6925 - val_accuracy: 0.5443\n",
            "Epoch 8/32\n",
            "15/15 [==============================] - 5s 319ms/step - loss: 0.6954 - accuracy: 0.5354 - val_loss: 0.6925 - val_accuracy: 0.5078\n",
            "Epoch 9/32\n",
            "15/15 [==============================] - 4s 304ms/step - loss: 0.6930 - accuracy: 0.5089 - val_loss: 0.6927 - val_accuracy: 0.5234\n",
            "Epoch 10/32\n",
            "15/15 [==============================] - 4s 306ms/step - loss: 0.6932 - accuracy: 0.5172 - val_loss: 0.6917 - val_accuracy: 0.5026\n",
            "Epoch 11/32\n",
            "15/15 [==============================] - 4s 248ms/step - loss: 0.6929 - accuracy: 0.5078 - val_loss: 0.6923 - val_accuracy: 0.5286\n",
            "Epoch 12/32\n",
            "15/15 [==============================] - 4s 244ms/step - loss: 0.6931 - accuracy: 0.5031 - val_loss: 0.6931 - val_accuracy: 0.5052\n",
            "Epoch 13/32\n",
            "15/15 [==============================] - 4s 275ms/step - loss: 0.6944 - accuracy: 0.4984 - val_loss: 0.6931 - val_accuracy: 0.5078\n",
            "Epoch 14/32\n",
            "15/15 [==============================] - 5s 310ms/step - loss: 0.6924 - accuracy: 0.5141 - val_loss: 0.6919 - val_accuracy: 0.5521\n",
            "Epoch 15/32\n",
            "15/15 [==============================] - 4s 301ms/step - loss: 0.6918 - accuracy: 0.5214 - val_loss: 0.6926 - val_accuracy: 0.5156\n",
            "Epoch 16/32\n",
            "15/15 [==============================] - 4s 266ms/step - loss: 0.6903 - accuracy: 0.5203 - val_loss: 0.6909 - val_accuracy: 0.5312\n",
            "Epoch 17/32\n",
            "15/15 [==============================] - 4s 249ms/step - loss: 0.6865 - accuracy: 0.5375 - val_loss: 0.6833 - val_accuracy: 0.5469\n",
            "Epoch 18/32\n",
            "15/15 [==============================] - 4s 254ms/step - loss: 0.6836 - accuracy: 0.5427 - val_loss: 0.6850 - val_accuracy: 0.5260\n",
            "Epoch 19/32\n",
            "15/15 [==============================] - 5s 311ms/step - loss: 0.6792 - accuracy: 0.5510 - val_loss: 0.6907 - val_accuracy: 0.5234\n",
            "Epoch 20/32\n",
            "15/15 [==============================] - 4s 292ms/step - loss: 0.6747 - accuracy: 0.5484 - val_loss: 0.6831 - val_accuracy: 0.5599\n",
            "Epoch 21/32\n",
            "15/15 [==============================] - 4s 305ms/step - loss: 0.6489 - accuracy: 0.6120 - val_loss: 0.7260 - val_accuracy: 0.4922\n",
            "Epoch 22/32\n",
            "15/15 [==============================] - 4s 258ms/step - loss: 0.6424 - accuracy: 0.6125 - val_loss: 0.6834 - val_accuracy: 0.5599\n",
            "Epoch 23/32\n",
            "15/15 [==============================] - 4s 261ms/step - loss: 0.6131 - accuracy: 0.6448 - val_loss: 0.7461 - val_accuracy: 0.5885\n",
            "Epoch 24/32\n",
            "15/15 [==============================] - 4s 287ms/step - loss: 0.5684 - accuracy: 0.6667 - val_loss: 0.7561 - val_accuracy: 0.5677\n",
            "Epoch 25/32\n",
            "15/15 [==============================] - 5s 336ms/step - loss: 0.5391 - accuracy: 0.6984 - val_loss: 0.9393 - val_accuracy: 0.5365\n",
            "Epoch 26/32\n",
            "15/15 [==============================] - 5s 322ms/step - loss: 0.4855 - accuracy: 0.7401 - val_loss: 0.8999 - val_accuracy: 0.5521\n",
            "Epoch 27/32\n",
            "15/15 [==============================] - 4s 264ms/step - loss: 0.4448 - accuracy: 0.7698 - val_loss: 0.9794 - val_accuracy: 0.5391\n",
            "Epoch 28/32\n",
            "15/15 [==============================] - 4s 263ms/step - loss: 0.4255 - accuracy: 0.7807 - val_loss: 1.1099 - val_accuracy: 0.5391\n",
            "Epoch 29/32\n",
            "15/15 [==============================] - 4s 259ms/step - loss: 0.3595 - accuracy: 0.8219 - val_loss: 1.3307 - val_accuracy: 0.5417\n",
            "Epoch 30/32\n",
            "15/15 [==============================] - 5s 319ms/step - loss: 0.3214 - accuracy: 0.8448 - val_loss: 1.4816 - val_accuracy: 0.5651\n",
            "Epoch 31/32\n",
            "15/15 [==============================] - 5s 314ms/step - loss: 0.3358 - accuracy: 0.8422 - val_loss: 1.2921 - val_accuracy: 0.5417\n",
            "Epoch 32/32\n",
            "15/15 [==============================] - 4s 291ms/step - loss: 0.2951 - accuracy: 0.8542 - val_loss: 1.6160 - val_accuracy: 0.5651\n"
          ]
        },
        {
          "output_type": "display_data",
          "data": {
            "text/plain": [
              "<Figure size 800x800 with 2 Axes>"
            ],
            "image/png": "[encoded data removed]"
          },
          "metadata": {}
        },
        {
          "output_type": "stream",
          "name": "stderr",
          "text": [
            "WARNING:absl:Found untraced functions such as _jit_compiled_convolution_op, _jit_compiled_convolution_op, _jit_compiled_convolution_op, _jit_compiled_convolution_op, _jit_compiled_convolution_op while saving (showing 5 of 6). These functions will not be directly callable after loading.\n",
            "WARNING:absl:ArtifactQuery.property_predicate is not supported.\n",
            "WARNING:absl:Pusher is going to push the model without validation. Consider using Evaluator or InfraValidator in your pipeline.\n"
          ]
        }
      ]
    },
    {
      "cell_type": "markdown",
      "metadata": {
        "id": "ppERq0Mj6xvW"
      },
      "source": [
        "The pusher component pushes the trained model to the `SERVING_MODEL_DIR` which\n",
        "is the `serving_model/dogs_vs_cats_pipeline` directory if you did not change the\n",
        "variables in the previous steps. You can see the result from the file browser\n",
        "in the left-side panel in Colab, or using the following command:"
      ]
    },
    {
      "cell_type": "code",
      "metadata": {
        "id": "NTHROkqX6yHx",
        "colab": {
          "base_uri": "https://localhost:8080/"
        },
        "outputId": "5963e15f-4368-4dae-f8d6-b28a5893f543"
      },
      "source": [
        "# List files in created model directory.\n",
        "!find {SERVING_MODEL_DIR}"
      ],
      "execution_count": null,
      "outputs": [
        {
          "output_type": "stream",
          "name": "stdout",
          "text": [
            "serving_model/dogs_vs_cats_pipeline\n",
            "serving_model/dogs_vs_cats_pipeline/1682412575\n",
            "serving_model/dogs_vs_cats_pipeline/1682412575/saved_model.pb\n",
            "serving_model/dogs_vs_cats_pipeline/1682412575/keras_metadata.pb\n",
            "serving_model/dogs_vs_cats_pipeline/1682412575/fingerprint.pb\n",
            "serving_model/dogs_vs_cats_pipeline/1682412575/variables\n",
            "serving_model/dogs_vs_cats_pipeline/1682412575/variables/variables.index\n",
            "serving_model/dogs_vs_cats_pipeline/1682412575/variables/variables.data-00000-of-00001\n",
            "serving_model/dogs_vs_cats_pipeline/1682412575/assets\n"
          ]
        }
      ]
    }
  ]
}