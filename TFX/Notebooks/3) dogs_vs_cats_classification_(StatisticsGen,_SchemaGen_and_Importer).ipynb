{
  "nbformat": 4,
  "nbformat_minor": 0,
  "metadata": {
    "colab": {
      "provenance": [],
      "include_colab_link": true
    },
    "kernelspec": {
      "display_name": "Python 3",
      "name": "python3"
    },
    "accelerator": "GPU",
    "gpuClass": "standard"
  },
  "cells": [
    {
      "cell_type": "markdown",
      "metadata": {
        "id": "view-in-github",
        "colab_type": "text"
      },
      "source": [
        "<a href=\"https://colab.research.google.com/github/hadi-ansari/MLOps/blob/main/TFX/Notebooks/3)%20dogs_vs_cats_classification_(StatisticsGen%2C_SchemaGen_and_Importer).ipynb\" target=\"_parent\"><img src=\"https://colab.research.google.com/assets/colab-badge.svg\" alt=\"Open In Colab\"/></a>"
      ]
    },
    {
      "cell_type": "markdown",
      "metadata": {
        "id": "_VuwrlnvQJ5k"
      },
      "source": [
        "# TFX Pipeline Tutorial using cats & dogs dataset\n",
        "\n",
        "In this notebook-based tutorial, we will create and run a TFX pipeline for a cats vs dogs classification model. The pipeline will consist the following components:\n",
        "\n",
        "* ExampleGen\n",
        "* StatisticsGen\n",
        "* SchemaGen\n",
        "* ExampleValidator\n",
        "* Trainer\n",
        "* Pusher\n",
        "\n",
        "\n",
        "Please see\n",
        "[Understanding TFX Pipelines](https://www.tensorflow.org/tfx/guide/understanding_tfx_pipelines)\n",
        "to learn more about various concepts in TFX."
      ]
    },
    {
      "cell_type": "markdown",
      "metadata": {
        "id": "Fmgi8ZvQkScg"
      },
      "source": [
        "## Set Up\n",
        "We first need to install the TFX Python package and download\n",
        "the dataset which we will use for our model.\n"
      ]
    },
    {
      "cell_type": "markdown",
      "source": [
        "### Upgrade Pip"
      ],
      "metadata": {
        "id": "MXel9X23hOUv"
      }
    },
    {
      "cell_type": "code",
      "metadata": {
        "id": "as4OTe2ukSqm"
      },
      "source": [
        "!pip install --upgrade pip"
      ],
      "execution_count": null,
      "outputs": []
    },
    {
      "cell_type": "markdown",
      "source": [
        "### Install TFX"
      ],
      "metadata": {
        "id": "vZTa-TJXhPS1"
      }
    },
    {
      "cell_type": "code",
      "metadata": {
        "id": "iyQtljP-qPHY"
      },
      "source": [
        "!pip install -U tfx"
      ],
      "execution_count": null,
      "outputs": []
    },
    {
      "cell_type": "markdown",
      "source": [
        "### Uninstall shapely\n",
        "\n",
        "TODO(b/263441833) This is a temporal solution to avoid an\n",
        "ImportError. Ultimately, it should be handled by supporting a\n",
        "recent version of Bigquery, instead of uninstalling other extra\n",
        "dependencies."
      ],
      "metadata": {
        "id": "DCa5Bs00k3ZR"
      }
    },
    {
      "cell_type": "code",
      "source": [
        "!pip uninstall shapely -y"
      ],
      "metadata": {
        "id": "mYn4k-r-k3qN"
      },
      "execution_count": null,
      "outputs": []
    },
    {
      "cell_type": "markdown",
      "metadata": {
        "id": "EwT0nov5QO1M"
      },
      "source": [
        "### Did you restart the runtime?\n",
        "\n",
        "If you are using Google Colab, the first time that you run\n",
        "the cell above, you must restart the runtime by clicking\n",
        "above \"RESTART RUNTIME\" button or using \"Runtime > Restart\n",
        "runtime ...\" menu. This is because of the way that Colab\n",
        "loads packages."
      ]
    },
    {
      "cell_type": "markdown",
      "metadata": {
        "id": "aDtLdSkvqPHe"
      },
      "source": [
        "## Necessary imports\n",
        "\n",
        "We also check the TensorFlow and TFX versions."
      ]
    },
    {
      "cell_type": "code",
      "metadata": {
        "id": "6jh7vKSRqPHb",
        "colab": {
          "base_uri": "https://localhost:8080/"
        },
        "outputId": "b396e9f8-c0e1-47ca-b37a-ad06cb125ad4"
      },
      "source": [
        "import numpy as np\n",
        "import os\n",
        "import PIL\n",
        "import PIL.Image\n",
        "import tensorflow_datasets as tfds\n",
        "import tensorflow as tf\n",
        "\n",
        "print('TensorFlow version: {}'.format(tf.__version__))\n",
        "from tfx import v1 as tfx\n",
        "print('TFX version: {}'.format(tfx.__version__))"
      ],
      "execution_count": null,
      "outputs": [
        {
          "output_type": "stream",
          "name": "stdout",
          "text": [
            "TensorFlow version: 2.11.1\n",
            "TFX version: 1.12.0\n"
          ]
        }
      ]
    },
    {
      "cell_type": "markdown",
      "source": [
        "## Load your Kaggle API token"
      ],
      "metadata": {
        "id": "lPe3Ko2SsUSb"
      }
    },
    {
      "cell_type": "code",
      "source": [
        "from google.colab import files\n",
        "files.upload()"
      ],
      "metadata": {
        "id": "4601nR9JQaHM"
      },
      "execution_count": null,
      "outputs": []
    },
    {
      "cell_type": "markdown",
      "source": [
        "## Download the cat vs dog dataset\n",
        "This will the install Kaggle CLI and download the dataset from Kaggle."
      ],
      "metadata": {
        "id": "QHZzlC5nuPYD"
      }
    },
    {
      "cell_type": "code",
      "source": [
        "!pip install -q kaggle\n",
        "!mkdir -p ~/.kaggle\n",
        "!cp kaggle.json ~/.kaggle/\n",
        "'chmod 600 /root/.kaggle/kaggle.json'\n",
        "!kaggle datasets download -d salader/dogs-vs-cats\n",
        "!unzip dogs-vs-cats.zip\n",
        "!rm -rf test train dogs-vs-cats.zip"
      ],
      "metadata": {
        "id": "YpC5qjjwQgwY"
      },
      "execution_count": null,
      "outputs": []
    },
    {
      "cell_type": "markdown",
      "source": [
        "## Reduce size of the dataset (optional)\n",
        "To expedite the ML process, we have opted to decrease the dataset size by eliminating images from both the train and test folders. The number of train images has been reduced from 20,000 to 2,000, while the test images have been decreased from 5,000 to 500. Please note that this reduction is solely for the purpose of testing and to speed up the training process."
      ],
      "metadata": {
        "id": "HiHkto4Jt8k2"
      }
    },
    {
      "cell_type": "code",
      "source": [
        "!ls -1 dogs_vs_cats/train/dogs/* | tail -n +1001 | xargs rm \n",
        "!ls -1 dogs_vs_cats/train/cats/* | tail -n +1001 | xargs rm\n",
        "\n",
        "!ls -1 dogs_vs_cats/test/dogs/* | tail -n +251 | xargs rm \n",
        "!ls -1 dogs_vs_cats/test/cats/* | tail -n +251 | xargs rm "
      ],
      "metadata": {
        "id": "Mju0dtqdtuZL"
      },
      "execution_count": null,
      "outputs": []
    },
    {
      "cell_type": "markdown",
      "metadata": {
        "id": "lOjDv93eS5xV"
      },
      "source": [
        "## Set up variables\n",
        "\n",
        "There are some variables used to define a pipeline. You can customize these\n",
        "variables as you want. By default all output from the pipeline will be\n",
        "generated under the current directory."
      ]
    },
    {
      "cell_type": "code",
      "metadata": {
        "id": "aES7Hv5QTDK3",
        "colab": {
          "base_uri": "https://localhost:8080/"
        },
        "outputId": "8f1fad58-222f-4db1-f6c1-21ecdbc0ad5b"
      },
      "source": [
        "_trainer_module_file = 'dogs_vs_cats_trainer.py'\n",
        "schema_path = 'schema' # create this directory and copy your generated schema here in order to use the Importer.\n",
        "\n",
        "data_root ='dogs_vs_cats'\n",
        "train_dir = os.path.join(data_root, 'train')\n",
        "validation_dir = os.path.join(data_root, 'test')\n",
        "\n",
        "train_cats_dir = os.path.join(train_dir, 'cats')  # directory with our training cat pictures\n",
        "train_dogs_dir = os.path.join(train_dir, 'dogs')  # directory with our training dog pictures\n",
        "validation_cats_dir = os.path.join(validation_dir, 'cats')  # directory with our validation cat pictures\n",
        "validation_dogs_dir = os.path.join(validation_dir, 'dogs')  # directory with our validation dog pictures\n",
        "\n",
        "num_cats_tr = len(os.listdir(train_cats_dir))\n",
        "num_dogs_tr = len(os.listdir(train_dogs_dir))\n",
        "\n",
        "num_cats_val = len(os.listdir(validation_cats_dir))\n",
        "num_dogs_val = len(os.listdir(validation_dogs_dir))\n",
        "\n",
        "total_train = num_cats_tr + num_dogs_tr\n",
        "total_val = num_cats_val + num_dogs_val\n",
        "\n",
        "IMG_HEIGHT = 150\n",
        "IMG_WIDTH = 150\n",
        "batch_size = 128\n",
        "PIPELINE_NAME = 'dogs_vs_cats_pipeline'\n",
        "PIPELINE_ROOT = os.path.join('pipelines', PIPELINE_NAME)\n",
        "SERVING_MODEL_DIR = os.path.join('serving_model', PIPELINE_NAME)\n",
        "METADATA_PATH = os.path.join('metadata', PIPELINE_NAME, 'cat&dog_md.db')\n",
        "\n",
        "\n",
        "print('total training cat images:', num_cats_tr)\n",
        "print('total training dog images:', num_dogs_tr)\n",
        "print('total validation cat images:', num_cats_val)\n",
        "print('total validation dog images:', num_dogs_val)\n",
        "print(\"--\")\n",
        "print(\"Total training images:\", total_train)\n",
        "print(\"Total validation images:\", total_val)"
      ],
      "execution_count": null,
      "outputs": [
        {
          "output_type": "stream",
          "name": "stdout",
          "text": [
            "total training cat images: 1000\n",
            "total training dog images: 1000\n",
            "total validation cat images: 250\n",
            "total validation dog images: 250\n",
            "--\n",
            "Total training images: 2000\n",
            "Total validation images: 500\n"
          ]
        }
      ]
    },
    {
      "cell_type": "markdown",
      "metadata": {
        "id": "w3OkNz3gTLwM"
      },
      "source": [
        "## Convert image dataset to TFRecords\n",
        "\n",
        "We followed the instructions according [this](https://ai.plainenglish.io/a-quick-and-simple-guide-to-tfrecord-c421337a6562).\n"
      ]
    },
    {
      "cell_type": "code",
      "source": [
        "import tensorflow as tf\n",
        "import numpy as np\n",
        "import os\n",
        "from PIL import Image\n",
        "import random\n",
        "import cv2\n",
        "import matplotlib.pyplot as plt\n",
        "\n",
        "# Setup the train and test imgage directories\n",
        "train_dir = os.path.join(data_root, \"train\")\n",
        "test_dir = os.path.join(data_root, \"test\")\n",
        "\n",
        "# setup train and test TFRecord file\n",
        "train_tfrecord='train_data.tfrecords'\n",
        "test_tfrecord = 'test_data.tfrecords'\n",
        "\n",
        "# Define the name of directories of each class\n",
        "# We only have two classes in this case.\n",
        "directories=['dogs', 'cats']\n",
        "\n",
        "# List all train and test image path\n",
        "train_image_path=[]\n",
        "test_image_path=[]\n",
        "\n",
        "for i in range(len(directories)):\n",
        "    for file in os.listdir(os.path.join(train_dir, directories[i])):\n",
        "        train_image_path.append(os.path.join(train_dir, directories[i], file))\n",
        "    for file in os.listdir(os.path.join(test_dir, directories[i])):\n",
        "        test_image_path.append( os.path.join(test_dir, directories[i], file))\n",
        "\n",
        "\n",
        "print(\"Number of train images found: \", len(train_image_path))\n",
        "print(\"Number of test images found: \", len(test_image_path))\n",
        "\n",
        "# Shuffle the image paths for better accuracy and precision\n",
        "random.seed(0)\n",
        "random.shuffle(train_image_path)\n",
        "random.shuffle(test_image_path)\n",
        "\n",
        "# create train and test lables for shuffled image paths\n",
        "# 0 for cat and 1 for dog\n",
        "train_labels=[]\n",
        "test_labels=[]\n",
        "for i in range(len(train_image_path)):\n",
        "    if os.path.basename(train_image_path[i])[:3]=='cat':\n",
        "        train_labels.append(0)\n",
        "    else:\n",
        "        train_labels.append(1)\n",
        "\n",
        "for i in range(len(test_image_path)):\n",
        "    if os.path.basename(test_image_path[i])[:3]=='cat':\n",
        "        test_labels.append(0)\n",
        "    else:\n",
        "        test_labels.append(1)\n",
        "\n",
        "def _bytes_feature(value):\n",
        "    \"\"\"Returns a bytes_list from a string / byte.\"\"\"    \n",
        "    if isinstance(value, type(tf.constant(0))):\n",
        "        value = value.numpy()\n",
        "    return tf.train.Feature(bytes_list=tf.train.BytesList(value=[value]))\n",
        "def _int64_feature(value):\n",
        "    \"\"\"Returns an int64_list from a bool / enum / int / uint.\"\"\"\n",
        "    return tf.train.Feature(int64_list=tf.train.Int64List(value=[value]))\n",
        "def _float_feature(value):\n",
        "    \"\"\"Returns a float_list from a float / double.\"\"\"\n",
        "    return tf.train.Feature(float_list=tf.train.FloatList(value=[value]))\n",
        "\n",
        "def serialize_example(image_string, label):\n",
        "    ## Create a dictionary with features for images and their target labels\n",
        "    image_shape = tf.io.decode_jpeg(image_string).shape\n",
        "\n",
        "    feature = {\n",
        "      'label': _int64_feature(label),\n",
        "      'image_raw': _bytes_feature(image_string),\n",
        "    }\n",
        "    #  Create a Features message using tf.train.Example.\n",
        "    example_proto = tf.train.Example(features=tf.train.Features(feature=feature))\n",
        "    #serializes the message and returns it as a string. Note that the bytes are binary\n",
        "    return example_proto.SerializeToString()\n",
        "\n",
        "def write_TFRecord(image_path, label):\n",
        "    image_string = open(image_path, 'rb').read()\n",
        "    example = serialize_example(image_string, label)\n",
        "    return example\n",
        "\n",
        "#Write Train TFRecord file\n",
        "with tf.io.TFRecordWriter(train_tfrecord) as writer:\n",
        "    for image_path, label in zip(train_image_path, train_labels):\n",
        "        writer.write(write_TFRecord(image_path, int(label)))\n",
        "#Write Test TFRecord file\n",
        "with tf.io.TFRecordWriter(test_tfrecord) as writer:\n",
        "    for image_path, label in zip(test_image_path, test_labels):\n",
        "         writer.write(write_TFRecord(image_path, int(label)))"
      ],
      "metadata": {
        "id": "BN00rTsiyvV7",
        "colab": {
          "base_uri": "https://localhost:8080/"
        },
        "outputId": "2d3ca6f3-c655-4fb0-aa9a-828f5720bd80"
      },
      "execution_count": null,
      "outputs": [
        {
          "output_type": "stream",
          "name": "stdout",
          "text": [
            "Number of train images found:  2000\n",
            "Number of test images found:  500\n"
          ]
        }
      ]
    },
    {
      "cell_type": "markdown",
      "source": [
        "## Anomaly test\n",
        "This code is to test anomaly and ExampleValidator component. Do **NOT** run this code if you don't want to add a invalid data into the dataset."
      ],
      "metadata": {
        "id": "7gBCcEZcnXD2"
      }
    },
    {
      "cell_type": "code",
      "source": [
        "with tf.io.TFRecordWriter(train_tfrecord) as writer:\n",
        "    for image_path, label in zip(train_image_path, train_labels):\n",
        "      writer.write(write_TFRecord(image_path, 3))\n",
        "      break"
      ],
      "metadata": {
        "id": "e3dNy_-VnSij"
      },
      "execution_count": null,
      "outputs": []
    },
    {
      "cell_type": "markdown",
      "source": [
        "## Restructure the files\n",
        "This commands restructure the files and create a directory named `dataset` and move the TFRecord files into `dataset/train` and `dataset/test`."
      ],
      "metadata": {
        "id": "hd1Dcindnv6A"
      }
    },
    {
      "cell_type": "code",
      "source": [
        "!rm -rf dataset\n",
        "!mkdir dataset\n",
        "!mkdir dataset/train\n",
        "!mkdir dataset/test\n",
        "!mv train_data.tfrecords dataset/train\n",
        "!mv test_data.tfrecords dataset/test"
      ],
      "metadata": {
        "id": "VXBCczk-wx_N"
      },
      "execution_count": null,
      "outputs": []
    },
    {
      "cell_type": "markdown",
      "source": [
        "## Write model training code\n",
        "\n",
        "We will create a simple CNN (Convolutional Neural Network) model for cats vs dogs classification using TensorFlow Keras\n",
        "API. This model training code will be saved to a separate file.\n",
        "\n",
        "For model training code we found this tutorial on Kaggle\n",
        "[here](https://www.kaggle.com/code/alpaca0984/dogs-vs-cats-tensorflow-2-0-on-google-colab). You need to write a Python file\n",
        "containing `run_fn` function, which is the entrypoint for the `Trainer`\n",
        "component."
      ],
      "metadata": {
        "id": "z82OnLL6osx2"
      }
    },
    {
      "cell_type": "code",
      "source": [
        "%%writefile {_trainer_module_file}\n",
        "\n",
        "import tensorflow as tf\n",
        "from tfx import v1 as tfx\n",
        "import matplotlib.pyplot as plt\n",
        "import tensorflow_transform as tft\n",
        "from tfx_bsl.tfxio import dataset_options\n",
        "import os\n",
        "import gzip\n",
        "from typing import List\n",
        "from tensorflow_metadata.proto.v0 import schema_pb2\n",
        "from tfx import v1 as tfx\n",
        "from tfx_bsl.public import tfxio\n",
        "from tensorflow_transform.tf_metadata import schema_utils\n",
        "\n",
        "\n",
        "_LABEL_KEY = 'label'\n",
        "IMG_HEIGHT = 150\n",
        "IMG_WIDTH = 150\n",
        "batch_size = 128\n",
        "\n",
        "_TRAIN_DATA_SIZE = 2000\n",
        "_TEST_DATA_SIZE = 500\n",
        "\n",
        "_FEATURE_SPEC = {\n",
        "    'label': tf.io.FixedLenFeature([], tf.int64),\n",
        "    'image_raw': tf.io.FixedLenFeature([], tf.string),\n",
        "}\n",
        "\n",
        "\n",
        "# Define a function to parse the tfrecord dataset\n",
        "def _parse_function(features, label):\n",
        "  image = tf.io.decode_jpeg(features['image_raw'], channels=3)\n",
        "  image = tf.image.resize(image, [IMG_HEIGHT, IMG_WIDTH])\n",
        "    \n",
        "  return image, label\n",
        "\n",
        "def _input_fn(file_pattern: List[str],\n",
        "              data_accessor: tfx.components.DataAccessor,\n",
        "              schema: schema_pb2.Schema,\n",
        "              batch_size: int = 128) -> tf.data.Dataset:\n",
        "  \"\"\"Generates features and label for training.\n",
        "\n",
        "  Args:\n",
        "    file_pattern: List of paths or patterns of input tfrecord files.\n",
        "    data_accessor: DataAccessor for converting input to RecordBatch.\n",
        "    schema: schema of the input data.\n",
        "    batch_size: representing the number of consecutive elements of returned\n",
        "      dataset to combine in a single batch\n",
        "\n",
        "  Returns:\n",
        "    A dataset that contains (features, indices) tuple where features is a\n",
        "      dictionary of Tensors, and indices is a single Tensor of label indices.\n",
        "  \"\"\"\n",
        "  return data_accessor.tf_dataset_factory(\n",
        "      file_pattern,\n",
        "      tfxio.TensorFlowDatasetOptions(\n",
        "          batch_size=batch_size, label_key=_LABEL_KEY),\n",
        "      schema=schema)\n",
        "\n",
        "\n",
        "# TFX Trainer will call this function.\n",
        "def run_fn(fn_args: tfx.components.FnArgs):\n",
        "  \n",
        "    epochs = 32\n",
        "    #Create the model\n",
        "    model = tf.keras.models.Sequential([\n",
        "        tf.keras.layers.Conv2D(32, 3, padding='same', activation='relu', input_shape=(IMG_HEIGHT, IMG_WIDTH, 3)),\n",
        "        tf.keras.layers.Conv2D(32, 3, padding='same', activation='relu'),\n",
        "        tf.keras.layers.MaxPooling2D(),\n",
        "\n",
        "        tf.keras.layers.Conv2D(64, 3, padding='same', activation='relu'),\n",
        "        tf.keras.layers.Conv2D(64, 3, padding='same', activation='relu'),\n",
        "        tf.keras.layers.MaxPooling2D(),\n",
        "\n",
        "        tf.keras.layers.Conv2D(128, 3, padding='same', activation='relu'),\n",
        "        tf.keras.layers.Conv2D(128, 3, padding='same', activation='relu'),\n",
        "        tf.keras.layers.MaxPooling2D(),\n",
        "\n",
        "        tf.keras.layers.Flatten(),\n",
        "        tf.keras.layers.Dense(256, activation='relu'),\n",
        "        tf.keras.layers.Dropout(0.5),\n",
        "        tf.keras.layers.Dense(256, activation='relu'),\n",
        "        tf.keras.layers.Dropout(0.5),\n",
        "        tf.keras.layers.Dense(1, activation='sigmoid')\n",
        "    ])\n",
        "\n",
        "    # Compile the model\n",
        "    model.compile(optimizer='adam',\n",
        "              loss=tf.keras.losses.BinaryCrossentropy(),\n",
        "              metrics=['accuracy'])\n",
        " \n",
        "    # Print a summary of the model\n",
        "    model.summary()\n",
        "\n",
        "    schema = tfx.utils.parse_pbtxt_file(fn_args.schema_path, schema_pb2.Schema())\n",
        "    \n",
        "    # Load the training dataset\n",
        "    train_ds = _input_fn(\n",
        "        fn_args.train_files,\n",
        "        fn_args.data_accessor,\n",
        "        schema,\n",
        "        batch_size=batch_size)\n",
        "\n",
        "    train_ds = train_ds.unbatch()\n",
        "    train_ds = train_ds.unbatch()\n",
        "    train_ds = train_ds.map(_parse_function)\n",
        "    train_ds = train_ds.batch(batch_size)\n",
        "  \n",
        "\n",
        "    # Load the test dataset\n",
        "    eval_ds = _input_fn(\n",
        "        fn_args.eval_files,\n",
        "        fn_args.data_accessor,\n",
        "        schema,\n",
        "        batch_size=batch_size)\n",
        "    \n",
        "    eval_ds = eval_ds.unbatch()\n",
        "    eval_ds = eval_ds.unbatch()\n",
        "    eval_ds = eval_ds.map(_parse_function)\n",
        "    eval_ds = eval_ds.batch(batch_size)\n",
        "\n",
        "\n",
        "    steps_per_epoch = int(_TRAIN_DATA_SIZE / batch_size)\n",
        "    validation_steps = int(_TEST_DATA_SIZE / batch_size)\n",
        "\n",
        "\n",
        "    # Train our model\n",
        "    history = model.fit(train_ds, epochs=epochs, validation_data=eval_ds,steps_per_epoch=steps_per_epoch, validation_steps=validation_steps)\n",
        "\n",
        "\n",
        "    acc = history.history['accuracy']\n",
        "    val_acc = history.history['val_accuracy']\n",
        "\n",
        "    loss = history.history['loss']\n",
        "    val_loss = history.history['val_loss']\n",
        "\n",
        "    epochs_range = range(epochs)\n",
        "\n",
        "    plt.figure(figsize=(8, 8))\n",
        "    plt.subplot(1, 2, 1)\n",
        "    plt.plot(epochs_range, acc, label='Training Accuracy')\n",
        "    plt.plot(epochs_range, val_acc, label='Validation Accuracy')\n",
        "    plt.legend(loc='lower right')\n",
        "    plt.title('Training and Validation Accuracy')\n",
        "\n",
        "    plt.subplot(1, 2, 2)\n",
        "    plt.plot(epochs_range, loss, label='Training Loss')\n",
        "    plt.plot(epochs_range, val_loss, label='Validation Loss')\n",
        "    plt.legend(loc='upper right')\n",
        "    plt.title('Training and Validation Loss')\n",
        "    plt.show()\n",
        "\n",
        "    # The result of the training should be saved in `fn_args.serving_model_dir`\n",
        "    # directory.\n",
        "    model.save(fn_args.serving_model_dir, save_format='tf')"
      ],
      "metadata": {
        "colab": {
          "base_uri": "https://localhost:8080/"
        },
        "id": "FuLII9u_It23",
        "outputId": "0211d915-ebaf-45ff-8ef8-9e3bc9286ca1"
      },
      "execution_count": null,
      "outputs": [
        {
          "output_type": "stream",
          "name": "stdout",
          "text": [
            "Writing dogs_vs_cats_trainer.py\n"
          ]
        }
      ]
    },
    {
      "cell_type": "markdown",
      "source": [
        "## Define the pipeline\n",
        "We define the ML pipeline here. The components of the pipeline are: * ExampleGen\n",
        "* StatisticsGen\n",
        "* SchemaGen / Importer\n",
        "* ExampleValidator\n",
        "* Trainer\n",
        "* Pusher\n",
        "\n",
        "Run one of the following alternatives depending on if you have generated schema or not. Normally you need to run the **ALTERNATIVE 1** only for the first time.\n",
        "\n",
        "For ingesting the image dataset into the pipeline, we got help from this github repository [github](https://github.com/tensorflow/tfx/blob/master/tfx/examples/cifar10/cifar10_pipeline_native_keras.py)"
      ],
      "metadata": {
        "id": "AX5ocD1FYI_H"
      }
    },
    {
      "cell_type": "markdown",
      "source": [
        "### Alternative 1 (SchemaGen)\n",
        "In case you do have **NOT** generated schema, opt for this method."
      ],
      "metadata": {
        "id": "As0esz5u9IGN"
      }
    },
    {
      "cell_type": "code",
      "metadata": {
        "id": "M49yYVNBTPd4"
      },
      "source": [
        "from tfx.proto import example_gen_pb2\n",
        "\n",
        "\n",
        "def _create_pipeline(pipeline_name: str, pipeline_root: str,\n",
        "                     module_file: str, serving_model_dir: str,\n",
        "                     metadata_path: str) -> tfx.dsl.Pipeline:\n",
        "  print(\"Pipeline creation is running...\\n\\n\\n\")\n",
        "\n",
        "  \"\"\"Creates a three component penguin pipeline with TFX.\"\"\"\n",
        " \n",
        "  input_config = example_gen_pb2.Input(splits=[\n",
        "      example_gen_pb2.Input.Split(name='train', pattern='train/*'),\n",
        "      example_gen_pb2.Input.Split(name='eval', pattern='test/*')\n",
        "  ])\n",
        "\n",
        "  # Brings data into the pipeline.\n",
        "  example_gen = tfx.components.ImportExampleGen(\n",
        "      input_base='/content/dataset', input_config=input_config)\n",
        "  \n",
        "  \n",
        "  # Computes statistics over data for visualization and schema generation.\n",
        "  statistics_gen = tfx.components.StatisticsGen(\n",
        "      examples=example_gen.outputs['examples'])\n",
        "  \n",
        "  # Generates schema based on the generated statistics.\n",
        "  schema_gen = tfx.components.SchemaGen(\n",
        "      statistics=statistics_gen.outputs['statistics'], infer_feature_shape=True)\n",
        "  \n",
        "  # Performs anomaly detection based on statistics and data schema.\n",
        "  example_validator = tfx.components.ExampleValidator(\n",
        "      statistics=statistics_gen.outputs['statistics'],\n",
        "      schema=schema_gen.outputs['schema']\n",
        "      )\n",
        "\n",
        "  # Uses user-provided Python function that trains a model.\n",
        "  trainer = tfx.components.Trainer(\n",
        "      module_file=module_file,\n",
        "      examples=example_gen.outputs['examples'],\n",
        "      schema= schema_gen.outputs['schema']\n",
        "      )\n",
        "  \n",
        "  # Pushes the model to a filesystem destination.\n",
        "  pusher = tfx.components.Pusher(\n",
        "      model=trainer.outputs['model'],\n",
        "      push_destination=tfx.proto.PushDestination(\n",
        "          filesystem=tfx.proto.PushDestination.Filesystem(\n",
        "              base_directory=serving_model_dir)))\n",
        "  \n",
        "  # Following three components will be included in the pipeline.\n",
        "  components = [\n",
        "      example_gen,\n",
        "      statistics_gen,\n",
        "      schema_gen,\n",
        "      example_validator,\n",
        "      trainer,\n",
        "      pusher,\n",
        "  ]\n",
        "\n",
        "  return tfx.dsl.Pipeline(\n",
        "      pipeline_name=pipeline_name,\n",
        "      pipeline_root=pipeline_root,\n",
        "      metadata_connection_config=tfx.orchestration.metadata\n",
        "      .sqlite_metadata_connection_config(metadata_path),\n",
        "      components=components)"
      ],
      "execution_count": null,
      "outputs": []
    },
    {
      "cell_type": "markdown",
      "source": [
        "### Alternative 2 (Importer)\n",
        "In case you do have generated schema, opt for this method. After running the pipeline with SchemaGen (**ALTERNATIVE 1)** a schema is created in `pipelines/SchemaGen/schema/[number]/` direcotry. For the second time and for avoiding schema generation every time this schema can be imported using Importer component. You need to also create a directory named `schema` and copy the generated schema into it."
      ],
      "metadata": {
        "id": "h9zL5rYf9Keu"
      }
    },
    {
      "cell_type": "code",
      "source": [
        "from tfx.proto import example_gen_pb2\n",
        "\n",
        "\n",
        "def _create_pipeline(pipeline_name: str, pipeline_root: str,\n",
        "                     module_file: str, serving_model_dir: str,\n",
        "                     metadata_path: str) -> tfx.dsl.Pipeline:\n",
        "  print(\"Pipeline creation is running...\\n\\n\\n\")\n",
        "\n",
        "  \"\"\"Creates a three component penguin pipeline with TFX.\"\"\"\n",
        " \n",
        "  input_config = example_gen_pb2.Input(splits=[\n",
        "      example_gen_pb2.Input.Split(name='train', pattern='train/*'),\n",
        "      example_gen_pb2.Input.Split(name='eval', pattern='test/*')\n",
        "  ])\n",
        "\n",
        "  # Brings data into the pipeline.\n",
        "  example_gen = tfx.components.ImportExampleGen(\n",
        "      input_base='/content/dataset', input_config=input_config)\n",
        "  \n",
        "  \n",
        "  # Computes statistics over data for visualization and schema generation.\n",
        "  statistics_gen = tfx.components.StatisticsGen(\n",
        "      examples=example_gen.outputs['examples'])\n",
        "  \n",
        "  # Import the schema.\n",
        "  schema_importer = tfx.dsl.Importer(\n",
        "      source_uri = schema_path,\n",
        "      artifact_type = tfx.types.standard_artifacts.Schema).with_id(\n",
        "          'schema_importer')\n",
        "\n",
        "  # Performs anomaly detection based on statistics and data schema.\n",
        "  example_validator = tfx.components.ExampleValidator(\n",
        "      statistics=statistics_gen.outputs['statistics'],\n",
        "      schema=schema_importer.outputs['result'])\n",
        "\n",
        "  # Uses user-provided Python function that trains a model.\n",
        "  trainer = tfx.components.Trainer(\n",
        "      module_file=module_file,\n",
        "      examples=example_gen.outputs['examples'],\n",
        "      schema=schema_importer.outputs['result'])\n",
        "  \n",
        "  # Pushes the model to a filesystem destination.\n",
        "  pusher = tfx.components.Pusher(\n",
        "      model=trainer.outputs['model'],\n",
        "      push_destination=tfx.proto.PushDestination(\n",
        "          filesystem=tfx.proto.PushDestination.Filesystem(\n",
        "              base_directory=serving_model_dir)))\n",
        "  \n",
        "  # Following three components will be included in the pipeline.\n",
        "  components = [\n",
        "      example_gen,\n",
        "      statistics_gen,\n",
        "      schema_importer,\n",
        "      example_validator,\n",
        "      trainer,\n",
        "      pusher,\n",
        "  ]\n",
        "\n",
        "  return tfx.dsl.Pipeline(\n",
        "      pipeline_name=pipeline_name,\n",
        "      pipeline_root=pipeline_root,\n",
        "      metadata_connection_config=tfx.orchestration.metadata\n",
        "      .sqlite_metadata_connection_config(metadata_path),\n",
        "      components=components)"
      ],
      "metadata": {
        "id": "zAtuMcYQ9RJr"
      },
      "execution_count": null,
      "outputs": []
    },
    {
      "cell_type": "markdown",
      "metadata": {
        "id": "mJbq07THU2GV"
      },
      "source": [
        "## Run the pipeline\n",
        "\n",
        "TFX supports multiple orchestrators to run pipelines.\n",
        "In this tutorial we will use `LocalDagRunner` which is included in the TFX\n",
        "Python package and runs pipelines on local environment.\n",
        "We often call TFX pipelines \"DAGs\" which stands for directed acyclic graph.\n",
        "\n",
        "`LocalDagRunner` provides fast iterations for development and debugging.\n",
        "TFX also supports other orchestrators including Kubeflow Pipelines and Apache\n",
        "Airflow which are suitable for production use cases.\n",
        "\n",
        "See\n",
        "[TFX on Cloud AI Platform Pipelines](https://www.tensorflow.org/tfx/tutorials/tfx/cloud-ai-platform-pipelines)\n",
        "or\n",
        "[TFX Airflow Tutorial](https://www.tensorflow.org/tfx/tutorials/tfx/airflow_workshop)\n",
        "to learn more about other orchestration systems."
      ]
    },
    {
      "cell_type": "code",
      "metadata": {
        "id": "fAtfOZTYWJu-",
        "colab": {
          "base_uri": "https://localhost:8080/",
          "height": 1000
        },
        "outputId": "e8e5c7d8-baaf-4d28-f430-eac67e15905b"
      },
      "source": [
        "tfx.orchestration.LocalDagRunner().run(\n",
        "  _create_pipeline(\n",
        "      pipeline_name=PIPELINE_NAME,\n",
        "      pipeline_root=PIPELINE_ROOT,\n",
        "      module_file=_trainer_module_file,\n",
        "      serving_model_dir=SERVING_MODEL_DIR,\n",
        "      metadata_path=METADATA_PATH))"
      ],
      "execution_count": null,
      "outputs": [
        {
          "output_type": "stream",
          "name": "stdout",
          "text": [
            "Pipeline creation is running...\n",
            "\n",
            "\n",
            "\n"
          ]
        },
        {
          "output_type": "stream",
          "name": "stderr",
          "text": [
            "WARNING:apache_beam.runners.interactive.interactive_environment:Dependencies required for Interactive Beam PCollection visualization are not available, please use: `pip install apache-beam[interactive]` to install necessary dependencies to enable all data visualization features.\n"
          ]
        },
        {
          "output_type": "display_data",
          "data": {
            "application/javascript": [
              "\n",
              "        if (typeof window.interactive_beam_jquery == 'undefined') {\n",
              "          var jqueryScript = document.createElement('script');\n",
              "          jqueryScript.src = 'https://code.jquery.com/jquery-3.4.1.slim.min.js';\n",
              "          jqueryScript.type = 'text/javascript';\n",
              "          jqueryScript.onload = function() {\n",
              "            var datatableScript = document.createElement('script');\n",
              "            datatableScript.src = 'https://cdn.datatables.net/1.10.20/js/jquery.dataTables.min.js';\n",
              "            datatableScript.type = 'text/javascript';\n",
              "            datatableScript.onload = function() {\n",
              "              window.interactive_beam_jquery = jQuery.noConflict(true);\n",
              "              window.interactive_beam_jquery(document).ready(function($){\n",
              "                \n",
              "              });\n",
              "            }\n",
              "            document.head.appendChild(datatableScript);\n",
              "          };\n",
              "          document.head.appendChild(jqueryScript);\n",
              "        } else {\n",
              "          window.interactive_beam_jquery(document).ready(function($){\n",
              "            \n",
              "          });\n",
              "        }"
            ]
          },
          "metadata": {}
        },
        {
          "output_type": "stream",
          "name": "stderr",
          "text": [
            "WARNING:apache_beam.io.tfrecordio:Couldn't find python-snappy so the implementation of _TFRecordUtil._masked_crc32c is not as fast as it could be.\n",
            "WARNING:absl:ArtifactQuery.property_predicate is not supported.\n",
            "WARNING:absl:ArtifactQuery.property_predicate is not supported.\n",
            "WARNING:absl:ArtifactQuery.property_predicate is not supported.\n",
            "WARNING:absl:ArtifactQuery.property_predicate is not supported.\n",
            "WARNING:absl:ArtifactQuery.property_predicate is not supported.\n",
            "WARNING:absl:ArtifactQuery.property_predicate is not supported.\n"
          ]
        },
        {
          "output_type": "stream",
          "name": "stdout",
          "text": [
            "Model: \"sequential\"\n",
            "_________________________________________________________________\n",
            " Layer (type)                Output Shape              Param #   \n",
            "=================================================================\n",
            " conv2d (Conv2D)             (None, 150, 150, 32)      896       \n",
            "                                                                 \n",
            " conv2d_1 (Conv2D)           (None, 150, 150, 32)      9248      \n",
            "                                                                 \n",
            " max_pooling2d (MaxPooling2D  (None, 75, 75, 32)       0         \n",
            " )                                                               \n",
            "                                                                 \n",
            " conv2d_2 (Conv2D)           (None, 75, 75, 64)        18496     \n",
            "                                                                 \n",
            " conv2d_3 (Conv2D)           (None, 75, 75, 64)        36928     \n",
            "                                                                 \n",
            " max_pooling2d_1 (MaxPooling  (None, 37, 37, 64)       0         \n",
            " 2D)                                                             \n",
            "                                                                 \n",
            " conv2d_4 (Conv2D)           (None, 37, 37, 128)       73856     \n",
            "                                                                 \n",
            " conv2d_5 (Conv2D)           (None, 37, 37, 128)       147584    \n",
            "                                                                 \n",
            " max_pooling2d_2 (MaxPooling  (None, 18, 18, 128)      0         \n",
            " 2D)                                                             \n",
            "                                                                 \n",
            " flatten (Flatten)           (None, 41472)             0         \n",
            "                                                                 \n",
            " dense (Dense)               (None, 256)               10617088  \n",
            "                                                                 \n",
            " dropout (Dropout)           (None, 256)               0         \n",
            "                                                                 \n",
            " dense_1 (Dense)             (None, 256)               65792     \n",
            "                                                                 \n",
            " dropout_1 (Dropout)         (None, 256)               0         \n",
            "                                                                 \n",
            " dense_2 (Dense)             (None, 1)                 257       \n",
            "                                                                 \n",
            "=================================================================\n",
            "Total params: 10,970,145\n",
            "Trainable params: 10,970,145\n",
            "Non-trainable params: 0\n",
            "_________________________________________________________________\n"
          ]
        },
        {
          "output_type": "stream",
          "name": "stderr",
          "text": [
            "WARNING:tensorflow:From /usr/local/lib/python3.9/dist-packages/tensorflow/python/autograph/pyct/static_analysis/liveness.py:83: Analyzer.lamba_check (from tensorflow.python.autograph.pyct.static_analysis.liveness) is deprecated and will be removed after 2023-09-23.\n",
            "Instructions for updating:\n",
            "Lambda fuctions will be no more assumed to be used in the statement where they are used, or at least in the same block. https://github.com/tensorflow/tensorflow/issues/56089\n"
          ]
        },
        {
          "output_type": "stream",
          "name": "stdout",
          "text": [
            "Epoch 1/32\n",
            "15/15 [==============================] - 24s 268ms/step - loss: 5.0496 - accuracy: 0.5125 - val_loss: 0.6931 - val_accuracy: 0.4922\n",
            "Epoch 2/32\n",
            "15/15 [==============================] - 5s 308ms/step - loss: 0.6934 - accuracy: 0.5016 - val_loss: 0.6928 - val_accuracy: 0.5703\n",
            "Epoch 3/32\n",
            "15/15 [==============================] - 5s 318ms/step - loss: 0.6908 - accuracy: 0.5375 - val_loss: 0.6934 - val_accuracy: 0.4844\n",
            "Epoch 4/32\n",
            "15/15 [==============================] - 5s 318ms/step - loss: 0.6952 - accuracy: 0.4953 - val_loss: 0.6934 - val_accuracy: 0.4896\n",
            "Epoch 5/32\n",
            "15/15 [==============================] - 4s 243ms/step - loss: 0.6933 - accuracy: 0.4964 - val_loss: 0.6932 - val_accuracy: 0.4844\n",
            "Epoch 6/32\n",
            "15/15 [==============================] - 4s 243ms/step - loss: 0.6931 - accuracy: 0.5010 - val_loss: 0.6930 - val_accuracy: 0.5130\n",
            "Epoch 7/32\n",
            "15/15 [==============================] - 4s 263ms/step - loss: 0.6920 - accuracy: 0.5224 - val_loss: 0.6925 - val_accuracy: 0.5703\n",
            "Epoch 8/32\n",
            "15/15 [==============================] - 4s 304ms/step - loss: 0.6915 - accuracy: 0.5089 - val_loss: 0.6921 - val_accuracy: 0.4922\n",
            "Epoch 9/32\n",
            "15/15 [==============================] - 6s 389ms/step - loss: 0.6868 - accuracy: 0.5401 - val_loss: 0.6878 - val_accuracy: 0.5573\n",
            "Epoch 10/32\n",
            "15/15 [==============================] - 5s 307ms/step - loss: 0.7071 - accuracy: 0.5484 - val_loss: 0.6908 - val_accuracy: 0.5260\n",
            "Epoch 11/32\n",
            "15/15 [==============================] - 4s 249ms/step - loss: 0.6762 - accuracy: 0.5698 - val_loss: 0.6789 - val_accuracy: 0.5391\n",
            "Epoch 12/32\n",
            "15/15 [==============================] - 4s 248ms/step - loss: 0.6523 - accuracy: 0.6036 - val_loss: 0.6891 - val_accuracy: 0.5573\n",
            "Epoch 13/32\n",
            "15/15 [==============================] - 5s 315ms/step - loss: 0.6377 - accuracy: 0.6224 - val_loss: 0.6842 - val_accuracy: 0.5703\n",
            "Epoch 14/32\n",
            "15/15 [==============================] - 5s 312ms/step - loss: 0.6215 - accuracy: 0.6333 - val_loss: 0.7178 - val_accuracy: 0.5755\n",
            "Epoch 15/32\n",
            "15/15 [==============================] - 5s 318ms/step - loss: 0.5967 - accuracy: 0.6599 - val_loss: 0.7599 - val_accuracy: 0.5807\n",
            "Epoch 16/32\n",
            "15/15 [==============================] - 4s 251ms/step - loss: 0.5634 - accuracy: 0.6943 - val_loss: 0.9102 - val_accuracy: 0.5807\n",
            "Epoch 17/32\n",
            "15/15 [==============================] - 4s 252ms/step - loss: 0.5416 - accuracy: 0.7057 - val_loss: 0.9044 - val_accuracy: 0.5755\n",
            "Epoch 18/32\n",
            "15/15 [==============================] - 4s 300ms/step - loss: 0.4751 - accuracy: 0.7542 - val_loss: 0.8545 - val_accuracy: 0.5729\n",
            "Epoch 19/32\n",
            "15/15 [==============================] - 5s 328ms/step - loss: 0.4363 - accuracy: 0.7677 - val_loss: 1.0171 - val_accuracy: 0.5964\n",
            "Epoch 20/32\n",
            "15/15 [==============================] - 5s 327ms/step - loss: 0.4007 - accuracy: 0.8047 - val_loss: 0.9824 - val_accuracy: 0.5859\n",
            "Epoch 21/32\n",
            "15/15 [==============================] - 4s 256ms/step - loss: 0.3821 - accuracy: 0.8177 - val_loss: 1.0046 - val_accuracy: 0.6068\n",
            "Epoch 22/32\n",
            "15/15 [==============================] - 4s 257ms/step - loss: 0.3281 - accuracy: 0.8490 - val_loss: 1.4848 - val_accuracy: 0.5938\n",
            "Epoch 23/32\n",
            "15/15 [==============================] - 5s 307ms/step - loss: 0.3021 - accuracy: 0.8562 - val_loss: 1.4389 - val_accuracy: 0.5911\n",
            "Epoch 24/32\n",
            "15/15 [==============================] - 4s 302ms/step - loss: 0.2469 - accuracy: 0.8865 - val_loss: 1.2192 - val_accuracy: 0.5625\n",
            "Epoch 25/32\n",
            "15/15 [==============================] - 5s 308ms/step - loss: 0.2639 - accuracy: 0.8880 - val_loss: 1.2845 - val_accuracy: 0.6328\n",
            "Epoch 26/32\n",
            "15/15 [==============================] - 4s 260ms/step - loss: 0.2004 - accuracy: 0.9099 - val_loss: 1.7368 - val_accuracy: 0.5990\n",
            "Epoch 27/32\n",
            "15/15 [==============================] - 4s 257ms/step - loss: 0.1729 - accuracy: 0.9276 - val_loss: 1.8381 - val_accuracy: 0.6016\n",
            "Epoch 28/32\n",
            "15/15 [==============================] - 5s 307ms/step - loss: 0.1457 - accuracy: 0.9411 - val_loss: 2.1232 - val_accuracy: 0.5859\n",
            "Epoch 29/32\n",
            "15/15 [==============================] - 5s 313ms/step - loss: 0.1226 - accuracy: 0.9474 - val_loss: 2.0429 - val_accuracy: 0.6302\n",
            "Epoch 30/32\n",
            "15/15 [==============================] - 5s 307ms/step - loss: 0.0990 - accuracy: 0.9620 - val_loss: 2.7036 - val_accuracy: 0.5781\n",
            "Epoch 31/32\n",
            "15/15 [==============================] - 4s 260ms/step - loss: 0.1068 - accuracy: 0.9646 - val_loss: 2.0919 - val_accuracy: 0.5911\n",
            "Epoch 32/32\n",
            "15/15 [==============================] - 4s 256ms/step - loss: 0.1267 - accuracy: 0.9604 - val_loss: 2.0662 - val_accuracy: 0.6094\n"
          ]
        },
        {
          "output_type": "display_data",
          "data": {
            "text/plain": [
              "<Figure size 800x800 with 2 Axes>"
            ],
            "image/png": "[encoded data removed]"
          },
          "metadata": {}
        },
        {
          "output_type": "stream",
          "name": "stderr",
          "text": [
            "WARNING:absl:Found untraced functions such as _jit_compiled_convolution_op, _jit_compiled_convolution_op, _jit_compiled_convolution_op, _jit_compiled_convolution_op, _jit_compiled_convolution_op while saving (showing 5 of 6). These functions will not be directly callable after loading.\n",
            "WARNING:absl:ArtifactQuery.property_predicate is not supported.\n",
            "WARNING:absl:Pusher is going to push the model without validation. Consider using Evaluator or InfraValidator in your pipeline.\n"
          ]
        }
      ]
    },
    {
      "cell_type": "markdown",
      "metadata": {
        "id": "ppERq0Mj6xvW"
      },
      "source": [
        "The pusher component pushes the trained model to the `SERVING_MODEL_DIR` which\n",
        "is the `serving_model/dogs_vs_cats_pipeline` directory if you did not change the\n",
        "variables in the previous steps. You can see the result from the file browser\n",
        "in the left-side panel in Colab, or using the following command:"
      ]
    },
    {
      "cell_type": "code",
      "source": [
        "# List files in created model directory.\n",
        "!find {SERVING_MODEL_DIR}"
      ],
      "metadata": {
        "colab": {
          "base_uri": "https://localhost:8080/"
        },
        "id": "_rrS5n3Ypmdj",
        "outputId": "ae122c69-6156-4e13-a224-5f435c1b3e49"
      },
      "execution_count": null,
      "outputs": [
        {
          "output_type": "stream",
          "name": "stdout",
          "text": [
            "serving_model/dogs_vs_cats_pipeline\n",
            "serving_model/dogs_vs_cats_pipeline/1682335125\n",
            "serving_model/dogs_vs_cats_pipeline/1682335125/assets\n",
            "serving_model/dogs_vs_cats_pipeline/1682335125/saved_model.pb\n",
            "serving_model/dogs_vs_cats_pipeline/1682335125/variables\n",
            "serving_model/dogs_vs_cats_pipeline/1682335125/variables/variables.data-00000-of-00001\n",
            "serving_model/dogs_vs_cats_pipeline/1682335125/variables/variables.index\n",
            "serving_model/dogs_vs_cats_pipeline/1682335125/keras_metadata.pb\n",
            "serving_model/dogs_vs_cats_pipeline/1682335125/fingerprint.pb\n"
          ]
        }
      ]
    },
    {
      "cell_type": "markdown",
      "source": [
        "## Review outputs of the pipeline"
      ],
      "metadata": {
        "id": "vmsWODOJumiB"
      }
    },
    {
      "cell_type": "code",
      "source": [
        "from ml_metadata.proto import metadata_store_pb2\n",
        "# Non-public APIs, just for showcase.\n",
        "from tfx.orchestration.portable.mlmd import execution_lib\n",
        "\n",
        "# TODO(b/171447278): Move these functions into the TFX library.\n",
        "\n",
        "def get_latest_artifacts(metadata, pipeline_name, component_id):\n",
        "  \"\"\"Output artifacts of the latest run of the component.\"\"\"\n",
        "  context = metadata.store.get_context_by_type_and_name(\n",
        "      'node', f'{pipeline_name}.{component_id}')\n",
        "  executions = metadata.store.get_executions_by_context(context.id)\n",
        "  latest_execution = max(executions,\n",
        "                         key=lambda e:e.last_update_time_since_epoch)\n",
        "  return execution_lib.get_output_artifacts(metadata, latest_execution.id)\n",
        "\n",
        "# Non-public APIs, just for showcase.\n",
        "from tfx.orchestration.experimental.interactive import visualizations\n",
        "\n",
        "def visualize_artifacts(artifacts):\n",
        "  \"\"\"Visualizes artifacts using standard visualization modules.\"\"\"\n",
        "  for artifact in artifacts:\n",
        "    visualization = visualizations.get_registry().get_visualization(\n",
        "        artifact.type_name)\n",
        "    if visualization:\n",
        "      visualization.display(artifact)\n",
        "\n",
        "from tfx.orchestration.experimental.interactive import standard_visualizations\n",
        "standard_visualizations.register_standard_visualizations()"
      ],
      "metadata": {
        "id": "Q2Jj1q6Dqeaf"
      },
      "execution_count": null,
      "outputs": []
    },
    {
      "cell_type": "code",
      "source": [
        "# Non-public APIs, just for showcase.\n",
        "from tfx.orchestration.metadata import Metadata\n",
        "from tfx.types import standard_component_specs\n",
        "\n",
        "metadata_connection_config = tfx.orchestration.metadata.sqlite_metadata_connection_config(\n",
        "    METADATA_PATH)\n",
        "\n",
        "with Metadata(metadata_connection_config) as metadata_handler:\n",
        "  # Find output artifacts from MLMD.\n",
        "  stat_gen_output = get_latest_artifacts(metadata_handler, PIPELINE_NAME,\n",
        "                                         'StatisticsGen')\n",
        "  stats_artifacts = stat_gen_output[standard_component_specs.STATISTICS_KEY]\n",
        "\n",
        "  schema_gen_output = get_latest_artifacts(metadata_handler,\n",
        "                                           PIPELINE_NAME, 'SchemaGen')\n",
        "  schema_artifacts = schema_gen_output[standard_component_specs.SCHEMA_KEY]"
      ],
      "metadata": {
        "id": "bcSdsmw_qgm7"
      },
      "execution_count": null,
      "outputs": []
    },
    {
      "cell_type": "markdown",
      "source": [
        "## Visualize output of StatisticsGen"
      ],
      "metadata": {
        "id": "mzW_Tw0fswPE"
      }
    },
    {
      "cell_type": "code",
      "source": [
        "visualize_artifacts(stats_artifacts)"
      ],
      "metadata": {
        "colab": {
          "base_uri": "https://localhost:8080/",
          "height": 1000
        },
        "id": "YsC3XexSqjL0",
        "outputId": "bdbb89a5-bb0f-409e-d9c0-7e952085e5ea",
        "collapsed": true
      },
      "execution_count": null,
      "outputs": [
        {
          "output_type": "display_data",
          "data": {
            "text/plain": [
              "<IPython.core.display.HTML object>"
            ],
            "text/html": [
              "<style>html[theme=dark] iframe {background: white;}</style>"
            ]
          },
          "metadata": {}
        },
        {
          "output_type": "display_data",
          "data": {
            "text/plain": [
              "<IPython.core.display.HTML object>"
            ],
            "text/html": [
              "<div><b>'train' split:</b></div><br/>"
            ]
          },
          "metadata": {}
        },
        {
          "output_type": "display_data",
          "data": {
            "text/plain": [
              "<IPython.core.display.HTML object>"
            ],
            "text/html": [
              "<iframe id='facets-iframe' width=\"100%\" height=\"500px\"></iframe>\n",
              "        <script>\n",
              "        facets_iframe = document.getElementById('facets-iframe');\n",
              "        facets_html = '<script src=\"https://cdnjs.cloudflare.com/ajax/libs/webcomponentsjs/1.3.3/webcomponents-lite.js\"><\\/script><link rel=\"import\" href=\"https://raw.githubusercontent.com/PAIR-code/facets/master/facets-dist/facets-jupyter.html\"><facets-overview proto-input=\"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\"></facets-overview>';\n",
              "        facets_iframe.srcdoc = facets_html;\n",
              "         facets_iframe.id = \"\";\n",
              "         setTimeout(() => {\n",
              "           facets_iframe.setAttribute('height', facets_iframe.contentWindow.document.body.offsetHeight + 'px')\n",
              "         }, 1500)\n",
              "         </script>"
            ]
          },
          "metadata": {}
        },
        {
          "output_type": "display_data",
          "data": {
            "text/plain": [
              "<IPython.core.display.HTML object>"
            ],
            "text/html": [
              "<div><b>'eval' split:</b></div><br/>"
            ]
          },
          "metadata": {}
        },
        {
          "output_type": "display_data",
          "data": {
            "text/plain": [
              "<IPython.core.display.HTML object>"
            ],
            "text/html": [
              "<iframe id='facets-iframe' width=\"100%\" height=\"500px\"></iframe>\n",
              "        <script>\n",
              "        facets_iframe = document.getElementById('facets-iframe');\n",
              "        facets_html = '<script src=\"https://cdnjs.cloudflare.com/ajax/libs/webcomponentsjs/1.3.3/webcomponents-lite.js\"><\\/script><link rel=\"import\" href=\"https://raw.githubusercontent.com/PAIR-code/facets/master/facets-dist/facets-jupyter.html\"><facets-overview proto-input=\"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\"></facets-overview>';\n",
              "        facets_iframe.srcdoc = facets_html;\n",
              "         facets_iframe.id = \"\";\n",
              "         setTimeout(() => {\n",
              "           facets_iframe.setAttribute('height', facets_iframe.contentWindow.document.body.offsetHeight + 'px')\n",
              "         }, 1500)\n",
              "         </script>"
            ]
          },
          "metadata": {}
        }
      ]
    },
    {
      "cell_type": "markdown",
      "source": [
        "## Visualize output of SchemaGen"
      ],
      "metadata": {
        "id": "S85WM2UhtE6k"
      }
    },
    {
      "cell_type": "code",
      "source": [
        "visualize_artifacts(schema_artifacts)"
      ],
      "metadata": {
        "colab": {
          "base_uri": "https://localhost:8080/",
          "height": 143
        },
        "id": "lydLeK2ZshdB",
        "outputId": "3194263d-cbb0-4b08-d364-b59d7d8e4122"
      },
      "execution_count": null,
      "outputs": [
        {
          "output_type": "display_data",
          "data": {
            "text/plain": [
              "               Type  Presence Valency Domain\n",
              "Feature name                                \n",
              "'image_raw'   BYTES  required              -\n",
              "'label'         INT  required              -"
            ],
            "text/html": [
              "\n",
              "  <div id=\"df-ff37e648-e1d4-416d-b587-42b51abeeead\">\n",
              "    <div class=\"colab-df-container\">\n",
              "      <div>\n",
              "<style scoped>\n",
              "    .dataframe tbody tr th:only-of-type {\n",
              "        vertical-align: middle;\n",
              "    }\n",
              "\n",
              "    .dataframe tbody tr th {\n",
              "        vertical-align: top;\n",
              "    }\n",
              "\n",
              "    .dataframe thead th {\n",
              "        text-align: right;\n",
              "    }\n",
              "</style>\n",
              "<table border=\"1\" class=\"dataframe\">\n",
              "  <thead>\n",
              "    <tr style=\"text-align: right;\">\n",
              "      <th></th>\n",
              "      <th>Type</th>\n",
              "      <th>Presence</th>\n",
              "      <th>Valency</th>\n",
              "      <th>Domain</th>\n",
              "    </tr>\n",
              "    <tr>\n",
              "      <th>Feature name</th>\n",
              "      <th></th>\n",
              "      <th></th>\n",
              "      <th></th>\n",
              "      <th></th>\n",
              "    </tr>\n",
              "  </thead>\n",
              "  <tbody>\n",
              "    <tr>\n",
              "      <th>'image_raw'</th>\n",
              "      <td>BYTES</td>\n",
              "      <td>required</td>\n",
              "      <td></td>\n",
              "      <td>-</td>\n",
              "    </tr>\n",
              "    <tr>\n",
              "      <th>'label'</th>\n",
              "      <td>INT</td>\n",
              "      <td>required</td>\n",
              "      <td></td>\n",
              "      <td>-</td>\n",
              "    </tr>\n",
              "  </tbody>\n",
              "</table>\n",
              "</div>\n",
              "      <button class=\"colab-df-convert\" onclick=\"convertToInteractive('df-ff37e648-e1d4-416d-b587-42b51abeeead')\"\n",
              "              title=\"Convert this dataframe to an interactive table.\"\n",
              "              style=\"display:none;\">\n",
              "        \n",
              "  <svg xmlns=\"http://www.w3.org/2000/svg\" height=\"24px\"viewBox=\"0 0 24 24\"\n",
              "       width=\"24px\">\n",
              "    <path d=\"M0 0h24v24H0V0z\" fill=\"none\"/>\n",
              "    <path d=\"M18.56 5.44l.94 2.06.94-2.06 2.06-.94-2.06-.94-.94-2.06-.94 2.06-2.06.94zm-11 1L8.5 8.5l.94-2.06 2.06-.94-2.06-.94L8.5 2.5l-.94 2.06-2.06.94zm10 10l.94 2.06.94-2.06 2.06-.94-2.06-.94-.94-2.06-.94 2.06-2.06.94z\"/><path d=\"M17.41 7.96l-1.37-1.37c-.4-.4-.92-.59-1.43-.59-.52 0-1.04.2-1.43.59L10.3 9.45l-7.72 7.72c-.78.78-.78 2.05 0 2.83L4 21.41c.39.39.9.59 1.41.59.51 0 1.02-.2 1.41-.59l7.78-7.78 2.81-2.81c.8-.78.8-2.07 0-2.86zM5.41 20L4 18.59l7.72-7.72 1.47 1.35L5.41 20z\"/>\n",
              "  </svg>\n",
              "      </button>\n",
              "      \n",
              "  <style>\n",
              "    .colab-df-container {\n",
              "      display:flex;\n",
              "      flex-wrap:wrap;\n",
              "      gap: 12px;\n",
              "    }\n",
              "\n",
              "    .colab-df-convert {\n",
              "      background-color: #E8F0FE;\n",
              "      border: none;\n",
              "      border-radius: 50%;\n",
              "      cursor: pointer;\n",
              "      display: none;\n",
              "      fill: #1967D2;\n",
              "      height: 32px;\n",
              "      padding: 0 0 0 0;\n",
              "      width: 32px;\n",
              "    }\n",
              "\n",
              "    .colab-df-convert:hover {\n",
              "      background-color: #E2EBFA;\n",
              "      box-shadow: 0px 1px 2px rgba(60, 64, 67, 0.3), 0px 1px 3px 1px rgba(60, 64, 67, 0.15);\n",
              "      fill: #174EA6;\n",
              "    }\n",
              "\n",
              "    [theme=dark] .colab-df-convert {\n",
              "      background-color: #3B4455;\n",
              "      fill: #D2E3FC;\n",
              "    }\n",
              "\n",
              "    [theme=dark] .colab-df-convert:hover {\n",
              "      background-color: #434B5C;\n",
              "      box-shadow: 0px 1px 3px 1px rgba(0, 0, 0, 0.15);\n",
              "      filter: drop-shadow(0px 1px 2px rgba(0, 0, 0, 0.3));\n",
              "      fill: #FFFFFF;\n",
              "    }\n",
              "  </style>\n",
              "\n",
              "      <script>\n",
              "        const buttonEl =\n",
              "          document.querySelector('#df-ff37e648-e1d4-416d-b587-42b51abeeead button.colab-df-convert');\n",
              "        buttonEl.style.display =\n",
              "          google.colab.kernel.accessAllowed ? 'block' : 'none';\n",
              "\n",
              "        async function convertToInteractive(key) {\n",
              "          const element = document.querySelector('#df-ff37e648-e1d4-416d-b587-42b51abeeead');\n",
              "          const dataTable =\n",
              "            await google.colab.kernel.invokeFunction('convertToInteractive',\n",
              "                                                     [key], {});\n",
              "          if (!dataTable) return;\n",
              "\n",
              "          const docLinkHtml = 'Like what you see? Visit the ' +\n",
              "            '<a target=\"_blank\" href=https://colab.research.google.com/notebooks/data_table.ipynb>data table notebook</a>'\n",
              "            + ' to learn more about interactive tables.';\n",
              "          element.innerHTML = '';\n",
              "          dataTable['output_type'] = 'display_data';\n",
              "          await google.colab.output.renderOutput(dataTable, element);\n",
              "          const docLink = document.createElement('div');\n",
              "          docLink.innerHTML = docLinkHtml;\n",
              "          element.appendChild(docLink);\n",
              "        }\n",
              "      </script>\n",
              "    </div>\n",
              "  </div>\n",
              "  "
            ]
          },
          "metadata": {}
        }
      ]
    },
    {
      "cell_type": "markdown",
      "source": [
        "## Visualize output of ExampleValidator"
      ],
      "metadata": {
        "id": "7WQwP5HdtPR0"
      }
    },
    {
      "cell_type": "code",
      "source": [
        "metadata_connection_config = tfx.orchestration.metadata.sqlite_metadata_connection_config(\n",
        "    METADATA_PATH)\n",
        "\n",
        "with Metadata(metadata_connection_config) as metadata_handler:\n",
        "  ev_output = get_latest_artifacts(metadata_handler, PIPELINE_NAME,\n",
        "                                   'ExampleValidator')\n",
        "  anomalies_artifacts = ev_output[standard_component_specs.ANOMALIES_KEY]"
      ],
      "metadata": {
        "id": "qgKHOZm_mFaR"
      },
      "execution_count": null,
      "outputs": []
    },
    {
      "cell_type": "code",
      "source": [
        "visualize_artifacts(anomalies_artifacts)"
      ],
      "metadata": {
        "colab": {
          "base_uri": "https://localhost:8080/",
          "height": 166
        },
        "id": "UETLmWrGmG_r",
        "outputId": "8b69f3b7-c3da-4c1a-ec3d-44fa7cfddf1c"
      },
      "execution_count": null,
      "outputs": [
        {
          "output_type": "display_data",
          "data": {
            "text/plain": [
              "<IPython.core.display.HTML object>"
            ],
            "text/html": [
              "<div><b>'train' split:</b></div><br/>"
            ]
          },
          "metadata": {}
        },
        {
          "output_type": "display_data",
          "data": {
            "text/plain": [
              "<IPython.core.display.HTML object>"
            ],
            "text/html": [
              "<h4 style=\"color:green;\">No anomalies found.</h4>"
            ]
          },
          "metadata": {}
        },
        {
          "output_type": "display_data",
          "data": {
            "text/plain": [
              "<IPython.core.display.HTML object>"
            ],
            "text/html": [
              "<div><b>'eval' split:</b></div><br/>"
            ]
          },
          "metadata": {}
        },
        {
          "output_type": "display_data",
          "data": {
            "text/plain": [
              "<IPython.core.display.HTML object>"
            ],
            "text/html": [
              "<h4 style=\"color:green;\">No anomalies found.</h4>"
            ]
          },
          "metadata": {}
        }
      ]
    },
    {
      "cell_type": "markdown",
      "source": [
        "## Prediction\n",
        "Copy and paste path of one pushed model to load it and use it for prediction of images. The pushed models are inside `/content/serving_model/dogs_vs_cats_pipeline/[number]` directory."
      ],
      "metadata": {
        "id": "IYm2gas6tYDC"
      }
    },
    {
      "cell_type": "code",
      "source": [
        "eval_ds = tf.keras.utils.image_dataset_from_directory(\n",
        "    \"./dogs_vs_cats/test\",\n",
        "    labels=\"inferred\",\n",
        "    label_mode=\"int\",\n",
        "    batch_size=32,\n",
        "    image_size=(IMG_HEIGHT, IMG_WIDTH),\n",
        "    shuffle=True,\n",
        ")\n",
        "\n",
        "\n",
        "model = tf.keras.models.load_model('/content/serving_model/dogs_vs_cats_pipeline/1682335125')\n",
        "probability_model = tf.keras.Sequential([model, \n",
        "                                         tf.keras.layers.Softmax()])\n",
        "\n",
        "\n",
        "predictions = probability_model.predict(eval_ds)"
      ],
      "metadata": {
        "id": "_vyAy-CNqRch",
        "colab": {
          "base_uri": "https://localhost:8080/"
        },
        "outputId": "c0f227fe-70c3-40af-adc3-8c6034974388"
      },
      "execution_count": null,
      "outputs": [
        {
          "output_type": "stream",
          "name": "stdout",
          "text": [
            "Found 500 files belonging to 2 classes.\n",
            "16/16 [==============================] - 3s 105ms/step\n"
          ]
        }
      ]
    },
    {
      "cell_type": "code",
      "source": [
        "# Use the trained model to predict on the eval_ds dataset\n",
        "predictions = model.predict(eval_ds)\n",
        "\n",
        "# Print the predictions for the first 10 images in the dataset\n",
        "for image, prediction in zip(eval_ds, predictions):\n",
        "    predicted_label = \"dog\" if prediction > 0.5 else \"cat\"\n",
        "    true_label = \"dog\" if image[1].numpy()[0] == 1 else \"cat\"\n",
        "    print(\"Predicted label: \", predicted_label)\n",
        "    print(\"True label: \", true_label)"
      ],
      "metadata": {
        "id": "PwkxnbRdqOj_",
        "colab": {
          "base_uri": "https://localhost:8080/"
        },
        "outputId": "89a6166e-1768-4569-9973-02c2cce46167"
      },
      "execution_count": null,
      "outputs": [
        {
          "output_type": "stream",
          "name": "stdout",
          "text": [
            "16/16 [==============================] - 2s 65ms/step\n",
            "Predicted label:  dog\n",
            "True label:  dog\n",
            "Predicted label:  cat\n",
            "True label:  dog\n",
            "Predicted label:  cat\n",
            "True label:  cat\n",
            "Predicted label:  cat\n",
            "True label:  dog\n",
            "Predicted label:  dog\n",
            "True label:  dog\n",
            "Predicted label:  dog\n",
            "True label:  dog\n",
            "Predicted label:  cat\n",
            "True label:  dog\n",
            "Predicted label:  dog\n",
            "True label:  cat\n",
            "Predicted label:  dog\n",
            "True label:  cat\n",
            "Predicted label:  dog\n",
            "True label:  cat\n",
            "Predicted label:  dog\n",
            "True label:  cat\n",
            "Predicted label:  dog\n",
            "True label:  dog\n",
            "Predicted label:  cat\n",
            "True label:  dog\n",
            "Predicted label:  dog\n",
            "True label:  cat\n",
            "Predicted label:  cat\n",
            "True label:  dog\n",
            "Predicted label:  cat\n",
            "True label:  dog\n"
          ]
        }
      ]
    }
  ]
}