{
  "nbformat": 4,
  "nbformat_minor": 0,
  "metadata": {
    "colab": {
      "provenance": [],
      "include_colab_link": true
    },
    "kernelspec": {
      "display_name": "Python 3",
      "name": "python3"
    },
    "accelerator": "GPU",
    "gpuClass": "standard"
  },
  "cells": [
    {
      "cell_type": "markdown",
      "metadata": {
        "id": "view-in-github",
        "colab_type": "text"
      },
      "source": [
        "<a href=\"https://colab.research.google.com/github/hadi-ansari/TFX/blob/main/Cat_%26_Dog_recognition_SchemaGen_integrated_with_Trainer.ipynb\" target=\"_parent\"><img src=\"https://colab.research.google.com/assets/colab-badge.svg\" alt=\"Open In Colab\"/></a>"
      ]
    },
    {
      "cell_type": "markdown",
      "metadata": {
        "id": "6x1ypzczQCwy"
      },
      "source": [
        "# Simple TFX Pipeline Tutorial using cats & dogs dataset\n",
        "\n",
        "***A pipeline to train a model for recognizing cats and dogs.***"
      ]
    },
    {
      "cell_type": "markdown",
      "metadata": {
        "id": "_VuwrlnvQJ5k"
      },
      "source": [
        "In this notebook-based tutorial, we will create and run a TFX pipeline\n",
        "for a simple classification model.\n",
        "The pipeline will consist of three essential TFX components: ExampleGen,\n",
        "Trainer and Pusher. The pipeline includes the most minimal ML workflow like\n",
        "importing data, training a model and exporting the trained model.\n",
        "\n",
        "Please see\n",
        "[Understanding TFX Pipelines](https://www.tensorflow.org/tfx/guide/understanding_tfx_pipelines)\n",
        "to learn more about various concepts in TFX."
      ]
    },
    {
      "cell_type": "markdown",
      "metadata": {
        "id": "Fmgi8ZvQkScg"
      },
      "source": [
        "## Set Up\n",
        "We first need to install the TFX Python package and download\n",
        "the dataset which we will use for our model.\n",
        "\n",
        "### Upgrade Pip"
      ]
    },
    {
      "cell_type": "code",
      "metadata": {
        "id": "as4OTe2ukSqm"
      },
      "source": [
        "!pip install --upgrade pip"
      ],
      "execution_count": null,
      "outputs": []
    },
    {
      "cell_type": "code",
      "metadata": {
        "id": "iyQtljP-qPHY"
      },
      "source": [
        "!pip install -U tfx"
      ],
      "execution_count": null,
      "outputs": []
    },
    {
      "cell_type": "markdown",
      "source": [
        "### Uninstall shapely\n",
        "\n",
        "TODO(b/263441833) This is a temporal solution to avoid an\n",
        "ImportError. Ultimately, it should be handled by supporting a\n",
        "recent version of Bigquery, instead of uninstalling other extra\n",
        "dependencies."
      ],
      "metadata": {
        "id": "DCa5Bs00k3ZR"
      }
    },
    {
      "cell_type": "code",
      "source": [
        "!pip uninstall shapely -y"
      ],
      "metadata": {
        "id": "mYn4k-r-k3qN"
      },
      "execution_count": null,
      "outputs": []
    },
    {
      "cell_type": "markdown",
      "metadata": {
        "id": "EwT0nov5QO1M"
      },
      "source": [
        "### Did you restart the runtime?\n",
        "\n",
        "If you are using Google Colab, the first time that you run\n",
        "the cell above, you must restart the runtime by clicking\n",
        "above \"RESTART RUNTIME\" button or using \"Runtime > Restart\n",
        "runtime ...\" menu. This is because of the way that Colab\n",
        "loads packages."
      ]
    },
    {
      "cell_type": "markdown",
      "metadata": {
        "id": "aDtLdSkvqPHe"
      },
      "source": [
        "# Necessary imports\n",
        "\n",
        "We also check the TensorFlow and TFX versions."
      ]
    },
    {
      "cell_type": "code",
      "metadata": {
        "id": "6jh7vKSRqPHb",
        "colab": {
          "base_uri": "https://localhost:8080/"
        },
        "outputId": "675126f9-d9c2-497a-8c46-149173e896d4"
      },
      "source": [
        "import numpy as np\n",
        "import os\n",
        "import PIL\n",
        "import PIL.Image\n",
        "import tensorflow_datasets as tfds\n",
        "import tensorflow as tf\n",
        "\n",
        "print('TensorFlow version: {}'.format(tf.__version__))\n",
        "from tfx import v1 as tfx\n",
        "print('TFX version: {}'.format(tfx.__version__))"
      ],
      "execution_count": 1,
      "outputs": [
        {
          "output_type": "stream",
          "name": "stdout",
          "text": [
            "TensorFlow version: 2.11.1\n",
            "TFX version: 1.12.0\n"
          ]
        }
      ]
    },
    {
      "cell_type": "code",
      "source": [
        "from google.colab import files\n",
        "files.upload()"
      ],
      "metadata": {
        "id": "4601nR9JQaHM"
      },
      "execution_count": null,
      "outputs": []
    },
    {
      "cell_type": "markdown",
      "metadata": {
        "id": "11J7XiCq6AFP"
      },
      "source": [
        "Because TFX ExampleGen reads inputs from a directory, we need to create a\n",
        "directory and copy dataset to it."
      ]
    },
    {
      "cell_type": "code",
      "source": [
        "!pip install -q kaggle\n",
        "!mkdir -p ~/.kaggle\n",
        "!cp kaggle.json ~/.kaggle/\n",
        "'chmod 600 /root/.kaggle/kaggle.json'\n",
        "!kaggle datasets download -d salader/dogs-vs-cats\n",
        "!unzip dogs-vs-cats.zip\n",
        "!rm -rf test train dogs-vs-cats.zip"
      ],
      "metadata": {
        "id": "YpC5qjjwQgwY"
      },
      "execution_count": null,
      "outputs": []
    },
    {
      "cell_type": "markdown",
      "source": [
        "# Reduce size of the dataset (optional)\n",
        "We reduce size of the dataset by removing the images from both train and test folders. Train images decreas from 10000 images to 50 and test images decreas from 2500 to 10 images to make the process faster (OBS: just for testing)."
      ],
      "metadata": {
        "id": "HiHkto4Jt8k2"
      }
    },
    {
      "cell_type": "code",
      "source": [
        "!ls -1 dogs_vs_cats/train/dogs/* | tail -n +1001 | xargs rm \n",
        "!ls -1 dogs_vs_cats/train/cats/* | tail -n +1001 | xargs rm\n",
        "\n",
        "!ls -1 dogs_vs_cats/test/dogs/* | tail -n +251 | xargs rm \n",
        "!ls -1 dogs_vs_cats/test/cats/* | tail -n +251 | xargs rm "
      ],
      "metadata": {
        "id": "Mju0dtqdtuZL"
      },
      "execution_count": 4,
      "outputs": []
    },
    {
      "cell_type": "markdown",
      "metadata": {
        "id": "lOjDv93eS5xV"
      },
      "source": [
        "### Set up variables\n",
        "\n",
        "There are some variables used to define a pipeline. You can customize these\n",
        "variables as you want. By default all output from the pipeline will be\n",
        "generated under the current directory."
      ]
    },
    {
      "cell_type": "code",
      "metadata": {
        "id": "aES7Hv5QTDK3",
        "colab": {
          "base_uri": "https://localhost:8080/"
        },
        "outputId": "879220df-34ad-4e9e-c15b-21cef1c94b25"
      },
      "source": [
        "_trainer_module_file = 'dogs_vs_cats_trainer.py'\n",
        "schema_path = 'schema' # create this directory and copy your generated schema here in order to use the Importer.\n",
        "\n",
        "data_root ='dogs_vs_cats'\n",
        "train_dir = os.path.join(data_root, 'train')\n",
        "validation_dir = os.path.join(data_root, 'test')\n",
        "\n",
        "train_cats_dir = os.path.join(train_dir, 'cats')  # directory with our training cat pictures\n",
        "train_dogs_dir = os.path.join(train_dir, 'dogs')  # directory with our training dog pictures\n",
        "validation_cats_dir = os.path.join(validation_dir, 'cats')  # directory with our validation cat pictures\n",
        "validation_dogs_dir = os.path.join(validation_dir, 'dogs')  # directory with our validation dog pictures\n",
        "\n",
        "num_cats_tr = len(os.listdir(train_cats_dir))\n",
        "num_dogs_tr = len(os.listdir(train_dogs_dir))\n",
        "\n",
        "num_cats_val = len(os.listdir(validation_cats_dir))\n",
        "num_dogs_val = len(os.listdir(validation_dogs_dir))\n",
        "\n",
        "total_train = num_cats_tr + num_dogs_tr\n",
        "total_val = num_cats_val + num_dogs_val\n",
        "\n",
        "IMG_HEIGHT = 150\n",
        "IMG_WIDTH = 150\n",
        "batch_size = 128\n",
        "PIPELINE_NAME = 'dogs_vs_cats_pipeline'\n",
        "PIPELINE_ROOT = os.path.join('pipelines', PIPELINE_NAME)\n",
        "SERVING_MODEL_DIR = os.path.join('serving_model', PIPELINE_NAME)\n",
        "METADATA_PATH = os.path.join('metadata', PIPELINE_NAME, 'cat&dog_md.db')\n",
        "\n",
        "\n",
        "print('total training cat images:', num_cats_tr)\n",
        "print('total training dog images:', num_dogs_tr)\n",
        "print('total validation cat images:', num_cats_val)\n",
        "print('total validation dog images:', num_dogs_val)\n",
        "print(\"--\")\n",
        "print(\"Total training images:\", total_train)\n",
        "print(\"Total validation images:\", total_val)"
      ],
      "execution_count": 76,
      "outputs": [
        {
          "output_type": "stream",
          "name": "stdout",
          "text": [
            "total training cat images: 1000\n",
            "total training dog images: 1000\n",
            "total validation cat images: 250\n",
            "total validation dog images: 250\n",
            "--\n",
            "Total training images: 2000\n",
            "Total validation images: 500\n"
          ]
        }
      ]
    },
    {
      "cell_type": "markdown",
      "metadata": {
        "id": "w3OkNz3gTLwM"
      },
      "source": [
        "# Conversion of image dataset to TFRecords\n",
        "\n",
        "We followed the instructions according [this](https://ai.plainenglish.io/a-quick-and-simple-guide-to-tfrecord-c421337a6562).\n"
      ]
    },
    {
      "cell_type": "code",
      "source": [
        "import tensorflow as tf\n",
        "import numpy as np\n",
        "import os\n",
        "from PIL import Image\n",
        "import random\n",
        "import cv2\n",
        "import matplotlib.pyplot as plt\n",
        "\n",
        "# Setup the train and test imgage directories\n",
        "train_dir = os.path.join(data_root, \"train\")\n",
        "test_dir = os.path.join(data_root, \"test\")\n",
        "\n",
        "# setup train and test TFRecord file\n",
        "train_tfrecord='train_data.tfrecords'\n",
        "test_tfrecord = 'test_data.tfrecords'\n",
        "\n",
        "# Define the name of folders of each class\n",
        "# We only have two classes in this case.\n",
        "folders=['dogs', 'cats']\n",
        "\n",
        "# List all train and test image path\n",
        "train_image_path=[]\n",
        "test_image_path=[]\n",
        "\n",
        "for i in range(len(folders)):\n",
        "    for file in os.listdir(os.path.join(train_dir, folders[i])):\n",
        "        train_image_path.append(os.path.join(train_dir, folders[i], file))\n",
        "    for file in os.listdir(os.path.join(test_dir, folders[i])):\n",
        "        test_image_path.append( os.path.join(test_dir, folders[i], file))\n",
        "\n",
        "\n",
        "print(\"Number of train images found: \", len(train_image_path))\n",
        "print(\"Number of test images found: \", len(test_image_path))\n",
        "\n",
        "# Shuffle the image paths for better accuracy and precision\n",
        "random.seed(0)\n",
        "random.shuffle(train_image_path)\n",
        "random.shuffle(test_image_path)\n",
        "\n",
        "# create train and test lables for shuffled image paths\n",
        "# 0 for cat and 1 for dog\n",
        "train_labels=[]\n",
        "test_labels=[]\n",
        "for i in range(len(train_image_path)):\n",
        "    if os.path.basename(train_image_path[i])[:3]=='cat':\n",
        "        train_labels.append(0)\n",
        "    else:\n",
        "        train_labels.append(1)\n",
        "\n",
        "for i in range(len(test_image_path)):\n",
        "    if os.path.basename(test_image_path[i])[:3]=='cat':\n",
        "        test_labels.append(0)\n",
        "    else:\n",
        "        test_labels.append(1)\n",
        "\n",
        "def _bytes_feature(value):\n",
        "    \"\"\"Returns a bytes_list from a string / byte.\"\"\"    \n",
        "    if isinstance(value, type(tf.constant(0))):\n",
        "        value = value.numpy()\n",
        "    return tf.train.Feature(bytes_list=tf.train.BytesList(value=[value]))\n",
        "def _int64_feature(value):\n",
        "    \"\"\"Returns an int64_list from a bool / enum / int / uint.\"\"\"\n",
        "    return tf.train.Feature(int64_list=tf.train.Int64List(value=[value]))\n",
        "def _float_feature(value):\n",
        "    \"\"\"Returns a float_list from a float / double.\"\"\"\n",
        "    return tf.train.Feature(float_list=tf.train.FloatList(value=[value]))\n",
        "\n",
        "def serialize_example(image_string, label):\n",
        "    ## Create a dictionary with features for images and their target labels\n",
        "    image_shape = tf.io.decode_jpeg(image_string).shape\n",
        "\n",
        "    feature = {\n",
        "      'height': _int64_feature(image_shape[0]),\n",
        "      'width': _int64_feature(image_shape[1]),\n",
        "      'depth': _int64_feature(image_shape[2]),\n",
        "      'label': _int64_feature(label),\n",
        "      'image_raw': _bytes_feature(image_string),\n",
        "    }\n",
        "    #  Create a Features message using tf.train.Example.\n",
        "    example_proto = tf.train.Example(features=tf.train.Features(feature=feature))\n",
        "    #serializes the message and returns it as a string. Note that the bytes are binary\n",
        "    return example_proto.SerializeToString()\n",
        "\n",
        "def write_TFRecord(image_path, label):\n",
        "    image_string = open(image_path, 'rb').read()\n",
        "    example = serialize_example(image_string, label)\n",
        "    return example\n",
        "\n",
        "#Write Train TFRecord file\n",
        "with tf.io.TFRecordWriter(train_tfrecord) as writer:\n",
        "    for image_path, label in zip(train_image_path, train_labels):\n",
        "        writer.write(write_TFRecord(image_path, int(label)))\n",
        "#Write Test TFRecord file\n",
        "with tf.io.TFRecordWriter(test_tfrecord) as writer:\n",
        "    for image_path, label in zip(test_image_path, test_labels):\n",
        "         writer.write(write_TFRecord(image_path, int(label)))"
      ],
      "metadata": {
        "id": "BN00rTsiyvV7",
        "colab": {
          "base_uri": "https://localhost:8080/"
        },
        "outputId": "49ed96d0-0391-42b5-e1f9-c4be9cd05f5f"
      },
      "execution_count": 6,
      "outputs": [
        {
          "output_type": "stream",
          "name": "stdout",
          "text": [
            "Number of train images found:  2000\n",
            "Number of test images found:  500\n"
          ]
        }
      ]
    },
    {
      "cell_type": "code",
      "source": [
        "!rm -rf dataset\n",
        "!mkdir dataset\n",
        "!mkdir dataset/train\n",
        "!mkdir dataset/test\n",
        "!mv train_data.tfrecords dataset/train\n",
        "!mv test_data.tfrecords dataset/test"
      ],
      "metadata": {
        "id": "VXBCczk-wx_N"
      },
      "execution_count": 7,
      "outputs": []
    },
    {
      "cell_type": "markdown",
      "source": [
        "#Pipeline Definition\n",
        "We define the ML pipeline here. The components of the pipeline are: ImportExampleGen for ingesting the images into the pipeline, StatisticsGen and SchemaGen. \n",
        "\n",
        "For ingesting the image dataset into the pipeline, we got help from this github repository [github](https://github.com/tensorflow/tfx/blob/master/tfx/examples/cifar10/cifar10_pipeline_native_keras.py)"
      ],
      "metadata": {
        "id": "AX5ocD1FYI_H"
      }
    },
    {
      "cell_type": "code",
      "metadata": {
        "id": "M49yYVNBTPd4"
      },
      "source": [
        "from tfx.components.example_gen.component import FileBasedExampleGen\n",
        "from tfx.dsl.components.base import executor_spec\n",
        "from tfx.components.example_gen.csv_example_gen import executor\n",
        "from tfx.dsl.components.base.base_executor import BaseExecutor\n",
        "from tfx.proto import example_gen_pb2\n",
        "from tfx.components import ImportExampleGen\n",
        "from tfx.proto import trainer_pb2\n",
        "\n",
        "\n",
        "def _create_pipeline(pipeline_name: str, pipeline_root: str,\n",
        "                     module_file: str, serving_model_dir: str,\n",
        "                     metadata_path: str) -> tfx.dsl.Pipeline:\n",
        "  print(\"Pipeline creation is running...\\n\\n\\n\")\n",
        "\n",
        "  \"\"\"Creates a three component penguin pipeline with TFX.\"\"\"\n",
        " \n",
        "  input_config = example_gen_pb2.Input(splits=[\n",
        "      example_gen_pb2.Input.Split(name='train', pattern='train/*'),\n",
        "      example_gen_pb2.Input.Split(name='eval', pattern='test/*')\n",
        "  ])\n",
        "  #EXAMPLE_GEN\n",
        "  # Brings data into the pipeline.\n",
        "  example_gen = ImportExampleGen(\n",
        "      input_base='/content/dataset', input_config=input_config)\n",
        "  \n",
        "  # STATISTICS_GEN\n",
        "  # Computes statistics over data for visualization and schema generation.\n",
        "  statistics_gen = tfx.components.StatisticsGen(\n",
        "      examples=example_gen.outputs['examples'])\n",
        "  \n",
        "  # ALTERNATIVE 1 (Schema_Gen):\n",
        "  # In case you do have not generated schema, opt for this method.\n",
        "  # Generates schema based on the generated statistics.\n",
        "  # schema_gen = tfx.components.SchemaGen(\n",
        "  #     statistics=statistics_gen.outputs['statistics'], infer_feature_shape=True)\n",
        "  \n",
        "  # ALTERNATIVE 2 (Importer):\n",
        "  # In case you have generated schema before, opt for this alternative.\n",
        "  # Import the schema.\n",
        "  schema_importer = tfx.dsl.Importer(\n",
        "      source_uri = schema_path,\n",
        "      artifact_type = tfx.types.standard_artifacts.Schema).with_id(\n",
        "          'schema_importer')\n",
        "\n",
        "  # Uses user-provided Python function that trains a model.\n",
        "  trainer = tfx.components.Trainer(\n",
        "      module_file=module_file,\n",
        "      examples=example_gen.outputs['examples'],\n",
        "      #schema= schema_gen.outputs['schema'], # ALTERNATIVE 1\n",
        "      schema=schema_importer.outputs['result'], # ALTERNATIVE 2\n",
        "      )\n",
        "  \n",
        "  # Pushes the model to a filesystem destination.\n",
        "  pusher = tfx.components.Pusher(\n",
        "      model=trainer.outputs['model'],\n",
        "      push_destination=tfx.proto.PushDestination(\n",
        "          filesystem=tfx.proto.PushDestination.Filesystem(\n",
        "              base_directory=serving_model_dir)))\n",
        "  \n",
        "  # Following three components will be included in the pipeline.\n",
        "  components = [\n",
        "      example_gen,\n",
        "      statistics_gen,\n",
        "      #schema_gen, # ALTERNATIVE 1\n",
        "      schema_importer, # ALTERNATIVE 2\n",
        "      trainer,\n",
        "      pusher,\n",
        "  ]\n",
        "\n",
        "  return tfx.dsl.Pipeline(\n",
        "      pipeline_name=pipeline_name,\n",
        "      pipeline_root=pipeline_root,\n",
        "      metadata_connection_config=tfx.orchestration.metadata\n",
        "      .sqlite_metadata_connection_config(metadata_path),\n",
        "      components=components)"
      ],
      "execution_count": 77,
      "outputs": []
    },
    {
      "cell_type": "code",
      "source": [
        "%%writefile {_trainer_module_file}\n",
        "\n",
        "import tensorflow as tf\n",
        "from tfx import v1 as tfx\n",
        "import matplotlib.pyplot as plt\n",
        "import tensorflow_transform as tft\n",
        "from tfx_bsl.tfxio import dataset_options\n",
        "import os\n",
        "import gzip\n",
        "from typing import List\n",
        "from tensorflow_metadata.proto.v0 import schema_pb2\n",
        "from tfx import v1 as tfx\n",
        "from tfx_bsl.public import tfxio\n",
        "from tensorflow_transform.tf_metadata import schema_utils\n",
        "\n",
        "\n",
        "_LABEL_KEY = 'label'\n",
        "IMG_HEIGHT = 150\n",
        "IMG_WIDTH = 150\n",
        "batch_size = 128\n",
        "\n",
        "_TRAIN_DATA_SIZE = 2000\n",
        "_TEST_DATA_SIZE = 500\n",
        "\n",
        "_FEATURE_SPEC = {\n",
        "    'height': tf.io.FixedLenFeature([], tf.int64),\n",
        "    'width': tf.io.FixedLenFeature([], tf.int64),\n",
        "    'depth': tf.io.FixedLenFeature([], tf.int64),\n",
        "    'label': tf.io.FixedLenFeature([], tf.int64),\n",
        "    'image_raw': tf.io.FixedLenFeature([], tf.string),\n",
        "}\n",
        "\n",
        "\n",
        "# Define a function to parse the tfrecord dataset\n",
        "def _parse_function(features, label):\n",
        "  image = tf.io.decode_jpeg(features['image_raw'], channels=3)\n",
        "  image = tf.image.resize(image, [IMG_HEIGHT, IMG_WIDTH])\n",
        "    \n",
        "  return image, label\n",
        "\n",
        "def _input_fn(file_pattern: List[str],\n",
        "              data_accessor: tfx.components.DataAccessor,\n",
        "              schema: schema_pb2.Schema,\n",
        "              batch_size: int = 128) -> tf.data.Dataset:\n",
        "  \"\"\"Generates features and label for training.\n",
        "\n",
        "  Args:\n",
        "    file_pattern: List of paths or patterns of input tfrecord files.\n",
        "    data_accessor: DataAccessor for converting input to RecordBatch.\n",
        "    schema: schema of the input data.\n",
        "    batch_size: representing the number of consecutive elements of returned\n",
        "      dataset to combine in a single batch\n",
        "\n",
        "  Returns:\n",
        "    A dataset that contains (features, indices) tuple where features is a\n",
        "      dictionary of Tensors, and indices is a single Tensor of label indices.\n",
        "  \"\"\"\n",
        "  return data_accessor.tf_dataset_factory(\n",
        "      file_pattern,\n",
        "      tfxio.TensorFlowDatasetOptions(\n",
        "          batch_size=batch_size, label_key=_LABEL_KEY),\n",
        "      schema=schema)\n",
        "\n",
        "\n",
        "# TFX Trainer will call this function.\n",
        "def run_fn(fn_args: tfx.components.FnArgs):\n",
        "  \n",
        "    epochs = 5\n",
        "    #Create the model\n",
        "    model = tf.keras.models.Sequential([\n",
        "        tf.keras.layers.Conv2D(32, 3, padding='same', activation='relu', input_shape=(IMG_HEIGHT, IMG_WIDTH, 3)),\n",
        "        tf.keras.layers.Conv2D(32, 3, padding='same', activation='relu'),\n",
        "        tf.keras.layers.MaxPooling2D(),\n",
        "\n",
        "        tf.keras.layers.Conv2D(64, 3, padding='same', activation='relu'),\n",
        "        tf.keras.layers.Conv2D(64, 3, padding='same', activation='relu'),\n",
        "        tf.keras.layers.MaxPooling2D(),\n",
        "\n",
        "        tf.keras.layers.Conv2D(128, 3, padding='same', activation='relu'),\n",
        "        tf.keras.layers.Conv2D(128, 3, padding='same', activation='relu'),\n",
        "        tf.keras.layers.MaxPooling2D(),\n",
        "\n",
        "        tf.keras.layers.Flatten(),\n",
        "        tf.keras.layers.Dense(256, activation='relu'),\n",
        "        tf.keras.layers.Dropout(0.5),\n",
        "        tf.keras.layers.Dense(256, activation='relu'),\n",
        "        tf.keras.layers.Dropout(0.5),\n",
        "        tf.keras.layers.Dense(1, activation='sigmoid')\n",
        "    ])\n",
        "\n",
        "    # Compile the model\n",
        "    model.compile(optimizer='adam',\n",
        "              loss=tf.keras.losses.BinaryCrossentropy(),\n",
        "              metrics=['accuracy'])\n",
        " \n",
        "    # Print a summary of the model\n",
        "    model.summary()\n",
        "\n",
        "    print(\"here and there\", fn_args.schema_path)\n",
        "\n",
        "    schema = tfx.utils.parse_pbtxt_file(fn_args.schema_path, schema_pb2.Schema())\n",
        "    #print(\"SCHEMA 1: \", schema)\n",
        "    #schema = schema_utils.schema_from_feature_spec(_FEATURE_SPEC)\n",
        "    #print(\"\\n\\nSCHEMA 2: \", schema)\n",
        "\n",
        "    \n",
        "    # Load the training dataset\n",
        "    train_ds = _input_fn(\n",
        "        fn_args.train_files,\n",
        "        fn_args.data_accessor,\n",
        "        schema,\n",
        "        batch_size=batch_size)\n",
        "\n",
        "    train_ds = train_ds.unbatch()\n",
        "    train_ds = train_ds.unbatch()\n",
        "\n",
        "    print(\"train ds: \", train_ds)\n",
        "    train_ds = train_ds.map(_parse_function)\n",
        "    train_ds = train_ds.batch(batch_size)\n",
        "  \n",
        "\n",
        "\n",
        "    # Load the test dataset\n",
        "    eval_ds = _input_fn(\n",
        "        fn_args.eval_files,\n",
        "        fn_args.data_accessor,\n",
        "        schema,\n",
        "        batch_size=batch_size)\n",
        "    \n",
        "    eval_ds = eval_ds.unbatch()\n",
        "    eval_ds = eval_ds.unbatch()\n",
        "    eval_ds = eval_ds.map(_parse_function)\n",
        "    eval_ds = eval_ds.batch(batch_size)\n",
        "\n",
        "\n",
        "    steps_per_epoch = int(_TRAIN_DATA_SIZE / batch_size)\n",
        "    validation_steps = int(_TEST_DATA_SIZE / batch_size)\n",
        "\n",
        "\n",
        "    # Train our model\n",
        "    history = model.fit(train_ds, epochs=epochs, validation_data=eval_ds,steps_per_epoch=steps_per_epoch, validation_steps=validation_steps)\n",
        "\n",
        "\n",
        "    acc = history.history['accuracy']\n",
        "    val_acc = history.history['val_accuracy']\n",
        "\n",
        "    loss = history.history['loss']\n",
        "    val_loss = history.history['val_loss']\n",
        "\n",
        "    epochs_range = range(epochs)\n",
        "\n",
        "    plt.figure(figsize=(8, 8))\n",
        "    plt.subplot(1, 2, 1)\n",
        "    plt.plot(epochs_range, acc, label='Training Accuracy')\n",
        "    plt.plot(epochs_range, val_acc, label='Validation Accuracy')\n",
        "    plt.legend(loc='lower right')\n",
        "    plt.title('Training and Validation Accuracy')\n",
        "\n",
        "    plt.subplot(1, 2, 2)\n",
        "    plt.plot(epochs_range, loss, label='Training Loss')\n",
        "    plt.plot(epochs_range, val_loss, label='Validation Loss')\n",
        "    plt.legend(loc='upper right')\n",
        "    plt.title('Training and Validation Loss')\n",
        "    plt.show()\n",
        "\n",
        "    # The result of the training should be saved in `fn_args.serving_model_dir`\n",
        "    # directory.\n",
        "    model.save(fn_args.serving_model_dir, save_format='tf')"
      ],
      "metadata": {
        "colab": {
          "base_uri": "https://localhost:8080/"
        },
        "id": "FuLII9u_It23",
        "outputId": "0e710c0d-bad5-492e-ddd5-8ceff425b1c7"
      },
      "execution_count": 79,
      "outputs": [
        {
          "output_type": "stream",
          "name": "stdout",
          "text": [
            "Overwriting dogs_vs_cats_trainer.py\n"
          ]
        }
      ]
    },
    {
      "cell_type": "markdown",
      "metadata": {
        "id": "mJbq07THU2GV"
      },
      "source": [
        "## Run the pipeline\n",
        "\n",
        "TFX supports multiple orchestrators to run pipelines.\n",
        "In this tutorial we will use `LocalDagRunner` which is included in the TFX\n",
        "Python package and runs pipelines on local environment.\n",
        "We often call TFX pipelines \"DAGs\" which stands for directed acyclic graph.\n",
        "\n",
        "`LocalDagRunner` provides fast iterations for development and debugging.\n",
        "TFX also supports other orchestrators including Kubeflow Pipelines and Apache\n",
        "Airflow which are suitable for production use cases.\n",
        "\n",
        "See\n",
        "[TFX on Cloud AI Platform Pipelines](https://www.tensorflow.org/tfx/tutorials/tfx/cloud-ai-platform-pipelines)\n",
        "or\n",
        "[TFX Airflow Tutorial](https://www.tensorflow.org/tfx/tutorials/tfx/airflow_workshop)\n",
        "to learn more about other orchestration systems."
      ]
    },
    {
      "cell_type": "markdown",
      "metadata": {
        "id": "7mp0AkmrPdUb"
      },
      "source": [
        "Now we create a `LocalDagRunner` and pass a `Pipeline` object created from the\n",
        "function we already defined.\n",
        "\n",
        "The pipeline runs directly and you can see logs for the progress of the pipeline including ML model training."
      ]
    },
    {
      "cell_type": "code",
      "metadata": {
        "id": "fAtfOZTYWJu-",
        "colab": {
          "base_uri": "https://localhost:8080/",
          "height": 1000
        },
        "outputId": "4448965e-e5b3-4b46-88f7-b2dcba2476b8"
      },
      "source": [
        "tfx.orchestration.LocalDagRunner().run(\n",
        "  _create_pipeline(\n",
        "      pipeline_name=PIPELINE_NAME,\n",
        "      pipeline_root=PIPELINE_ROOT,\n",
        "      module_file=_trainer_module_file,\n",
        "      serving_model_dir=SERVING_MODEL_DIR,\n",
        "      metadata_path=METADATA_PATH))"
      ],
      "execution_count": 80,
      "outputs": [
        {
          "output_type": "stream",
          "name": "stdout",
          "text": [
            "Pipeline creation is running...\n",
            "\n",
            "\n",
            "\n"
          ]
        },
        {
          "output_type": "stream",
          "name": "stderr",
          "text": [
            "WARNING:absl:ArtifactQuery.property_predicate is not supported.\n",
            "WARNING:absl:ArtifactQuery.property_predicate is not supported.\n",
            "WARNING:absl:ArtifactQuery.property_predicate is not supported.\n"
          ]
        },
        {
          "output_type": "stream",
          "name": "stdout",
          "text": [
            "Model: \"sequential_18\"\n",
            "_________________________________________________________________\n",
            " Layer (type)                Output Shape              Param #   \n",
            "=================================================================\n",
            " conv2d_108 (Conv2D)         (None, 150, 150, 32)      896       \n",
            "                                                                 \n",
            " conv2d_109 (Conv2D)         (None, 150, 150, 32)      9248      \n",
            "                                                                 \n",
            " max_pooling2d_54 (MaxPoolin  (None, 75, 75, 32)       0         \n",
            " g2D)                                                            \n",
            "                                                                 \n",
            " conv2d_110 (Conv2D)         (None, 75, 75, 64)        18496     \n",
            "                                                                 \n",
            " conv2d_111 (Conv2D)         (None, 75, 75, 64)        36928     \n",
            "                                                                 \n",
            " max_pooling2d_55 (MaxPoolin  (None, 37, 37, 64)       0         \n",
            " g2D)                                                            \n",
            "                                                                 \n",
            " conv2d_112 (Conv2D)         (None, 37, 37, 128)       73856     \n",
            "                                                                 \n",
            " conv2d_113 (Conv2D)         (None, 37, 37, 128)       147584    \n",
            "                                                                 \n",
            " max_pooling2d_56 (MaxPoolin  (None, 18, 18, 128)      0         \n",
            " g2D)                                                            \n",
            "                                                                 \n",
            " flatten_18 (Flatten)        (None, 41472)             0         \n",
            "                                                                 \n",
            " dense_54 (Dense)            (None, 256)               10617088  \n",
            "                                                                 \n",
            " dropout_36 (Dropout)        (None, 256)               0         \n",
            "                                                                 \n",
            " dense_55 (Dense)            (None, 256)               65792     \n",
            "                                                                 \n",
            " dropout_37 (Dropout)        (None, 256)               0         \n",
            "                                                                 \n",
            " dense_56 (Dense)            (None, 1)                 257       \n",
            "                                                                 \n",
            "=================================================================\n",
            "Total params: 10,970,145\n",
            "Trainable params: 10,970,145\n",
            "Non-trainable params: 0\n",
            "_________________________________________________________________\n",
            "here and there schema/schema.pbtxt\n",
            "train ds:  <_UnbatchDataset element_spec=({'depth': TensorSpec(shape=(), dtype=tf.int64, name=None), 'height': TensorSpec(shape=(), dtype=tf.int64, name=None), 'image_raw': TensorSpec(shape=(), dtype=tf.string, name=None), 'width': TensorSpec(shape=(), dtype=tf.int64, name=None)}, TensorSpec(shape=(), dtype=tf.int64, name=None))>\n",
            "Epoch 1/5\n",
            "15/15 [==============================] - 7s 270ms/step - loss: 6.3977 - accuracy: 0.5182 - val_loss: 0.6915 - val_accuracy: 0.5208\n",
            "Epoch 2/5\n",
            "15/15 [==============================] - 5s 325ms/step - loss: 0.6940 - accuracy: 0.4943 - val_loss: 0.6930 - val_accuracy: 0.4974\n",
            "Epoch 3/5\n",
            "15/15 [==============================] - 5s 316ms/step - loss: 0.6897 - accuracy: 0.5198 - val_loss: 0.6885 - val_accuracy: 0.5443\n",
            "Epoch 4/5\n",
            "15/15 [==============================] - 4s 269ms/step - loss: 0.6896 - accuracy: 0.5120 - val_loss: 0.6899 - val_accuracy: 0.4844\n",
            "Epoch 5/5\n",
            "15/15 [==============================] - 4s 250ms/step - loss: 0.6794 - accuracy: 0.5448 - val_loss: 0.7065 - val_accuracy: 0.4818\n"
          ]
        },
        {
          "output_type": "display_data",
          "data": {
            "text/plain": [
              "<Figure size 800x800 with 2 Axes>"
            ],
            "image/png": "[encoded data removed]"
          },
          "metadata": {}
        },
        {
          "output_type": "stream",
          "name": "stderr",
          "text": [
            "WARNING:absl:Found untraced functions such as _jit_compiled_convolution_op, _jit_compiled_convolution_op, _jit_compiled_convolution_op, _jit_compiled_convolution_op, _jit_compiled_convolution_op while saving (showing 5 of 6). These functions will not be directly callable after loading.\n",
            "WARNING:absl:ArtifactQuery.property_predicate is not supported.\n",
            "WARNING:absl:Pusher is going to push the model without validation. Consider using Evaluator or InfraValidator in your pipeline.\n"
          ]
        }
      ]
    },
    {
      "cell_type": "markdown",
      "metadata": {
        "id": "ppERq0Mj6xvW"
      },
      "source": [
        "You should see \"INFO:absl:Component Pusher is finished.\" at the end of the\n",
        "logs if the pipeline finished successfully. Because `Pusher` component is the\n",
        "last component of the pipeline.\n",
        "\n",
        "The pusher component pushes the trained model to the `SERVING_MODEL_DIR` which\n",
        "is the `serving_model/penguin-simple` directory if you did not change the\n",
        "variables in the previous steps. You can see the result from the file browser\n",
        "in the left-side panel in Colab, or using the following command:"
      ]
    },
    {
      "cell_type": "markdown",
      "source": [
        "## Review outputs of the pipeline"
      ],
      "metadata": {
        "id": "vmsWODOJumiB"
      }
    },
    {
      "cell_type": "code",
      "source": [
        "from ml_metadata.proto import metadata_store_pb2\n",
        "# Non-public APIs, just for showcase.\n",
        "from tfx.orchestration.portable.mlmd import execution_lib\n",
        "\n",
        "# TODO(b/171447278): Move these functions into the TFX library.\n",
        "\n",
        "def get_latest_artifacts(metadata, pipeline_name, component_id):\n",
        "  \"\"\"Output artifacts of the latest run of the component.\"\"\"\n",
        "  context = metadata.store.get_context_by_type_and_name(\n",
        "      'node', f'{pipeline_name}.{component_id}')\n",
        "  executions = metadata.store.get_executions_by_context(context.id)\n",
        "  latest_execution = max(executions,\n",
        "                         key=lambda e:e.last_update_time_since_epoch)\n",
        "  return execution_lib.get_output_artifacts(metadata, latest_execution.id)\n",
        "\n",
        "# Non-public APIs, just for showcase.\n",
        "from tfx.orchestration.experimental.interactive import visualizations\n",
        "\n",
        "def visualize_artifacts(artifacts):\n",
        "  \"\"\"Visualizes artifacts using standard visualization modules.\"\"\"\n",
        "  for artifact in artifacts:\n",
        "    visualization = visualizations.get_registry().get_visualization(\n",
        "        artifact.type_name)\n",
        "    if visualization:\n",
        "      visualization.display(artifact)\n",
        "\n",
        "from tfx.orchestration.experimental.interactive import standard_visualizations\n",
        "standard_visualizations.register_standard_visualizations()"
      ],
      "metadata": {
        "id": "Q2Jj1q6Dqeaf"
      },
      "execution_count": 29,
      "outputs": []
    },
    {
      "cell_type": "code",
      "source": [
        "# Non-public APIs, just for showcase.\n",
        "from tfx.orchestration.metadata import Metadata\n",
        "from tfx.types import standard_component_specs\n",
        "\n",
        "metadata_connection_config = tfx.orchestration.metadata.sqlite_metadata_connection_config(\n",
        "    METADATA_PATH)\n",
        "\n",
        "with Metadata(metadata_connection_config) as metadata_handler:\n",
        "  # Find output artifacts from MLMD.\n",
        "  stat_gen_output = get_latest_artifacts(metadata_handler, PIPELINE_NAME,\n",
        "                                         'StatisticsGen')\n",
        "  stats_artifacts = stat_gen_output[standard_component_specs.STATISTICS_KEY]\n",
        "\n",
        "  schema_gen_output = get_latest_artifacts(metadata_handler,\n",
        "                                           PIPELINE_NAME, 'SchemaGen')\n",
        "  schema_artifacts = schema_gen_output[standard_component_specs.SCHEMA_KEY]"
      ],
      "metadata": {
        "id": "bcSdsmw_qgm7"
      },
      "execution_count": 14,
      "outputs": []
    },
    {
      "cell_type": "code",
      "source": [
        "# docs-infra: no-execute\n",
        "visualize_artifacts(stats_artifacts)"
      ],
      "metadata": {
        "colab": {
          "base_uri": "https://localhost:8080/",
          "height": 1000
        },
        "id": "YsC3XexSqjL0",
        "outputId": "e2dec5d6-aa91-47b5-d2c6-cb8a7c4484f0"
      },
      "execution_count": null,
      "outputs": [
        {
          "output_type": "display_data",
          "data": {
            "text/plain": [
              "<IPython.core.display.HTML object>"
            ],
            "text/html": [
              "<style>html[theme=dark] iframe {background: white;}</style>"
            ]
          },
          "metadata": {}
        },
        {
          "output_type": "display_data",
          "data": {
            "text/plain": [
              "<IPython.core.display.HTML object>"
            ],
            "text/html": [
              "<div><b>'train' split:</b></div><br/>"
            ]
          },
          "metadata": {}
        },
        {
          "output_type": "display_data",
          "data": {
            "text/plain": [
              "<IPython.core.display.HTML object>"
            ],
            "text/html": [
              "<iframe id='facets-iframe' width=\"100%\" height=\"500px\"></iframe>\n",
              "        <script>\n",
              "        facets_iframe = document.getElementById('facets-iframe');\n",
              "        facets_html = '<script src=\"https://cdnjs.cloudflare.com/ajax/libs/webcomponentsjs/1.3.3/webcomponents-lite.js\"><\\/script><link rel=\"import\" href=\"https://raw.githubusercontent.com/PAIR-code/facets/master/facets-dist/facets-jupyter.html\"><facets-overview proto-input=\"CoSqAgoObGhzX3N0YXRpc3RpY3MQ0A8arwUaowUKtgII0A8YASABLQAAgD8ypAIaGwkAAAAAAADwPxEAAAAAAADwPyEAAAAAAABpQBobCQAAAAAAAPA/EQAAAAAAAPA/IQAAAAAAAGlAGhsJAAAAAAAA8D8RAAAAAAAA8D8hAAAAAAAAaUAaGwkAAAAAAADwPxEAAAAAAADwPyEAAAAAAABpQBobCQAAAAAAAPA/EQAAAAAAAPA/IQAAAAAAAGlAGhsJAAAAAAAA8D8RAAAAAAAA8D8hAAAAAAAAaUAaGwkAAAAAAADwPxEAAAAAAADwPyEAAAAAAABpQBobCQAAAAAAAPA/EQAAAAAAAPA/IQAAAAAAAGlAGhsJAAAAAAAA8D8RAAAAAAAA8D8hAAAAAAAAaUAaGwkAAAAAAADwPxEAAAAAAADwPyEAAAAAAABpQCABQNAPEQAAAAAAAAhAKQAAAAAAAAhAMQAAAAAAAAhAOQAAAAAAAAhAQh0aGwkAAAAAAAAIQBEAAAAAAAAIQCEAAAAAAECfQEKkAhobCQAAAAAAAAhAEQAAAAAAAAhAIQAAAAAAAGlAGhsJAAAAAAAACEARAAAAAAAACEAhAAAAAAAAaUAaGwkAAAAAAAAIQBEAAAAAAAAIQCEAAAAAAABpQBobCQAAAAAAAAhAEQAAAAAAAAhAIQAAAAAAAGlAGhsJAAAAAAAACEARAAAAAAAACEAhAAAAAAAAaUAaGwkAAAAAAAAIQBEAAAAAAAAIQCEAAAAAAABpQBobCQAAAAAAAAhAEQAAAAAAAAhAIQAAAAAAAGlAGhsJAAAAAAAACEARAAAAAAAACEAhAAAAAAAAaUAaGwkAAAAAAAAIQBEAAAAAAAAIQCEAAAAAAABpQBobCQAAAAAAAAhAEQAAAAAAAAhAIQAAAAAAAGlAIAFCBwoFZGVwdGgavwcasgcKtgII0A8YASABLQAAgD8ypAIaGwkAAAAAAADwPxEAAAAAAADwPyEAAAAAAABpQBobCQAAAAAAAPA/EQAAAAAAAPA/IQAAAAAAAGlAGhsJAAAAAAAA8D8RAAAAAAAA8D8hAAAAAAAAaUAaGwkAAAAAAADwPxEAAAAAAADwPyEAAAAAAABpQBobCQAAAAAAAPA/EQAAAAAAAPA/IQAAAAAAAGlAGhsJAAAAAAAA8D8RAAAAAAAA8D8hAAAAAAAAaUAaGwkAAAAAAADwPxEAAAAAAADwPyEAAAAAAABpQBobCQAAAAAAAPA/EQAAAAAAAPA/IQAAAAAAAGlAGhsJAAAAAAAA8D8RAAAAAAAA8D8hAAAAAAAAaUAaGwkAAAAAAADwPxEAAAAAAADwPyEAAAAAAABpQCABQNAPEYlBYOXQfXZAGcIQ0FAsCVhAKQAAAAAAAENAMQAAAAAAYHdAOQAAAAAAQH9AQqICGhsJAAAAAAAAQ0ARzczMzMwMVUAhNDMzMzMzJEAaGwnNzMzMzAxVQBHNzMzMzExgQCEzMzMzM7M2QBobCc3MzMzMTGBAETQzMzMzE2ZAITkzMzMzs0xAGhsJNDMzMzMTZkARmpmZmZnZa0AhZGZmZmamWUAaGwmamZmZmdlrQBEAAAAAANBwQCFmZmZmZqZmQBobCQAAAAAA0HBAETQzMzMzs3NAIc/MzMzM7GNAGhsJNDMzMzOzc0ARZ2ZmZmaWdkAhZmZmZmZWcEAaGwlnZmZmZpZ2QBGamZmZmXl5QCFmZmZmZn6FQBobCZqZmZmZeXlAEc3MzMzMXHxAIQAAAAAAAF9AGhsJzczMzMxcfEARAAAAAABAf0AhZ2ZmZmaWeEBCpAIaGwkAAAAAAABDQBEAAAAAAABsQCEAAAAAAKBpQBobCQAAAAAAAGxAEQAAAAAAkHFAIQAAAAAA4GhAGhsJAAAAAACQcUARAAAAAADAdEAhAAAAAADAakAaGwkAAAAAAMB0QBEAAAAAALB2QCEAAAAAAOBmQBobCQAAAAAAsHZAEQAAAAAAYHdAIQAAAAAAcHJAGhsJAAAAAABgd0ARAAAAAABwd0AhAAAAAABAb0AaGwkAAAAAAHB3QBEAAAAAAFB4QCEAAAAAAIBLQBobCQAAAAAAUHhAEQAAAAAAQHxAIQAAAAAAIGlAGhsJAAAAAABAfEARAAAAAAAwf0AhAAAAAADAb0AaGwkAAAAAADB/QBEAAAAAAEB/QCEAAAAAAABiQCABQggKBmhlaWdodBrXjgIQAiLEjgIKtgII0A8YASABLQAAgD8ypAIaGwkAAAAAAADwPxEAAAAAAADwPyEAAAAAAABpQBobCQAAAAAAAPA/EQAAAAAAAPA/IQAAAAAAAGlAGhsJAAAAAAAA8D8RAAAAAAAA8D8hAAAAAAAAaUAaGwkAAAAAAADwPxEAAAAAAADwPyEAAAAAAABpQBobCQAAAAAAAPA/EQAAAAAAAPA/IQAAAAAAAGlAGhsJAAAAAAAA8D8RAAAAAAAA8D8hAAAAAAAAaUAaGwkAAAAAAADwPxEAAAAAAADwPyEAAAAAAABpQBobCQAAAAAAAPA/EQAAAAAAAPA/IQAAAAAAAGlAGhsJAAAAAAAA8D8RAAAAAAAA8D8hAAAAAAAAaUAaGwkAAAAAAADwPxEAAAAAAADwPyEAAAAAAABpQCABQNAPEM8PGhoSD19fQllURVNfVkFMVUVfXxkAAAAAAAAAQBoaEg9fX0JZVEVTX1ZBTFVFX18ZAAAAAAAA8D8aGhIPX19CWVRFU19WQUxVRV9fGQAAAAAAAPA/GhoSD19fQllURVNfVkFMVUVfXxkAAAAAAADwPxoaEg9fX0JZVEVTX1ZBTFVFX18ZAAAAAAAA8D8aGhIPX19CWVRFU19WQUxVRV9fGQAAAAAAAPA/GhoSD19fQllURVNfVkFMVUVfXxkAAAAAAADwPxoaEg9fX0JZVEVTX1ZBTFVFX18ZAAAAAAAA8D8aGhIPX19CWVRFU19WQUxVRV9fGQAAAAAAAPA/GhoSD19fQllURVNfVkFMVUVfXxkAAAAAAADwPxoaEg9fX0JZVEVTX1ZBTFVFX18ZAAAAAAAA8D8aGhIPX19CWVRFU19WQUxVRV9fGQAAAAAAAPA/GhoSD19fQllURVNfVkFMVUVfXxkAAAAAAADwPxoaEg9fX0JZVEVTX1ZBTFVFX18ZAAAAAAAA8D8aGhIPX19CWVRFU19WQUxVRV9fGQAAAAAAAPA/GhoSD19fQllURVNfVkFMVUVfXxkAAAAAAADwPxoaEg9fX0JZVEVTX1ZBTFVFX18ZAAAAAAAA8D8aGhIPX19CWVRFU19WQUxVRV9fGQAAAAAAAPA/GhoSD19fQllURVNfVkFMVUVfXxkAAAAAAADwPxoaEg9fX0JZVEVTX1ZBTFVFX18ZAAAAAAAA8D8lmRy0RirMhwIKGiIPX19CWVRFU19WQUxVRV9fKQAAAAAAAABACh4IARABIg9fX0JZVEVTX1ZBTFVFX18pAAAAAAAA8D8KHggCEAIiD19fQllURVNfVkFMVUVfXykAAAAAAADwPwoeCAMQAyIPX19CWVRFU19WQUxVRV9fKQAAAAAAAPA/Ch4IBBAEIg9fX0JZVEVTX1ZBTFVFX18pAAAAAAAA8D8KHggFEAUiD19fQllURVNfVkFMVUVfXykAAAAAAADwPwoeCAYQBiIPX19CWVRFU19WQUxVRV9fKQAAAAAAAPA/Ch4IBxAHIg9fX0JZVEVTX1ZBTFVFX18pAAAAAAAA8D8KHggIEAgiD19fQllURVNfVkFMVUVfXykAAAAAAADwPwoeCAkQCSIPX19CWVRFU19WQUxVRV9fKQAAAAAAAPA/Ch4IChAKIg9fX0JZVEVTX1ZBTFVFX18pAAAAAAAA8D8KHggLEAsiD19fQllURVNfVkFMVUVfXykAAAAAAADwPwoeCAwQDCIPX19CWVRFU19WQUxVRV9fKQAAAAAAAPA/Ch4IDRANIg9fX0JZVEVTX1ZBTFVFX18pAAAAAAAA8D8KHggOEA4iD19fQllURVNfVkFMVUVfXykAAAAAAADwPwoeCA8QDyIPX19CWVRFU19WQUxVRV9fKQAAAAAAAPA/Ch4IEBAQIg9fX0JZVEVTX1ZBTFVFX18pAAAAAAAA8D8KHggREBEiD19fQllURVNfVkFMVUVfXykAAAAAAADwPwoeCBIQEiIPX19CWVRFU19WQUxVRV9fKQAAAAAAAPA/Ch4IExATIg9fX0JZVEVTX1ZBTFVFX18pAAAAAAAA8D8KHggUEBQiD19fQllURVNfVkFMVUVfXykAAAAAAADwPwoeCBUQFSIPX19CWVRFU19WQUxVRV9fKQAAAAAAAPA/Ch4IFhAWIg9fX0JZVEVTX1ZBTFVFX18pAAAAAAAA8D8KHggXEBciD19fQllURVNfVkFMVUVfXykAAAAAAADwPwoeCBgQGCIPX19CWVRFU19WQUxVRV9fKQAAAAAAAPA/Ch4IGRAZIg9fX0JZVEVTX1ZBTFVFX18pAAAAAAAA8D8KHggaEBoiD19fQllURVNfVkFMVUVfXykAAAAAAADwPwoeCBsQGyIPX19CWVRFU19WQUxVRV9fKQAAAAAAAPA/Ch4IHBAcIg9fX0JZVEVTX1ZBTFVFX18pAAAAAAAA8D8KHggdEB0iD19fQllURVNfVkFMVUVfXykAAAAAAADwPwoeCB4QHiIPX19CWVRFU19WQUxVRV9fKQAAAAAAAPA/Ch4IHxAfIg9fX0JZVEVTX1ZBTFVFX18pAAAAAAAA8D8KHgggECAiD19fQllURVNfVkFMVUVfXykAAAAAAADwPwoeCCEQISIPX19CWVRFU19WQUxVRV9fKQAAAAAAAPA/Ch4IIhAiIg9fX0JZVEVTX1ZBTFVFX18pAAAAAAAA8D8KHggjECMiD19fQllURVNfVkFMVUVfXykAAAAAAADwPwoeCCQQJCIPX19CWVRFU19WQUxVRV9fKQAAAAAAAPA/Ch4IJRAlIg9fX0JZVEVTX1ZBTFVFX18pAAAAAAAA8D8KHggmECYiD19fQllURVNfVkFMVUVfXykAAAAAAADwPwoeCCcQJyIPX19CWVRFU19WQUxVRV9fKQAAAAAAAPA/Ch4IKBAoIg9fX0JZVEVTX1ZBTFVFX18pAAAAAAAA8D8KHggpECkiD19fQllURVNfVkFMVUVfXykAAAAAAADwPwoeCCoQKiIPX19CWVRFU19WQUxVRV9fKQAAAAAAAPA/Ch4IKxArIg9fX0JZVEVTX1ZBTFVFX18pAAAAAAAA8D8KHggsECwiD19fQllURVNfVkFMVUVfXykAAAAAAADwPwoeCC0QLSIPX19CWVRFU19WQUxVRV9fKQAAAAAAAPA/Ch4ILhAuIg9fX0JZVEVTX1ZBTFVFX18pAAAAAAAA8D8KHggvEC8iD19fQllURVNfVkFMVUVfXykAAAAAAADwPwoeCDAQMCIPX19CWVRFU19WQUxVRV9fKQAAAAAAAPA/Ch4IMRAxIg9fX0JZVEVTX1ZBTFVFX18pAAAAAAAA8D8KHggyEDIiD19fQllURVNfVkFMVUVfXykAAAAAAADwPwoeCDMQMyIPX19CWVRFU19WQUxVRV9fKQAAAAAAAPA/Ch4INBA0Ig9fX0JZVEVTX1ZBTFVFX18pAAAAAAAA8D8KHgg1EDUiD19fQllURVNfVkFMVUVfXykAAAAAAADwPwoeCDYQNiIPX19CWVRFU19WQUxVRV9fKQAAAAAAAPA/Ch4INxA3Ig9fX0JZVEVTX1ZBTFVFX18pAAAAAAAA8D8KHgg4EDgiD19fQllURVNfVkFMVUVfXykAAAAAAADwPwoeCDkQOSIPX19CWVRFU19WQUxVRV9fKQAAAAAAAPA/Ch4IOhA6Ig9fX0JZVEVTX1ZBTFVFX18pAAAAAAAA8D8KHgg7EDsiD19fQllURVNfVkFMVUVfXykAAAAAAADwPwoeCDwQPCIPX19CWVRFU19WQUxVRV9fKQAAAAAAAPA/Ch4IPRA9Ig9fX0JZVEVTX1ZBTFVFX18pAAAAAAAA8D8KHgg+ED4iD19fQllURVNfVkFMVUVfXykAAAAAAADwPwoeCD8QPyIPX19CWVRFU19WQUxVRV9fKQAAAAAAAPA/Ch4IQBBAIg9fX0JZVEVTX1ZBTFVFX18pAAAAAAAA8D8KHghBEEEiD19fQllURVNfVkFMVUVfXykAAAAAAADwPwoeCEIQQiIPX19CWVRFU19WQUxVRV9fKQAAAAAAAPA/Ch4IQxBDIg9fX0JZVEVTX1ZBTFVFX18pAAAAAAAA8D8KHghEEEQiD19fQllURVNfVkFMVUVfXykAAAAAAADwPwoeCEUQRSIPX19CWVRFU19WQUxVRV9fKQAAAAAAAPA/Ch4IRhBGIg9fX0JZVEVTX1ZBTFVFX18pAAAAAAAA8D8KHghHEEciD19fQllURVNfVkFMVUVfXykAAAAAAADwPwoeCEgQSCIPX19CWVRFU19WQUxVRV9fKQAAAAAAAPA/Ch4ISRBJIg9fX0JZVEVTX1ZBTFVFX18pAAAAAAAA8D8KHghKEEoiD19fQllURVNfVkFMVUVfXykAAAAAAADwPwoeCEsQSyIPX19CWVRFU19WQUxVRV9fKQAAAAAAAPA/Ch4ITBBMIg9fX0JZVEVTX1ZBTFVFX18pAAAAAAAA8D8KHghNEE0iD19fQllURVNfVkFMVUVfXykAAAAAAADwPwoeCE4QTiIPX19CWVRFU19WQUxVRV9fKQAAAAAAAPA/Ch4ITxBPIg9fX0JZVEVTX1ZBTFVFX18pAAAAAAAA8D8KHghQEFAiD19fQllURVNfVkFMVUVfXykAAAAAAADwPwoeCFEQUSIPX19CWVRFU19WQUxVRV9fKQAAAAAAAPA/Ch4IUhBSIg9fX0JZVEVTX1ZBTFVFX18pAAAAAAAA8D8KHghTEFMiD19fQllURVNfVkFMVUVfXykAAAAAAADwPwoeCFQQVCIPX19CWVRFU19WQUxVRV9fKQAAAAAAAPA/Ch4IVRBVIg9fX0JZVEVTX1ZBTFVFX18pAAAAAAAA8D8KHghWEFYiD19fQllURVNfVkFMVUVfXykAAAAAAADwPwoeCFcQVyIPX19CWVRFU19WQUxVRV9fKQAAAAAAAPA/Ch4IWBBYIg9fX0JZVEVTX1ZBTFVFX18pAAAAAAAA8D8KHghZEFkiD19fQllURVNfVkFMVUVfXykAAAAAAADwPwoeCFoQWiIPX19CWVRFU19WQUxVRV9fKQAAAAAAAPA/Ch4IWxBbIg9fX0JZVEVTX1ZBTFVFX18pAAAAAAAA8D8KHghcEFwiD19fQllURVNfVkFMVUVfXykAAAAAAADwPwoeCF0QXSIPX19CWVRFU19WQUxVRV9fKQAAAAAAAPA/Ch4IXhBeIg9fX0JZVEVTX1ZBTFVFX18pAAAAAAAA8D8KHghfEF8iD19fQllURVNfVkFMVUVfXykAAAAAAADwPwoeCGAQYCIPX19CWVRFU19WQUxVRV9fKQAAAAAAAPA/Ch4IYRBhIg9fX0JZVEVTX1ZBTFVFX18pAAAAAAAA8D8KHghiEGIiD19fQllURVNfVkFMVUVfXykAAAAAAADwPwoeCGMQYyIPX19CWVRFU19WQUxVRV9fKQAAAAAAAPA/Ch4IZBBkIg9fX0JZVEVTX1ZBTFVFX18pAAAAAAAA8D8KHghlEGUiD19fQllURVNfVkFMVUVfXykAAAAAAADwPwoeCGYQZiIPX19CWVRFU19WQUxVRV9fKQAAAAAAAPA/Ch4IZxBnIg9fX0JZVEVTX1ZBTFVFX18pAAAAAAAA8D8KHghoEGgiD19fQllURVNfVkFMVUVfXykAAAAAAADwPwoeCGkQaSIPX19CWVRFU19WQUxVRV9fKQAAAAAAAPA/Ch4IahBqIg9fX0JZVEVTX1ZBTFVFX18pAAAAAAAA8D8KHghrEGsiD19fQllURVNfVkFMVUVfXykAAAAAAADwPwoeCGwQbCIPX19CWVRFU19WQUxVRV9fKQAAAAAAAPA/Ch4IbRBtIg9fX0JZVEVTX1ZBTFVFX18pAAAAAAAA8D8KHghuEG4iD19fQllURVNfVkFMVUVfXykAAAAAAADwPwoeCG8QbyIPX19CWVRFU19WQUxVRV9fKQAAAAAAAPA/Ch4IcBBwIg9fX0JZVEVTX1ZBTFVFX18pAAAAAAAA8D8KHghxEHEiD19fQllURVNfVkFMVUVfXykAAAAAAADwPwoeCHIQciIPX19CWVRFU19WQUxVRV9fKQAAAAAAAPA/Ch4IcxBzIg9fX0JZVEVTX1ZBTFVFX18pAAAAAAAA8D8KHgh0EHQiD19fQllURVNfVkFMVUVfXykAAAAAAADwPwoeCHUQdSIPX19CWVRFU19WQUxVRV9fKQAAAAAAAPA/Ch4IdhB2Ig9fX0JZVEVTX1ZBTFVFX18pAAAAAAAA8D8KHgh3EHciD19fQllURVNfVkFMVUVfXykAAAAAAADwPwoeCHgQeCIPX19CWVRFU19WQUxVRV9fKQAAAAAAAPA/Ch4IeRB5Ig9fX0JZVEVTX1ZBTFVFX18pAAAAAAAA8D8KHgh6EHoiD19fQllURVNfVkFMVUVfXykAAAAAAADwPwoeCHsQeyIPX19CWVRFU19WQUxVRV9fKQAAAAAAAPA/Ch4IfBB8Ig9fX0JZVEVTX1ZBTFVFX18pAAAAAAAA8D8KHgh9EH0iD19fQllURVNfVkFMVUVfXykAAAAAAADwPwoeCH4QfiIPX19CWVRFU19WQUxVRV9fKQAAAAAAAPA/Ch4IfxB/Ig9fX0JZVEVTX1ZBTFVFX18pAAAAAAAA8D8KIAiAARCAASIPX19CWVRFU19WQUxVRV9fKQAAAAAAAPA/CiAIgQEQgQEiD19fQllURVNfVkFMVUVfXykAAAAAAADwPwogCIIBEIIBIg9fX0JZVEVTX1ZBTFVFX18pAAAAAAAA8D8KIAiDARCDASIPX19CWVRFU19WQUxVRV9fKQAAAAAAAPA/CiAIhAEQhAEiD19fQllURVNfVkFMVUVfXykAAAAAAADwPwogCIUBEIUBIg9fX0JZVEVTX1ZBTFVFX18pAAAAAAAA8D8KIAiGARCGASIPX19CWVRFU19WQUxVRV9fKQAAAAAAAPA/CiAIhwEQhwEiD19fQllURVNfVkFMVUVfXykAAAAAAADwPwogCIgBEIgBIg9fX0JZVEVTX1ZBTFVFX18pAAAAAAAA8D8KIAiJARCJASIPX19CWVRFU19WQUxVRV9fKQAAAAAAAPA/CiAIigEQigEiD19fQllURVNfVkFMVUVfXykAAAAAAADwPwogCIsBEIsBIg9fX0JZVEVTX1ZBTFVFX18pAAAAAAAA8D8KIAiMARCMASIPX19CWVRFU19WQUxVRV9fKQAAAAAAAPA/CiAIjQEQjQEiD19fQllURVNfVkFMVUVfXykAAAAAAADwPwogCI4BEI4BIg9fX0JZVEVTX1ZBTFVFX18pAAAAAAAA8D8KIAiPARCPASIPX19CWVRFU19WQUxVRV9fKQAAAAAAAPA/CiAIkAEQkAEiD19fQllURVNfVkFMVUVfXykAAAAAAADwPwogCJEBEJEBIg9fX0JZVEVTX1ZBTFVFX18pAAAAAAAA8D8KIAiSARCSASIPX19CWVRFU19WQUxVRV9fKQAAAAAAAPA/CiAIkwEQkwEiD19fQllURVNfVkFMVUVfXykAAAAAAADwPwogCJQBEJQBIg9fX0JZVEVTX1ZBTFVFX18pAAAAAAAA8D8KIAiVARCVASIPX19CWVRFU19WQUxVRV9fKQAAAAAAAPA/CiAIlgEQlgEiD19fQllURVNfVkFMVUVfXykAAAAAAADwPwogCJcBEJcBIg9fX0JZVEVTX1ZBTFVFX18pAAAAAAAA8D8KIAiYARCYASIPX19CWVRFU19WQUxVRV9fKQAAAAAAAPA/CiAImQEQmQEiD19fQllURVNfVkFMVUVfXykAAAAAAADwPwogCJoBEJoBIg9fX0JZVEVTX1ZBTFVFX18pAAAAAAAA8D8KIAibARCbASIPX19CWVRFU19WQUxVRV9fKQAAAAAAAPA/CiAInAEQnAEiD19fQllURVNfVkFMVUVfXykAAAAAAADwPwogCJ0BEJ0BIg9fX0JZVEVTX1ZBTFVFX18pAAAAAAAA8D8KIAieARCeASIPX19CWVRFU19WQUxVRV9fKQAAAAAAAPA/CiAInwEQnwEiD19fQllURVNfVkFMVUVfXykAAAAAAADwPwogCKABEKABIg9fX0JZVEVTX1ZBTFVFX18pAAAAAAAA8D8KIAihARChASIPX19CWVRFU19WQUxVRV9fKQAAAAAAAPA/CiAIogEQogEiD19fQllURVNfVkFMVUVfXykAAAAAAADwPwogCKMBEKMBIg9fX0JZVEVTX1ZBTFVFX18pAAAAAAAA8D8KIAikARCkASIPX19CWVRFU19WQUxVRV9fKQAAAAAAAPA/CiAIpQEQpQEiD19fQllURVNfVkFMVUVfXykAAAAAAADwPwogCKYBEKYBIg9fX0JZVEVTX1ZBTFVFX18pAAAAAAAA8D8KIAinARCnASIPX19CWVRFU19WQUxVRV9fKQAAAAAAAPA/CiAIqAEQqAEiD19fQllURVNfVkFMVUVfXykAAAAAAADwPwogCKkBEKkBIg9fX0JZVEVTX1ZBTFVFX18pAAAAAAAA8D8KIAiqARCqASIPX19CWVRFU19WQUxVRV9fKQAAAAAAAPA/CiAIqwEQqwEiD19fQllURVNfVkFMVUVfXykAAAAAAADwPwogCKwBEKwBIg9fX0JZVEVTX1ZBTFVFX18pAAAAAAAA8D8KIAitARCtASIPX19CWVRFU19WQUxVRV9fKQAAAAAAAPA/CiAIrgEQrgEiD19fQllURVNfVkFMVUVfXykAAAAAAADwPwogCK8BEK8BIg9fX0JZVEVTX1ZBTFVFX18pAAAAAAAA8D8KIAiwARCwASIPX19CWVRFU19WQUxVRV9fKQAAAAAAAPA/CiAIsQEQsQEiD19fQllURVNfVkFMVUVfXykAAAAAAADwPwogCLIBELIBIg9fX0JZVEVTX1ZBTFVFX18pAAAAAAAA8D8KIAizARCzASIPX19CWVRFU19WQUxVRV9fKQAAAAAAAPA/CiAItAEQtAEiD19fQllURVNfVkFMVUVfXykAAAAAAADwPwogCLUBELUBIg9fX0JZVEVTX1ZBTFVFX18pAAAAAAAA8D8KIAi2ARC2ASIPX19CWVRFU19WQUxVRV9fKQAAAAAAAPA/CiAItwEQtwEiD19fQllURVNfVkFMVUVfXykAAAAAAADwPwogCLgBELgBIg9fX0JZVEVTX1ZBTFVFX18pAAAAAAAA8D8KIAi5ARC5ASIPX19CWVRFU19WQUxVRV9fKQAAAAAAAPA/CiAIugEQugEiD19fQllURVNfVkFMVUVfXykAAAAAAADwPwogCLsBELsBIg9fX0JZVEVTX1ZBTFVFX18pAAAAAAAA8D8KIAi8ARC8ASIPX19CWVRFU19WQUxVRV9fKQAAAAAAAPA/CiAIvQEQvQEiD19fQllURVNfVkFMVUVfXykAAAAAAADwPwogCL4BEL4BIg9fX0JZVEVTX1ZBTFVFX18pAAAAAAAA8D8KIAi/ARC/ASIPX19CWVRFU19WQUxVRV9fKQAAAAAAAPA/CiAIwAEQwAEiD19fQllURVNfVkFMVUVfXykAAAAAAADwPwogCMEBEMEBIg9fX0JZVEVTX1ZBTFVFX18pAAAAAAAA8D8KIAjCARDCASIPX19CWVRFU19WQUxVRV9fKQAAAAAAAPA/CiAIwwEQwwEiD19fQllURVNfVkFMVUVfXykAAAAAAADwPwogCMQBEMQBIg9fX0JZVEVTX1ZBTFVFX18pAAAAAAAA8D8KIAjFARDFASIPX19CWVRFU19WQUxVRV9fKQAAAAAAAPA/CiAIxgEQxgEiD19fQllURVNfVkFMVUVfXykAAAAAAADwPwogCMcBEMcBIg9fX0JZVEVTX1ZBTFVFX18pAAAAAAAA8D8KIAjIARDIASIPX19CWVRFU19WQUxVRV9fKQAAAAAAAPA/CiAIyQEQyQEiD19fQllURVNfVkFMVUVfXykAAAAAAADwPwogCMoBEMoBIg9fX0JZVEVTX1ZBTFVFX18pAAAAAAAA8D8KIAjLARDLASIPX19CWVRFU19WQUxVRV9fKQAAAAAAAPA/CiAIzAEQzAEiD19fQllURVNfVkFMVUVfXykAAAAAAADwPwogCM0BEM0BIg9fX0JZVEVTX1ZBTFVFX18pAAAAAAAA8D8KIAjOARDOASIPX19CWVRFU19WQUxVRV9fKQAAAAAAAPA/CiAIzwEQzwEiD19fQllURVNfVkFMVUVfXykAAAAAAADwPwogCNABENABIg9fX0JZVEVTX1ZBTFVFX18pAAAAAAAA8D8KIAjRARDRASIPX19CWVRFU19WQUxVRV9fKQAAAAAAAPA/CiAI0gEQ0gEiD19fQllURVNfVkFMVUVfXykAAAAAAADwPwogCNMBENMBIg9fX0JZVEVTX1ZBTFVFX18pAAAAAAAA8D8KIAjUARDUASIPX19CWVRFU19WQUxVRV9fKQAAAAAAAPA/CiAI1QEQ1QEiD19fQllURVNfVkFMVUVfXykAAAAAAADwPwogCNYBENYBIg9fX0JZVEVTX1ZBTFVFX18pAAAAAAAA8D8KIAjXARDXASIPX19CWVRFU19WQUxVRV9fKQAAAAAAAPA/CiAI2AEQ2AEiD19fQllURVNfVkFMVUVfXykAAAAAAADwPwogCNkBENkBIg9fX0JZVEVTX1ZBTFVFX18pAAAAAAAA8D8KIAjaARDaASIPX19CWVRFU19WQUxVRV9fKQAAAAAAAPA/CiAI2wEQ2wEiD19fQllURVNfVkFMVUVfXykAAAAAAADwPwogCNwBENwBIg9fX0JZVEVTX1ZBTFVFX18pAAAAAAAA8D8KIAjdARDdASIPX19CWVRFU19WQUxVRV9fKQAAAAAAAPA/CiAI3gEQ3gEiD19fQllURVNfVkFMVUVfXykAAAAAAADwPwogCN8BEN8BIg9fX0JZVEVTX1ZBTFVFX18pAAAAAAAA8D8KIAjgARDgASIPX19CWVRFU19WQUxVRV9fKQAAAAAAAPA/CiAI4QEQ4QEiD19fQllURVNfVkFMVUVfXykAAAAAAADwPwogCOIBEOIBIg9fX0JZVEVTX1ZBTFVFX18pAAAAAAAA8D8KIAjjARDjASIPX19CWVRFU19WQUxVRV9fKQAAAAAAAPA/CiAI5AEQ5AEiD19fQllURVNfVkFMVUVfXykAAAAAAADwPwogCOUBEOUBIg9fX0JZVEVTX1ZBTFVFX18pAAAAAAAA8D8KIAjmARDmASIPX19CWVRFU19WQUxVRV9fKQAAAAAAAPA/CiAI5wEQ5wEiD19fQllURVNfVkFMVUVfXykAAAAAAADwPwogCOgBEOgBIg9fX0JZVEVTX1ZBTFVFX18pAAAAAAAA8D8KIAjpARDpASIPX19CWVRFU19WQUxVRV9fKQAAAAAAAPA/CiAI6gEQ6gEiD19fQllURVNfVkFMVUVfXykAAAAAAADwPwogCOsBEOsBIg9fX0JZVEVTX1ZBTFVFX18pAAAAAAAA8D8KIAjsARDsASIPX19CWVRFU19WQUxVRV9fKQAAAAAAAPA/CiAI7QEQ7QEiD19fQllURVNfVkFMVUVfXykAAAAAAADwPwogCO4BEO4BIg9fX0JZVEVTX1ZBTFVFX18pAAAAAAAA8D8KIAjvARDvASIPX19CWVRFU19WQUxVRV9fKQAAAAAAAPA/CiAI8AEQ8AEiD19fQllURVNfVkFMVUVfXykAAAAAAADwPwogCPEBEPEBIg9fX0JZVEVTX1ZBTFVFX18pAAAAAAAA8D8KIAjyARDyASIPX19CWVRFU19WQUxVRV9fKQAAAAAAAPA/CiAI8wEQ8wEiD19fQllURVNfVkFMVUVfXykAAAAAAADwPwogCPQBEPQBIg9fX0JZVEVTX1ZBTFVFX18pAAAAAAAA8D8KIAj1ARD1ASIPX19CWVRFU19WQUxVRV9fKQAAAAAAAPA/CiAI9gEQ9gEiD19fQllURVNfVkFMVUVfXykAAAAAAADwPwogCPcBEPcBIg9fX0JZVEVTX1ZBTFVFX18pAAAAAAAA8D8KIAj4ARD4ASIPX19CWVRFU19WQUxVRV9fKQAAAAAAAPA/CiAI+QEQ+QEiD19fQllURVNfVkFMVUVfXykAAAAAAADwPwogCPoBEPoBIg9fX0JZVEVTX1ZBTFVFX18pAAAAAAAA8D8KIAj7ARD7ASIPX19CWVRFU19WQUxVRV9fKQAAAAAAAPA/CiAI/AEQ/AEiD19fQllURVNfVkFMVUVfXykAAAAAAADwPwogCP0BEP0BIg9fX0JZVEVTX1ZBTFVFX18pAAAAAAAA8D8KIAj+ARD+ASIPX19CWVRFU19WQUxVRV9fKQAAAAAAAPA/CiAI/wEQ/wEiD19fQllURVNfVkFMVUVfXykAAAAAAADwPwogCIACEIACIg9fX0JZVEVTX1ZBTFVFX18pAAAAAAAA8D8KIAiBAhCBAiIPX19CWVRFU19WQUxVRV9fKQAAAAAAAPA/CiAIggIQggIiD19fQllURVNfVkFMVUVfXykAAAAAAADwPwogCIMCEIMCIg9fX0JZVEVTX1ZBTFVFX18pAAAAAAAA8D8KIAiEAhCEAiIPX19CWVRFU19WQUxVRV9fKQAAAAAAAPA/CiAIhQIQhQIiD19fQllURVNfVkFMVUVfXykAAAAAAADwPwogCIYCEIYCIg9fX0JZVEVTX1ZBTFVFX18pAAAAAAAA8D8KIAiHAhCHAiIPX19CWVRFU19WQUxVRV9fKQAAAAAAAPA/CiAIiAIQiAIiD19fQllURVNfVkFMVUVfXykAAAAAAADwPwogCIkCEIkCIg9fX0JZVEVTX1ZBTFVFX18pAAAAAAAA8D8KIAiKAhCKAiIPX19CWVRFU19WQUxVRV9fKQAAAAAAAPA/CiAIiwIQiwIiD19fQllURVNfVkFMVUVfXykAAAAAAADwPwogCIwCEIwCIg9fX0JZVEVTX1ZBTFVFX18pAAAAAAAA8D8KIAiNAhCNAiIPX19CWVRFU19WQUxVRV9fKQAAAAAAAPA/CiAIjgIQjgIiD19fQllURVNfVkFMVUVfXykAAAAAAADwPwogCI8CEI8CIg9fX0JZVEVTX1ZBTFVFX18pAAAAAAAA8D8KIAiQAhCQAiIPX19CWVRFU19WQUxVRV9fKQAAAAAAAPA/CiAIkQIQkQIiD19fQllURVNfVkFMVUVfXykAAAAAAADwPwogCJICEJICIg9fX0JZVEVTX1ZBTFVFX18pAAAAAAAA8D8KIAiTAhCTAiIPX19CWVRFU19WQUxVRV9fKQAAAAAAAPA/CiAIlAIQlAIiD19fQllURVNfVkFMVUVfXykAAAAAAADwPwogCJUCEJUCIg9fX0JZVEVTX1ZBTFVFX18pAAAAAAAA8D8KIAiWAhCWAiIPX19CWVRFU19WQUxVRV9fKQAAAAAAAPA/CiAIlwIQlwIiD19fQllURVNfVkFMVUVfXykAAAAAAADwPwogCJgCEJgCIg9fX0JZVEVTX1ZBTFVFX18pAAAAAAAA8D8KIAiZAhCZAiIPX19CWVRFU19WQUxVRV9fKQAAAAAAAPA/CiAImgIQmgIiD19fQllURVNfVkFMVUVfXykAAAAAAADwPwogCJsCEJsCIg9fX0JZVEVTX1ZBTFVFX18pAAAAAAAA8D8KIAicAhCcAiIPX19CWVRFU19WQUxVRV9fKQAAAAAAAPA/CiAInQIQnQIiD19fQllURVNfVkFMVUVfXykAAAAAAADwPwogCJ4CEJ4CIg9fX0JZVEVTX1ZBTFVFX18pAAAAAAAA8D8KIAifAhCfAiIPX19CWVRFU19WQUxVRV9fKQAAAAAAAPA/CiAIoAIQoAIiD19fQllURVNfVkFMVUVfXykAAAAAAADwPwogCKECEKECIg9fX0JZVEVTX1ZBTFVFX18pAAAAAAAA8D8KIAiiAhCiAiIPX19CWVRFU19WQUxVRV9fKQAAAAAAAPA/CiAIowIQowIiD19fQllURVNfVkFMVUVfXykAAAAAAADwPwogCKQCEKQCIg9fX0JZVEVTX1ZBTFVFX18pAAAAAAAA8D8KIAilAhClAiIPX19CWVRFU19WQUxVRV9fKQAAAAAAAPA/CiAIpgIQpgIiD19fQllURVNfVkFMVUVfXykAAAAAAADwPwogCKcCEKcCIg9fX0JZVEVTX1ZBTFVFX18pAAAAAAAA8D8KIAioAhCoAiIPX19CWVRFU19WQUxVRV9fKQAAAAAAAPA/CiAIqQIQqQIiD19fQllURVNfVkFMVUVfXykAAAAAAADwPwogCKoCEKoCIg9fX0JZVEVTX1ZBTFVFX18pAAAAAAAA8D8KIAirAhCrAiIPX19CWVRFU19WQUxVRV9fKQAAAAAAAPA/CiAIrAIQrAIiD19fQllURVNfVkFMVUVfXykAAAAAAADwPwogCK0CEK0CIg9fX0JZVEVTX1ZBTFVFX18pAAAAAAAA8D8KIAiuAhCuAiIPX19CWVRFU19WQUxVRV9fKQAAAAAAAPA/CiAIrwIQrwIiD19fQllURVNfVkFMVUVfXykAAAAAAADwPwogCLACELACIg9fX0JZVEVTX1ZBTFVFX18pAAAAAAAA8D8KIAixAhCxAiIPX19CWVRFU19WQUxVRV9fKQAAAAAAAPA/CiAIsgIQsgIiD19fQllURVNfVkFMVUVfXykAAAAAAADwPwogCLMCELMCIg9fX0JZVEVTX1ZBTFVFX18pAAAAAAAA8D8KIAi0AhC0AiIPX19CWVRFU19WQUxVRV9fKQAAAAAAAPA/CiAItQIQtQIiD19fQllURVNfVkFMVUVfXykAAAAAAADwPwogCLYCELYCIg9fX0JZVEVTX1ZBTFVFX18pAAAAAAAA8D8KIAi3AhC3AiIPX19CWVRFU19WQUxVRV9fKQAAAAAAAPA/CiAIuAIQuAIiD19fQllURVNfVkFMVUVfXykAAAAAAADwPwogCLkCELkCIg9fX0JZVEVTX1ZBTFVFX18pAAAAAAAA8D8KIAi6AhC6AiIPX19CWVRFU19WQUxVRV9fKQAAAAAAAPA/CiAIuwIQuwIiD19fQllURVNfVkFMVUVfXykAAAAAAADwPwogCLwCELwCIg9fX0JZVEVTX1ZBTFVFX18pAAAAAAAA8D8KIAi9AhC9AiIPX19CWVRFU19WQUxVRV9fKQAAAAAAAPA/CiAIvgIQvgIiD19fQllURVNfVkFMVUVfXykAAAAAAADwPwogCL8CEL8CIg9fX0JZVEVTX1ZBTFVFX18pAAAAAAAA8D8KIAjAAhDAAiIPX19CWVRFU19WQUxVRV9fKQAAAAAAAPA/CiAIwQIQwQIiD19fQllURVNfVkFMVUVfXykAAAAAAADwPwogCMICEMICIg9fX0JZVEVTX1ZBTFVFX18pAAAAAAAA8D8KIAjDAhDDAiIPX19CWVRFU19WQUxVRV9fKQAAAAAAAPA/CiAIxAIQxAIiD19fQllURVNfVkFMVUVfXykAAAAAAADwPwogCMUCEMUCIg9fX0JZVEVTX1ZBTFVFX18pAAAAAAAA8D8KIAjGAhDGAiIPX19CWVRFU19WQUxVRV9fKQAAAAAAAPA/CiAIxwIQxwIiD19fQllURVNfVkFMVUVfXykAAAAAAADwPwogCMgCEMgCIg9fX0JZVEVTX1ZBTFVFX18pAAAAAAAA8D8KIAjJAhDJAiIPX19CWVRFU19WQUxVRV9fKQAAAAAAAPA/CiAIygIQygIiD19fQllURVNfVkFMVUVfXykAAAAAAADwPwogCMsCEMsCIg9fX0JZVEVTX1ZBTFVFX18pAAAAAAAA8D8KIAjMAhDMAiIPX19CWVRFU19WQUxVRV9fKQAAAAAAAPA/CiAIzQIQzQIiD19fQllURVNfVkFMVUVfXykAAAAAAADwPwogCM4CEM4CIg9fX0JZVEVTX1ZBTFVFX18pAAAAAAAA8D8KIAjPAhDPAiIPX19CWVRFU19WQUxVRV9fKQAAAAAAAPA/CiAI0AIQ0AIiD19fQllURVNfVkFMVUVfXykAAAAAAADwPwogCNECENECIg9fX0JZVEVTX1ZBTFVFX18pAAAAAAAA8D8KIAjSAhDSAiIPX19CWVRFU19WQUxVRV9fKQAAAAAAAPA/CiAI0wIQ0wIiD19fQllURVNfVkFMVUVfXykAAAAAAADwPwogCNQCENQCIg9fX0JZVEVTX1ZBTFVFX18pAAAAAAAA8D8KIAjVAhDVAiIPX19CWVRFU19WQUxVRV9fKQAAAAAAAPA/CiAI1gIQ1gIiD19fQllURVNfVkFMVUVfXykAAAAAAADwPwogCNcCENcCIg9fX0JZVEVTX1ZBTFVFX18pAAAAAAAA8D8KIAjYAhDYAiIPX19CWVRFU19WQUxVRV9fKQAAAAAAAPA/CiAI2QIQ2QIiD19fQllURVNfVkFMVUVfXykAAAAAAADwPwogCNoCENoCIg9fX0JZVEVTX1ZBTFVFX18pAAAAAAAA8D8KIAjbAhDbAiIPX19CWVRFU19WQUxVRV9fKQAAAAAAAPA/CiAI3AIQ3AIiD19fQllURVNfVkFMVUVfXykAAAAAAADwPwogCN0CEN0CIg9fX0JZVEVTX1ZBTFVFX18pAAAAAAAA8D8KIAjeAhDeAiIPX19CWVRFU19WQUxVRV9fKQAAAAAAAPA/CiAI3wIQ3wIiD19fQllURVNfVkFMVUVfXykAAAAAAADwPwogCOACEOACIg9fX0JZVEVTX1ZBTFVFX18pAAAAAAAA8D8KIAjhAhDhAiIPX19CWVRFU19WQUxVRV9fKQAAAAAAAPA/CiAI4gIQ4gIiD19fQllURVNfVkFMVUVfXykAAAAAAADwPwogCOMCEOMCIg9fX0JZVEVTX1ZBTFVFX18pAAAAAAAA8D8KIAjkAhDkAiIPX19CWVRFU19WQUxVRV9fKQAAAAAAAPA/CiAI5QIQ5QIiD19fQllURVNfVkFMVUVfXykAAAAAAADwPwogCOYCEOYCIg9fX0JZVEVTX1ZBTFVFX18pAAAAAAAA8D8KIAjnAhDnAiIPX19CWVRFU19WQUxVRV9fKQAAAAAAAPA/CiAI6AIQ6AIiD19fQllURVNfVkFMVUVfXykAAAAAAADwPwogCOkCEOkCIg9fX0JZVEVTX1ZBTFVFX18pAAAAAAAA8D8KIAjqAhDqAiIPX19CWVRFU19WQUxVRV9fKQAAAAAAAPA/CiAI6wIQ6wIiD19fQllURVNfVkFMVUVfXykAAAAAAADwPwogCOwCEOwCIg9fX0JZVEVTX1ZBTFVFX18pAAAAAAAA8D8KIAjtAhDtAiIPX19CWVRFU19WQUxVRV9fKQAAAAAAAPA/CiAI7gIQ7gIiD19fQllURVNfVkFMVUVfXykAAAAAAADwPwogCO8CEO8CIg9fX0JZVEVTX1ZBTFVFX18pAAAAAAAA8D8KIAjwAhDwAiIPX19CWVRFU19WQUxVRV9fKQAAAAAAAPA/CiAI8QIQ8QIiD19fQllURVNfVkFMVUVfXykAAAAAAADwPwogCPICEPICIg9fX0JZVEVTX1ZBTFVFX18pAAAAAAAA8D8KIAjzAhDzAiIPX19CWVRFU19WQUxVRV9fKQAAAAAAAPA/CiAI9AIQ9AIiD19fQllURVNfVkFMVUVfXykAAAAAAADwPwogCPUCEPUCIg9fX0JZVEVTX1ZBTFVFX18pAAAAAAAA8D8KIAj2AhD2AiIPX19CWVRFU19WQUxVRV9fKQAAAAAAAPA/CiAI9wIQ9wIiD19fQllURVNfVkFMVUVfXykAAAAAAADwPwogCPgCEPgCIg9fX0JZVEVTX1ZBTFVFX18pAAAAAAAA8D8KIAj5AhD5AiIPX19CWVRFU19WQUxVRV9fKQAAAAAAAPA/CiAI+gIQ+gIiD19fQllURVNfVkFMVUVfXykAAAAAAADwPwogCPsCEPsCIg9fX0JZVEVTX1ZBTFVFX18pAAAAAAAA8D8KIAj8AhD8AiIPX19CWVRFU19WQUxVRV9fKQAAAAAAAPA/CiAI/QIQ/QIiD19fQllURVNfVkFMVUVfXykAAAAAAADwPwogCP4CEP4CIg9fX0JZVEVTX1ZBTFVFX18pAAAAAAAA8D8KIAj/AhD/AiIPX19CWVRFU19WQUxVRV9fKQAAAAAAAPA/CiAIgAMQgAMiD19fQllURVNfVkFMVUVfXykAAAAAAADwPwogCIEDEIEDIg9fX0JZVEVTX1ZBTFVFX18pAAAAAAAA8D8KIAiCAxCCAyIPX19CWVRFU19WQUxVRV9fKQAAAAAAAPA/CiAIgwMQgwMiD19fQllURVNfVkFMVUVfXykAAAAAAADwPwogCIQDEIQDIg9fX0JZVEVTX1ZBTFVFX18pAAAAAAAA8D8KIAiFAxCFAyIPX19CWVRFU19WQUxVRV9fKQAAAAAAAPA/CiAIhgMQhgMiD19fQllURVNfVkFMVUVfXykAAAAAAADwPwogCIcDEIcDIg9fX0JZVEVTX1ZBTFVFX18pAAAAAAAA8D8KIAiIAxCIAyIPX19CWVRFU19WQUxVRV9fKQAAAAAAAPA/CiAIiQMQiQMiD19fQllURVNfVkFMVUVfXykAAAAAAADwPwogCIoDEIoDIg9fX0JZVEVTX1ZBTFVFX18pAAAAAAAA8D8KIAiLAxCLAyIPX19CWVRFU19WQUxVRV9fKQAAAAAAAPA/CiAIjAMQjAMiD19fQllURVNfVkFMVUVfXykAAAAAAADwPwogCI0DEI0DIg9fX0JZVEVTX1ZBTFVFX18pAAAAAAAA8D8KIAiOAxCOAyIPX19CWVRFU19WQUxVRV9fKQAAAAAAAPA/CiAIjwMQjwMiD19fQllURVNfVkFMVUVfXykAAAAAAADwPwogCJADEJADIg9fX0JZVEVTX1ZBTFVFX18pAAAAAAAA8D8KIAiRAxCRAyIPX19CWVRFU19WQUxVRV9fKQAAAAAAAPA/CiAIkgMQkgMiD19fQllURVNfVkFMVUVfXykAAAAAAADwPwogCJMDEJMDIg9fX0JZVEVTX1ZBTFVFX18pAAAAAAAA8D8KIAiUAxCUAyIPX19CWVRFU19WQUxVRV9fKQAAAAAAAPA/CiAIlQMQlQMiD19fQllURVNfVkFMVUVfXykAAAAAAADwPwogCJYDEJYDIg9fX0JZVEVTX1ZBTFVFX18pAAAAAAAA8D8KIAiXAxCXAyIPX19CWVRFU19WQUxVRV9fKQAAAAAAAPA/CiAImAMQmAMiD19fQllURVNfVkFMVUVfXykAAAAAAADwPwogCJkDEJkDIg9fX0JZVEVTX1ZBTFVFX18pAAAAAAAA8D8KIAiaAxCaAyIPX19CWVRFU19WQUxVRV9fKQAAAAAAAPA/CiAImwMQmwMiD19fQllURVNfVkFMVUVfXykAAAAAAADwPwogCJwDEJwDIg9fX0JZVEVTX1ZBTFVFX18pAAAAAAAA8D8KIAidAxCdAyIPX19CWVRFU19WQUxVRV9fKQAAAAAAAPA/CiAIngMQngMiD19fQllURVNfVkFMVUVfXykAAAAAAADwPwogCJ8DEJ8DIg9fX0JZVEVTX1ZBTFVFX18pAAAAAAAA8D8KIAigAxCgAyIPX19CWVRFU19WQUxVRV9fKQAAAAAAAPA/CiAIoQMQoQMiD19fQllURVNfVkFMVUVfXykAAAAAAADwPwogCKIDEKIDIg9fX0JZVEVTX1ZBTFVFX18pAAAAAAAA8D8KIAijAxCjAyIPX19CWVRFU19WQUxVRV9fKQAAAAAAAPA/CiAIpAMQpAMiD19fQllURVNfVkFMVUVfXykAAAAAAADwPwogCKUDEKUDIg9fX0JZVEVTX1ZBTFVFX18pAAAAAAAA8D8KIAimAxCmAyIPX19CWVRFU19WQUxVRV9fKQAAAAAAAPA/CiAIpwMQpwMiD19fQllURVNfVkFMVUVfXykAAAAAAADwPwogCKgDEKgDIg9fX0JZVEVTX1ZBTFVFX18pAAAAAAAA8D8KIAipAxCpAyIPX19CWVRFU19WQUxVRV9fKQAAAAAAAPA/CiAIqgMQqgMiD19fQllURVNfVkFMVUVfXykAAAAAAADwPwogCKsDEKsDIg9fX0JZVEVTX1ZBTFVFX18pAAAAAAAA8D8KIAisAxCsAyIPX19CWVRFU19WQUxVRV9fKQAAAAAAAPA/CiAIrQMQrQMiD19fQllURVNfVkFMVUVfXykAAAAAAADwPwogCK4DEK4DIg9fX0JZVEVTX1ZBTFVFX18pAAAAAAAA8D8KIAivAxCvAyIPX19CWVRFU19WQUxVRV9fKQAAAAAAAPA/CiAIsAMQsAMiD19fQllURVNfVkFMVUVfXykAAAAAAADwPwogCLEDELEDIg9fX0JZVEVTX1ZBTFVFX18pAAAAAAAA8D8KIAiyAxCyAyIPX19CWVRFU19WQUxVRV9fKQAAAAAAAPA/CiAIswMQswMiD19fQllURVNfVkFMVUVfXykAAAAAAADwPwogCLQDELQDIg9fX0JZVEVTX1ZBTFVFX18pAAAAAAAA8D8KIAi1AxC1AyIPX19CWVRFU19WQUxVRV9fKQAAAAAAAPA/CiAItgMQtgMiD19fQllURVNfVkFMVUVfXykAAAAAAADwPwogCLcDELcDIg9fX0JZVEVTX1ZBTFVFX18pAAAAAAAA8D8KIAi4AxC4AyIPX19CWVRFU19WQUxVRV9fKQAAAAAAAPA/CiAIuQMQuQMiD19fQllURVNfVkFMVUVfXykAAAAAAADwPwogCLoDELoDIg9fX0JZVEVTX1ZBTFVFX18pAAAAAAAA8D8KIAi7AxC7AyIPX19CWVRFU19WQUxVRV9fKQAAAAAAAPA/CiAIvAMQvAMiD19fQllURVNfVkFMVUVfXykAAAAAAADwPwogCL0DEL0DIg9fX0JZVEVTX1ZBTFVFX18pAAAAAAAA8D8KIAi+AxC+AyIPX19CWVRFU19WQUxVRV9fKQAAAAAAAPA/CiAIvwMQvwMiD19fQllURVNfVkFMVUVfXykAAAAAAADwPwogCMADEMADIg9fX0JZVEVTX1ZBTFVFX18pAAAAAAAA8D8KIAjBAxDBAyIPX19CWVRFU19WQUxVRV9fKQAAAAAAAPA/CiAIwgMQwgMiD19fQllURVNfVkFMVUVfXykAAAAAAADwPwogCMMDEMMDIg9fX0JZVEVTX1ZBTFVFX18pAAAAAAAA8D8KIAjEAxDEAyIPX19CWVRFU19WQUxVRV9fKQAAAAAAAPA/CiAIxQMQxQMiD19fQllURVNfVkFMVUVfXykAAAAAAADwPwogCMYDEMYDIg9fX0JZVEVTX1ZBTFVFX18pAAAAAAAA8D8KIAjHAxDHAyIPX19CWVRFU19WQUxVRV9fKQAAAAAAAPA/CiAIyAMQyAMiD19fQllURVNfVkFMVUVfXykAAAAAAADwPwogCMkDEMkDIg9fX0JZVEVTX1ZBTFVFX18pAAAAAAAA8D8KIAjKAxDKAyIPX19CWVRFU19WQUxVRV9fKQAAAAAAAPA/CiAIywMQywMiD19fQllURVNfVkFMVUVfXykAAAAAAADwPwogCMwDEMwDIg9fX0JZVEVTX1ZBTFVFX18pAAAAAAAA8D8KIAjNAxDNAyIPX19CWVRFU19WQUxVRV9fKQAAAAAAAPA/CiAIzgMQzgMiD19fQllURVNfVkFMVUVfXykAAAAAAADwPwogCM8DEM8DIg9fX0JZVEVTX1ZBTFVFX18pAAAAAAAA8D8KIAjQAxDQAyIPX19CWVRFU19WQUxVRV9fKQAAAAAAAPA/CiAI0QMQ0QMiD19fQllURVNfVkFMVUVfXykAAAAAAADwPwogCNIDENIDIg9fX0JZVEVTX1ZBTFVFX18pAAAAAAAA8D8KIAjTAxDTAyIPX19CWVRFU19WQUxVRV9fKQAAAAAAAPA/CiAI1AMQ1AMiD19fQllURVNfVkFMVUVfXykAAAAAAADwPwogCNUDENUDIg9fX0JZVEVTX1ZBTFVFX18pAAAAAAAA8D8KIAjWAxDWAyIPX19CWVRFU19WQUxVRV9fKQAAAAAAAPA/CiAI1wMQ1wMiD19fQllURVNfVkFMVUVfXykAAAAAAADwPwogCNgDENgDIg9fX0JZVEVTX1ZBTFVFX18pAAAAAAAA8D8KIAjZAxDZAyIPX19CWVRFU19WQUxVRV9fKQAAAAAAAPA/CiAI2gMQ2gMiD19fQllURVNfVkFMVUVfXykAAAAAAADwPwogCNsDENsDIg9fX0JZVEVTX1ZBTFVFX18pAAAAAAAA8D8KIAjcAxDcAyIPX19CWVRFU19WQUxVRV9fKQAAAAAAAPA/CiAI3QMQ3QMiD19fQllURVNfVkFMVUVfXykAAAAAAADwPwogCN4DEN4DIg9fX0JZVEVTX1ZBTFVFX18pAAAAAAAA8D8KIAjfAxDfAyIPX19CWVRFU19WQUxVRV9fKQAAAAAAAPA/CiAI4AMQ4AMiD19fQllURVNfVkFMVUVfXykAAAAAAADwPwogCOEDEOEDIg9fX0JZVEVTX1ZBTFVFX18pAAAAAAAA8D8KIAjiAxDiAyIPX19CWVRFU19WQUxVRV9fKQAAAAAAAPA/CiAI4wMQ4wMiD19fQllURVNfVkFMVUVfXykAAAAAAADwPwogCOQDEOQDIg9fX0JZVEVTX1ZBTFVFX18pAAAAAAAA8D8KIAjlAxDlAyIPX19CWVRFU19WQUxVRV9fKQAAAAAAAPA/CiAI5gMQ5gMiD19fQllURVNfVkFMVUVfXykAAAAAAADwPwogCOcDEOcDIg9fX0JZVEVTX1ZBTFVFX18pAAAAAAAA8D8KIAjoAxDoAyIPX19CWVRFU19WQUxVRV9fKQAAAAAAAPA/CiAI6QMQ6QMiD19fQllURVNfVkFMVUVfXykAAAAAAADwPwogCOoDEOoDIg9fX0JZVEVTX1ZBTFVFX18pAAAAAAAA8D8KIAjrAxDrAyIPX19CWVRFU19WQUxVRV9fKQAAAAAAAPA/CiAI7AMQ7AMiD19fQllURVNfVkFMVUVfXykAAAAAAADwPwogCO0DEO0DIg9fX0JZVEVTX1ZBTFVFX18pAAAAAAAA8D8KIAjuAxDuAyIPX19CWVRFU19WQUxVRV9fKQAAAAAAAPA/CiAI7wMQ7wMiD19fQllURVNfVkFMVUVfXykAAAAAAADwPwogCPADEPADIg9fX0JZVEVTX1ZBTFVFX18pAAAAAAAA8D8KIAjxAxDxAyIPX19CWVRFU19WQUxVRV9fKQAAAAAAAPA/CiAI8gMQ8gMiD19fQllURVNfVkFMVUVfXykAAAAAAADwPwogCPMDEPMDIg9fX0JZVEVTX1ZBTFVFX18pAAAAAAAA8D8KIAj0AxD0AyIPX19CWVRFU19WQUxVRV9fKQAAAAAAAPA/CiAI9QMQ9QMiD19fQllURVNfVkFMVUVfXykAAAAAAADwPwogCPYDEPYDIg9fX0JZVEVTX1ZBTFVFX18pAAAAAAAA8D8KIAj3AxD3AyIPX19CWVRFU19WQUxVRV9fKQAAAAAAAPA/CiAI+AMQ+AMiD19fQllURVNfVkFMVUVfXykAAAAAAADwPwogCPkDEPkDIg9fX0JZVEVTX1ZBTFVFX18pAAAAAAAA8D8KIAj6AxD6AyIPX19CWVRFU19WQUxVRV9fKQAAAAAAAPA/CiAI+wMQ+wMiD19fQllURVNfVkFMVUVfXykAAAAAAADwPwogCPwDEPwDIg9fX0JZVEVTX1ZBTFVFX18pAAAAAAAA8D8KIAj9AxD9AyIPX19CWVRFU19WQUxVRV9fKQAAAAAAAPA/CiAI/gMQ/gMiD19fQllURVNfVkFMVUVfXykAAAAAAADwPwogCP8DEP8DIg9fX0JZVEVTX1ZBTFVFX18pAAAAAAAA8D8KIAiABBCABCIPX19CWVRFU19WQUxVRV9fKQAAAAAAAPA/CiAIgQQQgQQiD19fQllURVNfVkFMVUVfXykAAAAAAADwPwogCIIEEIIEIg9fX0JZVEVTX1ZBTFVFX18pAAAAAAAA8D8KIAiDBBCDBCIPX19CWVRFU19WQUxVRV9fKQAAAAAAAPA/CiAIhAQQhAQiD19fQllURVNfVkFMVUVfXykAAAAAAADwPwogCIUEEIUEIg9fX0JZVEVTX1ZBTFVFX18pAAAAAAAA8D8KIAiGBBCGBCIPX19CWVRFU19WQUxVRV9fKQAAAAAAAPA/CiAIhwQQhwQiD19fQllURVNfVkFMVUVfXykAAAAAAADwPwogCIgEEIgEIg9fX0JZVEVTX1ZBTFVFX18pAAAAAAAA8D8KIAiJBBCJBCIPX19CWVRFU19WQUxVRV9fKQAAAAAAAPA/CiAIigQQigQiD19fQllURVNfVkFMVUVfXykAAAAAAADwPwogCIsEEIsEIg9fX0JZVEVTX1ZBTFVFX18pAAAAAAAA8D8KIAiMBBCMBCIPX19CWVRFU19WQUxVRV9fKQAAAAAAAPA/CiAIjQQQjQQiD19fQllURVNfVkFMVUVfXykAAAAAAADwPwogCI4EEI4EIg9fX0JZVEVTX1ZBTFVFX18pAAAAAAAA8D8KIAiPBBCPBCIPX19CWVRFU19WQUxVRV9fKQAAAAAAAPA/CiAIkAQQkAQiD19fQllURVNfVkFMVUVfXykAAAAAAADwPwogCJEEEJEEIg9fX0JZVEVTX1ZBTFVFX18pAAAAAAAA8D8KIAiSBBCSBCIPX19CWVRFU19WQUxVRV9fKQAAAAAAAPA/CiAIkwQQkwQiD19fQllURVNfVkFMVUVfXykAAAAAAADwPwogCJQEEJQEIg9fX0JZVEVTX1ZBTFVFX18pAAAAAAAA8D8KIAiVBBCVBCIPX19CWVRFU19WQUxVRV9fKQAAAAAAAPA/CiAIlgQQlgQiD19fQllURVNfVkFMVUVfXykAAAAAAADwPwogCJcEEJcEIg9fX0JZVEVTX1ZBTFVFX18pAAAAAAAA8D8KIAiYBBCYBCIPX19CWVRFU19WQUxVRV9fKQAAAAAAAPA/CiAImQQQmQQiD19fQllURVNfVkFMVUVfXykAAAAAAADwPwogCJoEEJoEIg9fX0JZVEVTX1ZBTFVFX18pAAAAAAAA8D8KIAibBBCbBCIPX19CWVRFU19WQUxVRV9fKQAAAAAAAPA/CiAInAQQnAQiD19fQllURVNfVkFMVUVfXykAAAAAAADwPwogCJ0EEJ0EIg9fX0JZVEVTX1ZBTFVFX18pAAAAAAAA8D8KIAieBBCeBCIPX19CWVRFU19WQUxVRV9fKQAAAAAAAPA/CiAInwQQnwQiD19fQllURVNfVkFMVUVfXykAAAAAAADwPwogCKAEEKAEIg9fX0JZVEVTX1ZBTFVFX18pAAAAAAAA8D8KIAihBBChBCIPX19CWVRFU19WQUxVRV9fKQAAAAAAAPA/CiAIogQQogQiD19fQllURVNfVkFMVUVfXykAAAAAAADwPwogCKMEEKMEIg9fX0JZVEVTX1ZBTFVFX18pAAAAAAAA8D8KIAikBBCkBCIPX19CWVRFU19WQUxVRV9fKQAAAAAAAPA/CiAIpQQQpQQiD19fQllURVNfVkFMVUVfXykAAAAAAADwPwogCKYEEKYEIg9fX0JZVEVTX1ZBTFVFX18pAAAAAAAA8D8KIAinBBCnBCIPX19CWVRFU19WQUxVRV9fKQAAAAAAAPA/CiAIqAQQqAQiD19fQllURVNfVkFMVUVfXykAAAAAAADwPwogCKkEEKkEIg9fX0JZVEVTX1ZBTFVFX18pAAAAAAAA8D8KIAiqBBCqBCIPX19CWVRFU19WQUxVRV9fKQAAAAAAAPA/CiAIqwQQqwQiD19fQllURVNfVkFMVUVfXykAAAAAAADwPwogCKwEEKwEIg9fX0JZVEVTX1ZBTFVFX18pAAAAAAAA8D8KIAitBBCtBCIPX19CWVRFU19WQUxVRV9fKQAAAAAAAPA/CiAIrgQQrgQiD19fQllURVNfVkFMVUVfXykAAAAAAADwPwogCK8EEK8EIg9fX0JZVEVTX1ZBTFVFX18pAAAAAAAA8D8KIAiwBBCwBCIPX19CWVRFU19WQUxVRV9fKQAAAAAAAPA/CiAIsQQQsQQiD19fQllURVNfVkFMVUVfXykAAAAAAADwPwogCLIEELIEIg9fX0JZVEVTX1ZBTFVFX18pAAAAAAAA8D8KIAizBBCzBCIPX19CWVRFU19WQUxVRV9fKQAAAAAAAPA/CiAItAQQtAQiD19fQllURVNfVkFMVUVfXykAAAAAAADwPwogCLUEELUEIg9fX0JZVEVTX1ZBTFVFX18pAAAAAAAA8D8KIAi2BBC2BCIPX19CWVRFU19WQUxVRV9fKQAAAAAAAPA/CiAItwQQtwQiD19fQllURVNfVkFMVUVfXykAAAAAAADwPwogCLgEELgEIg9fX0JZVEVTX1ZBTFVFX18pAAAAAAAA8D8KIAi5BBC5BCIPX19CWVRFU19WQUxVRV9fKQAAAAAAAPA/CiAIugQQugQiD19fQllURVNfVkFMVUVfXykAAAAAAADwPwogCLsEELsEIg9fX0JZVEVTX1ZBTFVFX18pAAAAAAAA8D8KIAi8BBC8BCIPX19CWVRFU19WQUxVRV9fKQAAAAAAAPA/CiAIvQQQvQQiD19fQllURVNfVkFMVUVfXykAAAAAAADwPwogCL4EEL4EIg9fX0JZVEVTX1ZBTFVFX18pAAAAAAAA8D8KIAi/BBC/BCIPX19CWVRFU19WQUxVRV9fKQAAAAAAAPA/CiAIwAQQwAQiD19fQllURVNfVkFMVUVfXykAAAAAAADwPwogCMEEEMEEIg9fX0JZVEVTX1ZBTFVFX18pAAAAAAAA8D8KIAjCBBDCBCIPX19CWVRFU19WQUxVRV9fKQAAAAAAAPA/CiAIwwQQwwQiD19fQllURVNfVkFMVUVfXykAAAAAAADwPwogCMQEEMQEIg9fX0JZVEVTX1ZBTFVFX18pAAAAAAAA8D8KIAjFBBDFBCIPX19CWVRFU19WQUxVRV9fKQAAAAAAAPA/CiAIxgQQxgQiD19fQllURVNfVkFMVUVfXykAAAAAAADwPwogCMcEEMcEIg9fX0JZVEVTX1ZBTFVFX18pAAAAAAAA8D8KIAjIBBDIBCIPX19CWVRFU19WQUxVRV9fKQAAAAAAAPA/CiAIyQQQyQQiD19fQllURVNfVkFMVUVfXykAAAAAAADwPwogCMoEEMoEIg9fX0JZVEVTX1ZBTFVFX18pAAAAAAAA8D8KIAjLBBDLBCIPX19CWVRFU19WQUxVRV9fKQAAAAAAAPA/CiAIzAQQzAQiD19fQllURVNfVkFMVUVfXykAAAAAAADwPwogCM0EEM0EIg9fX0JZVEVTX1ZBTFVFX18pAAAAAAAA8D8KIAjOBBDOBCIPX19CWVRFU19WQUxVRV9fKQAAAAAAAPA/CiAIzwQQzwQiD19fQllURVNfVkFMVUVfXykAAAAAAADwPwogCNAEENAEIg9fX0JZVEVTX1ZBTFVFX18pAAAAAAAA8D8KIAjRBBDRBCIPX19CWVRFU19WQUxVRV9fKQAAAAAAAPA/CiAI0gQQ0gQiD19fQllURVNfVkFMVUVfXykAAAAAAADwPwogCNMEENMEIg9fX0JZVEVTX1ZBTFVFX18pAAAAAAAA8D8KIAjUBBDUBCIPX19CWVRFU19WQUxVRV9fKQAAAAAAAPA/CiAI1QQQ1QQiD19fQllURVNfVkFMVUVfXykAAAAAAADwPwogCNYEENYEIg9fX0JZVEVTX1ZBTFVFX18pAAAAAAAA8D8KIAjXBBDXBCIPX19CWVRFU19WQUxVRV9fKQAAAAAAAPA/CiAI2AQQ2AQiD19fQllURVNfVkFMVUVfXykAAAAAAADwPwogCNkEENkEIg9fX0JZVEVTX1ZBTFVFX18pAAAAAAAA8D8KIAjaBBDaBCIPX19CWVRFU19WQUxVRV9fKQAAAAAAAPA/CiAI2wQQ2wQiD19fQllURVNfVkFMVUVfXykAAAAAAADwPwogCNwEENwEIg9fX0JZVEVTX1ZBTFVFX18pAAAAAAAA8D8KIAjdBBDdBCIPX19CWVRFU19WQUxVRV9fKQAAAAAAAPA/CiAI3gQQ3gQiD19fQllURVNfVkFMVUVfXykAAAAAAADwPwogCN8EEN8EIg9fX0JZVEVTX1ZBTFVFX18pAAAAAAAA8D8KIAjgBBDgBCIPX19CWVRFU19WQUxVRV9fKQAAAAAAAPA/CiAI4QQQ4QQiD19fQllURVNfVkFMVUVfXykAAAAAAADwPwogCOIEEOIEIg9fX0JZVEVTX1ZBTFVFX18pAAAAAAAA8D8KIAjjBBDjBCIPX19CWVRFU19WQUxVRV9fKQAAAAAAAPA/CiAI5AQQ5AQiD19fQllURVNfVkFMVUVfXykAAAAAAADwPwogCOUEEOUEIg9fX0JZVEVTX1ZBTFVFX18pAAAAAAAA8D8KIAjmBBDmBCIPX19CWVRFU19WQUxVRV9fKQAAAAAAAPA/CiAI5wQQ5wQiD19fQllURVNfVkFMVUVfXykAAAAAAADwPwogCOgEEOgEIg9fX0JZVEVTX1ZBTFVFX18pAAAAAAAA8D8KIAjpBBDpBCIPX19CWVRFU19WQUxVRV9fKQAAAAAAAPA/CiAI6gQQ6gQiD19fQllURVNfVkFMVUVfXykAAAAAAADwPwogCOsEEOsEIg9fX0JZVEVTX1ZBTFVFX18pAAAAAAAA8D8KIAjsBBDsBCIPX19CWVRFU19WQUxVRV9fKQAAAAAAAPA/CiAI7QQQ7QQiD19fQllURVNfVkFMVUVfXykAAAAAAADwPwogCO4EEO4EIg9fX0JZVEVTX1ZBTFVFX18pAAAAAAAA8D8KIAjvBBDvBCIPX19CWVRFU19WQUxVRV9fKQAAAAAAAPA/CiAI8AQQ8AQiD19fQllURVNfVkFMVUVfXykAAAAAAADwPwogCPEEEPEEIg9fX0JZVEVTX1ZBTFVFX18pAAAAAAAA8D8KIAjyBBDyBCIPX19CWVRFU19WQUxVRV9fKQAAAAAAAPA/CiAI8wQQ8wQiD19fQllURVNfVkFMVUVfXykAAAAAAADwPwogCPQEEPQEIg9fX0JZVEVTX1ZBTFVFX18pAAAAAAAA8D8KIAj1BBD1BCIPX19CWVRFU19WQUxVRV9fKQAAAAAAAPA/CiAI9gQQ9gQiD19fQllURVNfVkFMVUVfXykAAAAAAADwPwogCPcEEPcEIg9fX0JZVEVTX1ZBTFVFX18pAAAAAAAA8D8KIAj4BBD4BCIPX19CWVRFU19WQUxVRV9fKQAAAAAAAPA/CiAI+QQQ+QQiD19fQllURVNfVkFMVUVfXykAAAAAAADwPwogCPoEEPoEIg9fX0JZVEVTX1ZBTFVFX18pAAAAAAAA8D8KIAj7BBD7BCIPX19CWVRFU19WQUxVRV9fKQAAAAAAAPA/CiAI/AQQ/AQiD19fQllURVNfVkFMVUVfXykAAAAAAADwPwogCP0EEP0EIg9fX0JZVEVTX1ZBTFVFX18pAAAAAAAA8D8KIAj+BBD+BCIPX19CWVRFU19WQUxVRV9fKQAAAAAAAPA/CiAI/wQQ/wQiD19fQllURVNfVkFMVUVfXykAAAAAAADwPwogCIAFEIAFIg9fX0JZVEVTX1ZBTFVFX18pAAAAAAAA8D8KIAiBBRCBBSIPX19CWVRFU19WQUxVRV9fKQAAAAAAAPA/CiAIggUQggUiD19fQllURVNfVkFMVUVfXykAAAAAAADwPwogCIMFEIMFIg9fX0JZVEVTX1ZBTFVFX18pAAAAAAAA8D8KIAiEBRCEBSIPX19CWVRFU19WQUxVRV9fKQAAAAAAAPA/CiAIhQUQhQUiD19fQllURVNfVkFMVUVfXykAAAAAAADwPwogCIYFEIYFIg9fX0JZVEVTX1ZBTFVFX18pAAAAAAAA8D8KIAiHBRCHBSIPX19CWVRFU19WQUxVRV9fKQAAAAAAAPA/CiAIiAUQiAUiD19fQllURVNfVkFMVUVfXykAAAAAAADwPwogCIkFEIkFIg9fX0JZVEVTX1ZBTFVFX18pAAAAAAAA8D8KIAiKBRCKBSIPX19CWVRFU19WQUxVRV9fKQAAAAAAAPA/CiAIiwUQiwUiD19fQllURVNfVkFMVUVfXykAAAAAAADwPwogCIwFEIwFIg9fX0JZVEVTX1ZBTFVFX18pAAAAAAAA8D8KIAiNBRCNBSIPX19CWVRFU19WQUxVRV9fKQAAAAAAAPA/CiAIjgUQjgUiD19fQllURVNfVkFMVUVfXykAAAAAAADwPwogCI8FEI8FIg9fX0JZVEVTX1ZBTFVFX18pAAAAAAAA8D8KIAiQBRCQBSIPX19CWVRFU19WQUxVRV9fKQAAAAAAAPA/CiAIkQUQkQUiD19fQllURVNfVkFMVUVfXykAAAAAAADwPwogCJIFEJIFIg9fX0JZVEVTX1ZBTFVFX18pAAAAAAAA8D8KIAiTBRCTBSIPX19CWVRFU19WQUxVRV9fKQAAAAAAAPA/CiAIlAUQlAUiD19fQllURVNfVkFMVUVfXykAAAAAAADwPwogCJUFEJUFIg9fX0JZVEVTX1ZBTFVFX18pAAAAAAAA8D8KIAiWBRCWBSIPX19CWVRFU19WQUxVRV9fKQAAAAAAAPA/CiAIlwUQlwUiD19fQllURVNfVkFMVUVfXykAAAAAAADwPwogCJgFEJgFIg9fX0JZVEVTX1ZBTFVFX18pAAAAAAAA8D8KIAiZBRCZBSIPX19CWVRFU19WQUxVRV9fKQAAAAAAAPA/CiAImgUQmgUiD19fQllURVNfVkFMVUVfXykAAAAAAADwPwogCJsFEJsFIg9fX0JZVEVTX1ZBTFVFX18pAAAAAAAA8D8KIAicBRCcBSIPX19CWVRFU19WQUxVRV9fKQAAAAAAAPA/CiAInQUQnQUiD19fQllURVNfVkFMVUVfXykAAAAAAADwPwogCJ4FEJ4FIg9fX0JZVEVTX1ZBTFVFX18pAAAAAAAA8D8KIAifBRCfBSIPX19CWVRFU19WQUxVRV9fKQAAAAAAAPA/CiAIoAUQoAUiD19fQllURVNfVkFMVUVfXykAAAAAAADwPwogCKEFEKEFIg9fX0JZVEVTX1ZBTFVFX18pAAAAAAAA8D8KIAiiBRCiBSIPX19CWVRFU19WQUxVRV9fKQAAAAAAAPA/CiAIowUQowUiD19fQllURVNfVkFMVUVfXykAAAAAAADwPwogCKQFEKQFIg9fX0JZVEVTX1ZBTFVFX18pAAAAAAAA8D8KIAilBRClBSIPX19CWVRFU19WQUxVRV9fKQAAAAAAAPA/CiAIpgUQpgUiD19fQllURVNfVkFMVUVfXykAAAAAAADwPwogCKcFEKcFIg9fX0JZVEVTX1ZBTFVFX18pAAAAAAAA8D8KIAioBRCoBSIPX19CWVRFU19WQUxVRV9fKQAAAAAAAPA/CiAIqQUQqQUiD19fQllURVNfVkFMVUVfXykAAAAAAADwPwogCKoFEKoFIg9fX0JZVEVTX1ZBTFVFX18pAAAAAAAA8D8KIAirBRCrBSIPX19CWVRFU19WQUxVRV9fKQAAAAAAAPA/CiAIrAUQrAUiD19fQllURVNfVkFMVUVfXykAAAAAAADwPwogCK0FEK0FIg9fX0JZVEVTX1ZBTFVFX18pAAAAAAAA8D8KIAiuBRCuBSIPX19CWVRFU19WQUxVRV9fKQAAAAAAAPA/CiAIrwUQrwUiD19fQllURVNfVkFMVUVfXykAAAAAAADwPwogCLAFELAFIg9fX0JZVEVTX1ZBTFVFX18pAAAAAAAA8D8KIAixBRCxBSIPX19CWVRFU19WQUxVRV9fKQAAAAAAAPA/CiAIsgUQsgUiD19fQllURVNfVkFMVUVfXykAAAAAAADwPwogCLMFELMFIg9fX0JZVEVTX1ZBTFVFX18pAAAAAAAA8D8KIAi0BRC0BSIPX19CWVRFU19WQUxVRV9fKQAAAAAAAPA/CiAItQUQtQUiD19fQllURVNfVkFMVUVfXykAAAAAAADwPwogCLYFELYFIg9fX0JZVEVTX1ZBTFVFX18pAAAAAAAA8D8KIAi3BRC3BSIPX19CWVRFU19WQUxVRV9fKQAAAAAAAPA/CiAIuAUQuAUiD19fQllURVNfVkFMVUVfXykAAAAAAADwPwogCLkFELkFIg9fX0JZVEVTX1ZBTFVFX18pAAAAAAAA8D8KIAi6BRC6BSIPX19CWVRFU19WQUxVRV9fKQAAAAAAAPA/CiAIuwUQuwUiD19fQllURVNfVkFMVUVfXykAAAAAAADwPwogCLwFELwFIg9fX0JZVEVTX1ZBTFVFX18pAAAAAAAA8D8KIAi9BRC9BSIPX19CWVRFU19WQUxVRV9fKQAAAAAAAPA/CiAIvgUQvgUiD19fQllURVNfVkFMVUVfXykAAAAAAADwPwogCL8FEL8FIg9fX0JZVEVTX1ZBTFVFX18pAAAAAAAA8D8KIAjABRDABSIPX19CWVRFU19WQUxVRV9fKQAAAAAAAPA/CiAIwQUQwQUiD19fQllURVNfVkFMVUVfXykAAAAAAADwPwogCMIFEMIFIg9fX0JZVEVTX1ZBTFVFX18pAAAAAAAA8D8KIAjDBRDDBSIPX19CWVRFU19WQUxVRV9fKQAAAAAAAPA/CiAIxAUQxAUiD19fQllURVNfVkFMVUVfXykAAAAAAADwPwogCMUFEMUFIg9fX0JZVEVTX1ZBTFVFX18pAAAAAAAA8D8KIAjGBRDGBSIPX19CWVRFU19WQUxVRV9fKQAAAAAAAPA/CiAIxwUQxwUiD19fQllURVNfVkFMVUVfXykAAAAAAADwPwogCMgFEMgFIg9fX0JZVEVTX1ZBTFVFX18pAAAAAAAA8D8KIAjJBRDJBSIPX19CWVRFU19WQUxVRV9fKQAAAAAAAPA/CiAIygUQygUiD19fQllURVNfVkFMVUVfXykAAAAAAADwPwogCMsFEMsFIg9fX0JZVEVTX1ZBTFVFX18pAAAAAAAA8D8KIAjMBRDMBSIPX19CWVRFU19WQUxVRV9fKQAAAAAAAPA/CiAIzQUQzQUiD19fQllURVNfVkFMVUVfXykAAAAAAADwPwogCM4FEM4FIg9fX0JZVEVTX1ZBTFVFX18pAAAAAAAA8D8KIAjPBRDPBSIPX19CWVRFU19WQUxVRV9fKQAAAAAAAPA/CiAI0AUQ0AUiD19fQllURVNfVkFMVUVfXykAAAAAAADwPwogCNEFENEFIg9fX0JZVEVTX1ZBTFVFX18pAAAAAAAA8D8KIAjSBRDSBSIPX19CWVRFU19WQUxVRV9fKQAAAAAAAPA/CiAI0wUQ0wUiD19fQllURVNfVkFMVUVfXykAAAAAAADwPwogCNQFENQFIg9fX0JZVEVTX1ZBTFVFX18pAAAAAAAA8D8KIAjVBRDVBSIPX19CWVRFU19WQUxVRV9fKQAAAAAAAPA/CiAI1gUQ1gUiD19fQllURVNfVkFMVUVfXykAAAAAAADwPwogCNcFENcFIg9fX0JZVEVTX1ZBTFVFX18pAAAAAAAA8D8KIAjYBRDYBSIPX19CWVRFU19WQUxVRV9fKQAAAAAAAPA/CiAI2QUQ2QUiD19fQllURVNfVkFMVUVfXykAAAAAAADwPwogCNoFENoFIg9fX0JZVEVTX1ZBTFVFX18pAAAAAAAA8D8KIAjbBRDbBSIPX19CWVRFU19WQUxVRV9fKQAAAAAAAPA/CiAI3AUQ3AUiD19fQllURVNfVkFMVUVfXykAAAAAAADwPwogCN0FEN0FIg9fX0JZVEVTX1ZBTFVFX18pAAAAAAAA8D8KIAjeBRDeBSIPX19CWVRFU19WQUxVRV9fKQAAAAAAAPA/CiAI3wUQ3wUiD19fQllURVNfVkFMVUVfXykAAAAAAADwPwogCOAFEOAFIg9fX0JZVEVTX1ZBTFVFX18pAAAAAAAA8D8KIAjhBRDhBSIPX19CWVRFU19WQUxVRV9fKQAAAAAAAPA/CiAI4gUQ4gUiD19fQllURVNfVkFMVUVfXykAAAAAAADwPwogCOMFEOMFIg9fX0JZVEVTX1ZBTFVFX18pAAAAAAAA8D8KIAjkBRDkBSIPX19CWVRFU19WQUxVRV9fKQAAAAAAAPA/CiAI5QUQ5QUiD19fQllURVNfVkFMVUVfXykAAAAAAADwPwogCOYFEOYFIg9fX0JZVEVTX1ZBTFVFX18pAAAAAAAA8D8KIAjnBRDnBSIPX19CWVRFU19WQUxVRV9fKQAAAAAAAPA/CiAI6AUQ6AUiD19fQllURVNfVkFMVUVfXykAAAAAAADwPwogCOkFEOkFIg9fX0JZVEVTX1ZBTFVFX18pAAAAAAAA8D8KIAjqBRDqBSIPX19CWVRFU19WQUxVRV9fKQAAAAAAAPA/CiAI6wUQ6wUiD19fQllURVNfVkFMVUVfXykAAAAAAADwPwogCOwFEOwFIg9fX0JZVEVTX1ZBTFVFX18pAAAAAAAA8D8KIAjtBRDtBSIPX19CWVRFU19WQUxVRV9fKQAAAAAAAPA/CiAI7gUQ7gUiD19fQllURVNfVkFMVUVfXykAAAAAAADwPwogCO8FEO8FIg9fX0JZVEVTX1ZBTFVFX18pAAAAAAAA8D8KIAjwBRDwBSIPX19CWVRFU19WQUxVRV9fKQAAAAAAAPA/CiAI8QUQ8QUiD19fQllURVNfVkFMVUVfXykAAAAAAADwPwogCPIFEPIFIg9fX0JZVEVTX1ZBTFVFX18pAAAAAAAA8D8KIAjzBRDzBSIPX19CWVRFU19WQUxVRV9fKQAAAAAAAPA/CiAI9AUQ9AUiD19fQllURVNfVkFMVUVfXykAAAAAAADwPwogCPUFEPUFIg9fX0JZVEVTX1ZBTFVFX18pAAAAAAAA8D8KIAj2BRD2BSIPX19CWVRFU19WQUxVRV9fKQAAAAAAAPA/CiAI9wUQ9wUiD19fQllURVNfVkFMVUVfXykAAAAAAADwPwogCPgFEPgFIg9fX0JZVEVTX1ZBTFVFX18pAAAAAAAA8D8KIAj5BRD5BSIPX19CWVRFU19WQUxVRV9fKQAAAAAAAPA/CiAI+gUQ+gUiD19fQllURVNfVkFMVUVfXykAAAAAAADwPwogCPsFEPsFIg9fX0JZVEVTX1ZBTFVFX18pAAAAAAAA8D8KIAj8BRD8BSIPX19CWVRFU19WQUxVRV9fKQAAAAAAAPA/CiAI/QUQ/QUiD19fQllURVNfVkFMVUVfXykAAAAAAADwPwogCP4FEP4FIg9fX0JZVEVTX1ZBTFVFX18pAAAAAAAA8D8KIAj/BRD/BSIPX19CWVRFU19WQUxVRV9fKQAAAAAAAPA/CiAIgAYQgAYiD19fQllURVNfVkFMVUVfXykAAAAAAADwPwogCIEGEIEGIg9fX0JZVEVTX1ZBTFVFX18pAAAAAAAA8D8KIAiCBhCCBiIPX19CWVRFU19WQUxVRV9fKQAAAAAAAPA/CiAIgwYQgwYiD19fQllURVNfVkFMVUVfXykAAAAAAADwPwogCIQGEIQGIg9fX0JZVEVTX1ZBTFVFX18pAAAAAAAA8D8KIAiFBhCFBiIPX19CWVRFU19WQUxVRV9fKQAAAAAAAPA/CiAIhgYQhgYiD19fQllURVNfVkFMVUVfXykAAAAAAADwPwogCIcGEIcGIg9fX0JZVEVTX1ZBTFVFX18pAAAAAAAA8D8KIAiIBhCIBiIPX19CWVRFU19WQUxVRV9fKQAAAAAAAPA/CiAIiQYQiQYiD19fQllURVNfVkFMVUVfXykAAAAAAADwPwogCIoGEIoGIg9fX0JZVEVTX1ZBTFVFX18pAAAAAAAA8D8KIAiLBhCLBiIPX19CWVRFU19WQUxVRV9fKQAAAAAAAPA/CiAIjAYQjAYiD19fQllURVNfVkFMVUVfXykAAAAAAADwPwogCI0GEI0GIg9fX0JZVEVTX1ZBTFVFX18pAAAAAAAA8D8KIAiOBhCOBiIPX19CWVRFU19WQUxVRV9fKQAAAAAAAPA/CiAIjwYQjwYiD19fQllURVNfVkFMVUVfXykAAAAAAADwPwogCJAGEJAGIg9fX0JZVEVTX1ZBTFVFX18pAAAAAAAA8D8KIAiRBhCRBiIPX19CWVRFU19WQUxVRV9fKQAAAAAAAPA/CiAIkgYQkgYiD19fQllURVNfVkFMVUVfXykAAAAAAADwPwogCJMGEJMGIg9fX0JZVEVTX1ZBTFVFX18pAAAAAAAA8D8KIAiUBhCUBiIPX19CWVRFU19WQUxVRV9fKQAAAAAAAPA/CiAIlQYQlQYiD19fQllURVNfVkFMVUVfXykAAAAAAADwPwogCJYGEJYGIg9fX0JZVEVTX1ZBTFVFX18pAAAAAAAA8D8KIAiXBhCXBiIPX19CWVRFU19WQUxVRV9fKQAAAAAAAPA/CiAImAYQmAYiD19fQllURVNfVkFMVUVfXykAAAAAAADwPwogCJkGEJkGIg9fX0JZVEVTX1ZBTFVFX18pAAAAAAAA8D8KIAiaBhCaBiIPX19CWVRFU19WQUxVRV9fKQAAAAAAAPA/CiAImwYQmwYiD19fQllURVNfVkFMVUVfXykAAAAAAADwPwogCJwGEJwGIg9fX0JZVEVTX1ZBTFVFX18pAAAAAAAA8D8KIAidBhCdBiIPX19CWVRFU19WQUxVRV9fKQAAAAAAAPA/CiAIngYQngYiD19fQllURVNfVkFMVUVfXykAAAAAAADwPwogCJ8GEJ8GIg9fX0JZVEVTX1ZBTFVFX18pAAAAAAAA8D8KIAigBhCgBiIPX19CWVRFU19WQUxVRV9fKQAAAAAAAPA/CiAIoQYQoQYiD19fQllURVNfVkFMVUVfXykAAAAAAADwPwogCKIGEKIGIg9fX0JZVEVTX1ZBTFVFX18pAAAAAAAA8D8KIAijBhCjBiIPX19CWVRFU19WQUxVRV9fKQAAAAAAAPA/CiAIpAYQpAYiD19fQllURVNfVkFMVUVfXykAAAAAAADwPwogCKUGEKUGIg9fX0JZVEVTX1ZBTFVFX18pAAAAAAAA8D8KIAimBhCmBiIPX19CWVRFU19WQUxVRV9fKQAAAAAAAPA/CiAIpwYQpwYiD19fQllURVNfVkFMVUVfXykAAAAAAADwPwogCKgGEKgGIg9fX0JZVEVTX1ZBTFVFX18pAAAAAAAA8D8KIAipBhCpBiIPX19CWVRFU19WQUxVRV9fKQAAAAAAAPA/CiAIqgYQqgYiD19fQllURVNfVkFMVUVfXykAAAAAAADwPwogCKsGEKsGIg9fX0JZVEVTX1ZBTFVFX18pAAAAAAAA8D8KIAisBhCsBiIPX19CWVRFU19WQUxVRV9fKQAAAAAAAPA/CiAIrQYQrQYiD19fQllURVNfVkFMVUVfXykAAAAAAADwPwogCK4GEK4GIg9fX0JZVEVTX1ZBTFVFX18pAAAAAAAA8D8KIAivBhCvBiIPX19CWVRFU19WQUxVRV9fKQAAAAAAAPA/CiAIsAYQsAYiD19fQllURVNfVkFMVUVfXykAAAAAAADwPwogCLEGELEGIg9fX0JZVEVTX1ZBTFVFX18pAAAAAAAA8D8KIAiyBhCyBiIPX19CWVRFU19WQUxVRV9fKQAAAAAAAPA/CiAIswYQswYiD19fQllURVNfVkFMVUVfXykAAAAAAADwPwogCLQGELQGIg9fX0JZVEVTX1ZBTFVFX18pAAAAAAAA8D8KIAi1BhC1BiIPX19CWVRFU19WQUxVRV9fKQAAAAAAAPA/CiAItgYQtgYiD19fQllURVNfVkFMVUVfXykAAAAAAADwPwogCLcGELcGIg9fX0JZVEVTX1ZBTFVFX18pAAAAAAAA8D8KIAi4BhC4BiIPX19CWVRFU19WQUxVRV9fKQAAAAAAAPA/CiAIuQYQuQYiD19fQllURVNfVkFMVUVfXykAAAAAAADwPwogCLoGELoGIg9fX0JZVEVTX1ZBTFVFX18pAAAAAAAA8D8KIAi7BhC7BiIPX19CWVRFU19WQUxVRV9fKQAAAAAAAPA/CiAIvAYQvAYiD19fQllURVNfVkFMVUVfXykAAAAAAADwPwogCL0GEL0GIg9fX0JZVEVTX1ZBTFVFX18pAAAAAAAA8D8KIAi+BhC+BiIPX19CWVRFU19WQUxVRV9fKQAAAAAAAPA/CiAIvwYQvwYiD19fQllURVNfVkFMVUVfXykAAAAAAADwPwogCMAGEMAGIg9fX0JZVEVTX1ZBTFVFX18pAAAAAAAA8D8KIAjBBhDBBiIPX19CWVRFU19WQUxVRV9fKQAAAAAAAPA/CiAIwgYQwgYiD19fQllURVNfVkFMVUVfXykAAAAAAADwPwogCMMGEMMGIg9fX0JZVEVTX1ZBTFVFX18pAAAAAAAA8D8KIAjEBhDEBiIPX19CWVRFU19WQUxVRV9fKQAAAAAAAPA/CiAIxQYQxQYiD19fQllURVNfVkFMVUVfXykAAAAAAADwPwogCMYGEMYGIg9fX0JZVEVTX1ZBTFVFX18pAAAAAAAA8D8KIAjHBhDHBiIPX19CWVRFU19WQUxVRV9fKQAAAAAAAPA/CiAIyAYQyAYiD19fQllURVNfVkFMVUVfXykAAAAAAADwPwogCMkGEMkGIg9fX0JZVEVTX1ZBTFVFX18pAAAAAAAA8D8KIAjKBhDKBiIPX19CWVRFU19WQUxVRV9fKQAAAAAAAPA/CiAIywYQywYiD19fQllURVNfVkFMVUVfXykAAAAAAADwPwogCMwGEMwGIg9fX0JZVEVTX1ZBTFVFX18pAAAAAAAA8D8KIAjNBhDNBiIPX19CWVRFU19WQUxVRV9fKQAAAAAAAPA/CiAIzgYQzgYiD19fQllURVNfVkFMVUVfXykAAAAAAADwPwogCM8GEM8GIg9fX0JZVEVTX1ZBTFVFX18pAAAAAAAA8D8KIAjQBhDQBiIPX19CWVRFU19WQUxVRV9fKQAAAAAAAPA/CiAI0QYQ0QYiD19fQllURVNfVkFMVUVfXykAAAAAAADwPwogCNIGENIGIg9fX0JZVEVTX1ZBTFVFX18pAAAAAAAA8D8KIAjTBhDTBiIPX19CWVRFU19WQUxVRV9fKQAAAAAAAPA/CiAI1AYQ1AYiD19fQllURVNfVkFMVUVfXykAAAAAAADwPwogCNUGENUGIg9fX0JZVEVTX1ZBTFVFX18pAAAAAAAA8D8KIAjWBhDWBiIPX19CWVRFU19WQUxVRV9fKQAAAAAAAPA/CiAI1wYQ1wYiD19fQllURVNfVkFMVUVfXykAAAAAAADwPwogCNgGENgGIg9fX0JZVEVTX1ZBTFVFX18pAAAAAAAA8D8KIAjZBhDZBiIPX19CWVRFU19WQUxVRV9fKQAAAAAAAPA/CiAI2gYQ2gYiD19fQllURVNfVkFMVUVfXykAAAAAAADwPwogCNsGENsGIg9fX0JZVEVTX1ZBTFVFX18pAAAAAAAA8D8KIAjcBhDcBiIPX19CWVRFU19WQUxVRV9fKQAAAAAAAPA/CiAI3QYQ3QYiD19fQllURVNfVkFMVUVfXykAAAAAAADwPwogCN4GEN4GIg9fX0JZVEVTX1ZBTFVFX18pAAAAAAAA8D8KIAjfBhDfBiIPX19CWVRFU19WQUxVRV9fKQAAAAAAAPA/CiAI4AYQ4AYiD19fQllURVNfVkFMVUVfXykAAAAAAADwPwogCOEGEOEGIg9fX0JZVEVTX1ZBTFVFX18pAAAAAAAA8D8KIAjiBhDiBiIPX19CWVRFU19WQUxVRV9fKQAAAAAAAPA/CiAI4wYQ4wYiD19fQllURVNfVkFMVUVfXykAAAAAAADwPwogCOQGEOQGIg9fX0JZVEVTX1ZBTFVFX18pAAAAAAAA8D8KIAjlBhDlBiIPX19CWVRFU19WQUxVRV9fKQAAAAAAAPA/CiAI5gYQ5gYiD19fQllURVNfVkFMVUVfXykAAAAAAADwPwogCOcGEOcGIg9fX0JZVEVTX1ZBTFVFX18pAAAAAAAA8D8KIAjoBhDoBiIPX19CWVRFU19WQUxVRV9fKQAAAAAAAPA/CiAI6QYQ6QYiD19fQllURVNfVkFMVUVfXykAAAAAAADwPwogCOoGEOoGIg9fX0JZVEVTX1ZBTFVFX18pAAAAAAAA8D8KIAjrBhDrBiIPX19CWVRFU19WQUxVRV9fKQAAAAAAAPA/CiAI7AYQ7AYiD19fQllURVNfVkFMVUVfXykAAAAAAADwPwogCO0GEO0GIg9fX0JZVEVTX1ZBTFVFX18pAAAAAAAA8D8KIAjuBhDuBiIPX19CWVRFU19WQUxVRV9fKQAAAAAAAPA/CiAI7wYQ7wYiD19fQllURVNfVkFMVUVfXykAAAAAAADwPwogCPAGEPAGIg9fX0JZVEVTX1ZBTFVFX18pAAAAAAAA8D8KIAjxBhDxBiIPX19CWVRFU19WQUxVRV9fKQAAAAAAAPA/CiAI8gYQ8gYiD19fQllURVNfVkFMVUVfXykAAAAAAADwPwogCPMGEPMGIg9fX0JZVEVTX1ZBTFVFX18pAAAAAAAA8D8KIAj0BhD0BiIPX19CWVRFU19WQUxVRV9fKQAAAAAAAPA/CiAI9QYQ9QYiD19fQllURVNfVkFMVUVfXykAAAAAAADwPwogCPYGEPYGIg9fX0JZVEVTX1ZBTFVFX18pAAAAAAAA8D8KIAj3BhD3BiIPX19CWVRFU19WQUxVRV9fKQAAAAAAAPA/CiAI+AYQ+AYiD19fQllURVNfVkFMVUVfXykAAAAAAADwPwogCPkGEPkGIg9fX0JZVEVTX1ZBTFVFX18pAAAAAAAA8D8KIAj6BhD6BiIPX19CWVRFU19WQUxVRV9fKQAAAAAAAPA/CiAI+wYQ+wYiD19fQllURVNfVkFMVUVfXykAAAAAAADwPwogCPwGEPwGIg9fX0JZVEVTX1ZBTFVFX18pAAAAAAAA8D8KIAj9BhD9BiIPX19CWVRFU19WQUxVRV9fKQAAAAAAAPA/CiAI/gYQ/gYiD19fQllURVNfVkFMVUVfXykAAAAAAADwPwogCP8GEP8GIg9fX0JZVEVTX1ZBTFVFX18pAAAAAAAA8D8KIAiABxCAByIPX19CWVRFU19WQUxVRV9fKQAAAAAAAPA/CiAIgQcQgQciD19fQllURVNfVkFMVUVfXykAAAAAAADwPwogCIIHEIIHIg9fX0JZVEVTX1ZBTFVFX18pAAAAAAAA8D8KIAiDBxCDByIPX19CWVRFU19WQUxVRV9fKQAAAAAAAPA/CiAIhAcQhAciD19fQllURVNfVkFMVUVfXykAAAAAAADwPwogCIUHEIUHIg9fX0JZVEVTX1ZBTFVFX18pAAAAAAAA8D8KIAiGBxCGByIPX19CWVRFU19WQUxVRV9fKQAAAAAAAPA/CiAIhwcQhwciD19fQllURVNfVkFMVUVfXykAAAAAAADwPwogCIgHEIgHIg9fX0JZVEVTX1ZBTFVFX18pAAAAAAAA8D8KIAiJBxCJByIPX19CWVRFU19WQUxVRV9fKQAAAAAAAPA/CiAIigcQigciD19fQllURVNfVkFMVUVfXykAAAAAAADwPwogCIsHEIsHIg9fX0JZVEVTX1ZBTFVFX18pAAAAAAAA8D8KIAiMBxCMByIPX19CWVRFU19WQUxVRV9fKQAAAAAAAPA/CiAIjQcQjQciD19fQllURVNfVkFMVUVfXykAAAAAAADwPwogCI4HEI4HIg9fX0JZVEVTX1ZBTFVFX18pAAAAAAAA8D8KIAiPBxCPByIPX19CWVRFU19WQUxVRV9fKQAAAAAAAPA/CiAIkAcQkAciD19fQllURVNfVkFMVUVfXykAAAAAAADwPwogCJEHEJEHIg9fX0JZVEVTX1ZBTFVFX18pAAAAAAAA8D8KIAiSBxCSByIPX19CWVRFU19WQUxVRV9fKQAAAAAAAPA/CiAIkwcQkwciD19fQllURVNfVkFMVUVfXykAAAAAAADwPwogCJQHEJQHIg9fX0JZVEVTX1ZBTFVFX18pAAAAAAAA8D8KIAiVBxCVByIPX19CWVRFU19WQUxVRV9fKQAAAAAAAPA/CiAIlgcQlgciD19fQllURVNfVkFMVUVfXykAAAAAAADwPwogCJcHEJcHIg9fX0JZVEVTX1ZBTFVFX18pAAAAAAAA8D8KIAiYBxCYByIPX19CWVRFU19WQUxVRV9fKQAAAAAAAPA/CiAImQcQmQciD19fQllURVNfVkFMVUVfXykAAAAAAADwPwogCJoHEJoHIg9fX0JZVEVTX1ZBTFVFX18pAAAAAAAA8D8KIAibBxCbByIPX19CWVRFU19WQUxVRV9fKQAAAAAAAPA/CiAInAcQnAciD19fQllURVNfVkFMVUVfXykAAAAAAADwPwogCJ0HEJ0HIg9fX0JZVEVTX1ZBTFVFX18pAAAAAAAA8D8KIAieBxCeByIPX19CWVRFU19WQUxVRV9fKQAAAAAAAPA/CiAInwcQnwciD19fQllURVNfVkFMVUVfXykAAAAAAADwPwogCKAHEKAHIg9fX0JZVEVTX1ZBTFVFX18pAAAAAAAA8D8KIAihBxChByIPX19CWVRFU19WQUxVRV9fKQAAAAAAAPA/CiAIogcQogciD19fQllURVNfVkFMVUVfXykAAAAAAADwPwogCKMHEKMHIg9fX0JZVEVTX1ZBTFVFX18pAAAAAAAA8D8KIAikBxCkByIPX19CWVRFU19WQUxVRV9fKQAAAAAAAPA/CiAIpQcQpQciD19fQllURVNfVkFMVUVfXykAAAAAAADwPwogCKYHEKYHIg9fX0JZVEVTX1ZBTFVFX18pAAAAAAAA8D8KIAinBxCnByIPX19CWVRFU19WQUxVRV9fKQAAAAAAAPA/CiAIqAcQqAciD19fQllURVNfVkFMVUVfXykAAAAAAADwPwogCKkHEKkHIg9fX0JZVEVTX1ZBTFVFX18pAAAAAAAA8D8KIAiqBxCqByIPX19CWVRFU19WQUxVRV9fKQAAAAAAAPA/CiAIqwcQqwciD19fQllURVNfVkFMVUVfXykAAAAAAADwPwogCKwHEKwHIg9fX0JZVEVTX1ZBTFVFX18pAAAAAAAA8D8KIAitBxCtByIPX19CWVRFU19WQUxVRV9fKQAAAAAAAPA/CiAIrgcQrgciD19fQllURVNfVkFMVUVfXykAAAAAAADwPwogCK8HEK8HIg9fX0JZVEVTX1ZBTFVFX18pAAAAAAAA8D8KIAiwBxCwByIPX19CWVRFU19WQUxVRV9fKQAAAAAAAPA/CiAIsQcQsQciD19fQllURVNfVkFMVUVfXykAAAAAAADwPwogCLIHELIHIg9fX0JZVEVTX1ZBTFVFX18pAAAAAAAA8D8KIAizBxCzByIPX19CWVRFU19WQUxVRV9fKQAAAAAAAPA/CiAItAcQtAciD19fQllURVNfVkFMVUVfXykAAAAAAADwPwogCLUHELUHIg9fX0JZVEVTX1ZBTFVFX18pAAAAAAAA8D8KIAi2BxC2ByIPX19CWVRFU19WQUxVRV9fKQAAAAAAAPA/CiAItwcQtwciD19fQllURVNfVkFMVUVfXykAAAAAAADwPwogCLgHELgHIg9fX0JZVEVTX1ZBTFVFX18pAAAAAAAA8D8KIAi5BxC5ByIPX19CWVRFU19WQUxVRV9fKQAAAAAAAPA/CiAIugcQugciD19fQllURVNfVkFMVUVfXykAAAAAAADwPwogCLsHELsHIg9fX0JZVEVTX1ZBTFVFX18pAAAAAAAA8D8KIAi8BxC8ByIPX19CWVRFU19WQUxVRV9fKQAAAAAAAPA/CiAIvQcQvQciD19fQllURVNfVkFMVUVfXykAAAAAAADwPwogCL4HEL4HIg9fX0JZVEVTX1ZBTFVFX18pAAAAAAAA8D8KIAi/BxC/ByIPX19CWVRFU19WQUxVRV9fKQAAAAAAAPA/CiAIwAcQwAciD19fQllURVNfVkFMVUVfXykAAAAAAADwPwogCMEHEMEHIg9fX0JZVEVTX1ZBTFVFX18pAAAAAAAA8D8KIAjCBxDCByIPX19CWVRFU19WQUxVRV9fKQAAAAAAAPA/CiAIwwcQwwciD19fQllURVNfVkFMVUVfXykAAAAAAADwPwogCMQHEMQHIg9fX0JZVEVTX1ZBTFVFX18pAAAAAAAA8D8KIAjFBxDFByIPX19CWVRFU19WQUxVRV9fKQAAAAAAAPA/CiAIxgcQxgciD19fQllURVNfVkFMVUVfXykAAAAAAADwPwogCMcHEMcHIg9fX0JZVEVTX1ZBTFVFX18pAAAAAAAA8D8KIAjIBxDIByIPX19CWVRFU19WQUxVRV9fKQAAAAAAAPA/CiAIyQcQyQciD19fQllURVNfVkFMVUVfXykAAAAAAADwPwogCMoHEMoHIg9fX0JZVEVTX1ZBTFVFX18pAAAAAAAA8D8KIAjLBxDLByIPX19CWVRFU19WQUxVRV9fKQAAAAAAAPA/CiAIzAcQzAciD19fQllURVNfVkFMVUVfXykAAAAAAADwPwogCM0HEM0HIg9fX0JZVEVTX1ZBTFVFX18pAAAAAAAA8D8KIAjOBxDOByIPX19CWVRFU19WQUxVRV9fKQAAAAAAAPA/CiAIzwcQzwciD19fQllURVNfVkFMVUVfXykAAAAAAADwPwogCNAHENAHIg9fX0JZVEVTX1ZBTFVFX18pAAAAAAAA8D8KIAjRBxDRByIPX19CWVRFU19WQUxVRV9fKQAAAAAAAPA/CiAI0gcQ0gciD19fQllURVNfVkFMVUVfXykAAAAAAADwPwogCNMHENMHIg9fX0JZVEVTX1ZBTFVFX18pAAAAAAAA8D8KIAjUBxDUByIPX19CWVRFU19WQUxVRV9fKQAAAAAAAPA/CiAI1QcQ1QciD19fQllURVNfVkFMVUVfXykAAAAAAADwPwogCNYHENYHIg9fX0JZVEVTX1ZBTFVFX18pAAAAAAAA8D8KIAjXBxDXByIPX19CWVRFU19WQUxVRV9fKQAAAAAAAPA/CiAI2AcQ2AciD19fQllURVNfVkFMVUVfXykAAAAAAADwPwogCNkHENkHIg9fX0JZVEVTX1ZBTFVFX18pAAAAAAAA8D8KIAjaBxDaByIPX19CWVRFU19WQUxVRV9fKQAAAAAAAPA/CiAI2wcQ2wciD19fQllURVNfVkFMVUVfXykAAAAAAADwPwogCNwHENwHIg9fX0JZVEVTX1ZBTFVFX18pAAAAAAAA8D8KIAjdBxDdByIPX19CWVRFU19WQUxVRV9fKQAAAAAAAPA/CiAI3gcQ3gciD19fQllURVNfVkFMVUVfXykAAAAAAADwPwogCN8HEN8HIg9fX0JZVEVTX1ZBTFVFX18pAAAAAAAA8D8KIAjgBxDgByIPX19CWVRFU19WQUxVRV9fKQAAAAAAAPA/CiAI4QcQ4QciD19fQllURVNfVkFMVUVfXykAAAAAAADwPwogCOIHEOIHIg9fX0JZVEVTX1ZBTFVFX18pAAAAAAAA8D8KIAjjBxDjByIPX19CWVRFU19WQUxVRV9fKQAAAAAAAPA/CiAI5AcQ5AciD19fQllURVNfVkFMVUVfXykAAAAAAADwPwogCOUHEOUHIg9fX0JZVEVTX1ZBTFVFX18pAAAAAAAA8D8KIAjmBxDmByIPX19CWVRFU19WQUxVRV9fKQAAAAAAAPA/CiAI5wcQ5wciD19fQllURVNfVkFMVUVfXykAAAAAAADwP0DQD0ILCglpbWFnZV9yYXca3gYa0gYKtgII0A8YASABLQAAgD8ypAIaGwkAAAAAAADwPxEAAAAAAADwPyEAAAAAAABpQBobCQAAAAAAAPA/EQAAAAAAAPA/IQAAAAAAAGlAGhsJAAAAAAAA8D8RAAAAAAAA8D8hAAAAAAAAaUAaGwkAAAAAAADwPxEAAAAAAADwPyEAAAAAAABpQBobCQAAAAAAAPA/EQAAAAAAAPA/IQAAAAAAAGlAGhsJAAAAAAAA8D8RAAAAAAAA8D8hAAAAAAAAaUAaGwkAAAAAAADwPxEAAAAAAADwPyEAAAAAAABpQBobCQAAAAAAAPA/EQAAAAAAAPA/IQAAAAAAAGlAGhsJAAAAAAAA8D8RAAAAAAAA8D8hAAAAAAAAaUAaGwkAAAAAAADwPxEAAAAAAADwPyEAAAAAAABpQCABQNAPEQAAAAAAAOA/Gf///////98/IOgHMQAAAAAAAPA/OQAAAAAAAPA/QpkCGhIRmpmZmZmZuT8hlqtNyJhBj0AaGwmamZmZmZm5PxGamZmZmZnJPyGi17LahIzJPxobCZqZmZmZmck/ETQzMzMzM9M/IaTXstqEjMk/GhsJNDMzMzMz0z8RmpmZmZmZ2T8hoNey2oSMyT8aGwmamZmZmZnZPxEAAAAAAADgPyGg17LahIzJPxobCQAAAAAAAOA/ETQzMzMzM+M/IajXstqEjMk/GhsJNDMzMzMz4z8RZ2ZmZmZm5j8hoNey2oSMyT8aGwlnZmZmZmbmPxGamZmZmZnpPyGg17LahIzJPxobCZqZmZmZmek/Ec3MzMzMzOw/IaDXstqEjMk/GhsJzczMzMzM7D8RAAAAAAAA8D8huvtE9aAxj0BC0wEaCSEAAAAAAEBvQBoJIQAAAAAAQG9AGgkhAAAAAABAb0AaCSEAAAAAAEBvQBoSEQAAAAAAAPA/IVVVVVVV1WRAGhsJAAAAAAAA8D8RAAAAAAAA8D8hVVVVVVXVZEAaGwkAAAAAAADwPxEAAAAAAADwPyFVVVVVVdVkQBobCQAAAAAAAPA/EQAAAAAAAPA/IVVVVVVV1WRAGhsJAAAAAAAA8D8RAAAAAAAA8D8hVVVVVVXVZEAaGwkAAAAAAADwPxEAAAAAAADwPyFVVVVVVdVkQCABQgcKBWxhYmVsGr4HGrIHCrYCCNAPGAEgAS0AAIA/MqQCGhsJAAAAAAAA8D8RAAAAAAAA8D8hAAAAAAAAaUAaGwkAAAAAAADwPxEAAAAAAADwPyEAAAAAAABpQBobCQAAAAAAAPA/EQAAAAAAAPA/IQAAAAAAAGlAGhsJAAAAAAAA8D8RAAAAAAAA8D8hAAAAAAAAaUAaGwkAAAAAAADwPxEAAAAAAADwPyEAAAAAAABpQBobCQAAAAAAAPA/EQAAAAAAAPA/IQAAAAAAAGlAGhsJAAAAAAAA8D8RAAAAAAAA8D8hAAAAAAAAaUAaGwkAAAAAAADwPxEAAAAAAADwPyEAAAAAAABpQBobCQAAAAAAAPA/EQAAAAAAAPA/IQAAAAAAAGlAGhsJAAAAAAAA8D8RAAAAAAAA8D8hAAAAAAAAaUAgAUDQDxHNzMzMzGt5QBmNMhRvQ2NbQCkAAAAAAABFQDEAAAAAADB8QDkAAAAAAEB/QEKiAhobCQAAAAAAAEVAETMzMzMz81VAIcVXfMVXfCNAGhsJMzMzMzPzVUARMzMzMzOzYEAhTgd1UAd1OEAaGwkzMzMzM7NgQBHMzMzMzGxmQCHJzMzMzExHQBobCczMzMzMbGZAEWZmZmZmJmxAIWhmZmZmZlVAGhsJZmZmZmYmbEARAAAAAADwcEAhaWZmZmYmXUAaGwkAAAAAAPBwQBHMzMzMzMxzQCGXmZmZmdliQBobCczMzMzMzHNAEZmZmZmZqXZAIZyZmZmZmWxAGhsJmZmZmZmpdkARZmZmZmaGeUAhaGZmZmbGZ0AaGwlmZmZmZoZ5QBEzMzMzM2N8QCEAAAAAAEBjQBobCTMzMzMzY3xAEQAAAAAAQH9AIXqZmZmZCY9AQqQCGhsJAAAAAAAARUARAAAAAAAAbkAhAAAAAAAgakAaGwkAAAAAAABuQBEAAAAAAOByQCEAAAAAAABoQBobCQAAAAAA4HJAEQAAAAAA4HVAIQAAAAAAQGtAGhsJAAAAAADgdUARAAAAAADweEAhAAAAAADgZkAaGwkAAAAAAPB4QBEAAAAAADB8QCEAAAAAAOBoQBobCQAAAAAAMHxAEQAAAAAAMH9AIQAAAAAA8HBAGhsJAAAAAAAwf0ARAAAAAAAwf0AhAAAAAADwcEAaGwkAAAAAADB/QBEAAAAAAEB/QCGrqqqqqgpjQBobCQAAAAAAQH9AEQAAAAAAQH9AIauqqqqqCmNAGhsJAAAAAABAf0ARAAAAAABAf0Ahq6qqqqoKY0AgAUIHCgV3aWR0aA==\"></facets-overview>';\n",
              "        facets_iframe.srcdoc = facets_html;\n",
              "         facets_iframe.id = \"\";\n",
              "         setTimeout(() => {\n",
              "           facets_iframe.setAttribute('height', facets_iframe.contentWindow.document.body.offsetHeight + 'px')\n",
              "         }, 1500)\n",
              "         </script>"
            ]
          },
          "metadata": {}
        },
        {
          "output_type": "display_data",
          "data": {
            "text/plain": [
              "<IPython.core.display.HTML object>"
            ],
            "text/html": [
              "<div><b>'eval' split:</b></div><br/>"
            ]
          },
          "metadata": {}
        },
        {
          "output_type": "display_data",
          "data": {
            "text/plain": [
              "<IPython.core.display.HTML object>"
            ],
            "text/html": [
              "<iframe id='facets-iframe' width=\"100%\" height=\"500px\"></iframe>\n",
              "        <script>\n",
              "        facets_iframe = document.getElementById('facets-iframe');\n",
              "        facets_html = '<script src=\"https://cdnjs.cloudflare.com/ajax/libs/webcomponentsjs/1.3.3/webcomponents-lite.js\"><\\/script><link rel=\"import\" href=\"https://raw.githubusercontent.com/PAIR-code/facets/master/facets-dist/facets-jupyter.html\"><facets-overview proto-input=\"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\"></facets-overview>';\n",
              "        facets_iframe.srcdoc = facets_html;\n",
              "         facets_iframe.id = \"\";\n",
              "         setTimeout(() => {\n",
              "           facets_iframe.setAttribute('height', facets_iframe.contentWindow.document.body.offsetHeight + 'px')\n",
              "         }, 1500)\n",
              "         </script>"
            ]
          },
          "metadata": {}
        }
      ]
    },
    {
      "cell_type": "code",
      "source": [
        "visualize_artifacts(schema_artifacts)"
      ],
      "metadata": {
        "colab": {
          "base_uri": "https://localhost:8080/",
          "height": 238
        },
        "id": "lydLeK2ZshdB",
        "outputId": "fe76e81c-b0c6-4deb-bd6f-319d97dfa5d0"
      },
      "execution_count": 15,
      "outputs": [
        {
          "output_type": "display_data",
          "data": {
            "text/plain": [
              "               Type  Presence Valency Domain\n",
              "Feature name                                \n",
              "'depth'         INT  required              -\n",
              "'height'        INT  required              -\n",
              "'image_raw'   BYTES  required              -\n",
              "'label'         INT  required              -\n",
              "'width'         INT  required              -"
            ],
            "text/html": [
              "\n",
              "  <div id=\"df-e15bc5c0-bfe8-4fb7-a883-e97b4a99309e\">\n",
              "    <div class=\"colab-df-container\">\n",
              "      <div>\n",
              "<style scoped>\n",
              "    .dataframe tbody tr th:only-of-type {\n",
              "        vertical-align: middle;\n",
              "    }\n",
              "\n",
              "    .dataframe tbody tr th {\n",
              "        vertical-align: top;\n",
              "    }\n",
              "\n",
              "    .dataframe thead th {\n",
              "        text-align: right;\n",
              "    }\n",
              "</style>\n",
              "<table border=\"1\" class=\"dataframe\">\n",
              "  <thead>\n",
              "    <tr style=\"text-align: right;\">\n",
              "      <th></th>\n",
              "      <th>Type</th>\n",
              "      <th>Presence</th>\n",
              "      <th>Valency</th>\n",
              "      <th>Domain</th>\n",
              "    </tr>\n",
              "    <tr>\n",
              "      <th>Feature name</th>\n",
              "      <th></th>\n",
              "      <th></th>\n",
              "      <th></th>\n",
              "      <th></th>\n",
              "    </tr>\n",
              "  </thead>\n",
              "  <tbody>\n",
              "    <tr>\n",
              "      <th>'depth'</th>\n",
              "      <td>INT</td>\n",
              "      <td>required</td>\n",
              "      <td></td>\n",
              "      <td>-</td>\n",
              "    </tr>\n",
              "    <tr>\n",
              "      <th>'height'</th>\n",
              "      <td>INT</td>\n",
              "      <td>required</td>\n",
              "      <td></td>\n",
              "      <td>-</td>\n",
              "    </tr>\n",
              "    <tr>\n",
              "      <th>'image_raw'</th>\n",
              "      <td>BYTES</td>\n",
              "      <td>required</td>\n",
              "      <td></td>\n",
              "      <td>-</td>\n",
              "    </tr>\n",
              "    <tr>\n",
              "      <th>'label'</th>\n",
              "      <td>INT</td>\n",
              "      <td>required</td>\n",
              "      <td></td>\n",
              "      <td>-</td>\n",
              "    </tr>\n",
              "    <tr>\n",
              "      <th>'width'</th>\n",
              "      <td>INT</td>\n",
              "      <td>required</td>\n",
              "      <td></td>\n",
              "      <td>-</td>\n",
              "    </tr>\n",
              "  </tbody>\n",
              "</table>\n",
              "</div>\n",
              "      <button class=\"colab-df-convert\" onclick=\"convertToInteractive('df-e15bc5c0-bfe8-4fb7-a883-e97b4a99309e')\"\n",
              "              title=\"Convert this dataframe to an interactive table.\"\n",
              "              style=\"display:none;\">\n",
              "        \n",
              "  <svg xmlns=\"http://www.w3.org/2000/svg\" height=\"24px\"viewBox=\"0 0 24 24\"\n",
              "       width=\"24px\">\n",
              "    <path d=\"M0 0h24v24H0V0z\" fill=\"none\"/>\n",
              "    <path d=\"M18.56 5.44l.94 2.06.94-2.06 2.06-.94-2.06-.94-.94-2.06-.94 2.06-2.06.94zm-11 1L8.5 8.5l.94-2.06 2.06-.94-2.06-.94L8.5 2.5l-.94 2.06-2.06.94zm10 10l.94 2.06.94-2.06 2.06-.94-2.06-.94-.94-2.06-.94 2.06-2.06.94z\"/><path d=\"M17.41 7.96l-1.37-1.37c-.4-.4-.92-.59-1.43-.59-.52 0-1.04.2-1.43.59L10.3 9.45l-7.72 7.72c-.78.78-.78 2.05 0 2.83L4 21.41c.39.39.9.59 1.41.59.51 0 1.02-.2 1.41-.59l7.78-7.78 2.81-2.81c.8-.78.8-2.07 0-2.86zM5.41 20L4 18.59l7.72-7.72 1.47 1.35L5.41 20z\"/>\n",
              "  </svg>\n",
              "      </button>\n",
              "      \n",
              "  <style>\n",
              "    .colab-df-container {\n",
              "      display:flex;\n",
              "      flex-wrap:wrap;\n",
              "      gap: 12px;\n",
              "    }\n",
              "\n",
              "    .colab-df-convert {\n",
              "      background-color: #E8F0FE;\n",
              "      border: none;\n",
              "      border-radius: 50%;\n",
              "      cursor: pointer;\n",
              "      display: none;\n",
              "      fill: #1967D2;\n",
              "      height: 32px;\n",
              "      padding: 0 0 0 0;\n",
              "      width: 32px;\n",
              "    }\n",
              "\n",
              "    .colab-df-convert:hover {\n",
              "      background-color: #E2EBFA;\n",
              "      box-shadow: 0px 1px 2px rgba(60, 64, 67, 0.3), 0px 1px 3px 1px rgba(60, 64, 67, 0.15);\n",
              "      fill: #174EA6;\n",
              "    }\n",
              "\n",
              "    [theme=dark] .colab-df-convert {\n",
              "      background-color: #3B4455;\n",
              "      fill: #D2E3FC;\n",
              "    }\n",
              "\n",
              "    [theme=dark] .colab-df-convert:hover {\n",
              "      background-color: #434B5C;\n",
              "      box-shadow: 0px 1px 3px 1px rgba(0, 0, 0, 0.15);\n",
              "      filter: drop-shadow(0px 1px 2px rgba(0, 0, 0, 0.3));\n",
              "      fill: #FFFFFF;\n",
              "    }\n",
              "  </style>\n",
              "\n",
              "      <script>\n",
              "        const buttonEl =\n",
              "          document.querySelector('#df-e15bc5c0-bfe8-4fb7-a883-e97b4a99309e button.colab-df-convert');\n",
              "        buttonEl.style.display =\n",
              "          google.colab.kernel.accessAllowed ? 'block' : 'none';\n",
              "\n",
              "        async function convertToInteractive(key) {\n",
              "          const element = document.querySelector('#df-e15bc5c0-bfe8-4fb7-a883-e97b4a99309e');\n",
              "          const dataTable =\n",
              "            await google.colab.kernel.invokeFunction('convertToInteractive',\n",
              "                                                     [key], {});\n",
              "          if (!dataTable) return;\n",
              "\n",
              "          const docLinkHtml = 'Like what you see? Visit the ' +\n",
              "            '<a target=\"_blank\" href=https://colab.research.google.com/notebooks/data_table.ipynb>data table notebook</a>'\n",
              "            + ' to learn more about interactive tables.';\n",
              "          element.innerHTML = '';\n",
              "          dataTable['output_type'] = 'display_data';\n",
              "          await google.colab.output.renderOutput(dataTable, element);\n",
              "          const docLink = document.createElement('div');\n",
              "          docLink.innerHTML = docLinkHtml;\n",
              "          element.appendChild(docLink);\n",
              "        }\n",
              "      </script>\n",
              "    </div>\n",
              "  </div>\n",
              "  "
            ]
          },
          "metadata": {}
        }
      ]
    },
    {
      "cell_type": "markdown",
      "metadata": {
        "id": "08R8qvweThRf"
      },
      "source": [
        "## Next steps\n",
        "\n",
        "You can find more resources on https://www.tensorflow.org/tfx/tutorials.\n",
        "\n",
        "Please see\n",
        "[Understanding TFX Pipelines](https://www.tensorflow.org/tfx/guide/understanding_tfx_pipelines)\n",
        "to learn more about various concepts in TFX.\n"
      ]
    }
  ]
}